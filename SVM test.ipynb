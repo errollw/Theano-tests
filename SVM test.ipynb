{
 "metadata": {
  "name": "",
  "signature": "sha256:ceeb00bb75b742aaa2020f09a1cc5b5ba4ea4fae391173c79d64b79ecd99f3f8"
 },
 "nbformat": 3,
 "nbformat_minor": 0,
 "worksheets": [
  {
   "cells": [
    {
     "cell_type": "code",
     "collapsed": false,
     "input": [
      "import cPickle\n",
      "import numpy as np\n",
      "from sklearn import svm"
     ],
     "language": "python",
     "metadata": {},
     "outputs": [],
     "prompt_number": 6
    },
    {
     "cell_type": "markdown",
     "metadata": {},
     "source": [
      "### Try SVM with different datasets"
     ]
    },
    {
     "cell_type": "code",
     "collapsed": false,
     "input": [
      "# Load the dataset\n",
      "f = file(\"eyes_nopose_PCs.save\", 'rb')\n",
      "train_set, valid_set, test_set = cPickle.load(f)\n",
      "f.close()\n",
      "\n",
      "X = np.vstack([train_set[0], valid_set[0]])\n",
      "Y = list(train_set[1]) + list(valid_set[1])\n",
      "clf = svm.SVC()\n",
      "clf.fit(X, Y)\n",
      "\n",
      "test_results = clf.predict(test_set[0])\n",
      "\n",
      "print \"(eyes_nopose_PCs): SVM error: %.2f%%\"%((1-np.count_nonzero(test_results == test_set[1]) / float(len(test_set[1])))*100)"
     ],
     "language": "python",
     "metadata": {},
     "outputs": [
      {
       "output_type": "stream",
       "stream": "stdout",
       "text": [
        "(eyes_nopose_PCs): SVM error: 1.00%\n"
       ]
      }
     ],
     "prompt_number": 80
    },
    {
     "cell_type": "code",
     "collapsed": false,
     "input": [
      "# Load the dataset\n",
      "f = file(\"eyes_withpose_PCs.save\", 'rb')\n",
      "train_set, valid_set, test_set = cPickle.load(f)\n",
      "f.close()\n",
      "\n",
      "X = np.vstack([train_set[0], valid_set[0]])\n",
      "Y = list(train_set[1]) + list(valid_set[1])\n",
      "clf = svm.SVC()\n",
      "clf.fit(X, Y)\n",
      "\n",
      "test_results = clf.predict(test_set[0])\n",
      "\n",
      "print \"(eyes_withpose_PCs): SVM error: %.2f%%\"%((1-np.count_nonzero(test_results == test_set[1]) / float(len(test_set[1])))*100)"
     ],
     "language": "python",
     "metadata": {},
     "outputs": [
      {
       "output_type": "stream",
       "stream": "stdout",
       "text": [
        "(eyes_withpose_PCs): SVM error: 1.00%\n"
       ]
      }
     ],
     "prompt_number": 79
    }
   ],
   "metadata": {}
  }
 ]
}