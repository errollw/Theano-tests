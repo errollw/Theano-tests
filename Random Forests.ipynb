{
 "metadata": {
  "name": "",
  "signature": "sha256:488c947a122d366e6024583f7a758191e2e66c1882c054a22fc6e0b4d3d07e2b"
 },
 "nbformat": 3,
 "nbformat_minor": 0,
 "worksheets": [
  {
   "cells": [
    {
     "cell_type": "code",
     "collapsed": false,
     "input": [
      "import cPickle\n",
      "import numpy as np\n",
      "from sklearn.ensemble import RandomForestClassifier"
     ],
     "language": "python",
     "metadata": {},
     "outputs": [],
     "prompt_number": 3
    },
    {
     "cell_type": "code",
     "collapsed": false,
     "input": [
      "# Load the dataset\n",
      "f = file(\"eyes_nopose_PCs.save\", 'rb')\n",
      "train_set, valid_set, test_set = cPickle.load(f)\n",
      "f.close()\n",
      " \n",
      "X = np.vstack([train_set[0], valid_set[0]])\n",
      "Y = list(train_set[1]) + list(valid_set[1])\n",
      "\n",
      "clf = RandomForestClassifier()\n",
      "clf.fit(X, Y)\n",
      "\n",
      "test_results = clf.predict(test_set[0])\n",
      "error = ((1-np.count_nonzero(test_results == test_set[1]) / float(len(test_set[1])))*100)\n",
      "print \"(eyes_nopose_PCs): RFs error: %.2f%%\"%error"
     ],
     "language": "python",
     "metadata": {},
     "outputs": [
      {
       "output_type": "stream",
       "stream": "stdout",
       "text": [
        "(eyes_nopose_PCs): RFs error: 2.50%\n"
       ]
      }
     ],
     "prompt_number": 60
    },
    {
     "cell_type": "code",
     "collapsed": false,
     "input": [
      "# Load the dataset\n",
      "f = file(\"eyes_withpose_PCs.save\", 'rb')\n",
      "train_set, valid_set, test_set = cPickle.load(f)\n",
      "f.close()\n",
      " \n",
      "X = np.vstack([train_set[0], valid_set[0]])\n",
      "Y = list(train_set[1]) + list(valid_set[1])\n",
      "\n",
      "clf = RandomForestClassifier()\n",
      "clf.fit(X, Y)\n",
      "\n",
      "test_results = clf.predict(test_set[0])\n",
      "error = ((1-np.count_nonzero(test_results == test_set[1]) / float(len(test_set[1])))*100)\n",
      "print \"(eyes_withpose_PCs): RFs error: %.2f%%\"%error"
     ],
     "language": "python",
     "metadata": {},
     "outputs": [
      {
       "output_type": "stream",
       "stream": "stdout",
       "text": [
        "(eyes_withpose_PCs): RFs error: 2.00%\n"
       ]
      }
     ],
     "prompt_number": 57
    }
   ],
   "metadata": {}
  }
 ]
}