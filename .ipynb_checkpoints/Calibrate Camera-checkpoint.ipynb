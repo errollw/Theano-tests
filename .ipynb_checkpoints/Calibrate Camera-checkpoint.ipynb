{
 "metadata": {
  "name": "",
  "signature": "sha256:01776354fe9e4faebf6312e0a0a882d60e4185ba676af076fd80a97988945cb9"
 },
 "nbformat": 3,
 "nbformat_minor": 0,
 "worksheets": [
  {
   "cells": [
    {
     "cell_type": "code",
     "collapsed": false,
     "input": [
      "import numpy as np\n",
      "import cv2"
     ],
     "language": "python",
     "metadata": {},
     "outputs": [],
     "prompt_number": 2
    },
    {
     "cell_type": "code",
     "collapsed": false,
     "input": [
      "# termination criteria for cornerSubPix\n",
      "criteria = (cv2.TERM_CRITERIA_EPS + cv2.TERM_CRITERIA_MAX_ITER, 30, 0.001)\n",
      "\n",
      "# prepare object points\n",
      "pattern_size = (11, 6)\n",
      "pattern_points = np.zeros( (np.prod(pattern_size), 3), np.float32 )\n",
      "pattern_points[:,:2] = np.indices(pattern_size).T.reshape(-1, 2)\n",
      "pattern_points *= 20\n",
      "\n",
      "# Arrays to store object points and image points from all the images.\n",
      "objpoints = [] # 3d point in real world space\n",
      "imgpoints = [] # 2d points in image plane.\n",
      "\n",
      "# Setup high-resolution video capture\n",
      "cap = cv2.VideoCapture(1)\n",
      "cap.set(3,1920)\n",
      "cap.set(4,1080)\n",
      "\n",
      "while True:\n",
      "    _, img = cap.read()\n",
      "    gray = cv2.cvtColor(img,cv2.COLOR_BGR2GRAY)\n",
      "    \n",
      "    corners_found, corners = cv2.findChessboardCorners(gray, (11,6), flags=cv2.CALIB_CB_FAST_CHECK)\n",
      "\n",
      "    if corners_found == True:\n",
      "        cv2.cornerSubPix(gray, corners, (11,11), (-1,-1), criteria)\n",
      "        cv2.drawChessboardCorners(img, (11,6), corners, corners_found)\n",
      "        \n",
      "    cv2.imshow('img',img)\n",
      "    key = cv2.waitKey(5)\n",
      "    \n",
      "    # on presssing s, record points\n",
      "    if key == 115 and corners_found:\n",
      "        objpoints.append(pattern_points)\n",
      "        imgpoints.append(corners.reshape(-1, 2))\n",
      "        \n",
      "    # quit on pressing \"q\"\n",
      "    if key == 113: break;\n",
      "\n",
      "cv2.destroyAllWindows()"
     ],
     "language": "python",
     "metadata": {},
     "outputs": [],
     "prompt_number": 12
    },
    {
     "cell_type": "code",
     "collapsed": false,
     "input": [
      "print len(imgpoints)"
     ],
     "language": "python",
     "metadata": {},
     "outputs": [
      {
       "output_type": "stream",
       "stream": "stdout",
       "text": [
        "220\n"
       ]
      }
     ],
     "prompt_number": 13
    },
    {
     "cell_type": "code",
     "collapsed": false,
     "input": [
      "ret, mtx, dist, rvecs, tvecs = cv2.calibrateCamera(objpoints, imgpoints, gray.shape[::-1], None, None)"
     ],
     "language": "python",
     "metadata": {},
     "outputs": []
    },
    {
     "cell_type": "code",
     "collapsed": false,
     "input": [
      "print dist"
     ],
     "language": "python",
     "metadata": {},
     "outputs": [
      {
       "output_type": "stream",
       "stream": "stdout",
       "text": [
        "[[  8.75462188e-02  -1.51693378e-01   3.85045882e-03  -7.24295829e-03\n",
        "    7.64087293e+00]]\n"
       ]
      }
     ],
     "prompt_number": 11
    }
   ],
   "metadata": {}
  }
 ]
}