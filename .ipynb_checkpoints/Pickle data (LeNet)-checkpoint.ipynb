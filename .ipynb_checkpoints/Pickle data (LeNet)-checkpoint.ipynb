{
 "metadata": {
  "name": "",
  "signature": "sha256:a57d3e0956fefc7da28499fece9dc51976fa59d80e68c104d1ba47200fa37b17"
 },
 "nbformat": 3,
 "nbformat_minor": 0,
 "worksheets": [
  {
   "cells": [
    {
     "cell_type": "code",
     "collapsed": false,
     "input": [
      "import cPickle\n",
      "import os\n",
      "import numpy as np\n",
      "import cv2\n",
      "import random \n",
      "from skimage import exposure\n",
      "from sklearn import preprocessing\n",
      "from sklearn.cross_validation import train_test_split\n",
      "from IPython.display import Image, display"
     ],
     "language": "python",
     "metadata": {},
     "outputs": [],
     "prompt_number": 3
    },
    {
     "cell_type": "code",
     "collapsed": false,
     "input": [
      "imgs_dir = \"C:\\Users\\Erroll\\Documents\\datasets\\eyespose-20141027\""
     ],
     "language": "python",
     "metadata": {},
     "outputs": [],
     "prompt_number": 4
    },
    {
     "cell_type": "markdown",
     "metadata": {},
     "source": [
      "### Balance dataset"
     ]
    },
    {
     "cell_type": "code",
     "collapsed": false,
     "input": [
      "all_imnames = os.listdir(imgs_dir)\n",
      "\n",
      "# get filnames for lock and no-lock images\n",
      "nolock_fns = [fn for fn in all_imnames if \"nolock\" in fn]\n",
      "lock_fns = set(all_imnames) - set(nolock_fns)\n",
      "\n",
      "# number of images in each class for balanced set\n",
      "num_ims = min(len(lock_fns), len(nolock_fns))\n",
      "\n",
      "# make a balanced dataset\n",
      "all_imnames_balanced = random.sample(nolock_fns, num_ims) + random.sample(lock_fns, num_ims)\n",
      "random.shuffle(all_imnames_balanced);\n",
      "\n",
      "print \"total number of images: %d (%d eye-lock)\"%(len(all_imnames_balanced), num_ims)"
     ],
     "language": "python",
     "metadata": {},
     "outputs": [
      {
       "output_type": "stream",
       "stream": "stdout",
       "text": [
        "total number of images: 1280 (640 eye-lock)\n"
       ]
      }
     ],
     "prompt_number": 5
    },
    {
     "cell_type": "markdown",
     "metadata": {},
     "source": [
      "### Load all images into a matrix"
     ]
    },
    {
     "cell_type": "code",
     "collapsed": false,
     "input": [
      "# read in all images and equalize histograms\n",
      "all_ims = [cv2.imread(os.path.join(imgs_dir, imname), cv2.CV_LOAD_IMAGE_GRAYSCALE) for imname in all_imnames_balanced]\n",
      "all_ims = [exposure.equalize_hist(img) for img in all_ims]\n",
      "all_ims = [cv2.resize(img,(28,28)) for img in all_ims]\n",
      "all_ims_disp = [img*255.0 for img in all_ims]\n",
      "\n",
      "all_ims_flat = [im.flatten() for im in all_ims]\n",
      "matrix = np.vstack(all_ims_flat)\n",
      "\n",
      "display(Image(data=cv2.imencode(\".png\", np.hstack(random.sample(all_ims_disp,20)))[1].tostring()))"
     ],
     "language": "python",
     "metadata": {},
     "outputs": [
      {
       "metadata": {},
       "output_type": "display_data",
       "png": "[encoded data removed]",
       "text": [
        "<IPython.core.display.Image at 0x7cd4828>"
       ]
      }
     ],
     "prompt_number": 17
    },
    {
     "cell_type": "markdown",
     "metadata": {},
     "source": [
      "### Perform PCA"
     ]
    },
    {
     "cell_type": "code",
     "collapsed": false,
     "input": [
      "X = all_ims_flat\n",
      "\n",
      "# output vectors\n",
      "Y = [0 if \"nolock\" in imname else 1 for imname in all_imnames_balanced]\n",
      "\n",
      "rnd_inds = arange(len(X))\n",
      "random.shuffle(rnd_inds)\n",
      "\n",
      "X_test,  Y_test = np.array(X)[rnd_inds[:200]],     np.array(Y)[rnd_inds[:200]]\n",
      "X_valid, Y_valid = np.array(X)[rnd_inds[200:400]], np.array(Y)[rnd_inds[200:400]]\n",
      "X_train, Y_train = np.array(X)[rnd_inds[400:]],    np.array(Y)[rnd_inds[400:]]"
     ],
     "language": "python",
     "metadata": {},
     "outputs": [],
     "prompt_number": 26
    },
    {
     "cell_type": "markdown",
     "metadata": {},
     "source": [
      "### Pickle the training, validation, and test sets"
     ]
    },
    {
     "cell_type": "code",
     "collapsed": false,
     "input": [
      "f = file('eyes_for_lenet.save', 'wb')\n",
      "cPickle.dump([[X_train,Y_train],\n",
      "              [X_valid,Y_valid],\n",
      "              [X_test,Y_test]], f, protocol=cPickle.HIGHEST_PROTOCOL)\n",
      "f.close()\n",
      "\n",
      "print \"eyes_for_lenet input is %d long\"%(len(X_train[0]))"
     ],
     "language": "python",
     "metadata": {},
     "outputs": [
      {
       "output_type": "stream",
       "stream": "stdout",
       "text": [
        "eyes_for_lenet input is 784 long\n"
       ]
      }
     ],
     "prompt_number": 34
    },
    {
     "cell_type": "code",
     "collapsed": false,
     "input": [
      "from convolutional_mlp import evaluate_lenet5\n",
      "\n",
      "evaluate_lenet5(dataset='eyes_for_lenet.save', batch_size=100)"
     ],
     "language": "python",
     "metadata": {},
     "outputs": [
      {
       "output_type": "stream",
       "stream": "stdout",
       "text": [
        "... loading data\n",
        "... building the model\n",
        "... training"
       ]
      },
      {
       "output_type": "stream",
       "stream": "stdout",
       "text": [
        "\n",
        "training @ iter =  0\n",
        "epoch 1, minibatch 1/1, validation error nan %"
       ]
      },
      {
       "output_type": "stream",
       "stream": "stdout",
       "text": [
        "\n",
        "epoch 2, minibatch 1/1, validation error nan %"
       ]
      },
      {
       "output_type": "stream",
       "stream": "stdout",
       "text": [
        "\n",
        "epoch 3, minibatch 1/1, validation error nan %"
       ]
      },
      {
       "output_type": "stream",
       "stream": "stdout",
       "text": [
        "\n",
        "epoch 4, minibatch 1/1, validation error nan %"
       ]
      },
      {
       "output_type": "stream",
       "stream": "stdout",
       "text": [
        "\n"
       ]
      },
      {
       "ename": "KeyboardInterrupt",
       "evalue": "",
       "output_type": "pyerr",
       "traceback": [
        "\u001b[1;31m---------------------------------------------------------------------------\u001b[0m\n\u001b[1;31mKeyboardInterrupt\u001b[0m                         Traceback (most recent call last)",
        "\u001b[1;32m<ipython-input-29-d0cc04d08128>\u001b[0m in \u001b[0;36m<module>\u001b[1;34m()\u001b[0m\n\u001b[0;32m      1\u001b[0m \u001b[1;32mfrom\u001b[0m \u001b[0mconvolutional_mlp\u001b[0m \u001b[1;32mimport\u001b[0m \u001b[0mevaluate_lenet5\u001b[0m\u001b[1;33m\u001b[0m\u001b[0m\n\u001b[0;32m      2\u001b[0m \u001b[1;33m\u001b[0m\u001b[0m\n\u001b[1;32m----> 3\u001b[1;33m \u001b[0mevaluate_lenet5\u001b[0m\u001b[1;33m(\u001b[0m\u001b[0mdataset\u001b[0m\u001b[1;33m=\u001b[0m\u001b[1;34m'eyes_for_lenet.save'\u001b[0m\u001b[1;33m)\u001b[0m\u001b[1;33m\u001b[0m\u001b[0m\n\u001b[0m",
        "\u001b[1;32mC:\\Users\\Erroll\\Documents\\GitHub\\Theano-tests\\convolutional_mlp.py\u001b[0m in \u001b[0;36mevaluate_lenet5\u001b[1;34m(learning_rate, n_epochs, dataset, nkerns, batch_size)\u001b[0m\n\u001b[0;32m    290\u001b[0m             \u001b[1;32mif\u001b[0m \u001b[0miter\u001b[0m \u001b[1;33m%\u001b[0m \u001b[1;36m100\u001b[0m \u001b[1;33m==\u001b[0m \u001b[1;36m0\u001b[0m\u001b[1;33m:\u001b[0m\u001b[1;33m\u001b[0m\u001b[0m\n\u001b[0;32m    291\u001b[0m                 \u001b[1;32mprint\u001b[0m \u001b[1;34m'training @ iter = '\u001b[0m\u001b[1;33m,\u001b[0m \u001b[0miter\u001b[0m\u001b[1;33m\u001b[0m\u001b[0m\n\u001b[1;32m--> 292\u001b[1;33m             \u001b[0mcost_ij\u001b[0m \u001b[1;33m=\u001b[0m \u001b[0mtrain_model\u001b[0m\u001b[1;33m(\u001b[0m\u001b[0mminibatch_index\u001b[0m\u001b[1;33m)\u001b[0m\u001b[1;33m\u001b[0m\u001b[0m\n\u001b[0m\u001b[0;32m    293\u001b[0m \u001b[1;33m\u001b[0m\u001b[0m\n\u001b[0;32m    294\u001b[0m             \u001b[1;32mif\u001b[0m \u001b[1;33m(\u001b[0m\u001b[0miter\u001b[0m \u001b[1;33m+\u001b[0m \u001b[1;36m1\u001b[0m\u001b[1;33m)\u001b[0m \u001b[1;33m%\u001b[0m \u001b[0mvalidation_frequency\u001b[0m \u001b[1;33m==\u001b[0m \u001b[1;36m0\u001b[0m\u001b[1;33m:\u001b[0m\u001b[1;33m\u001b[0m\u001b[0m\n",
        "\u001b[1;32mC:\\Users\\Erroll\\AppData\\Local\\Enthought\\Canopy\\User\\lib\\site-packages\\theano\\compile\\function_module.pyc\u001b[0m in \u001b[0;36m__call__\u001b[1;34m(self, *args, **kwargs)\u001b[0m\n\u001b[0;32m    577\u001b[0m         \u001b[0mt0_fn\u001b[0m \u001b[1;33m=\u001b[0m \u001b[0mtime\u001b[0m\u001b[1;33m.\u001b[0m\u001b[0mtime\u001b[0m\u001b[1;33m(\u001b[0m\u001b[1;33m)\u001b[0m\u001b[1;33m\u001b[0m\u001b[0m\n\u001b[0;32m    578\u001b[0m         \u001b[1;32mtry\u001b[0m\u001b[1;33m:\u001b[0m\u001b[1;33m\u001b[0m\u001b[0m\n\u001b[1;32m--> 579\u001b[1;33m             \u001b[0moutputs\u001b[0m \u001b[1;33m=\u001b[0m \u001b[0mself\u001b[0m\u001b[1;33m.\u001b[0m\u001b[0mfn\u001b[0m\u001b[1;33m(\u001b[0m\u001b[1;33m)\u001b[0m\u001b[1;33m\u001b[0m\u001b[0m\n\u001b[0m\u001b[0;32m    580\u001b[0m         \u001b[1;32mexcept\u001b[0m \u001b[0mException\u001b[0m\u001b[1;33m:\u001b[0m\u001b[1;33m\u001b[0m\u001b[0m\n\u001b[0;32m    581\u001b[0m             \u001b[1;32mif\u001b[0m \u001b[0mhasattr\u001b[0m\u001b[1;33m(\u001b[0m\u001b[0mself\u001b[0m\u001b[1;33m.\u001b[0m\u001b[0mfn\u001b[0m\u001b[1;33m,\u001b[0m \u001b[1;34m'position_of_error'\u001b[0m\u001b[1;33m)\u001b[0m\u001b[1;33m:\u001b[0m\u001b[1;33m\u001b[0m\u001b[0m\n",
        "\u001b[1;31mKeyboardInterrupt\u001b[0m: "
       ]
      }
     ],
     "prompt_number": 29
    }
   ],
   "metadata": {}
  }
 ]
}