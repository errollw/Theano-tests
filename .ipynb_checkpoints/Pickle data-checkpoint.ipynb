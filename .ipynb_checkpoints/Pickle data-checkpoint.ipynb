{
 "metadata": {
  "name": "",
  "signature": "sha256:d4f3964db783ff2c8055fb7d7b58acd62453512dd4147eeaa3cb13daa27cc978"
 },
 "nbformat": 3,
 "nbformat_minor": 0,
 "worksheets": [
  {
   "cells": [
    {
     "cell_type": "code",
     "collapsed": false,
     "input": [
      "import cPickle\n",
      "import os\n",
      "import numpy as np\n",
      "import cv2\n",
      "import random \n",
      "from skimage.feature import hog\n",
      "from skimage import data, color, exposure\n",
      "from IPython.display import Image, display"
     ],
     "language": "python",
     "metadata": {},
     "outputs": [],
     "prompt_number": 1
    },
    {
     "cell_type": "code",
     "collapsed": false,
     "input": [
      "dataset_dir = \"C:\\Users\\Erroll\\Documents\\columbia_gaze_data_set\\Columbia Gaze Data Set\"\n",
      "debug_dir = \"C:\\Users\\Erroll\\Documents\\columbia_gaze_data_set\\Columbia Gaze Data Set\\debug\"\n",
      "# imgs_dir = \"C:\\Users\\Erroll\\Documents\\columbia_gaze_data_set\\Columbia Gaze Data Set\\output\"\n",
      "# imgs_dir = \"C:\\Users\\Erroll\\Documents\\CLM-framework-master\\Release\\eyes\"\n",
      "imgs_dir = \"C:\\Users\\Erroll\\Documents\\eyespose\\eyespose\""
     ],
     "language": "python",
     "metadata": {},
     "outputs": [],
     "prompt_number": 2
    },
    {
     "cell_type": "code",
     "collapsed": false,
     "input": [
      "# from http://www.janeriksolem.net/2009/01/pca-for-images-using-python.html\n",
      "\n",
      "def pca(X):\n",
      "    # Principal Component Analysis\n",
      "    # input: X, each row is a flattened image\n",
      "    # return: projection matrix (with important dimensions first), variance, and mean\n",
      "\n",
      "    #get dimensions\n",
      "    num_data, dim = X.shape\n",
      "\n",
      "    #center data\n",
      "    mean_X = X.mean(axis=0)\n",
      "    for i in range(num_data):\n",
      "      X[i] -= mean_X\n",
      "\n",
      "    #only makes sense to return the first num_data\n",
      "    U,S,V = np.linalg.svd(X, full_matrices=False)\n",
      "    V = V[:num_data]\n",
      "\n",
      "    #return the projection matrix, the variance and the mean\n",
      "    return V,S,mean_X"
     ],
     "language": "python",
     "metadata": {},
     "outputs": [],
     "prompt_number": 3
    },
    {
     "cell_type": "code",
     "collapsed": false,
     "input": [
      "# load all images\n",
      "all_imnames = os.listdir(imgs_dir)\n",
      "\n",
      "# make balanced set for training\n",
      "nolock_fns = [fn for fn in all_imnames if \"nolock\" in fn]\n",
      "lock_fns = set(all_imnames) - set(nolock_fns)\n",
      "num_lock_imgs = len(lock_fns)\n",
      "nolock_fns_balanced = random.sample(nolock_fns, num_lock_imgs)\n",
      "all_imnames_balanced = list(set(nolock_fns_balanced).union(lock_fns))\n",
      "random.shuffle(all_imnames_balanced)\n",
      "\n",
      "all_ims = [cv2.imread(os.path.join(imgs_dir, imname), cv2.CV_LOAD_IMAGE_GRAYSCALE) for imname in all_imnames_balanced]\n",
      "all_ims_flat = [im.flatten() for im in all_ims]\n",
      "matrix = np.vstack(all_ims_flat)"
     ],
     "language": "python",
     "metadata": {},
     "outputs": [],
     "prompt_number": 4
    },
    {
     "cell_type": "code",
     "collapsed": false,
     "input": [
      "# perform PCA\n",
      "V, S, immean = pca(matrix)\n",
      "\n",
      "mean_img = immean.reshape(24,40)\n",
      "cv2.normalize(mean_img, mean_img, 0, 255, cv2.NORM_MINMAX)\n",
      "\n",
      "Image(data=cv2.imencode(\".png\", mean_img)[1].tostring())"
     ],
     "language": "python",
     "metadata": {},
     "outputs": [
      {
       "metadata": {},
       "output_type": "pyout",
       "png": "[encoded data removed]",
       "prompt_number": 5,
       "text": [
        "<IPython.core.display.Image at 0xd04c9e8>"
       ]
      }
     ],
     "prompt_number": 5
    },
    {
     "cell_type": "code",
     "collapsed": false,
     "input": [
      "# get names of images for test, validation, and training\n",
      "test_imnames = random.sample(set(all_imnames_balanced), 80)\n",
      "valid_imnames = random.sample(set(all_imnames_balanced)-set(test_imnames), 80)\n",
      "train_imnames = list(set(all_imnames_balanced)-set(test_imnames)-set(valid_imnames))\n",
      "random.shuffle(train_imnames)"
     ],
     "language": "python",
     "metadata": {},
     "outputs": [],
     "prompt_number": 31
    },
    {
     "cell_type": "code",
     "collapsed": false,
     "input": [
      "train_imgs, train_lbls = [], []\n",
      "valid_imgs, valid_lbls = [], []\n",
      "test_imgs, test_lbls = [], []\n",
      "\n",
      "num_coeffs = 32\n",
      "\n",
      "for imname in train_imnames:\n",
      "    path = os.path.join(imgs_dir,imname)\n",
      "    img = cv2.imread(path, cv2.CV_LOAD_IMAGE_GRAYSCALE).flatten()\n",
      "    angles = [float(s)*100 for s in imname[imname.find(\"(\")+1:imname.find(\")\")].split(\",\")] # this line does head pose\n",
      "    coeffs = [np.dot(img - immean, v) for v in V[:num_coeffs]]\n",
      "    train_imgs.append(np.array(coeffs+angles).astype(np.float32))\n",
      "    train_lbls.append(0 if \"nolock\" in imname else 1)\n",
      "\n",
      "for imname in valid_imnames:\n",
      "    path = os.path.join(imgs_dir,imname)\n",
      "    img = cv2.imread(path, cv2.CV_LOAD_IMAGE_GRAYSCALE).flatten()\n",
      "    angles = [float(s)*100 for s in imname[imname.find(\"(\")+1:imname.find(\")\")].split(\",\")] # this line does head pose\n",
      "    coeffs = [np.dot(img - immean, v) for v in V[:num_coeffs]]\n",
      "    valid_imgs.append(np.array(coeffs+angles).astype(np.float32))\n",
      "    valid_lbls.append(0 if \"nolock\" in imname else 1)\n",
      "    \n",
      "for imname in test_imnames:\n",
      "    path = os.path.join(imgs_dir,imname)\n",
      "    img = cv2.imread(path, cv2.CV_LOAD_IMAGE_GRAYSCALE).flatten()\n",
      "    angles = [float(s)*100 for s in imname[imname.find(\"(\")+1:imname.find(\")\")].split(\",\")] # this line does head pose\n",
      "    coeffs = [np.dot(img - immean, v) for v in V[:num_coeffs]]\n",
      "    test_imgs.append(np.array(coeffs+angles).astype(np.float32))\n",
      "    test_lbls.append(0 if \"nolock\" in imname else 1)\n",
      "    \n",
      "train_set = [np.array(train_imgs), np.array(train_lbls).astype(np.int64)]\n",
      "valid_set = [np.array(valid_imgs), np.array(valid_lbls).astype(np.int64)]\n",
      "test_set= [np.array(test_imgs), np.array(test_lbls).astype(np.int64)]\n",
      "\n",
      "print train_set[0].shape, train_set[1].shape"
     ],
     "language": "python",
     "metadata": {},
     "outputs": [
      {
       "output_type": "stream",
       "stream": "stdout",
       "text": [
        "(402L, 153L) (402L,)\n"
       ]
      }
     ],
     "prompt_number": 36
    },
    {
     "cell_type": "code",
     "collapsed": false,
     "input": [
      "import cPickle\n",
      "\n",
      "f = file('princoms.save', 'wb')\n",
      "cPickle.dump([V, immean], f, protocol=cPickle.HIGHEST_PROTOCOL)\n",
      "f.close()"
     ],
     "language": "python",
     "metadata": {},
     "outputs": [],
     "prompt_number": 33
    },
    {
     "cell_type": "code",
     "collapsed": false,
     "input": [
      "print len([lbl for lbl in train_set[1] if lbl == 1]) / float(len(train_set[1]))\n",
      "print len([lbl for lbl in valid_set[1] if lbl == 1]) / float(len(valid_set[1]))\n",
      "print len([lbl for lbl in test_set[1] if lbl == 1]) / float(len(test_set[1]))\n",
      "\n",
      "print \"sample coeffs: \", train_set[0][0]"
     ],
     "language": "python",
     "metadata": {},
     "outputs": [
      {
       "output_type": "stream",
       "stream": "stdout",
       "text": [
        "0.480099502488\n",
        "0.5875\n",
        "0.5125\n",
        "sample coeffs:  [  8.62037537e+02  -8.13141174e+02   8.43527603e+01  -4.28601562e+02\n",
        "  -1.16041351e+02  -1.84989182e+02  -1.55851456e+02  -1.90687515e+02\n",
        "  -1.05417953e+02   3.49260597e+01   1.85399811e+02  -3.94247780e+01\n",
        "   3.05951721e+02   2.06927994e+02   1.95199448e+02  -2.50262661e+01\n",
        "  -9.40991745e+01  -3.44126663e+01   5.64459610e+01  -1.81258896e+02\n",
        "   2.94974243e+02   1.47368942e+02   1.28437328e+01   9.00025330e+01\n",
        "  -6.82720795e+01   1.61546753e+02   2.59557068e+02   1.67886978e+02\n",
        "  -5.73607588e+00   3.08778763e+00  -7.86595688e+01  -2.20022464e+00\n",
        "   9.28543243e+01   1.09730797e+02   1.06927025e+02   6.39467545e+01\n",
        "   3.19745426e+01   6.13444443e+01   1.22676401e+01  -3.78803253e+01\n",
        "  -4.53051300e+01   7.39399109e+01   5.47209854e+01  -4.50276337e+01\n",
        "  -3.64277382e+01   1.93479366e+01  -4.74064598e+01  -7.91838226e+01\n",
        "   5.64221420e+01  -4.34386482e+01   4.45513878e+01   1.73489895e+01\n",
        "   1.01140793e+02   1.98522491e+01   1.23358321e+00  -3.64655914e+01\n",
        "   8.26320572e+01   7.09303894e+01  -9.07795334e+00   4.91958199e+01\n",
        "   7.45961523e+00   2.73201694e+01  -4.83504677e+01   8.10608292e+01\n",
        "   1.42394915e+01  -2.20264606e+01   3.09944363e+01  -1.91171169e+01\n",
        "  -1.20585241e+01   1.76687660e+01   6.05026674e+00   1.89500790e+01\n",
        "  -2.03098145e+01  -4.05355988e+01   1.07705021e+01   1.05132799e+01\n",
        "   1.44013429e+00  -4.51746254e+01  -2.34655914e+01   1.40119534e+01\n",
        "  -6.94120331e+01  -6.58540421e+01   2.50254326e+01   5.84297867e+01\n",
        "   5.96912651e+01  -3.02184429e+01  -1.75514469e+01  -1.72557487e+01\n",
        "  -3.25154114e+00   6.56832409e+00  -1.64922104e+01  -4.63063087e+01\n",
        "   3.98046112e+00   5.22364664e+00  -1.14116335e+01   1.30163450e+01\n",
        "  -2.01103916e+01   6.80023766e+00   3.10306168e+01   2.45201035e+01\n",
        "   4.27316628e+01  -7.26826955e-03  -5.98055725e+01  -6.78852034e+00\n",
        "  -1.35164070e+01   9.45137963e-02  -6.57697830e+01   9.28835297e+00\n",
        "   3.23814201e+01   6.97034740e+00  -3.74429245e+01   2.38648300e+01\n",
        "  -2.24877853e+01  -1.09117432e+01  -3.24317837e+00  -3.96576805e+01\n",
        "   1.43582165e+00  -4.65853653e+01  -6.26946878e+00  -2.92833443e+01\n",
        "   2.52768536e+01  -4.60420723e+01   1.47497931e+01   4.54690857e+01\n",
        "   2.99517727e+00  -1.60101719e+01  -1.17334328e+01  -4.57591400e+01\n",
        "  -6.41052771e+00  -2.30820155e+00  -1.98918095e+01   1.99615936e+01\n",
        "  -2.00461578e+01   2.44308777e+01  -1.94939156e+01  -3.55216074e+00\n",
        "  -3.46629753e+01   1.78862686e+01  -1.36994915e+01   1.42460384e+01\n",
        "   8.38904953e+00   1.41631193e+01   3.52887650e+01   2.59693146e+00\n",
        "   6.22808170e+00  -3.13650818e+01  -3.99035759e+01   1.43117313e+01\n",
        "  -1.81396904e+01   1.88450778e+00  -5.70419979e+00   7.24949980e+00\n",
        "  -2.15039992e+00]\n"
       ]
      }
     ],
     "prompt_number": 38
    },
    {
     "cell_type": "markdown",
     "metadata": {},
     "source": [
      "### Save HOG features"
     ]
    },
    {
     "cell_type": "code",
     "collapsed": false,
     "input": [
      "train_imgs, train_lbls = [], []\n",
      "valid_imgs, valid_lbls = [], []\n",
      "test_imgs, test_lbls = [], []\n",
      "\n",
      "for imname in train_imnames:\n",
      "    path = os.path.join(imgs_dir,imname)\n",
      "    img = cv2.imread(path, cv2.CV_LOAD_IMAGE_GRAYSCALE)\n",
      "    img = cv2.resize(img, (80,48))\n",
      "    coeffs = hog(img/255.0, orientations=9, pixels_per_cell=(8, 8), cells_per_block=(1, 1), visualise=False)\n",
      "    train_imgs.append(np.array(coeffs).astype(np.float32))\n",
      "    train_lbls.append(0 if \"nolock\" in imname else 1)\n",
      "\n",
      "for imname in valid_imnames:\n",
      "    path = os.path.join(imgs_dir,imname)\n",
      "    img = cv2.imread(path, cv2.CV_LOAD_IMAGE_GRAYSCALE)\n",
      "    img = cv2.resize(img, (80,48))\n",
      "    coeffs = hog(img/255.0, orientations=9, pixels_per_cell=(8, 8), cells_per_block=(1, 1), visualise=False)\n",
      "    valid_imgs.append(np.array(coeffs).astype(np.float32))\n",
      "    valid_lbls.append(0 if \"nolock\" in imname else 1)\n",
      "    \n",
      "for imname in test_imnames:\n",
      "    path = os.path.join(imgs_dir,imname)\n",
      "    img = cv2.imread(path, cv2.CV_LOAD_IMAGE_GRAYSCALE)\n",
      "    img = cv2.resize(img, (80,48))\n",
      "    coeffs = hog(img/255.0, orientations=9, pixels_per_cell=(8, 8), cells_per_block=(1, 1), visualise=False)\n",
      "    test_imgs.append(np.array(coeffs).astype(np.float32))\n",
      "    test_lbls.append(0 if \"nolock\" in imname else 1)\n",
      "    \n",
      "train_set = [np.array(train_imgs), np.array(train_lbls).astype(np.int64)]\n",
      "valid_set = [np.array(valid_imgs), np.array(valid_lbls).astype(np.int64)]\n",
      "test_set= [np.array(test_imgs), np.array(test_lbls).astype(np.int64)]\n",
      "\n",
      "print train_set[0].shape, train_set[1].shape"
     ],
     "language": "python",
     "metadata": {},
     "outputs": [
      {
       "output_type": "stream",
       "stream": "stdout",
       "text": [
        "(372L, 540L) (372L,)\n"
       ]
      }
     ],
     "prompt_number": 8
    },
    {
     "cell_type": "markdown",
     "metadata": {},
     "source": [
      "### Pickle the training, validation, and test sets"
     ]
    },
    {
     "cell_type": "code",
     "collapsed": false,
     "input": [
      "f = file('eyes_withpose_PCs.save', 'wb')\n",
      "cPickle.dump([train_set, valid_set, test_set], f, protocol=cPickle.HIGHEST_PROTOCOL)\n",
      "f.close()"
     ],
     "language": "python",
     "metadata": {},
     "outputs": [],
     "prompt_number": 39
    }
   ],
   "metadata": {}
  }
 ]
}