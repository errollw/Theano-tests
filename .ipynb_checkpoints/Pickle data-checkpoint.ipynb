{
 "metadata": {
  "name": "",
  "signature": "sha256:14b570683c79e94d108a72c3048a05c6a5521add90a8094a6f7b026874301d58"
 },
 "nbformat": 3,
 "nbformat_minor": 0,
 "worksheets": [
  {
   "cells": [
    {
     "cell_type": "code",
     "collapsed": false,
     "input": [
      "import cPickle\n",
      "import os\n",
      "\n",
      "import numpy as np\n",
      "\n",
      "import cv2\n",
      "\n",
      "import random # for making train, valid, and test sets\n",
      "\n",
      "# displaying images inline\n",
      "from IPython.display import Image, display, clear_output"
     ],
     "language": "python",
     "metadata": {},
     "outputs": [],
     "prompt_number": 1
    },
    {
     "cell_type": "code",
     "collapsed": false,
     "input": [
      "dataset_dir = \"C:\\Users\\Erroll\\Documents\\columbia_gaze_data_set\\Columbia Gaze Data Set\"\n",
      "debug_dir = \"C:\\Users\\Erroll\\Documents\\columbia_gaze_data_set\\Columbia Gaze Data Set\\debug\"\n",
      "# imgs_dir = \"C:\\Users\\Erroll\\Documents\\columbia_gaze_data_set\\Columbia Gaze Data Set\\output\"\n",
      "imgs_dir = \"C:\\Users\\Erroll\\Documents\\CLM-framework-master\\Release\\eyes\""
     ],
     "language": "python",
     "metadata": {},
     "outputs": [],
     "prompt_number": 2
    },
    {
     "cell_type": "code",
     "collapsed": false,
     "input": [
      "# from http://www.janeriksolem.net/2009/01/pca-for-images-using-python.html\n",
      "\n",
      "def pca(X):\n",
      "    # Principal Component Analysis\n",
      "    # input: X, each row is a flattened image\n",
      "    # return: projection matrix (with important dimensions first), variance, and mean\n",
      "\n",
      "    #get dimensions\n",
      "    num_data, dim = X.shape\n",
      "\n",
      "    #center data\n",
      "    mean_X = X.mean(axis=0)\n",
      "    for i in range(num_data):\n",
      "      X[i] -= mean_X\n",
      "\n",
      "    #only makes sense to return the first num_data\n",
      "    U,S,V = np.linalg.svd(X, full_matrices=False)\n",
      "    V = V[:num_data]\n",
      "\n",
      "    #return the projection matrix, the variance and the mean\n",
      "    return V,S,mean_X"
     ],
     "language": "python",
     "metadata": {},
     "outputs": [],
     "prompt_number": 3
    },
    {
     "cell_type": "code",
     "collapsed": false,
     "input": [
      "# load all images\n",
      "all_imnames = os.listdir(imgs_dir)\n",
      "\n",
      "# make balanced set for training\n",
      "nolock_fns = [fn for fn in all_imnames if \"nolock\" in fn]\n",
      "lock_fns = set(all_imnames) - set(nolock_fns)\n",
      "num_lock_imgs = len(lock_fns)\n",
      "nolock_fns_balanced = random.sample(nolock_fns, num_lock_imgs)\n",
      "all_imnames_balanced = list(set(nolock_fns_balanced).union(lock_fns))\n",
      "random.shuffle(all_imnames_balanced)\n",
      "\n",
      "all_ims = [cv2.imread(os.path.join(imgs_dir, imname), cv2.CV_LOAD_IMAGE_GRAYSCALE) for imname in all_imnames_balanced]\n",
      "all_ims_flat = [im.flatten() for im in all_ims]\n",
      "matrix = np.vstack(all_ims_flat)"
     ],
     "language": "python",
     "metadata": {},
     "outputs": [],
     "prompt_number": 5
    },
    {
     "cell_type": "code",
     "collapsed": false,
     "input": [
      "# perform PCA\n",
      "V, S, immean = pca(matrix)\n",
      "\n",
      "mean_img = immean.reshape(24,40)\n",
      "cv2.normalize(mean_img, mean_img, 0, 255, cv2.NORM_MINMAX)\n",
      "\n",
      "cv2.imwrite(os.path.join(debug_dir,\"mean_img.png\"), mean_img)\n",
      "display(Image(os.path.join(debug_dir,\"mean_img.png\")))"
     ],
     "language": "python",
     "metadata": {},
     "outputs": [
      {
       "metadata": {},
       "output_type": "display_data",
       "png": "[encoded data removed]",
       "text": [
        "<IPython.core.display.Image at 0x3b7c4e0>"
       ]
      }
     ],
     "prompt_number": 6
    },
    {
     "cell_type": "code",
     "collapsed": false,
     "input": [
      "# get names of images for test, validation, and training\n",
      "test_imnames = random.sample(set(all_imnames_balanced), 150)\n",
      "valid_imnames = random.sample(set(all_imnames_balanced)-set(test_imnames), 150)\n",
      "train_imnames = list(set(all_imnames_balanced)-set(test_imnames)-set(valid_imnames))\n",
      "random.shuffle(train_imnames)\n",
      "\n",
      "train_imgs, train_lbls = [], []\n",
      "valid_imgs, valid_lbls = [], []\n",
      "test_imgs, test_lbls = [], []\n",
      "\n",
      "num_coeffs = 32\n",
      "\n",
      "for imname in train_imnames:\n",
      "    path = os.path.join(imgs_dir,imname)\n",
      "    img = cv2.imread(path, cv2.CV_LOAD_IMAGE_GRAYSCALE).flatten()\n",
      "    coeffs = [np.dot(img - immean, v) for v in V[:num_coeffs]]\n",
      "    train_imgs.append(np.array(coeffs).astype(np.float32))\n",
      "    train_lbls.append(0 if \"nolock\" in imname else 1)\n",
      "\n",
      "for imname in valid_imnames:\n",
      "    path = os.path.join(imgs_dir,imname)\n",
      "    img = cv2.imread(path, cv2.CV_LOAD_IMAGE_GRAYSCALE).flatten()\n",
      "    coeffs = [np.dot(img - immean, v) for v in V[:num_coeffs]]\n",
      "    valid_imgs.append(np.array(coeffs).astype(np.float32))\n",
      "    valid_lbls.append(0 if \"nolock\" in imname else 1)\n",
      "    \n",
      "for imname in test_imnames:\n",
      "    path = os.path.join(imgs_dir,imname)\n",
      "    img = cv2.imread(path, cv2.CV_LOAD_IMAGE_GRAYSCALE).flatten()\n",
      "    coeffs = [np.dot(img - immean, v) for v in V[:num_coeffs]]\n",
      "    test_imgs.append(np.array(coeffs).astype(np.float32))\n",
      "    test_lbls.append(0 if \"nolock\" in imname else 1)\n",
      "    \n",
      "train_set = [np.array(train_imgs), np.array(train_lbls).astype(np.int64)]\n",
      "valid_set = [np.array(valid_imgs), np.array(valid_lbls).astype(np.int64)]\n",
      "test_set= [np.array(test_imgs), np.array(test_lbls).astype(np.int64)]\n",
      "\n",
      "print train_set[0].shape, train_set[1].shape"
     ],
     "language": "python",
     "metadata": {},
     "outputs": [
      {
       "output_type": "stream",
       "stream": "stdout",
       "text": [
        "(1036L, 32L) (1036L,)\n"
       ]
      }
     ],
     "prompt_number": 7
    },
    {
     "cell_type": "code",
     "collapsed": false,
     "input": [
      "f = file('eyes.save', 'wb')\n",
      "cPickle.dump([train_set, valid_set, test_set], f, protocol=cPickle.HIGHEST_PROTOCOL)\n",
      "f.close()"
     ],
     "language": "python",
     "metadata": {},
     "outputs": [],
     "prompt_number": 8
    },
    {
     "cell_type": "code",
     "collapsed": false,
     "input": [
      "import cPickle\n",
      "\n",
      "f = file('princoms.save', 'wb')\n",
      "cPickle.dump([V, immean], f, protocol=cPickle.HIGHEST_PROTOCOL)\n",
      "f.close()"
     ],
     "language": "python",
     "metadata": {},
     "outputs": [],
     "prompt_number": 9
    },
    {
     "cell_type": "code",
     "collapsed": false,
     "input": [
      "print len([lbl for lbl in train_set[1] if lbl == 1]) / float(len(train_set[1]))\n",
      "print len([lbl for lbl in valid_set[1] if lbl == 1]) / float(len(valid_set[1]))\n",
      "print len([lbl for lbl in test_set[1] if lbl == 1]) / float(len(test_set[1]))\n",
      "\n",
      "print \"sample coeffs: \", train_set[0][0]"
     ],
     "language": "python",
     "metadata": {},
     "outputs": [
      {
       "output_type": "stream",
       "stream": "stdout",
       "text": [
        "0.504826254826\n",
        "0.433333333333\n",
        "0.533333333333\n",
        "sample coeffs:  [ 548.61352539 -312.43673706  494.7142334  -203.15467834  297.04443359\n",
        "  -15.94485092   32.6809082   152.00102234   23.8047657    92.40013885\n",
        "  134.46765137  204.02349854  131.29899597  -62.7673378  -447.02398682\n",
        "  255.28164673  -67.14779663  -10.86361599  112.66824341  -10.42087078\n",
        " -168.10455322 -136.05386353  138.60192871 -151.76547241  -90.5402298\n",
        "  -45.17020416  -39.35234833  -34.6625061    78.90083313   27.39982986\n",
        "   12.16622353   20.73448372]\n"
       ]
      }
     ],
     "prompt_number": 10
    }
   ],
   "metadata": {}
  }
 ]
}