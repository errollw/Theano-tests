{
 "metadata": {
  "name": "",
  "signature": "sha256:3a11ceeddab9ba6fb75f71695e38192aaad3e5fd3f2254a01803d8894c2d3dc4"
 },
 "nbformat": 3,
 "nbformat_minor": 0,
 "worksheets": [
  {
   "cells": [
    {
     "cell_type": "code",
     "collapsed": false,
     "input": [
      "import cPickle\n",
      "import os\n",
      "import numpy as np\n",
      "import cv2\n",
      "import random \n",
      "from skimage.feature import hog\n",
      "from skimage import data, color, exposure\n",
      "from sklearn import preprocessing\n",
      "from sklearn.cross_validation import train_test_split\n",
      "from IPython.display import Image, display"
     ],
     "language": "python",
     "metadata": {},
     "outputs": [],
     "prompt_number": 25
    },
    {
     "cell_type": "code",
     "collapsed": false,
     "input": [
      "imgs_dir = \"C:\\Users\\Erroll\\Documents\\datasets\\eyespose-20141015\""
     ],
     "language": "python",
     "metadata": {},
     "outputs": [],
     "prompt_number": 26
    },
    {
     "cell_type": "code",
     "collapsed": false,
     "input": [
      "# from http://www.janeriksolem.net/2009/01/pca-for-images-using-python.html\n",
      "\n",
      "def pca(X):\n",
      "    # Principal Component Analysis\n",
      "    # input: X, each row is a flattened image\n",
      "    # return: projection matrix (with important dimensions first), variance, and mean\n",
      "\n",
      "    #get dimensions\n",
      "    num_data, dim = X.shape\n",
      "\n",
      "    #center data\n",
      "    mean_X = X.mean(axis=0)\n",
      "    for i in range(num_data):\n",
      "      X[i] -= mean_X\n",
      "\n",
      "    #only makes sense to return the first num_data\n",
      "    U,S,V = np.linalg.svd(X, full_matrices=False)\n",
      "    V = V[:num_data]\n",
      "\n",
      "    #return the projection matrix, the variance and the mean\n",
      "    return V,S,mean_X"
     ],
     "language": "python",
     "metadata": {},
     "outputs": [],
     "prompt_number": 27
    },
    {
     "cell_type": "code",
     "collapsed": false,
     "input": [
      "# load all images\n",
      "all_imnames = os.listdir(imgs_dir)\n",
      "\n",
      "# make balanced set for training\n",
      "nolock_fns = [fn for fn in all_imnames if \"nolock\" in fn]\n",
      "lock_fns = set(all_imnames) - set(nolock_fns)\n",
      "num_balacned_imgs = min(len(lock_fns), len(nolock_fns))\n",
      "nolock_fns_balanced = random.sample(nolock_fns, num_balacned_imgs)\n",
      "lock_fns_balanced = random.sample(lock_fns, num_balacned_imgs)\n",
      "all_imnames_balanced = nolock_fns_balanced + lock_fns_balanced\n",
      "random.shuffle(all_imnames_balanced)\n",
      "\n",
      "print \"Total number of images: %d\"%len(all_imnames_balanced)\n",
      "\n",
      "all_ims = [cv2.imread(os.path.join(imgs_dir, imname), cv2.CV_LOAD_IMAGE_GRAYSCALE) for imname in all_imnames_balanced]\n",
      "all_ims_flat = [im.flatten() for im in all_ims]\n",
      "matrix = np.vstack(all_ims_flat)"
     ],
     "language": "python",
     "metadata": {},
     "outputs": [
      {
       "output_type": "stream",
       "stream": "stdout",
       "text": [
        "Total number of images: 676\n"
       ]
      }
     ],
     "prompt_number": 33
    },
    {
     "cell_type": "code",
     "collapsed": false,
     "input": [
      "# perform PCA\n",
      "V, S, immean = pca(matrix)\n",
      "\n",
      "mean_img = immean.reshape(24,40)\n",
      "cv2.normalize(mean_img, mean_img, 0, 255, cv2.NORM_MINMAX)\n",
      "\n",
      "Image(data=cv2.imencode(\".png\", mean_img)[1].tostring())"
     ],
     "language": "python",
     "metadata": {},
     "outputs": [
      {
       "metadata": {},
       "output_type": "pyout",
       "png": "[encoded data removed]",
       "prompt_number": 34,
       "text": [
        "<IPython.core.display.Image at 0xe7afb70>"
       ]
      }
     ],
     "prompt_number": 34
    },
    {
     "cell_type": "code",
     "collapsed": false,
     "input": [
      "# get names of images for test, validation, and training\n",
      "test_imnames = random.sample(set(all_imnames_balanced), 80)\n",
      "valid_imnames = random.sample(set(all_imnames_balanced)-set(test_imnames), 80)\n",
      "train_imnames = list(set(all_imnames_balanced)-set(test_imnames)-set(valid_imnames))\n",
      "random.shuffle(train_imnames)"
     ],
     "language": "python",
     "metadata": {},
     "outputs": [],
     "prompt_number": 31
    },
    {
     "cell_type": "code",
     "collapsed": false,
     "input": [
      "train_imgs, train_lbls = [], []\n",
      "valid_imgs, valid_lbls = [], []\n",
      "test_imgs, test_lbls = [], []\n",
      "\n",
      "num_coeffs = 32\n",
      "\n",
      "for imname in train_imnames:\n",
      "    path = os.path.join(imgs_dir,imname)\n",
      "    img = cv2.imread(path, cv2.CV_LOAD_IMAGE_GRAYSCALE).flatten()\n",
      "    angles = [float(s)*100 for s in imname[imname.find(\"(\")+1:imname.find(\")\")].split(\",\")] # this line does head pose\n",
      "    coeffs = [np.dot(img - immean, v) for v in V[:num_coeffs]]\n",
      "    train_imgs.append(np.array(coeffs+angles).astype(np.float32))\n",
      "    train_lbls.append(0 if \"nolock\" in imname else 1)\n",
      "\n",
      "for imname in valid_imnames:\n",
      "    path = os.path.join(imgs_dir,imname)\n",
      "    img = cv2.imread(path, cv2.CV_LOAD_IMAGE_GRAYSCALE).flatten()\n",
      "    angles = [float(s)*100 for s in imname[imname.find(\"(\")+1:imname.find(\")\")].split(\",\")] # this line does head pose\n",
      "    coeffs = [np.dot(img - immean, v) for v in V[:num_coeffs]]\n",
      "    valid_imgs.append(np.array(coeffs+angles).astype(np.float32))\n",
      "    valid_lbls.append(0 if \"nolock\" in imname else 1)\n",
      "    \n",
      "for imname in test_imnames:\n",
      "    path = os.path.join(imgs_dir,imname)\n",
      "    img = cv2.imread(path, cv2.CV_LOAD_IMAGE_GRAYSCALE).flatten()\n",
      "    angles = [float(s)*100 for s in imname[imname.find(\"(\")+1:imname.find(\")\")].split(\",\")] # this line does head pose\n",
      "    coeffs = [np.dot(img - immean, v) for v in V[:num_coeffs]]\n",
      "    test_imgs.append(np.array(coeffs+angles).astype(np.float32))\n",
      "    test_lbls.append(0 if \"nolock\" in imname else 1)\n",
      "    \n",
      "train_set = [np.array(train_imgs), np.array(train_lbls).astype(np.int64)]\n",
      "valid_set = [np.array(valid_imgs), np.array(valid_lbls).astype(np.int64)]\n",
      "test_set= [np.array(test_imgs), np.array(test_lbls).astype(np.int64)]\n",
      "\n",
      "print train_set[0].shape, train_set[1].shape"
     ],
     "language": "python",
     "metadata": {},
     "outputs": [
      {
       "output_type": "stream",
       "stream": "stdout",
       "text": [
        "(402L, 35L) (402L,)\n"
       ]
      }
     ],
     "prompt_number": 40
    },
    {
     "cell_type": "code",
     "collapsed": false,
     "input": [
      "# input  and output\n",
      "X, Y = [], []\n",
      "\n",
      "num_coeffs = 32\n",
      "\n",
      "for imname in all_imnames_balanced:\n",
      "    impath = os.path.join(imgs_dir,imname)\n",
      "    img = cv2.imread(impath, cv2.CV_LOAD_IMAGE_GRAYSCALE).flatten()\n",
      "#     angles = [float(s)*100 for s in imname[imname.find(\"(\")+1:imname.find(\")\")].split(\",\")] # this line does head pose\n",
      "    coeffs = [np.dot(img - immean, v) for v in V[:num_coeffs]]\n",
      "    X.append(np.array(coeffs).astype(np.float32))\n",
      "    Y.append(0 if \"nolock\" in imname else 1)\n",
      "\n",
      "X_scaled = preprocessing.scale(X)\n",
      "\n",
      "print X_scaled[0]\n",
      "\n",
      "# print len(all_imnames_balanced)\n",
      "\n",
      "X_train_and_valid, X_test, Y_train_and_valid, Y_test = train_test_split(X_scaled, Y, test_size=100, random_state=42)\n",
      "X_train, X_valid, Y_train, Y_valid = train_test_split(X_train_and_valid, Y_train_and_valid, test_size=100, random_state=42)\n",
      "\n",
      "print len(X_train), len(X_valid), len(X_test)\n",
      "\n",
      "train_set = [np.array(X_train), np.array(Y_train).astype(np.int64)]\n",
      "valid_set = [np.array(X_valid), np.array(Y_valid).astype(np.int64)]\n",
      "test_set= [np.array(X_test), np.array(Y_test).astype(np.int64)]\n",
      "\n",
      "print train_set[0].shape, train_set[1].shape"
     ],
     "language": "python",
     "metadata": {},
     "outputs": [
      {
       "output_type": "stream",
       "stream": "stdout",
       "text": [
        "[  6.79934323e-02   5.91682328e-04   5.21565437e-01  -6.94508433e-01\n",
        "   1.35270143e+00  -2.17746639e+00   2.50840455e-01  -3.92035425e-01\n",
        "   1.46117580e+00  -1.66485953e+00  -8.86039913e-01  -1.01400062e-01\n",
        "   3.30271006e-01   6.46390438e-01  -3.36425424e-01  -1.06919718e+00\n",
        "   4.73381847e-01   3.64807039e-01  -5.74230313e-01   4.79417443e-01\n",
        "  -1.24740982e+00   2.76766539e-01   1.10019338e+00  -3.50023597e-01\n",
        "   5.90383053e-01   1.98650509e-02   1.92467117e+00   1.64350140e+00\n",
        "  -9.45803344e-01   2.31640267e+00  -1.14004612e+00   1.40463665e-01\n",
        "  -1.08438087e+00   1.00195229e+00  -1.17894396e-01]\n",
        "476 100 100\n",
        "(476L, 35L) (476L,)\n"
       ]
      }
     ],
     "prompt_number": 35
    },
    {
     "cell_type": "code",
     "collapsed": false,
     "input": [
      "import cPickle\n",
      "\n",
      "f = file('princoms.save', 'wb')\n",
      "cPickle.dump([V, immean], f, protocol=cPickle.HIGHEST_PROTOCOL)\n",
      "f.close()"
     ],
     "language": "python",
     "metadata": {},
     "outputs": [],
     "prompt_number": 33
    },
    {
     "cell_type": "code",
     "collapsed": false,
     "input": [
      "print len([lbl for lbl in train_set[1] if lbl == 1]) / float(len(train_set[1]))\n",
      "print len([lbl for lbl in valid_set[1] if lbl == 1]) / float(len(valid_set[1]))\n",
      "print len([lbl for lbl in test_set[1] if lbl == 1]) / float(len(test_set[1]))\n",
      "\n",
      "print \"sample coeffs: \", train_set[0][0]"
     ],
     "language": "python",
     "metadata": {},
     "outputs": [
      {
       "output_type": "stream",
       "stream": "stdout",
       "text": [
        "0.480099502488\n",
        "0.5875\n",
        "0.5125\n",
        "sample coeffs:  [ 862.03753662 -813.14117432   84.35276031 -428.6015625  -116.04135132\n",
        " -184.98918152 -155.85145569 -190.68751526 -105.41795349   34.92605972\n",
        "  185.39981079  -39.42477798  305.95172119  206.92799377  195.19944763\n",
        "  -25.0262661   -94.0991745   -34.41266632   56.445961   -181.25889587\n",
        "  294.97424316  147.36894226   12.84373283   90.00253296  -68.27207947\n",
        "  161.54675293  259.55706787  167.88697815   -5.73607588    3.08778763\n",
        "  -78.65956879   -2.20022464   -5.70419979    7.2494998    -2.15039992]\n"
       ]
      }
     ],
     "prompt_number": 41
    },
    {
     "cell_type": "markdown",
     "metadata": {},
     "source": [
      "### Save HOG features"
     ]
    },
    {
     "cell_type": "code",
     "collapsed": false,
     "input": [
      "train_imgs, train_lbls = [], []\n",
      "valid_imgs, valid_lbls = [], []\n",
      "test_imgs, test_lbls = [], []\n",
      "\n",
      "for imname in train_imnames:\n",
      "    path = os.path.join(imgs_dir,imname)\n",
      "    img = cv2.imread(path, cv2.CV_LOAD_IMAGE_GRAYSCALE)\n",
      "    img = cv2.resize(img, (80,48))\n",
      "    coeffs = hog(img/255.0, orientations=9, pixels_per_cell=(8, 8), cells_per_block=(1, 1), visualise=False)\n",
      "    train_imgs.append(np.array(coeffs).astype(np.float32))\n",
      "    train_lbls.append(0 if \"nolock\" in imname else 1)\n",
      "\n",
      "for imname in valid_imnames:\n",
      "    path = os.path.join(imgs_dir,imname)\n",
      "    img = cv2.imread(path, cv2.CV_LOAD_IMAGE_GRAYSCALE)\n",
      "    img = cv2.resize(img, (80,48))\n",
      "    coeffs = hog(img/255.0, orientations=9, pixels_per_cell=(8, 8), cells_per_block=(1, 1), visualise=False)\n",
      "    valid_imgs.append(np.array(coeffs).astype(np.float32))\n",
      "    valid_lbls.append(0 if \"nolock\" in imname else 1)\n",
      "    \n",
      "for imname in test_imnames:\n",
      "    path = os.path.join(imgs_dir,imname)\n",
      "    img = cv2.imread(path, cv2.CV_LOAD_IMAGE_GRAYSCALE)\n",
      "    img = cv2.resize(img, (80,48))\n",
      "    coeffs = hog(img/255.0, orientations=9, pixels_per_cell=(8, 8), cells_per_block=(1, 1), visualise=False)\n",
      "    test_imgs.append(np.array(coeffs).astype(np.float32))\n",
      "    test_lbls.append(0 if \"nolock\" in imname else 1)\n",
      "    \n",
      "train_set = [np.array(train_imgs), np.array(train_lbls).astype(np.int64)]\n",
      "valid_set = [np.array(valid_imgs), np.array(valid_lbls).astype(np.int64)]\n",
      "test_set= [np.array(test_imgs), np.array(test_lbls).astype(np.int64)]\n",
      "\n",
      "print train_set[0].shape, train_set[1].shape"
     ],
     "language": "python",
     "metadata": {},
     "outputs": [
      {
       "output_type": "stream",
       "stream": "stdout",
       "text": [
        "(372L, 540L) (372L,)\n"
       ]
      }
     ],
     "prompt_number": 8
    },
    {
     "cell_type": "markdown",
     "metadata": {},
     "source": [
      "### Pickle the training, validation, and test sets"
     ]
    },
    {
     "cell_type": "code",
     "collapsed": false,
     "input": [
      "f = file('eyes_withpose_PCs.save', 'wb')\n",
      "cPickle.dump([train_set, valid_set, test_set], f, protocol=cPickle.HIGHEST_PROTOCOL)\n",
      "f.close()"
     ],
     "language": "python",
     "metadata": {},
     "outputs": [],
     "prompt_number": 36
    }
   ],
   "metadata": {}
  }
 ]
}