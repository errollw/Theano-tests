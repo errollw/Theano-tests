{
 "metadata": {
  "name": "",
  "signature": "sha256:5aa7eff2b8d74427ef3dcf894ca4b55ff3b5441edf0e24034e043a5a97f18a5e"
 },
 "nbformat": 3,
 "nbformat_minor": 0,
 "worksheets": [
  {
   "cells": [
    {
     "cell_type": "code",
     "collapsed": false,
     "input": [
      "import cPickle\n",
      "import gzip\n",
      "import os\n",
      "import sys\n",
      "import time\n",
      "\n",
      "import numpy as np\n",
      "\n",
      "import theano\n",
      "import theano.tensor as T\n",
      "\n",
      "import cv2\n",
      "import os\n",
      "\n",
      "import random # for making train, valid, and test sets\n",
      "\n",
      "# displaying images inline\n",
      "from IPython.display import Image, display, clear_output"
     ],
     "language": "python",
     "metadata": {},
     "outputs": [],
     "prompt_number": 5
    },
    {
     "cell_type": "code",
     "collapsed": false,
     "input": [
      "dataset_dir = \"C:\\Users\\Erroll\\Documents\\columbia_gaze_data_set\\Columbia Gaze Data Set\"\n",
      "debug_dir = \"C:\\Users\\Erroll\\Documents\\columbia_gaze_data_set\\Columbia Gaze Data Set\\debug\"\n",
      "imgs_dir = \"C:\\Users\\Erroll\\Documents\\columbia_gaze_data_set\\Columbia Gaze Data Set\\output\""
     ],
     "language": "python",
     "metadata": {},
     "outputs": [],
     "prompt_number": 2
    },
    {
     "cell_type": "code",
     "collapsed": false,
     "input": [
      "# from http://www.janeriksolem.net/2009/01/pca-for-images-using-python.html\n",
      "\n",
      "def pca(X):\n",
      "    # Principal Component Analysis\n",
      "    # input: X, each row is a flattened image\n",
      "    # return: projection matrix (with important dimensions first), variance, and mean\n",
      "\n",
      "    #get dimensions\n",
      "    num_data, dim = X.shape\n",
      "\n",
      "    #center data\n",
      "    mean_X = X.mean(axis=0)\n",
      "    for i in range(num_data):\n",
      "      X[i] -= mean_X\n",
      "\n",
      "    #only makes sense to return the first num_data\n",
      "    U,S,V = np.linalg.svd(X, full_matrices=False)\n",
      "    V = V[:num_data]\n",
      "\n",
      "    #return the projection matrix, the variance and the mean\n",
      "    return V,S,mean_X"
     ],
     "language": "python",
     "metadata": {},
     "outputs": [],
     "prompt_number": 3
    },
    {
     "cell_type": "code",
     "collapsed": false,
     "input": [
      "# perform PCA\n",
      "V, S, immean = pca(matrix)\n",
      "\n",
      "mean_img = immean.reshape(24,40)\n",
      "cv2.normalize(mean_img, mean_img, 0, 255, cv2.NORM_MINMAX)\n",
      "\n",
      "cv2.imwrite(os.path.join(debug_dir,\"mean_img.png\"), mean_img)\n",
      "display(Image(os.path.join(debug_dir,\"mean_img.png\")))"
     ],
     "language": "python",
     "metadata": {},
     "outputs": [
      {
       "metadata": {},
       "output_type": "display_data",
       "png": "[encoded data removed]",
       "text": [
        "<IPython.core.display.Image at 0x889c390>"
       ]
      }
     ],
     "prompt_number": 9
    },
    {
     "cell_type": "code",
     "collapsed": false,
     "input": [
      "# load all images\n",
      "os.chdir(imgs_dir)\n",
      "all_imnames = os.listdir(imgs_dir)\n",
      "\n",
      "# make balanced set for training\n",
      "nolock_fns = [fn for fn in all_imnames if \"nolock\" in fn]\n",
      "lock_fns = set(all_imnames) - set(nolock_fns)\n",
      "num_lock_imgs = len(lock_fns)\n",
      "nolock_fns_balanced = random.sample(nolock_fns, num_lock_imgs)\n",
      "all_imnames_balanced = list(set(nolock_fns_balanced).union(lock_fns))\n",
      "\n",
      "# get names of images for test, validation, and training\n",
      "random.shuffle(all_imnames_balanced)\n",
      "test_imnames = random.sample(set(all_imnames_balanced), 150)\n",
      "valid_imnames = random.sample(set(all_imnames_balanced)-set(test_imnames), 150)\n",
      "train_imnames = list(set(all_imnames_balanced)-set(test_imnames)-set(valid_imnames))\n",
      "random.shuffle(train_imnames)\n",
      "\n",
      "train_imgs, train_lbls = [], []\n",
      "valid_imgs, valid_lbls = [], []\n",
      "test_imgs, test_lbls = [], []\n",
      "\n",
      "num_coeffs = 32\n",
      "\n",
      "for imname in train_imnames:\n",
      "    img = cv2.imread(imname, cv2.CV_LOAD_IMAGE_GRAYSCALE).flatten()\n",
      "    coeffs = [np.dot(img - immean, v) for v in V[:num_coeffs]]\n",
      "    train_imgs.append(np.array(coeffs).astype(np.float32))\n",
      "    train_lbls.append(0 if \"nolock\" in imname else 1)\n",
      "\n",
      "for imname in valid_imnames:\n",
      "    img = cv2.imread(imname, cv2.CV_LOAD_IMAGE_GRAYSCALE).flatten()\n",
      "    coeffs = [np.dot(img - immean, v) for v in V[:num_coeffs]]\n",
      "    valid_imgs.append(np.array(coeffs).astype(np.float32))\n",
      "    valid_lbls.append(0 if \"nolock\" in imname else 1)\n",
      "    \n",
      "for imname in test_imnames:\n",
      "    img = cv2.imread(imname, cv2.CV_LOAD_IMAGE_GRAYSCALE).flatten()\n",
      "    coeffs = [np.dot(img - immean, v) for v in V[:num_coeffs]]\n",
      "    test_imgs.append(np.array(coeffs).astype(np.float32))\n",
      "    test_lbls.append(0 if \"nolock\" in imname else 1)\n",
      "    \n",
      "train_set = [np.array(train_imgs), np.array(train_lbls).astype(np.int64)]\n",
      "valid_set = [np.array(valid_imgs), np.array(valid_lbls).astype(np.int64)]\n",
      "test_set= [np.array(test_imgs), np.array(test_lbls).astype(np.int64)]\n",
      "\n",
      "print train_set[0].shape, train_set[1].shape"
     ],
     "language": "python",
     "metadata": {},
     "outputs": [
      {
       "output_type": "stream",
       "stream": "stdout",
       "text": [
        "(1036L, 32L) (1036L,)\n"
       ]
      }
     ],
     "prompt_number": 10
    },
    {
     "cell_type": "code",
     "collapsed": false,
     "input": [
      "os.chdir(dataset_dir)\n",
      "f = file('eyes.save', 'wb')\n",
      "cPickle.dump([train_set, valid_set, test_set], f, protocol=cPickle.HIGHEST_PROTOCOL)\n",
      "f.close()"
     ],
     "language": "python",
     "metadata": {},
     "outputs": [],
     "prompt_number": 16
    },
    {
     "cell_type": "code",
     "collapsed": false,
     "input": [
      "import cPickle\n",
      "\n",
      "os.chdir(dataset_dir)\n",
      "f = file('princoms.save', 'wb')\n",
      "cPickle.dump([V, immean], f, protocol=cPickle.HIGHEST_PROTOCOL)\n",
      "f.close()"
     ],
     "language": "python",
     "metadata": {},
     "outputs": [],
     "prompt_number": 17
    },
    {
     "cell_type": "code",
     "collapsed": false,
     "input": [
      "print len([lbl for lbl in train_set[1] if lbl == 1]) / float(len(train_set[1]))\n",
      "print len([lbl for lbl in valid_set[1] if lbl == 1]) / float(len(valid_set[1]))\n",
      "print len([lbl for lbl in test_set[1] if lbl == 1]) / float(len(test_set[1]))\n",
      "\n",
      "print \"sample coeffs: \", train_set[0][0]"
     ],
     "language": "python",
     "metadata": {},
     "outputs": [
      {
       "output_type": "stream",
       "stream": "stdout",
       "text": [
        "0.501930501931\n",
        "0.46\n",
        "0.526666666667\n",
        "sample coeffs:  [ 388.35665894  383.8487854    16.68453026  139.07647705  240.90638733\n",
        "  348.61358643 -240.44198608  409.75405884  425.97613525   79.89641571\n",
        " -230.20819092 -339.55099487 -207.0381012   -71.43628693 -126.02475739\n",
        " -263.30282593  -88.42557526  -34.40522385 -163.79196167   31.39414787\n",
        "  -46.15190125  130.73706055  -19.49656296    2.00016189   30.65401649\n",
        "  -55.50775146   94.55712891  -34.13083649   62.40467453  -47.58446884\n",
        "  114.84063721   67.93025208]\n"
       ]
      }
     ],
     "prompt_number": 15
    }
   ],
   "metadata": {}
  }
 ]
}