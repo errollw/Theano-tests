{
 "metadata": {
  "name": "",
  "signature": "sha256:8ceaa9418f403bb194ad92a32364bbddb7a62efd37047287c60ce66ff02c28f8"
 },
 "nbformat": 3,
 "nbformat_minor": 0,
 "worksheets": []
}