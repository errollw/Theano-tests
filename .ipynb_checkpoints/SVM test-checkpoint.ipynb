{
 "metadata": {
  "name": "",
  "signature": "sha256:cd3fc12378c4e9a9c365cd03cfb5143c70787da89aa0275f70eac6a7bf4fb655"
 },
 "nbformat": 3,
 "nbformat_minor": 0,
 "worksheets": []
}