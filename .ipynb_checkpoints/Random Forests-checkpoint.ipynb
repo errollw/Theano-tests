{
 "metadata": {
  "name": "",
  "signature": "sha256:33a870d94bfd63ee834be9b91ca9ed527367de7ed0ac2b9e4c069684c13ecfca"
 },
 "nbformat": 3,
 "nbformat_minor": 0,
 "worksheets": [
  {
   "cells": [
    {
     "cell_type": "code",
     "collapsed": false,
     "input": [
      "import cPickle\n",
      "import numpy as np\n",
      "from sklearn.ensemble import RandomForestClassifier"
     ],
     "language": "python",
     "metadata": {},
     "outputs": [],
     "prompt_number": 3
    },
    {
     "cell_type": "code",
     "collapsed": false,
     "input": [
      "# Load the dataset\n",
      "f = file(\"eyes_nopose_PCs.save\", 'rb')\n",
      "train_set, valid_set, test_set = cPickle.load(f)\n",
      "f.close()\n",
      " \n",
      "X = np.vstack([train_set[0], valid_set[0]])\n",
      "Y = list(train_set[1]) + list(valid_set[1])\n",
      "\n",
      "clf = RandomForestClassifier()\n",
      "clf.fit(X, Y)\n",
      "\n",
      "test_results = clf.predict(test_set[0])\n",
      "error = ((1-np.count_nonzero(test_results == test_set[1]) / float(len(test_set[1])))*100)\n",
      "print \"(eyes_nopose_PCs): RFs error: %.2f%%\"%error"
     ],
     "language": "python",
     "metadata": {},
     "outputs": [
      {
       "metadata": {},
       "output_type": "pyout",
       "prompt_number": 4,
       "text": [
        "RandomForestClassifier(bootstrap=True, compute_importances=None,\n",
        "            criterion='gini', max_depth=None, max_features='auto',\n",
        "            max_leaf_nodes=None, min_density=None, min_samples_leaf=1,\n",
        "            min_samples_split=2, n_estimators=10, n_jobs=1,\n",
        "            oob_score=False, random_state=None, verbose=0)"
       ]
      }
     ],
     "prompt_number": 4
    },
    {
     "cell_type": "code",
     "collapsed": false,
     "input": [
      "test_results = clf.predict(test_set[0])\n",
      "print \"(eyes_nopose_PCs): RFs error: %.2f%%\"%((1-np.count_nonzero(test_results == test_set[1]) / float(len(test_set[1])))*100)"
     ],
     "language": "python",
     "metadata": {},
     "outputs": [
      {
       "output_type": "stream",
       "stream": "stdout",
       "text": [
        "(eyes_nopose_PCs): RFs error: 2.00%\n"
       ]
      }
     ],
     "prompt_number": 7
    }
   ],
   "metadata": {}
  }
 ]
}