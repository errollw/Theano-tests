{
 "metadata": {
  "name": "",
  "signature": "sha256:efc4d2109eb926a68114bf8fe9ba02aab72d7fa7db970168c888ce9ec168831d"
 },
 "nbformat": 3,
 "nbformat_minor": 0,
 "worksheets": [
  {
   "cells": [
    {
     "cell_type": "code",
     "collapsed": false,
     "input": [
      "import numpy as np\n",
      "import cv2"
     ],
     "language": "python",
     "metadata": {},
     "outputs": [],
     "prompt_number": 2
    },
    {
     "cell_type": "code",
     "collapsed": false,
     "input": [
      "# termination criteria for cornerSubPix\n",
      "criteria = (cv2.TERM_CRITERIA_EPS + cv2.TERM_CRITERIA_MAX_ITER, 30, 0.001)\n",
      "\n",
      "# prepare object points\n",
      "pattern_size = (11, 6)\n",
      "pattern_points = np.zeros( (np.prod(pattern_size), 3), np.float32 )\n",
      "pattern_points[:,:2] = np.indices(pattern_size).T.reshape(-1, 2)\n",
      "pattern_points *= 20\n",
      "\n",
      "# Arrays to store object points and image points from all the images.\n",
      "objpoints = [] # 3d point in real world space\n",
      "imgpoints = [] # 2d points in image plane.\n",
      "\n",
      "# Setup high-resolution video capture\n",
      "cap = cv2.VideoCapture(1)\n",
      "cap.set(3,1920)\n",
      "cap.set(4,1080)\n",
      "\n",
      "while True:\n",
      "    _, img = cap.read()\n",
      "    gray = cv2.cvtColor(img,cv2.COLOR_BGR2GRAY)\n",
      "    \n",
      "    corners_found, corners = cv2.findChessboardCorners(gray, (11,6), flags=cv2.CALIB_CB_FAST_CHECK)\n",
      "\n",
      "    if corners_found == True:\n",
      "        cv2.cornerSubPix(gray, corners, (11,11), (-1,-1), criteria)\n",
      "        cv2.drawChessboardCorners(img, (11,6), corners, corners_found)\n",
      "        \n",
      "    cv2.imshow('img',img)\n",
      "    key = cv2.waitKey(5)\n",
      "    \n",
      "    # on presssing s, record points\n",
      "    if key == 115 and corners_found:\n",
      "        objpoints.append(pattern_points)\n",
      "        imgpoints.append(corners.reshape(-1, 2))\n",
      "        \n",
      "    # quit on pressing \"q\"\n",
      "    if key == 113: break;\n",
      "\n",
      "cv2.destroyAllWindows()"
     ],
     "language": "python",
     "metadata": {},
     "outputs": [],
     "prompt_number": 3
    },
    {
     "cell_type": "code",
     "collapsed": false,
     "input": [
      "print len(imgpoints)"
     ],
     "language": "python",
     "metadata": {},
     "outputs": [
      {
       "output_type": "stream",
       "stream": "stdout",
       "text": [
        "14\n"
       ]
      }
     ],
     "prompt_number": 4
    },
    {
     "cell_type": "code",
     "collapsed": false,
     "input": [
      "ret, mtx, dist, rvecs, tvecs = cv2.calibrateCamera(objpoints, imgpoints, gray.shape[::-1], None, None)"
     ],
     "language": "python",
     "metadata": {},
     "outputs": [],
     "prompt_number": 5
    },
    {
     "cell_type": "code",
     "collapsed": false,
     "input": [
      "print mtx"
     ],
     "language": "python",
     "metadata": {},
     "outputs": [
      {
       "output_type": "stream",
       "stream": "stdout",
       "text": [
        "[[  1.37400249e+03   0.00000000e+00   9.34406612e+02]\n",
        " [  0.00000000e+00   1.37639390e+03   5.59240829e+02]\n",
        " [  0.00000000e+00   0.00000000e+00   1.00000000e+00]]\n"
       ]
      }
     ],
     "prompt_number": 7
    },
    {
     "cell_type": "code",
     "collapsed": false,
     "input": [
      "print dist"
     ],
     "language": "python",
     "metadata": {},
     "outputs": [
      {
       "output_type": "stream",
       "stream": "stdout",
       "text": [
        "[[ 0.10584986 -0.18678635  0.0003241  -0.00491664  0.05392166]]\n"
       ]
      }
     ],
     "prompt_number": 8
    }
   ],
   "metadata": {}
  }
 ]
}