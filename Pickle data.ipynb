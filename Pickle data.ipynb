{
 "metadata": {
  "name": "",
  "signature": "sha256:94793ebc7cf9b11dc814436aa49d6b7f98303f2c9c352641d6f8cdbc2393408f"
 },
 "nbformat": 3,
 "nbformat_minor": 0,
 "worksheets": [
  {
   "cells": [
    {
     "cell_type": "code",
     "collapsed": false,
     "input": [
      "import cPickle\n",
      "import os\n",
      "import numpy as np\n",
      "import cv2\n",
      "import random \n",
      "from skimage.feature import hog\n",
      "from skimage import data, color, exposure\n",
      "from IPython.display import Image, display"
     ],
     "language": "python",
     "metadata": {},
     "outputs": [],
     "prompt_number": 1
    },
    {
     "cell_type": "code",
     "collapsed": false,
     "input": [
      "dataset_dir = \"C:\\Users\\Erroll\\Documents\\columbia_gaze_data_set\\Columbia Gaze Data Set\"\n",
      "debug_dir = \"C:\\Users\\Erroll\\Documents\\columbia_gaze_data_set\\Columbia Gaze Data Set\\debug\"\n",
      "imgs_dir = \"C:\\Users\\Erroll\\Documents\\columbia_gaze_data_set\\Columbia Gaze Data Set\\output\"\n",
      "# imgs_dir = \"C:\\Users\\Erroll\\Documents\\CLM-framework-master\\Release\\eyes\""
     ],
     "language": "python",
     "metadata": {},
     "outputs": [],
     "prompt_number": 2
    },
    {
     "cell_type": "code",
     "collapsed": false,
     "input": [
      "# from http://www.janeriksolem.net/2009/01/pca-for-images-using-python.html\n",
      "\n",
      "def pca(X):\n",
      "    # Principal Component Analysis\n",
      "    # input: X, each row is a flattened image\n",
      "    # return: projection matrix (with important dimensions first), variance, and mean\n",
      "\n",
      "    #get dimensions\n",
      "    num_data, dim = X.shape\n",
      "\n",
      "    #center data\n",
      "    mean_X = X.mean(axis=0)\n",
      "    for i in range(num_data):\n",
      "      X[i] -= mean_X\n",
      "\n",
      "    #only makes sense to return the first num_data\n",
      "    U,S,V = np.linalg.svd(X, full_matrices=False)\n",
      "    V = V[:num_data]\n",
      "\n",
      "    #return the projection matrix, the variance and the mean\n",
      "    return V,S,mean_X"
     ],
     "language": "python",
     "metadata": {},
     "outputs": [],
     "prompt_number": 3
    },
    {
     "cell_type": "code",
     "collapsed": false,
     "input": [
      "# load all images\n",
      "all_imnames = os.listdir(imgs_dir)\n",
      "\n",
      "# make balanced set for training\n",
      "nolock_fns = [fn for fn in all_imnames if \"nolock\" in fn]\n",
      "lock_fns = set(all_imnames) - set(nolock_fns)\n",
      "num_lock_imgs = len(lock_fns)\n",
      "nolock_fns_balanced = random.sample(nolock_fns, num_lock_imgs)\n",
      "all_imnames_balanced = list(set(nolock_fns_balanced).union(lock_fns))\n",
      "random.shuffle(all_imnames_balanced)\n",
      "\n",
      "all_ims = [cv2.imread(os.path.join(imgs_dir, imname), cv2.CV_LOAD_IMAGE_GRAYSCALE) for imname in all_imnames_balanced]\n",
      "all_ims_flat = [im.flatten() for im in all_ims]\n",
      "matrix = np.vstack(all_ims_flat)"
     ],
     "language": "python",
     "metadata": {},
     "outputs": [],
     "prompt_number": 5
    },
    {
     "cell_type": "code",
     "collapsed": false,
     "input": [
      "# perform PCA\n",
      "V, S, immean = pca(matrix)\n",
      "\n",
      "mean_img = immean.reshape(24,40)\n",
      "cv2.normalize(mean_img, mean_img, 0, 255, cv2.NORM_MINMAX)\n",
      "\n",
      "Image(data=cv2.imencode(\".png\", mean_img)[1].tostring())"
     ],
     "language": "python",
     "metadata": {},
     "outputs": [
      {
       "metadata": {},
       "output_type": "pyout",
       "png": "[encoded data removed]",
       "prompt_number": 6,
       "text": [
        "<IPython.core.display.Image at 0xd117320>"
       ]
      }
     ],
     "prompt_number": 6
    },
    {
     "cell_type": "code",
     "collapsed": false,
     "input": [
      "print S.sum()\n",
      "\n",
      "print len(eigenvals)\n",
      "eigenvals = S/S.sum()\n",
      "print eigenvals\n",
      "print eigenvals[:512].sum()"
     ],
     "language": "python",
     "metadata": {},
     "outputs": [
      {
       "output_type": "stream",
       "stream": "stdout",
       "text": [
        "2390181.908\n",
        "960\n",
        "[ 0.06730656  0.01273262  0.01035855  0.00851537  0.00804001  0.00677605\n",
        "  0.00638456  0.00626514  0.00567527  0.00552592  0.00542521  0.00512891\n",
        "  0.00498025  0.00484905  0.00450416  0.00434585  0.00430828  0.00420898\n",
        "  0.00404923  0.00401508  0.00379592  0.00374618  0.00367428  0.00357233\n",
        "  0.00352502  0.003467    0.00334071  0.00329435  0.00322107  0.00318469\n",
        "  0.0031544   0.00311702  0.00306812  0.00298993  0.00294999  0.00290503\n",
        "  0.0028842   0.00285021  0.00280859  0.00275629  0.00269113  0.00265165\n",
        "  0.00259871  0.00259423  0.00255366  0.00252665  0.0024951   0.00246517\n",
        "  0.00242879  0.00241101  0.00238825  0.00236978  0.00233595  0.00232555\n",
        "  0.00229295  0.0022772   0.00226038  0.0022475   0.00223565  0.00221279\n",
        "  0.00217766  0.00216717  0.00214035  0.00210936  0.00210777  0.00209548\n",
        "  0.00208444  0.00206288  0.00204765  0.00203728  0.00202752  0.00200986\n",
        "  0.00199171  0.00197905  0.00197014  0.00196079  0.0019395   0.00193827\n",
        "  0.00191753  0.0019117   0.00190001  0.00187685  0.00186377  0.00185957\n",
        "  0.00185105  0.00184692  0.00183656  0.00183302  0.00182641  0.00182114\n",
        "  0.00179855  0.00179623  0.00178542  0.00177422  0.00176657  0.00176065\n",
        "  0.00175408  0.00174241  0.00173822  0.00173094  0.00171475  0.00171007\n",
        "  0.00169493  0.00168597  0.00168292  0.00167033  0.00166387  0.00165916\n",
        "  0.00165454  0.00165217  0.00164639  0.00163684  0.00163526  0.00161906\n",
        "  0.00161431  0.00161084  0.0016043   0.00159973  0.00159459  0.00158816\n",
        "  0.00158038  0.00157489  0.00156881  0.00156284  0.00155673  0.00155592\n",
        "  0.00155253  0.00154163  0.00153781  0.00153331  0.00153156  0.00152755\n",
        "  0.00152465  0.00151999  0.00150856  0.00150401  0.00150268  0.00149711\n",
        "  0.00149231  0.00149056  0.00148732  0.00148319  0.00147657  0.00147477\n",
        "  0.00147256  0.00146589  0.00145992  0.00145731  0.00145408  0.00144695\n",
        "  0.00144557  0.0014428   0.00144036  0.00143557  0.00143477  0.00143153\n",
        "  0.00142374  0.00141891  0.00141243  0.0014105   0.0014074   0.00140356\n",
        "  0.00140175  0.00139945  0.00139579  0.00139201  0.00138599  0.00138328\n",
        "  0.00138006  0.00137454  0.00137247  0.0013648   0.00136254  0.00136092\n",
        "  0.00135567  0.00135226  0.00135141  0.0013475   0.00134454  0.00134036\n",
        "  0.00133653  0.00133306  0.00133034  0.00132928  0.00132569  0.0013202\n",
        "  0.00131852  0.00131631  0.00131224  0.00131006  0.00130904  0.00130757\n",
        "  0.00130259  0.00130019  0.00129632  0.00129479  0.00129064  0.00128955\n",
        "  0.00128665  0.00128543  0.00128274  0.00127767  0.00127642  0.00127174\n",
        "  0.00126676  0.00126399  0.00126322  0.00125799  0.00125709  0.0012538\n",
        "  0.00125143  0.00124814  0.00124413  0.00124307  0.00123985  0.00123843\n",
        "  0.00123678  0.00123453  0.00123118  0.00122855  0.00122563  0.00122324\n",
        "  0.00122233  0.00121967  0.00121646  0.00121121  0.00121028  0.00120819\n",
        "  0.00120649  0.00120207  0.00120051  0.00119694  0.00119532  0.00119188\n",
        "  0.00118993  0.0011869   0.00118464  0.0011839   0.00118236  0.00118035\n",
        "  0.00117699  0.00117573  0.0011729   0.00117041  0.00116557  0.00116474\n",
        "  0.00116241  0.00115844  0.00115776  0.00115456  0.00115312  0.00114941\n",
        "  0.00114783  0.00114689  0.00114441  0.00114003  0.00113919  0.00113613\n",
        "  0.0011324   0.00113198  0.00112948  0.0011271   0.00112529  0.0011238\n",
        "  0.0011213   0.00111973  0.00111669  0.0011143   0.00111259  0.00111107\n",
        "  0.00110699  0.00110512  0.00110432  0.00110288  0.00109902  0.00109461\n",
        "  0.00109319  0.00109169  0.00108975  0.00108816  0.00108237  0.00108199\n",
        "  0.0010798   0.00107756  0.00107443  0.00107283  0.00107057  0.0010683\n",
        "  0.00106701  0.00106433  0.0010629   0.00106113  0.00105871  0.00105705\n",
        "  0.00105515  0.00105335  0.00105034  0.00104956  0.00104828  0.00104582\n",
        "  0.00104387  0.00104318  0.00104309  0.00103677  0.00103578  0.00103256\n",
        "  0.0010299   0.00102906  0.00102693  0.00102547  0.00102371  0.001021\n",
        "  0.00102028  0.00101672  0.00101492  0.00101419  0.00101094  0.0010093\n",
        "  0.00100579  0.00100537  0.0010031   0.00100025  0.00099899  0.00099756\n",
        "  0.00099623  0.00099501  0.00099339  0.00099225  0.00098976  0.00098806\n",
        "  0.00098669  0.00098399  0.00098281  0.00097953  0.00097842  0.00097723\n",
        "  0.00097366  0.00097072  0.00096904  0.00096669  0.00096533  0.00096251\n",
        "  0.00096124  0.0009594   0.00095853  0.00095648  0.00095393  0.00095275\n",
        "  0.00095091  0.00094988  0.00094868  0.00094699  0.00094324  0.00094154\n",
        "  0.00094019  0.00093731  0.00093602  0.00093507  0.0009324   0.00093098\n",
        "  0.00092911  0.00092809  0.00092687  0.00092583  0.00092446  0.00092218\n",
        "  0.00092153  0.0009206   0.00091788  0.00091696  0.00091584  0.00091447\n",
        "  0.00091157  0.00090998  0.00090798  0.00090716  0.00090476  0.00090279\n",
        "  0.00090168  0.00089942  0.00089769  0.00089654  0.00089445  0.00089289\n",
        "  0.00089048  0.00088743  0.00088642  0.00088542  0.00088219  0.00087952\n",
        "  0.00087872  0.00087582  0.00087511  0.00087426  0.00087314  0.00087096\n",
        "  0.00086976  0.00086757  0.00086596  0.00086477  0.00086368  0.00086176\n",
        "  0.0008597   0.00085828  0.00085611  0.00085411  0.00085234  0.00084922\n",
        "  0.00084903  0.0008457   0.00084502  0.00084418  0.00084288  0.00084001\n",
        "  0.00083916  0.00083713  0.00083526  0.00083408  0.00083118  0.00083028\n",
        "  0.00082863  0.00082836  0.00082774  0.00082527  0.00082446  0.00082229\n",
        "  0.00082133  0.0008185   0.00081816  0.0008168   0.00081537  0.00081299\n",
        "  0.00081209  0.0008099   0.0008085   0.0008073   0.00080556  0.00080476\n",
        "  0.00080285  0.00080133  0.00080028  0.0007987   0.00079817  0.00079403\n",
        "  0.00079283  0.0007918   0.00079059  0.00078825  0.00078697  0.00078509\n",
        "  0.00078472  0.00078149  0.00077969  0.00077788  0.00077612  0.00077595\n",
        "  0.00077399  0.00077278  0.000771    0.00076998  0.00076914  0.000769\n",
        "  0.00076381  0.00076327  0.00076118  0.00076083  0.00075952  0.0007579\n",
        "  0.00075706  0.00075595  0.00075431  0.00075277  0.0007513   0.00075003\n",
        "  0.00074767  0.00074681  0.00074469  0.00074324  0.00074264  0.00074067\n",
        "  0.00074027  0.00073883  0.00073774  0.00073553  0.00073379  0.00073295\n",
        "  0.0007309   0.00073082  0.00072954  0.00072771  0.00072621  0.00072544\n",
        "  0.00072336  0.00072179  0.00071871  0.00071799  0.00071691  0.00071537\n",
        "  0.00071453  0.00071228  0.00071194  0.00070969  0.00070871  0.00070674\n",
        "  0.00070483  0.00070389  0.00070138  0.00070075  0.00070003  0.0006995\n",
        "  0.00069649  0.00069526  0.00069453  0.00069142  0.00068947  0.00068833\n",
        "  0.00068765  0.00068589  0.00068491  0.00068246  0.00068183  0.00068053\n",
        "  0.0006788   0.00067702  0.00067611  0.00067462  0.00067429  0.00067264\n",
        "  0.00067114  0.00066926  0.00066816  0.00066716  0.00066502  0.00066345\n",
        "  0.0006632   0.00066241  0.00065899  0.00065863  0.00065644  0.00065536\n",
        "  0.00065432  0.00065307  0.00065125  0.00065028  0.00064934  0.00064774\n",
        "  0.00064733  0.00064648  0.00064439  0.0006426   0.00064051  0.00063934\n",
        "  0.00063755  0.00063737  0.00063681  0.00063436  0.00063259  0.00063151\n",
        "  0.00062937  0.00062841  0.00062608  0.00062455  0.00062366  0.00062301\n",
        "  0.00061988  0.00061938  0.00061865  0.00061771  0.00061636  0.00061449\n",
        "  0.00061283  0.00061247  0.00061126  0.00060964  0.00060863  0.00060647\n",
        "  0.00060589  0.00060514  0.00060209  0.00060112  0.00059941  0.00059841\n",
        "  0.00059695  0.00059587  0.00059465  0.00059389  0.00059329  0.00059227\n",
        "  0.00058934  0.00058827  0.00058695  0.00058429  0.0005828   0.00058211\n",
        "  0.00057996  0.00057847  0.00057808  0.00057727  0.00057524  0.00057362\n",
        "  0.00057278  0.00057192  0.00057044  0.00056865  0.00056826  0.00056672\n",
        "  0.00056579  0.00056401  0.00056279  0.00056119  0.00055876  0.00055836\n",
        "  0.00055737  0.00055571  0.00055512  0.00055366  0.00055275  0.00055158\n",
        "  0.0005507   0.00054888  0.00054751  0.00054738  0.00054522  0.00054316\n",
        "  0.00054285  0.00054131  0.00054008  0.00053943  0.00053828  0.00053741\n",
        "  0.00053665  0.00053508  0.00053339  0.00053226  0.00052942  0.00052863\n",
        "  0.00052757  0.00052674  0.00052574  0.00052403  0.0005235   0.00052195\n",
        "  0.0005208   0.00051929  0.00051836  0.00051576  0.00051506  0.00051405\n",
        "  0.00051148  0.00051101  0.00051006  0.00050803  0.0005071   0.00050486\n",
        "  0.00050451  0.0005043   0.00050305  0.00050175  0.00049945  0.00049891\n",
        "  0.00049839  0.00049581  0.0004935   0.00049329  0.00049238  0.00049121\n",
        "  0.00049049  0.00048964  0.00048859  0.00048769  0.00048664  0.00048408\n",
        "  0.00048253  0.00048128  0.00047997  0.00047947  0.00047747  0.00047612\n",
        "  0.00047455  0.00047333  0.00047297  0.00047202  0.00047047  0.00047025\n",
        "  0.00046805  0.00046779  0.00046568  0.00046482  0.00046433  0.00046323\n",
        "  0.00046133  0.00045916  0.00045851  0.00045785  0.00045615  0.00045578\n",
        "  0.00045484  0.00045446  0.00045262  0.00045172  0.00045055  0.00044815\n",
        "  0.00044566  0.00044488  0.00044448  0.00044365  0.00044231  0.00044028\n",
        "  0.00043962  0.00043774  0.00043708  0.00043634  0.00043537  0.00043317\n",
        "  0.00043258  0.00043103  0.00042867  0.00042716  0.00042603  0.0004245\n",
        "  0.00042263  0.00042155  0.00042015  0.0004196   0.00041937  0.0004178\n",
        "  0.00041721  0.00041543  0.00041327  0.00041259  0.00041058  0.00041039\n",
        "  0.00041     0.00040897  0.00040849  0.00040624  0.00040477  0.00040428\n",
        "  0.00040291  0.0004011   0.00039981  0.00039891  0.00039793  0.00039697\n",
        "  0.00039506  0.00039473  0.00039394  0.00039276  0.00039132  0.00039006\n",
        "  0.00038741  0.00038628  0.00038517  0.00038391  0.0003829   0.00038197\n",
        "  0.00037979  0.00037867  0.00037791  0.00037743  0.00037656  0.00037595\n",
        "  0.00037405  0.00037306  0.00037248  0.00037088  0.00036916  0.00036833\n",
        "  0.00036757  0.00036608  0.00036506  0.00036414  0.00036317  0.00036238\n",
        "  0.00036213  0.00036152  0.00035775  0.00035642  0.00035522  0.00035494\n",
        "  0.00035409  0.00035161  0.0003514   0.00034924  0.00034821  0.00034765\n",
        "  0.00034564  0.00034485  0.00034436  0.00034284  0.00034174  0.00034091\n",
        "  0.00033833  0.00033761  0.00033618  0.00033484  0.00033307  0.00033189\n",
        "  0.00033102  0.00032956  0.00032916  0.00032762  0.00032577  0.00032512\n",
        "  0.00032351  0.00032225  0.000322    0.0003199   0.0003185   0.00031743\n",
        "  0.00031707  0.0003159   0.00031532  0.0003142   0.00031238  0.00031106\n",
        "  0.00030971  0.00030886  0.00030812  0.00030751  0.00030729  0.00030366\n",
        "  0.00030346  0.00030052  0.00030025  0.00029973  0.0002991   0.00029853\n",
        "  0.00029739  0.0002955   0.00029528  0.00029379  0.00029198  0.00029135\n",
        "  0.0002904   0.00028972  0.00028826  0.00028668  0.00028602  0.00028449\n",
        "  0.00028352  0.00028289  0.00028216  0.00028098  0.00027942  0.00027914\n",
        "  0.00027728  0.00027674  0.00027392  0.00027318  0.00027166  0.00027054\n",
        "  0.00026859  0.00026747  0.00026704  0.00026435  0.00026325  0.00026177\n",
        "  0.00026109  0.00025974  0.000259    0.00025819  0.0002572   0.00025626\n",
        "  0.00025576  0.0002535   0.00025283  0.00025158  0.00025003  0.00024973\n",
        "  0.00024809  0.00024599  0.0002455   0.00024447  0.00024238  0.00024145\n",
        "  0.00024095  0.00023899  0.00023794  0.0002372   0.00023523  0.00023379\n",
        "  0.00023352  0.00023257  0.00023097  0.00022943  0.00022838  0.00022762\n",
        "  0.00022535  0.00022383  0.00022376  0.00022256  0.00022161  0.00021918\n",
        "  0.00021793  0.00021761  0.00021674  0.00021377  0.00021248  0.0002109\n",
        "  0.00021053  0.00020937  0.00020857  0.00020697  0.00020667  0.00020602\n",
        "  0.00020517  0.00020351  0.00020059  0.00020045  0.00019892  0.00019626\n",
        "  0.00019493  0.00019329  0.00019213  0.00019184  0.00019079  0.00018966\n",
        "  0.00018846  0.00018736  0.0001862   0.00018541  0.00018405  0.00018343\n",
        "  0.00018136  0.0001795   0.00017808  0.00017608  0.00017561  0.00017347\n",
        "  0.00017168  0.0001684   0.00016801  0.00016659  0.00016622  0.00016212\n",
        "  0.0001617   0.00016042  0.00015896  0.00015795  0.00015557  0.00015523\n",
        "  0.00015312  0.00015108  0.00014983  0.00014785  0.00014595  0.00014464\n",
        "  0.00014314  0.00014182  0.00013958  0.0001371   0.00013451  0.00013172\n",
        "  0.00013089  0.00012991  0.00012953  0.00012389  0.00012072  0.00011628]\n",
        "0.816881548414\n"
       ]
      }
     ],
     "prompt_number": 16
    },
    {
     "cell_type": "code",
     "collapsed": false,
     "input": [
      "# get names of images for test, validation, and training\n",
      "test_imnames = random.sample(set(all_imnames_balanced), 150)\n",
      "valid_imnames = random.sample(set(all_imnames_balanced)-set(test_imnames), 150)\n",
      "train_imnames = list(set(all_imnames_balanced)-set(test_imnames)-set(valid_imnames))\n",
      "random.shuffle(train_imnames)\n",
      "\n",
      "train_imgs, train_lbls = [], []\n",
      "valid_imgs, valid_lbls = [], []\n",
      "test_imgs, test_lbls = [], []"
     ],
     "language": "python",
     "metadata": {},
     "outputs": [],
     "prompt_number": 8
    },
    {
     "cell_type": "code",
     "collapsed": false,
     "input": [
      "num_coeffs = 32\n",
      "\n",
      "for imname in train_imnames:\n",
      "    path = os.path.join(imgs_dir,imname)\n",
      "    img = cv2.imread(path, cv2.CV_LOAD_IMAGE_GRAYSCALE).flatten()\n",
      "    coeffs = [np.dot(img - immean, v) for v in V[:num_coeffs]]\n",
      "    train_imgs.append(np.array(coeffs).astype(np.float32))\n",
      "    train_lbls.append(0 if \"nolock\" in imname else 1)\n",
      "\n",
      "for imname in valid_imnames:\n",
      "    path = os.path.join(imgs_dir,imname)\n",
      "    img = cv2.imread(path, cv2.CV_LOAD_IMAGE_GRAYSCALE).flatten()\n",
      "    coeffs = [np.dot(img - immean, v) for v in V[:num_coeffs]]\n",
      "    valid_imgs.append(np.array(coeffs).astype(np.float32))\n",
      "    valid_lbls.append(0 if \"nolock\" in imname else 1)\n",
      "    \n",
      "for imname in test_imnames:\n",
      "    path = os.path.join(imgs_dir,imname)\n",
      "    img = cv2.imread(path, cv2.CV_LOAD_IMAGE_GRAYSCALE).flatten()\n",
      "    coeffs = [np.dot(img - immean, v) for v in V[:num_coeffs]]\n",
      "    test_imgs.append(np.array(coeffs).astype(np.float32))\n",
      "    test_lbls.append(0 if \"nolock\" in imname else 1)\n",
      "    \n",
      "train_set = [np.array(train_imgs), np.array(train_lbls).astype(np.int64)]\n",
      "valid_set = [np.array(valid_imgs), np.array(valid_lbls).astype(np.int64)]\n",
      "test_set= [np.array(test_imgs), np.array(test_lbls).astype(np.int64)]\n",
      "\n",
      "print train_set[0].shape, train_set[1].shape"
     ],
     "language": "python",
     "metadata": {},
     "outputs": [
      {
       "output_type": "stream",
       "stream": "stdout",
       "text": [
        "(372L, 32L) (372L,)\n"
       ]
      }
     ],
     "prompt_number": 7
    },
    {
     "cell_type": "code",
     "collapsed": false,
     "input": [
      "import cPickle\n",
      "\n",
      "f = file('princoms.save', 'wb')\n",
      "cPickle.dump([V, immean], f, protocol=cPickle.HIGHEST_PROTOCOL)\n",
      "f.close()"
     ],
     "language": "python",
     "metadata": {},
     "outputs": [],
     "prompt_number": 11
    },
    {
     "cell_type": "code",
     "collapsed": false,
     "input": [
      "print len([lbl for lbl in train_set[1] if lbl == 1]) / float(len(train_set[1]))\n",
      "print len([lbl for lbl in valid_set[1] if lbl == 1]) / float(len(valid_set[1]))\n",
      "print len([lbl for lbl in test_set[1] if lbl == 1]) / float(len(test_set[1]))\n",
      "\n",
      "print \"sample coeffs: \", train_set[0][0]"
     ],
     "language": "python",
     "metadata": {},
     "outputs": [
      {
       "output_type": "stream",
       "stream": "stdout",
       "text": [
        "0.486559139785\n",
        "0.54\n",
        "0.493333333333\n",
        "sample coeffs:  [ 704.15618896  144.00856018  122.83820343   63.58757019 -441.5453186\n",
        "  726.36322021  585.35595703  559.99377441 -199.01554871  373.27850342\n",
        "   13.1875248   322.95349121  224.68878174   73.15166473  243.30513\n",
        "   10.82710361  -44.24309158  171.41917419    9.0969162  -192.33862305\n",
        "    5.14708948   56.41804504   88.45709991   92.54690552   38.32962799\n",
        "  143.24559021 -110.49520111   70.20275116 -146.52206421  112.28339386\n",
        " -114.54538727  -14.18729591]\n"
       ]
      }
     ],
     "prompt_number": 12
    },
    {
     "cell_type": "markdown",
     "metadata": {},
     "source": [
      "### Save HOG features"
     ]
    },
    {
     "cell_type": "code",
     "collapsed": false,
     "input": [
      "train_imgs, train_lbls = [], []\n",
      "valid_imgs, valid_lbls = [], []\n",
      "test_imgs, test_lbls = [], []\n",
      "\n",
      "for imname in train_imnames:\n",
      "    path = os.path.join(imgs_dir,imname)\n",
      "    img = cv2.imread(path, cv2.CV_LOAD_IMAGE_GRAYSCALE)\n",
      "    img = cv2.resize(img, (80,48))\n",
      "    coeffs = hog(img/255.0, orientations=9, pixels_per_cell=(8, 8), cells_per_block=(1, 1), visualise=False)\n",
      "    train_imgs.append(np.array(coeffs).astype(np.float32))\n",
      "    train_lbls.append(0 if \"nolock\" in imname else 1)\n",
      "\n",
      "for imname in valid_imnames:\n",
      "    path = os.path.join(imgs_dir,imname)\n",
      "    img = cv2.imread(path, cv2.CV_LOAD_IMAGE_GRAYSCALE)\n",
      "    img = cv2.resize(img, (80,48))\n",
      "    coeffs = hog(img/255.0, orientations=9, pixels_per_cell=(8, 8), cells_per_block=(1, 1), visualise=False)\n",
      "    valid_imgs.append(np.array(coeffs).astype(np.float32))\n",
      "    valid_lbls.append(0 if \"nolock\" in imname else 1)\n",
      "    \n",
      "for imname in test_imnames:\n",
      "    path = os.path.join(imgs_dir,imname)\n",
      "    img = cv2.imread(path, cv2.CV_LOAD_IMAGE_GRAYSCALE)\n",
      "    img = cv2.resize(img, (80,48))\n",
      "    coeffs = hog(img/255.0, orientations=9, pixels_per_cell=(8, 8), cells_per_block=(1, 1), visualise=False)\n",
      "    test_imgs.append(np.array(coeffs).astype(np.float32))\n",
      "    test_lbls.append(0 if \"nolock\" in imname else 1)\n",
      "    \n",
      "train_set = [np.array(train_imgs), np.array(train_lbls).astype(np.int64)]\n",
      "valid_set = [np.array(valid_imgs), np.array(valid_lbls).astype(np.int64)]\n",
      "test_set= [np.array(test_imgs), np.array(test_lbls).astype(np.int64)]\n",
      "\n",
      "print train_set[0].shape, train_set[1].shape"
     ],
     "language": "python",
     "metadata": {},
     "outputs": [
      {
       "output_type": "stream",
       "stream": "stdout",
       "text": [
        "(372L, 540L) (372L,)\n"
       ]
      }
     ],
     "prompt_number": 8
    },
    {
     "cell_type": "markdown",
     "metadata": {},
     "source": [
      "### Pickle the training, validation, and test sets"
     ]
    },
    {
     "cell_type": "code",
     "collapsed": false,
     "input": [
      "f = file('eyes_hog.save', 'wb')\n",
      "cPickle.dump([train_set, valid_set, test_set], f, protocol=cPickle.HIGHEST_PROTOCOL)\n",
      "f.close()"
     ],
     "language": "python",
     "metadata": {},
     "outputs": [],
     "prompt_number": 9
    }
   ],
   "metadata": {}
  }
 ]
}