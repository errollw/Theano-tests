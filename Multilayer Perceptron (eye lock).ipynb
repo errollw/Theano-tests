{
 "metadata": {
  "name": "",
  "signature": "sha256:1d4dc306f9dbda69d58623957e84910d0b4907163e6531615af0772402c4eac7"
 },
 "nbformat": 3,
 "nbformat_minor": 0,
 "worksheets": [
  {
   "cells": [
    {
     "cell_type": "code",
     "collapsed": false,
     "input": [
      "import pylab\n",
      "import numpy\n",
      "\n",
      "from mlp import test_mlp\n",
      "from hinton import hinton "
     ],
     "language": "python",
     "metadata": {},
     "outputs": [],
     "prompt_number": 5
    },
    {
     "cell_type": "markdown",
     "metadata": {},
     "source": [
      "### Train MLP with pose and without"
     ]
    },
    {
     "cell_type": "code",
     "collapsed": false,
     "input": [
      "saved_weights_nopose = []\n",
      "mlp_nopose = test_mlp(learning_rate=0.01, L1_reg=0.00, L2_reg=0.001, n_epochs=1000,\n",
      "         dataset='eyes_nopose_PCs.save', batch_size=20, n_hidden=100, n_in=22, n_out=2, saved_weights=saved_weights_nopose)"
     ],
     "language": "python",
     "metadata": {},
     "outputs": [
      {
       "output_type": "stream",
       "stream": "stdout",
       "text": [
        "... loading data\n",
        "... building the model\n",
        "... training"
       ]
      },
      {
       "output_type": "stream",
       "stream": "stdout",
       "text": [
        "\n",
        "epoch 1, minibatch 44/44, validation error 9.000000 %\n",
        "     epoch 1, minibatch 44/44, test error of best model 9.500000 %\n",
        "epoch 2, minibatch 44/44, validation error 9.500000 %\n",
        "epoch 3, minibatch 44/44, validation error 9.500000 %\n",
        "epoch 4, minibatch 44/44, validation error 9.000000 %"
       ]
      },
      {
       "output_type": "stream",
       "stream": "stdout",
       "text": [
        "\n",
        "epoch 5, minibatch 44/44, validation error 7.500000 %\n",
        "     epoch 5, minibatch 44/44, test error of best model 7.500000 %\n",
        "epoch 6, minibatch 44/44, validation error 7.500000 %\n",
        "epoch 7, minibatch 44/44, validation error 7.500000 %\n",
        "epoch 8, minibatch 44/44, validation error 7.500000 %\n",
        "epoch 9, minibatch 44/44, validation error 7.500000 %\n",
        "epoch 10, minibatch 44/44, validation error 7.500000 %"
       ]
      },
      {
       "output_type": "stream",
       "stream": "stdout",
       "text": [
        "\n",
        "epoch 11, minibatch 44/44, validation error 7.500000 %\n",
        "epoch 12, minibatch 44/44, validation error 7.500000 %\n",
        "epoch 13, minibatch 44/44, validation error 7.500000 %\n",
        "epoch 14, minibatch 44/44, validation error 7.500000 %\n",
        "epoch 15, minibatch 44/44, validation error 7.500000 %\n",
        "epoch 16, minibatch 44/44, validation error 7.000000 %"
       ]
      },
      {
       "output_type": "stream",
       "stream": "stdout",
       "text": [
        "\n",
        "     epoch 16, minibatch 44/44, test error of best model 7.500000 %\n",
        "epoch 17, minibatch 44/44, validation error 7.000000 %\n",
        "epoch 18, minibatch 44/44, validation error 7.000000 %\n",
        "epoch 19, minibatch 44/44, validation error 7.000000 %\n",
        "epoch 20, minibatch 44/44, validation error 7.000000 %\n",
        "epoch 21, minibatch 44/44, validation error 7.000000 %\n",
        "epoch 22, minibatch 44/44, validation error 7.000000 %"
       ]
      },
      {
       "output_type": "stream",
       "stream": "stdout",
       "text": [
        "\n",
        "epoch 23, minibatch 44/44, validation error 7.000000 %\n",
        "epoch 24, minibatch 44/44, validation error 7.000000 %\n",
        "epoch 25, minibatch 44/44, validation error 6.000000 %\n",
        "     epoch 25, minibatch 44/44, test error of best model 8.000000 %\n",
        "epoch 26, minibatch 44/44, validation error 6.000000 %\n",
        "epoch 27, minibatch 44/44, validation error 6.000000 %\n",
        "epoch 28, minibatch 44/44, validation error 6.000000 %"
       ]
      },
      {
       "output_type": "stream",
       "stream": "stdout",
       "text": [
        "\n",
        "epoch 29, minibatch 44/44, validation error 6.000000 %\n",
        "epoch 30, minibatch 44/44, validation error 6.000000 %\n",
        "epoch 31, minibatch 44/44, validation error 6.000000 %\n",
        "epoch 32, minibatch 44/44, validation error 6.000000 %\n",
        "epoch 33, minibatch 44/44, validation error 6.000000 %\n",
        "epoch 34, minibatch 44/44, validation error 6.000000 %"
       ]
      },
      {
       "output_type": "stream",
       "stream": "stdout",
       "text": [
        "\n",
        "epoch 35, minibatch 44/44, validation error 6.000000 %\n",
        "epoch 36, minibatch 44/44, validation error 6.000000 %\n",
        "epoch 37, minibatch 44/44, validation error 6.000000 %\n",
        "epoch 38, minibatch 44/44, validation error 6.000000 %\n",
        "epoch 39, minibatch 44/44, validation error 6.000000 %\n",
        "epoch 40, minibatch 44/44, validation error 6.000000 %\n",
        "epoch 41, minibatch 44/44, validation error 6.000000 %"
       ]
      },
      {
       "output_type": "stream",
       "stream": "stdout",
       "text": [
        "\n",
        "epoch 42, minibatch 44/44, validation error 6.000000 %\n",
        "epoch 43, minibatch 44/44, validation error 6.000000 %\n",
        "epoch 44, minibatch 44/44, validation error 6.000000 %\n",
        "epoch 45, minibatch 44/44, validation error 6.000000 %\n",
        "epoch 46, minibatch 44/44, validation error 5.500000 %\n",
        "     epoch 46, minibatch 44/44, test error of best model 7.500000 %\n",
        "epoch 47, minibatch 44/44, validation error 5.500000 %\n",
        "epoch 48, minibatch 44/44, validation error 5.500000 %"
       ]
      },
      {
       "output_type": "stream",
       "stream": "stdout",
       "text": [
        "\n",
        "epoch 49, minibatch 44/44, validation error 5.500000 %\n",
        "epoch 50, minibatch 44/44, validation error 5.500000 %\n",
        "epoch 51, minibatch 44/44, validation error 5.500000 %\n",
        "epoch 52, minibatch 44/44, validation error 5.500000 %\n",
        "epoch 53, minibatch 44/44, validation error 5.500000 %\n",
        "epoch 54, minibatch 44/44, validation error 5.500000 %"
       ]
      },
      {
       "output_type": "stream",
       "stream": "stdout",
       "text": [
        "\n",
        "epoch 55, minibatch 44/44, validation error 5.500000 %\n",
        "epoch 56, minibatch 44/44, validation error 5.500000 %\n",
        "epoch 57, minibatch 44/44, validation error 5.500000 %\n",
        "epoch 58, minibatch 44/44, validation error 5.500000 %\n",
        "epoch 59, minibatch 44/44, validation error 5.500000 %\n",
        "epoch 60, minibatch 44/44, validation error 5.500000 %\n",
        "epoch 61, minibatch 44/44, validation error 5.500000 %"
       ]
      },
      {
       "output_type": "stream",
       "stream": "stdout",
       "text": [
        "\n",
        "epoch 62, minibatch 44/44, validation error 5.000000 %\n",
        "     epoch 62, minibatch 44/44, test error of best model 6.000000 %\n",
        "epoch 63, minibatch 44/44, validation error 5.000000 %\n",
        "epoch 64, minibatch 44/44, validation error 5.000000 %\n",
        "epoch 65, minibatch 44/44, validation error 5.000000 %\n",
        "epoch 66, minibatch 44/44, validation error 5.000000 %\n",
        "epoch 67, minibatch 44/44, validation error 5.000000 %"
       ]
      },
      {
       "output_type": "stream",
       "stream": "stdout",
       "text": [
        "\n",
        "epoch 68, minibatch 44/44, validation error 5.000000 %\n",
        "epoch 69, minibatch 44/44, validation error 5.000000 %\n",
        "epoch 70, minibatch 44/44, validation error 5.000000 %\n",
        "epoch 71, minibatch 44/44, validation error 5.000000 %\n",
        "epoch 72, minibatch 44/44, validation error 5.000000 %\n",
        "epoch 73, minibatch 44/44, validation error 5.000000 %\n",
        "epoch 74, minibatch 44/44, validation error 5.000000 %"
       ]
      },
      {
       "output_type": "stream",
       "stream": "stdout",
       "text": [
        "\n",
        "epoch 75, minibatch 44/44, validation error 5.000000 %\n",
        "epoch 76, minibatch 44/44, validation error 5.000000 %\n",
        "epoch 77, minibatch 44/44, validation error 5.000000 %\n",
        "epoch 78, minibatch 44/44, validation error 5.000000 %\n",
        "epoch 79, minibatch 44/44, validation error 5.000000 %\n",
        "epoch 80, minibatch 44/44, validation error 5.000000 %"
       ]
      },
      {
       "output_type": "stream",
       "stream": "stdout",
       "text": [
        "\n",
        "epoch 81, minibatch 44/44, validation error 5.000000 %\n",
        "epoch 82, minibatch 44/44, validation error 5.000000 %\n",
        "epoch 83, minibatch 44/44, validation error 5.000000 %\n",
        "epoch 84, minibatch 44/44, validation error 5.000000 %\n",
        "epoch 85, minibatch 44/44, validation error 5.000000 %\n",
        "epoch 86, minibatch 44/44, validation error 5.000000 %"
       ]
      },
      {
       "output_type": "stream",
       "stream": "stdout",
       "text": [
        "\n",
        "epoch 87, minibatch 44/44, validation error 5.000000 %\n",
        "epoch 88, minibatch 44/44, validation error 5.000000 %\n",
        "epoch 89, minibatch 44/44, validation error 5.000000 %\n",
        "epoch 90, minibatch 44/44, validation error 5.000000 %\n",
        "epoch 91, minibatch 44/44, validation error 5.000000 %\n",
        "epoch 92, minibatch 44/44, validation error 5.000000 %\n",
        "epoch 93, minibatch 44/44, validation error 5.000000 %"
       ]
      },
      {
       "output_type": "stream",
       "stream": "stdout",
       "text": [
        "\n",
        "epoch 94, minibatch 44/44, validation error 5.000000 %\n",
        "epoch 95, minibatch 44/44, validation error 5.000000 %\n",
        "epoch 96, minibatch 44/44, validation error 5.000000 %\n",
        "epoch 97, minibatch 44/44, validation error 5.000000 %\n",
        "epoch 98, minibatch 44/44, validation error 5.000000 %\n",
        "epoch 99, minibatch 44/44, validation error 5.000000 %"
       ]
      },
      {
       "output_type": "stream",
       "stream": "stdout",
       "text": [
        "\n",
        "epoch 100, minibatch 44/44, validation error 5.000000 %\n",
        "epoch 101, minibatch 44/44, validation error 5.000000 %\n",
        "epoch 102, minibatch 44/44, validation error 5.000000 %\n",
        "epoch 103, minibatch 44/44, validation error 5.000000 %\n",
        "epoch 104, minibatch 44/44, validation error 5.000000 %\n",
        "epoch 105, minibatch 44/44, validation error 5.000000 %"
       ]
      },
      {
       "output_type": "stream",
       "stream": "stdout",
       "text": [
        "\n",
        "epoch 106, minibatch 44/44, validation error 5.000000 %\n",
        "epoch 107, minibatch 44/44, validation error 5.000000 %\n",
        "epoch 108, minibatch 44/44, validation error 5.000000 %\n",
        "epoch 109, minibatch 44/44, validation error 5.000000 %\n",
        "epoch 110, minibatch 44/44, validation error 5.000000 %\n",
        "epoch 111, minibatch 44/44, validation error 5.000000 %"
       ]
      },
      {
       "output_type": "stream",
       "stream": "stdout",
       "text": [
        "\n",
        "epoch 112, minibatch 44/44, validation error 5.000000 %\n",
        "epoch 113, minibatch 44/44, validation error 5.000000 %\n",
        "epoch 114, minibatch 44/44, validation error 5.000000 %\n",
        "epoch 115, minibatch 44/44, validation error 5.000000 %\n",
        "epoch 116, minibatch 44/44, validation error 5.000000 %"
       ]
      },
      {
       "output_type": "stream",
       "stream": "stdout",
       "text": [
        "\n",
        "epoch 117, minibatch 44/44, validation error 5.000000 %\n",
        "epoch 118, minibatch 44/44, validation error 5.000000 %\n",
        "epoch 119, minibatch 44/44, validation error 5.000000 %\n",
        "epoch 120, minibatch 44/44, validation error 5.000000 %\n",
        "epoch 121, minibatch 44/44, validation error 5.000000 %\n",
        "epoch 122, minibatch 44/44, validation error 5.000000 %"
       ]
      },
      {
       "output_type": "stream",
       "stream": "stdout",
       "text": [
        "\n",
        "epoch 123, minibatch 44/44, validation error 5.000000 %\n",
        "epoch 124, minibatch 44/44, validation error 5.000000 %\n",
        "epoch 125, minibatch 44/44, validation error 5.000000 %\n",
        "epoch 126, minibatch 44/44, validation error 5.000000 %"
       ]
      },
      {
       "output_type": "stream",
       "stream": "stdout",
       "text": [
        "\n",
        "epoch 127, minibatch 44/44, validation error 5.000000 %\n",
        "epoch 128, minibatch 44/44, validation error 5.000000 %\n",
        "epoch 129, minibatch 44/44, validation error 5.000000 %\n",
        "epoch 130, minibatch 44/44, validation error 5.000000 %\n",
        "epoch 131, minibatch 44/44, validation error 5.000000 %"
       ]
      },
      {
       "output_type": "stream",
       "stream": "stdout",
       "text": [
        "\n",
        "epoch 132, minibatch 44/44, validation error 5.000000 %\n",
        "epoch 133, minibatch 44/44, validation error 5.000000 %\n",
        "epoch 134, minibatch 44/44, validation error 5.000000 %\n",
        "epoch 135, minibatch 44/44, validation error 5.000000 %\n",
        "epoch 136, minibatch 44/44, validation error 5.000000 %\n",
        "epoch 137, minibatch 44/44, validation error 5.000000 %"
       ]
      },
      {
       "output_type": "stream",
       "stream": "stdout",
       "text": [
        "\n",
        "epoch 138, minibatch 44/44, validation error 5.000000 %\n",
        "epoch 139, minibatch 44/44, validation error 5.000000 %\n",
        "epoch 140, minibatch 44/44, validation error 5.000000 %\n",
        "epoch 141, minibatch 44/44, validation error 5.000000 %\n",
        "epoch 142, minibatch 44/44, validation error 5.000000 %\n",
        "epoch 143, minibatch 44/44, validation error 5.000000 %"
       ]
      },
      {
       "output_type": "stream",
       "stream": "stdout",
       "text": [
        "\n",
        "epoch 144, minibatch 44/44, validation error 5.000000 %\n",
        "epoch 145, minibatch 44/44, validation error 5.000000 %\n",
        "epoch 146, minibatch 44/44, validation error 5.000000 %\n",
        "epoch 147, minibatch 44/44, validation error 5.000000 %\n",
        "epoch 148, minibatch 44/44, validation error 5.000000 %\n",
        "epoch 149, minibatch 44/44, validation error 5.000000 %"
       ]
      },
      {
       "output_type": "stream",
       "stream": "stdout",
       "text": [
        "\n",
        "epoch 150, minibatch 44/44, validation error 5.000000 %\n",
        "epoch 151, minibatch 44/44, validation error 5.000000 %\n",
        "epoch 152, minibatch 44/44, validation error 5.000000 %\n",
        "epoch 153, minibatch 44/44, validation error 5.000000 %\n",
        "epoch 154, minibatch 44/44, validation error 5.000000 %\n",
        "epoch 155, minibatch 44/44, validation error 5.000000 %"
       ]
      },
      {
       "output_type": "stream",
       "stream": "stdout",
       "text": [
        "\n",
        "epoch 156, minibatch 44/44, validation error 5.000000 %\n",
        "epoch 157, minibatch 44/44, validation error 5.000000 %\n",
        "epoch 158, minibatch 44/44, validation error 5.000000 %\n",
        "epoch 159, minibatch 44/44, validation error 5.000000 %\n",
        "epoch 160, minibatch 44/44, validation error 5.000000 %\n",
        "epoch 161, minibatch 44/44, validation error 5.000000 %"
       ]
      },
      {
       "output_type": "stream",
       "stream": "stdout",
       "text": [
        "\n",
        "epoch 162, minibatch 44/44, validation error 5.000000 %\n",
        "epoch 163, minibatch 44/44, validation error 5.000000 %\n",
        "epoch 164, minibatch 44/44, validation error 5.000000 %\n",
        "epoch 165, minibatch 44/44, validation error 5.000000 %\n",
        "epoch 166, minibatch 44/44, validation error 5.000000 %"
       ]
      },
      {
       "output_type": "stream",
       "stream": "stdout",
       "text": [
        "\n",
        "epoch 167, minibatch 44/44, validation error 5.000000 %\n",
        "epoch 168, minibatch 44/44, validation error 5.000000 %\n",
        "epoch 169, minibatch 44/44, validation error 5.000000 %\n",
        "epoch 170, minibatch 44/44, validation error 5.000000 %\n",
        "epoch 171, minibatch 44/44, validation error 5.000000 %\n",
        "epoch 172, minibatch 44/44, validation error 5.000000 %"
       ]
      },
      {
       "output_type": "stream",
       "stream": "stdout",
       "text": [
        "\n",
        "epoch 173, minibatch 44/44, validation error 5.000000 %\n",
        "epoch 174, minibatch 44/44, validation error 5.000000 %\n",
        "epoch 175, minibatch 44/44, validation error 5.000000 %\n",
        "epoch 176, minibatch 44/44, validation error 5.000000 %\n",
        "epoch 177, minibatch 44/44, validation error 5.000000 %"
       ]
      },
      {
       "output_type": "stream",
       "stream": "stdout",
       "text": [
        "\n",
        "epoch 178, minibatch 44/44, validation error 5.000000 %\n",
        "epoch 179, minibatch 44/44, validation error 5.000000 %\n",
        "epoch 180, minibatch 44/44, validation error 4.500000 %\n",
        "     epoch 180, minibatch 44/44, test error of best model 5.000000 %\n",
        "epoch 181, minibatch 44/44, validation error 4.500000 %\n",
        "epoch 182, minibatch 44/44, validation error 4.000000 %\n",
        "     epoch 182, minibatch 44/44, test error of best model 5.000000 %\n",
        "epoch 183, minibatch 44/44, validation error 4.000000 %"
       ]
      },
      {
       "output_type": "stream",
       "stream": "stdout",
       "text": [
        "\n",
        "epoch 184, minibatch 44/44, validation error 4.500000 %\n",
        "epoch 185, minibatch 44/44, validation error 4.500000 %\n",
        "epoch 186, minibatch 44/44, validation error 4.500000 %\n",
        "epoch 187, minibatch 44/44, validation error 4.500000 %\n",
        "epoch 188, minibatch 44/44, validation error 4.500000 %\n",
        "epoch 189, minibatch 44/44, validation error 4.500000 %\n",
        "epoch 190, minibatch 44/44, validation error 4.500000 %"
       ]
      },
      {
       "output_type": "stream",
       "stream": "stdout",
       "text": [
        "\n",
        "epoch 191, minibatch 44/44, validation error 4.500000 %\n",
        "epoch 192, minibatch 44/44, validation error 4.500000 %\n",
        "epoch 193, minibatch 44/44, validation error 4.500000 %\n",
        "epoch 194, minibatch 44/44, validation error 4.500000 %\n",
        "epoch 195, minibatch 44/44, validation error 4.500000 %\n",
        "epoch 196, minibatch 44/44, validation error 4.500000 %"
       ]
      },
      {
       "output_type": "stream",
       "stream": "stdout",
       "text": [
        "\n",
        "epoch 197, minibatch 44/44, validation error 4.500000 %\n",
        "epoch 198, minibatch 44/44, validation error 4.500000 %\n",
        "epoch 199, minibatch 44/44, validation error 4.500000 %\n",
        "epoch 200, minibatch 44/44, validation error 4.500000 %\n",
        "epoch 201, minibatch 44/44, validation error 4.500000 %\n",
        "epoch 202, minibatch 44/44, validation error 4.500000 %"
       ]
      },
      {
       "output_type": "stream",
       "stream": "stdout",
       "text": [
        "\n",
        "epoch 203, minibatch 44/44, validation error 4.500000 %\n",
        "epoch 204, minibatch 44/44, validation error 4.500000 %\n",
        "epoch 205, minibatch 44/44, validation error 4.500000 %\n",
        "epoch 206, minibatch 44/44, validation error 4.500000 %\n",
        "epoch 207, minibatch 44/44, validation error 4.500000 %\n",
        "epoch 208, minibatch 44/44, validation error 4.500000 %\n",
        "epoch 209, minibatch 44/44, validation error 4.500000 %"
       ]
      },
      {
       "output_type": "stream",
       "stream": "stdout",
       "text": [
        "\n",
        "epoch 210, minibatch 44/44, validation error 4.500000 %\n",
        "epoch 211, minibatch 44/44, validation error 4.500000 %\n",
        "epoch 212, minibatch 44/44, validation error 4.500000 %\n",
        "epoch 213, minibatch 44/44, validation error 4.500000 %\n",
        "epoch 214, minibatch 44/44, validation error 4.500000 %\n",
        "epoch 215, minibatch 44/44, validation error 4.500000 %"
       ]
      },
      {
       "output_type": "stream",
       "stream": "stdout",
       "text": [
        "\n",
        "epoch 216, minibatch 44/44, validation error 4.500000 %\n",
        "epoch 217, minibatch 44/44, validation error 4.500000 %\n",
        "epoch 218, minibatch 44/44, validation error 4.500000 %\n",
        "epoch 219, minibatch 44/44, validation error 4.500000 %\n",
        "epoch 220, minibatch 44/44, validation error 4.500000 %"
       ]
      },
      {
       "output_type": "stream",
       "stream": "stdout",
       "text": [
        "\n",
        "epoch 221, minibatch 44/44, validation error 4.500000 %\n",
        "epoch 222, minibatch 44/44, validation error 4.500000 %\n",
        "epoch 223, minibatch 44/44, validation error 4.500000 %\n",
        "epoch 224, minibatch 44/44, validation error 4.500000 %\n",
        "epoch 225, minibatch 44/44, validation error 4.500000 %\n",
        "epoch 226, minibatch 44/44, validation error 4.500000 %"
       ]
      },
      {
       "output_type": "stream",
       "stream": "stdout",
       "text": [
        "\n",
        "epoch 227, minibatch 44/44, validation error 4.500000 %\n",
        "epoch 228, minibatch 44/44, validation error 4.500000 %\n",
        "epoch 229, minibatch 44/44, validation error 4.500000 %\n",
        "epoch 230, minibatch 44/44, validation error 4.500000 %\n",
        "epoch 231, minibatch 44/44, validation error 4.500000 %\n",
        "epoch 232, minibatch 44/44, validation error 4.500000 %"
       ]
      },
      {
       "output_type": "stream",
       "stream": "stdout",
       "text": [
        "\n",
        "epoch 233, minibatch 44/44, validation error 4.500000 %\n",
        "epoch 234, minibatch 44/44, validation error 4.500000 %\n",
        "epoch 235, minibatch 44/44, validation error 4.500000 %\n",
        "epoch 236, minibatch 44/44, validation error 4.500000 %\n",
        "epoch 237, minibatch 44/44, validation error 4.500000 %\n",
        "epoch 238, minibatch 44/44, validation error 4.500000 %"
       ]
      },
      {
       "output_type": "stream",
       "stream": "stdout",
       "text": [
        "\n",
        "epoch 239, minibatch 44/44, validation error 4.500000 %\n",
        "epoch 240, minibatch 44/44, validation error 4.500000 %\n",
        "epoch 241, minibatch 44/44, validation error 4.500000 %\n",
        "epoch 242, minibatch 44/44, validation error 4.500000 %\n",
        "epoch 243, minibatch 44/44, validation error 4.500000 %\n",
        "epoch 244, minibatch 44/44, validation error 4.500000 %\n",
        "epoch 245, minibatch 44/44, validation error 4.500000 %"
       ]
      },
      {
       "output_type": "stream",
       "stream": "stdout",
       "text": [
        "\n",
        "epoch 246, minibatch 44/44, validation error 4.500000 %\n",
        "epoch 247, minibatch 44/44, validation error 4.500000 %\n",
        "epoch 248, minibatch 44/44, validation error 4.500000 %\n",
        "epoch 249, minibatch 44/44, validation error 4.500000 %\n",
        "epoch 250, minibatch 44/44, validation error 4.500000 %\n",
        "epoch 251, minibatch 44/44, validation error 4.500000 %"
       ]
      },
      {
       "output_type": "stream",
       "stream": "stdout",
       "text": [
        "\n",
        "epoch 252, minibatch 44/44, validation error 4.500000 %\n",
        "epoch 253, minibatch 44/44, validation error 4.500000 %\n",
        "epoch 254, minibatch 44/44, validation error 4.500000 %\n",
        "epoch 255, minibatch 44/44, validation error 4.500000 %\n",
        "epoch 256, minibatch 44/44, validation error 4.500000 %\n",
        "epoch 257, minibatch 44/44, validation error 4.500000 %"
       ]
      },
      {
       "output_type": "stream",
       "stream": "stdout",
       "text": [
        "\n",
        "epoch 258, minibatch 44/44, validation error 4.500000 %\n",
        "epoch 259, minibatch 44/44, validation error 4.500000 %\n",
        "epoch 260, minibatch 44/44, validation error 4.500000 %\n",
        "epoch 261, minibatch 44/44, validation error 4.500000 %\n",
        "epoch 262, minibatch 44/44, validation error 4.500000 %"
       ]
      },
      {
       "output_type": "stream",
       "stream": "stdout",
       "text": [
        "\n",
        "epoch 263, minibatch 44/44, validation error 4.500000 %\n",
        "epoch 264, minibatch 44/44, validation error 4.500000 %\n",
        "epoch 265, minibatch 44/44, validation error 4.500000 %\n",
        "epoch 266, minibatch 44/44, validation error 4.500000 %\n",
        "epoch 267, minibatch 44/44, validation error 4.500000 %\n",
        "epoch 268, minibatch 44/44, validation error 4.500000 %"
       ]
      },
      {
       "output_type": "stream",
       "stream": "stdout",
       "text": [
        "\n",
        "epoch 269, minibatch 44/44, validation error 4.500000 %\n",
        "epoch 270, minibatch 44/44, validation error 4.500000 %\n",
        "epoch 271, minibatch 44/44, validation error 4.500000 %\n",
        "epoch 272, minibatch 44/44, validation error 4.500000 %\n",
        "epoch 273, minibatch 44/44, validation error 4.500000 %\n",
        "epoch 274, minibatch 44/44, validation error 4.500000 %\n",
        "epoch 275, minibatch 44/44, validation error 4.500000 %"
       ]
      },
      {
       "output_type": "stream",
       "stream": "stdout",
       "text": [
        "\n",
        "epoch 276, minibatch 44/44, validation error 4.500000 %\n",
        "epoch 277, minibatch 44/44, validation error 4.500000 %\n",
        "epoch 278, minibatch 44/44, validation error 4.500000 %\n",
        "epoch 279, minibatch 44/44, validation error 4.500000 %\n",
        "epoch 280, minibatch 44/44, validation error 4.500000 %\n",
        "epoch 281, minibatch 44/44, validation error 4.500000 %"
       ]
      },
      {
       "output_type": "stream",
       "stream": "stdout",
       "text": [
        "\n",
        "epoch 282, minibatch 44/44, validation error 4.500000 %\n",
        "epoch 283, minibatch 44/44, validation error 4.500000 %\n",
        "epoch 284, minibatch 44/44, validation error 4.000000 %\n",
        "epoch 285, minibatch 44/44, validation error 4.000000 %\n",
        "epoch 286, minibatch 44/44, validation error 4.000000 %\n",
        "epoch 287, minibatch 44/44, validation error 4.000000 %"
       ]
      },
      {
       "output_type": "stream",
       "stream": "stdout",
       "text": [
        "\n",
        "epoch 288, minibatch 44/44, validation error 4.000000 %\n",
        "epoch 289, minibatch 44/44, validation error 4.000000 %\n",
        "epoch 290, minibatch 44/44, validation error 3.500000 %\n",
        "     epoch 290, minibatch 44/44, test error of best model 3.500000 %\n",
        "epoch 291, minibatch 44/44, validation error 3.500000 %\n",
        "epoch 292, minibatch 44/44, validation error 3.500000 %\n",
        "epoch 293, minibatch 44/44, validation error 3.500000 %"
       ]
      },
      {
       "output_type": "stream",
       "stream": "stdout",
       "text": [
        "\n",
        "epoch 294, minibatch 44/44, validation error 3.500000 %\n",
        "epoch 295, minibatch 44/44, validation error 3.500000 %\n",
        "epoch 296, minibatch 44/44, validation error 3.500000 %\n",
        "epoch 297, minibatch 44/44, validation error 3.500000 %\n",
        "epoch 298, minibatch 44/44, validation error 3.500000 %\n",
        "epoch 299, minibatch 44/44, validation error 3.500000 %"
       ]
      },
      {
       "output_type": "stream",
       "stream": "stdout",
       "text": [
        "\n",
        "epoch 300, minibatch 44/44, validation error 3.500000 %\n",
        "epoch 301, minibatch 44/44, validation error 3.500000 %\n",
        "epoch 302, minibatch 44/44, validation error 3.500000 %\n",
        "epoch 303, minibatch 44/44, validation error 3.500000 %\n",
        "epoch 304, minibatch 44/44, validation error 3.500000 %\n",
        "epoch 305, minibatch 44/44, validation error 3.500000 %"
       ]
      },
      {
       "output_type": "stream",
       "stream": "stdout",
       "text": [
        "\n",
        "epoch 306, minibatch 44/44, validation error 3.500000 %\n",
        "epoch 307, minibatch 44/44, validation error 3.000000 %\n",
        "     epoch 307, minibatch 44/44, test error of best model 3.500000 %\n",
        "epoch 308, minibatch 44/44, validation error 3.000000 %\n",
        "epoch 309, minibatch 44/44, validation error 3.000000 %\n",
        "epoch 310, minibatch 44/44, validation error 3.000000 %"
       ]
      },
      {
       "output_type": "stream",
       "stream": "stdout",
       "text": [
        "\n",
        "epoch 311, minibatch 44/44, validation error 3.000000 %\n",
        "epoch 312, minibatch 44/44, validation error 3.000000 %\n",
        "epoch 313, minibatch 44/44, validation error 3.000000 %\n",
        "epoch 314, minibatch 44/44, validation error 3.000000 %\n",
        "epoch 315, minibatch 44/44, validation error 3.000000 %\n",
        "epoch 316, minibatch 44/44, validation error 3.000000 %"
       ]
      },
      {
       "output_type": "stream",
       "stream": "stdout",
       "text": [
        "\n",
        "epoch 317, minibatch 44/44, validation error 3.000000 %\n",
        "epoch 318, minibatch 44/44, validation error 3.000000 %\n",
        "epoch 319, minibatch 44/44, validation error 3.000000 %\n",
        "epoch 320, minibatch 44/44, validation error 3.000000 %\n",
        "epoch 321, minibatch 44/44, validation error 3.000000 %"
       ]
      },
      {
       "output_type": "stream",
       "stream": "stdout",
       "text": [
        "\n",
        "epoch 322, minibatch 44/44, validation error 3.000000 %\n",
        "epoch 323, minibatch 44/44, validation error 3.000000 %\n",
        "epoch 324, minibatch 44/44, validation error 3.000000 %\n",
        "epoch 325, minibatch 44/44, validation error 3.000000 %\n",
        "epoch 326, minibatch 44/44, validation error 3.000000 %\n",
        "epoch 327, minibatch 44/44, validation error 3.000000 %"
       ]
      },
      {
       "output_type": "stream",
       "stream": "stdout",
       "text": [
        "\n",
        "epoch 328, minibatch 44/44, validation error 3.000000 %\n",
        "epoch 329, minibatch 44/44, validation error 3.000000 %\n",
        "epoch 330, minibatch 44/44, validation error 3.000000 %\n",
        "epoch 331, minibatch 44/44, validation error 3.000000 %\n",
        "epoch 332, minibatch 44/44, validation error 3.000000 %\n",
        "epoch 333, minibatch 44/44, validation error 3.000000 %"
       ]
      },
      {
       "output_type": "stream",
       "stream": "stdout",
       "text": [
        "\n",
        "epoch 334, minibatch 44/44, validation error 3.000000 %\n",
        "epoch 335, minibatch 44/44, validation error 3.000000 %\n",
        "epoch 336, minibatch 44/44, validation error 3.000000 %\n",
        "epoch 337, minibatch 44/44, validation error 3.000000 %\n",
        "epoch 338, minibatch 44/44, validation error 3.000000 %\n",
        "epoch 339, minibatch 44/44, validation error 3.000000 %"
       ]
      },
      {
       "output_type": "stream",
       "stream": "stdout",
       "text": [
        "\n",
        "epoch 340, minibatch 44/44, validation error 3.000000 %\n",
        "epoch 341, minibatch 44/44, validation error 3.000000 %\n",
        "epoch 342, minibatch 44/44, validation error 3.000000 %\n",
        "epoch 343, minibatch 44/44, validation error 3.000000 %\n",
        "epoch 344, minibatch 44/44, validation error 3.000000 %\n",
        "epoch 345, minibatch 44/44, validation error 3.000000 %\n",
        "epoch 346, minibatch 44/44, validation error 3.000000 %"
       ]
      },
      {
       "output_type": "stream",
       "stream": "stdout",
       "text": [
        "\n",
        "epoch 347, minibatch 44/44, validation error 3.000000 %\n",
        "epoch 348, minibatch 44/44, validation error 3.000000 %\n",
        "epoch 349, minibatch 44/44, validation error 3.000000 %\n",
        "epoch 350, minibatch 44/44, validation error 3.000000 %\n",
        "epoch 351, minibatch 44/44, validation error 3.000000 %\n",
        "epoch 352, minibatch 44/44, validation error 3.000000 %\n",
        "epoch 353, minibatch 44/44, validation error 3.000000 %"
       ]
      },
      {
       "output_type": "stream",
       "stream": "stdout",
       "text": [
        "\n",
        "epoch 354, minibatch 44/44, validation error 3.000000 %\n",
        "epoch 355, minibatch 44/44, validation error 3.000000 %\n",
        "epoch 356, minibatch 44/44, validation error 3.000000 %\n",
        "epoch 357, minibatch 44/44, validation error 3.000000 %\n",
        "epoch 358, minibatch 44/44, validation error 3.000000 %\n",
        "epoch 359, minibatch 44/44, validation error 3.000000 %"
       ]
      },
      {
       "output_type": "stream",
       "stream": "stdout",
       "text": [
        "\n",
        "epoch 360, minibatch 44/44, validation error 3.000000 %\n",
        "epoch 361, minibatch 44/44, validation error 3.000000 %\n",
        "epoch 362, minibatch 44/44, validation error 3.000000 %\n",
        "epoch 363, minibatch 44/44, validation error 3.000000 %\n",
        "epoch 364, minibatch 44/44, validation error 3.000000 %\n",
        "epoch 365, minibatch 44/44, validation error 3.000000 %"
       ]
      },
      {
       "output_type": "stream",
       "stream": "stdout",
       "text": [
        "\n",
        "epoch 366, minibatch 44/44, validation error 3.000000 %\n",
        "epoch 367, minibatch 44/44, validation error 3.000000 %\n",
        "epoch 368, minibatch 44/44, validation error 3.000000 %\n",
        "epoch 369, minibatch 44/44, validation error 3.000000 %\n",
        "epoch 370, minibatch 44/44, validation error 3.000000 %"
       ]
      },
      {
       "output_type": "stream",
       "stream": "stdout",
       "text": [
        "\n",
        "epoch 371, minibatch 44/44, validation error 3.000000 %\n",
        "epoch 372, minibatch 44/44, validation error 3.000000 %\n",
        "epoch 373, minibatch 44/44, validation error 3.000000 %\n",
        "epoch 374, minibatch 44/44, validation error 3.000000 %\n",
        "epoch 375, minibatch 44/44, validation error 3.000000 %\n",
        "epoch 376, minibatch 44/44, validation error 3.000000 %"
       ]
      },
      {
       "output_type": "stream",
       "stream": "stdout",
       "text": [
        "\n",
        "epoch 377, minibatch 44/44, validation error 3.000000 %\n",
        "epoch 378, minibatch 44/44, validation error 3.000000 %\n",
        "epoch 379, minibatch 44/44, validation error 3.000000 %\n",
        "epoch 380, minibatch 44/44, validation error 3.000000 %\n",
        "epoch 381, minibatch 44/44, validation error 3.000000 %\n",
        "epoch 382, minibatch 44/44, validation error 3.000000 %"
       ]
      },
      {
       "output_type": "stream",
       "stream": "stdout",
       "text": [
        "\n",
        "epoch 383, minibatch 44/44, validation error 3.000000 %\n",
        "epoch 384, minibatch 44/44, validation error 3.000000 %\n",
        "epoch 385, minibatch 44/44, validation error 3.000000 %\n",
        "epoch 386, minibatch 44/44, validation error 3.000000 %\n",
        "epoch 387, minibatch 44/44, validation error 3.000000 %"
       ]
      },
      {
       "output_type": "stream",
       "stream": "stdout",
       "text": [
        "\n",
        "epoch 388, minibatch 44/44, validation error 3.000000 %\n",
        "epoch 389, minibatch 44/44, validation error 3.000000 %\n",
        "epoch 390, minibatch 44/44, validation error 3.000000 %\n",
        "epoch 391, minibatch 44/44, validation error 3.000000 %\n",
        "epoch 392, minibatch 44/44, validation error 3.000000 %\n",
        "epoch 393, minibatch 44/44, validation error 3.000000 %\n",
        "epoch 394, minibatch 44/44, validation error 3.000000 %"
       ]
      },
      {
       "output_type": "stream",
       "stream": "stdout",
       "text": [
        "\n",
        "epoch 395, minibatch 44/44, validation error 3.000000 %\n",
        "epoch 396, minibatch 44/44, validation error 3.000000 %\n",
        "epoch 397, minibatch 44/44, validation error 3.000000 %\n",
        "epoch 398, minibatch 44/44, validation error 3.000000 %\n",
        "epoch 399, minibatch 44/44, validation error 2.500000 %\n",
        "     epoch 399, minibatch 44/44, test error of best model 3.000000 %\n",
        "epoch 400, minibatch 44/44, validation error 2.500000 %"
       ]
      },
      {
       "output_type": "stream",
       "stream": "stdout",
       "text": [
        "\n",
        "epoch 401, minibatch 44/44, validation error 2.500000 %\n",
        "epoch 402, minibatch 44/44, validation error 2.500000 %\n",
        "epoch 403, minibatch 44/44, validation error 2.500000 %\n",
        "epoch 404, minibatch 44/44, validation error 2.500000 %\n",
        "epoch 405, minibatch 44/44, validation error 2.500000 %\n",
        "epoch 406, minibatch 44/44, validation error 2.500000 %\n",
        "epoch 407, minibatch 44/44, validation error 2.500000 %"
       ]
      },
      {
       "output_type": "stream",
       "stream": "stdout",
       "text": [
        "\n",
        "epoch 408, minibatch 44/44, validation error 2.500000 %\n",
        "epoch 409, minibatch 44/44, validation error 2.500000 %\n",
        "epoch 410, minibatch 44/44, validation error 2.500000 %\n",
        "epoch 411, minibatch 44/44, validation error 2.500000 %\n",
        "epoch 412, minibatch 44/44, validation error 2.500000 %\n",
        "epoch 413, minibatch 44/44, validation error 2.500000 %\n",
        "epoch 414, minibatch 44/44, validation error 2.500000 %"
       ]
      },
      {
       "output_type": "stream",
       "stream": "stdout",
       "text": [
        "\n",
        "epoch 415, minibatch 44/44, validation error 2.500000 %\n",
        "epoch 416, minibatch 44/44, validation error 2.500000 %\n",
        "epoch 417, minibatch 44/44, validation error 2.500000 %\n",
        "epoch 418, minibatch 44/44, validation error 2.500000 %\n",
        "epoch 419, minibatch 44/44, validation error 2.500000 %\n",
        "epoch 420, minibatch 44/44, validation error 2.500000 %\n",
        "epoch 421, minibatch 44/44, validation error 2.500000 %"
       ]
      },
      {
       "output_type": "stream",
       "stream": "stdout",
       "text": [
        "\n",
        "epoch 422, minibatch 44/44, validation error 2.500000 %\n",
        "epoch 423, minibatch 44/44, validation error 2.500000 %\n",
        "epoch 424, minibatch 44/44, validation error 2.500000 %\n",
        "epoch 425, minibatch 44/44, validation error 2.500000 %\n",
        "epoch 426, minibatch 44/44, validation error 2.500000 %\n",
        "epoch 427, minibatch 44/44, validation error 2.500000 %\n",
        "epoch 428, minibatch 44/44, validation error 2.500000 %"
       ]
      },
      {
       "output_type": "stream",
       "stream": "stdout",
       "text": [
        "\n",
        "epoch 429, minibatch 44/44, validation error 2.500000 %\n",
        "epoch 430, minibatch 44/44, validation error 2.500000 %\n",
        "epoch 431, minibatch 44/44, validation error 2.500000 %\n",
        "epoch 432, minibatch 44/44, validation error 2.500000 %\n",
        "epoch 433, minibatch 44/44, validation error 2.500000 %\n",
        "epoch 434, minibatch 44/44, validation error 2.500000 %\n",
        "epoch 435, minibatch 44/44, validation error 2.500000 %"
       ]
      },
      {
       "output_type": "stream",
       "stream": "stdout",
       "text": [
        "\n",
        "epoch 436, minibatch 44/44, validation error 2.500000 %\n",
        "epoch 437, minibatch 44/44, validation error 2.500000 %\n",
        "epoch 438, minibatch 44/44, validation error 2.500000 %\n",
        "epoch 439, minibatch 44/44, validation error 2.500000 %\n",
        "epoch 440, minibatch 44/44, validation error 2.500000 %\n",
        "epoch 441, minibatch 44/44, validation error 2.500000 %\n",
        "epoch 442, minibatch 44/44, validation error 2.500000 %"
       ]
      },
      {
       "output_type": "stream",
       "stream": "stdout",
       "text": [
        "\n",
        "epoch 443, minibatch 44/44, validation error 2.500000 %\n",
        "epoch 444, minibatch 44/44, validation error 2.500000 %\n",
        "epoch 445, minibatch 44/44, validation error 2.500000 %\n",
        "epoch 446, minibatch 44/44, validation error 2.500000 %\n",
        "epoch 447, minibatch 44/44, validation error 2.500000 %\n",
        "epoch 448, minibatch 44/44, validation error 2.500000 %\n",
        "epoch 449, minibatch 44/44, validation error 2.500000 %"
       ]
      },
      {
       "output_type": "stream",
       "stream": "stdout",
       "text": [
        "\n",
        "epoch 450, minibatch 44/44, validation error 2.500000 %\n",
        "epoch 451, minibatch 44/44, validation error 2.500000 %\n",
        "epoch 452, minibatch 44/44, validation error 2.500000 %\n",
        "epoch 453, minibatch 44/44, validation error 2.500000 %\n",
        "epoch 454, minibatch 44/44, validation error 2.500000 %\n",
        "epoch 455, minibatch 44/44, validation error 2.500000 %\n",
        "epoch 456, minibatch 44/44, validation error 2.500000 %"
       ]
      },
      {
       "output_type": "stream",
       "stream": "stdout",
       "text": [
        "\n",
        "epoch 457, minibatch 44/44, validation error 2.500000 %\n",
        "epoch 458, minibatch 44/44, validation error 2.500000 %\n",
        "epoch 459, minibatch 44/44, validation error 2.500000 %\n",
        "epoch 460, minibatch 44/44, validation error 2.500000 %\n",
        "epoch 461, minibatch 44/44, validation error 2.500000 %\n",
        "epoch 462, minibatch 44/44, validation error 2.500000 %"
       ]
      },
      {
       "output_type": "stream",
       "stream": "stdout",
       "text": [
        "\n",
        "epoch 463, minibatch 44/44, validation error 2.500000 %\n",
        "epoch 464, minibatch 44/44, validation error 2.500000 %\n",
        "epoch 465, minibatch 44/44, validation error 2.500000 %\n",
        "epoch 466, minibatch 44/44, validation error 2.500000 %\n",
        "epoch 467, minibatch 44/44, validation error 2.500000 %\n",
        "epoch 468, minibatch 44/44, validation error 2.500000 %\n",
        "epoch 469, minibatch 44/44, validation error 2.500000 %"
       ]
      },
      {
       "output_type": "stream",
       "stream": "stdout",
       "text": [
        "\n",
        "epoch 470, minibatch 44/44, validation error 2.500000 %\n",
        "epoch 471, minibatch 44/44, validation error 2.500000 %\n",
        "epoch 472, minibatch 44/44, validation error 2.500000 %\n",
        "epoch 473, minibatch 44/44, validation error 2.500000 %\n",
        "epoch 474, minibatch 44/44, validation error 2.500000 %\n",
        "epoch 475, minibatch 44/44, validation error 2.500000 %"
       ]
      },
      {
       "output_type": "stream",
       "stream": "stdout",
       "text": [
        "\n",
        "epoch 476, minibatch 44/44, validation error 2.500000 %\n",
        "epoch 477, minibatch 44/44, validation error 2.500000 %\n",
        "epoch 478, minibatch 44/44, validation error 2.500000 %\n",
        "epoch 479, minibatch 44/44, validation error 2.500000 %\n",
        "epoch 480, minibatch 44/44, validation error 2.500000 %\n",
        "epoch 481, minibatch 44/44, validation error 2.500000 %\n",
        "epoch 482, minibatch 44/44, validation error 2.500000 %"
       ]
      },
      {
       "output_type": "stream",
       "stream": "stdout",
       "text": [
        "\n",
        "epoch 483, minibatch 44/44, validation error 2.500000 %\n",
        "epoch 484, minibatch 44/44, validation error 2.500000 %\n",
        "epoch 485, minibatch 44/44, validation error 2.500000 %\n",
        "epoch 486, minibatch 44/44, validation error 2.500000 %\n",
        "epoch 487, minibatch 44/44, validation error 2.500000 %\n",
        "epoch 488, minibatch 44/44, validation error 2.500000 %\n",
        "epoch 489, minibatch 44/44, validation error 2.500000 %"
       ]
      },
      {
       "output_type": "stream",
       "stream": "stdout",
       "text": [
        "\n",
        "epoch 490, minibatch 44/44, validation error 2.500000 %\n",
        "epoch 491, minibatch 44/44, validation error 2.500000 %\n",
        "epoch 492, minibatch 44/44, validation error 2.500000 %\n",
        "epoch 493, minibatch 44/44, validation error 2.500000 %\n",
        "epoch 494, minibatch 44/44, validation error 2.500000 %\n",
        "epoch 495, minibatch 44/44, validation error 2.500000 %\n",
        "epoch 496, minibatch 44/44, validation error 2.500000 %"
       ]
      },
      {
       "output_type": "stream",
       "stream": "stdout",
       "text": [
        "\n",
        "epoch 497, minibatch 44/44, validation error 2.500000 %\n",
        "epoch 498, minibatch 44/44, validation error 2.500000 %\n",
        "epoch 499, minibatch 44/44, validation error 2.500000 %\n",
        "epoch 500, minibatch 44/44, validation error 2.500000 %\n",
        "epoch 501, minibatch 44/44, validation error 2.000000 %\n",
        "     epoch 501, minibatch 44/44, test error of best model 2.000000 %\n",
        "epoch 502, minibatch 44/44, validation error 2.000000 %"
       ]
      },
      {
       "output_type": "stream",
       "stream": "stdout",
       "text": [
        "\n",
        "epoch 503, minibatch 44/44, validation error 2.000000 %\n",
        "epoch 504, minibatch 44/44, validation error 2.000000 %\n",
        "epoch 505, minibatch 44/44, validation error 2.000000 %\n",
        "epoch 506, minibatch 44/44, validation error 2.000000 %\n",
        "epoch 507, minibatch 44/44, validation error 2.000000 %\n",
        "epoch 508, minibatch 44/44, validation error 2.000000 %"
       ]
      },
      {
       "output_type": "stream",
       "stream": "stdout",
       "text": [
        "\n",
        "epoch 509, minibatch 44/44, validation error 2.000000 %\n",
        "epoch 510, minibatch 44/44, validation error 2.000000 %\n",
        "epoch 511, minibatch 44/44, validation error 2.000000 %\n",
        "epoch 512, minibatch 44/44, validation error 2.000000 %\n",
        "epoch 513, minibatch 44/44, validation error 2.000000 %\n",
        "epoch 514, minibatch 44/44, validation error 2.000000 %"
       ]
      },
      {
       "output_type": "stream",
       "stream": "stdout",
       "text": [
        "\n",
        "epoch 515, minibatch 44/44, validation error 2.000000 %\n",
        "epoch 516, minibatch 44/44, validation error 2.000000 %\n",
        "epoch 517, minibatch 44/44, validation error 2.000000 %\n",
        "epoch 518, minibatch 44/44, validation error 2.000000 %\n",
        "epoch 519, minibatch 44/44, validation error 2.000000 %\n",
        "epoch 520, minibatch 44/44, validation error 2.000000 %\n",
        "epoch 521, minibatch 44/44, validation error 2.000000 %"
       ]
      },
      {
       "output_type": "stream",
       "stream": "stdout",
       "text": [
        "\n",
        "epoch 522, minibatch 44/44, validation error 2.000000 %\n",
        "epoch 523, minibatch 44/44, validation error 2.000000 %\n",
        "epoch 524, minibatch 44/44, validation error 2.000000 %\n",
        "epoch 525, minibatch 44/44, validation error 2.000000 %\n",
        "epoch 526, minibatch 44/44, validation error 2.000000 %\n",
        "epoch 527, minibatch 44/44, validation error 2.000000 %\n",
        "epoch 528, minibatch 44/44, validation error 2.000000 %"
       ]
      },
      {
       "output_type": "stream",
       "stream": "stdout",
       "text": [
        "\n",
        "epoch 529, minibatch 44/44, validation error 2.000000 %\n",
        "epoch 530, minibatch 44/44, validation error 2.000000 %\n",
        "epoch 531, minibatch 44/44, validation error 2.000000 %\n",
        "epoch 532, minibatch 44/44, validation error 2.000000 %\n",
        "epoch 533, minibatch 44/44, validation error 2.000000 %\n",
        "epoch 534, minibatch 44/44, validation error 2.000000 %"
       ]
      },
      {
       "output_type": "stream",
       "stream": "stdout",
       "text": [
        "\n",
        "epoch 535, minibatch 44/44, validation error 2.000000 %\n",
        "epoch 536, minibatch 44/44, validation error 2.000000 %\n",
        "epoch 537, minibatch 44/44, validation error 2.000000 %\n",
        "epoch 538, minibatch 44/44, validation error 2.000000 %\n",
        "epoch 539, minibatch 44/44, validation error 2.000000 %\n",
        "epoch 540, minibatch 44/44, validation error 2.000000 %\n",
        "epoch 541, minibatch 44/44, validation error 2.000000 %"
       ]
      },
      {
       "output_type": "stream",
       "stream": "stdout",
       "text": [
        "\n",
        "epoch 542, minibatch 44/44, validation error 2.000000 %\n",
        "epoch 543, minibatch 44/44, validation error 2.000000 %\n",
        "epoch 544, minibatch 44/44, validation error 2.000000 %\n",
        "epoch 545, minibatch 44/44, validation error 2.000000 %\n",
        "epoch 546, minibatch 44/44, validation error 2.000000 %\n",
        "epoch 547, minibatch 44/44, validation error 2.000000 %\n",
        "epoch 548, minibatch 44/44, validation error 2.000000 %"
       ]
      },
      {
       "output_type": "stream",
       "stream": "stdout",
       "text": [
        "\n",
        "epoch 549, minibatch 44/44, validation error 2.000000 %\n",
        "epoch 550, minibatch 44/44, validation error 2.000000 %\n",
        "epoch 551, minibatch 44/44, validation error 2.000000 %\n",
        "epoch 552, minibatch 44/44, validation error 2.000000 %\n",
        "epoch 553, minibatch 44/44, validation error 2.000000 %\n",
        "epoch 554, minibatch 44/44, validation error 2.000000 %"
       ]
      },
      {
       "output_type": "stream",
       "stream": "stdout",
       "text": [
        "\n",
        "epoch 555, minibatch 44/44, validation error 2.000000 %\n",
        "epoch 556, minibatch 44/44, validation error 2.000000 %\n",
        "epoch 557, minibatch 44/44, validation error 2.000000 %\n",
        "epoch 558, minibatch 44/44, validation error 2.000000 %\n",
        "epoch 559, minibatch 44/44, validation error 2.000000 %\n",
        "epoch 560, minibatch 44/44, validation error 2.000000 %"
       ]
      },
      {
       "output_type": "stream",
       "stream": "stdout",
       "text": [
        "\n",
        "epoch 561, minibatch 44/44, validation error 2.000000 %\n",
        "epoch 562, minibatch 44/44, validation error 2.000000 %\n",
        "epoch 563, minibatch 44/44, validation error 2.000000 %\n",
        "epoch 564, minibatch 44/44, validation error 2.000000 %\n",
        "epoch 565, minibatch 44/44, validation error 2.000000 %\n",
        "epoch 566, minibatch 44/44, validation error 2.000000 %\n",
        "epoch 567, minibatch 44/44, validation error 2.000000 %"
       ]
      },
      {
       "output_type": "stream",
       "stream": "stdout",
       "text": [
        "\n",
        "epoch 568, minibatch 44/44, validation error 2.000000 %\n",
        "epoch 569, minibatch 44/44, validation error 2.000000 %\n",
        "epoch 570, minibatch 44/44, validation error 2.000000 %\n",
        "epoch 571, minibatch 44/44, validation error 2.000000 %\n",
        "epoch 572, minibatch 44/44, validation error 2.000000 %\n",
        "epoch 573, minibatch 44/44, validation error 2.000000 %\n",
        "epoch 574, minibatch 44/44, validation error 2.000000 %"
       ]
      },
      {
       "output_type": "stream",
       "stream": "stdout",
       "text": [
        "\n",
        "epoch 575, minibatch 44/44, validation error 2.000000 %\n",
        "epoch 576, minibatch 44/44, validation error 2.000000 %\n",
        "epoch 577, minibatch 44/44, validation error 2.000000 %\n",
        "epoch 578, minibatch 44/44, validation error 2.000000 %\n",
        "epoch 579, minibatch 44/44, validation error 1.500000 %\n",
        "     epoch 579, minibatch 44/44, test error of best model 2.000000 %\n",
        "epoch 580, minibatch 44/44, validation error 1.500000 %\n",
        "epoch 581, minibatch 44/44, validation error 1.500000 %"
       ]
      },
      {
       "output_type": "stream",
       "stream": "stdout",
       "text": [
        "\n",
        "epoch 582, minibatch 44/44, validation error 1.500000 %\n",
        "epoch 583, minibatch 44/44, validation error 1.500000 %\n",
        "epoch 584, minibatch 44/44, validation error 1.500000 %\n",
        "epoch 585, minibatch 44/44, validation error 1.500000 %\n",
        "epoch 586, minibatch 44/44, validation error 1.500000 %\n",
        "epoch 587, minibatch 44/44, validation error 1.500000 %"
       ]
      },
      {
       "output_type": "stream",
       "stream": "stdout",
       "text": [
        "\n",
        "epoch 588, minibatch 44/44, validation error 1.500000 %\n",
        "epoch 589, minibatch 44/44, validation error 1.500000 %\n",
        "epoch 590, minibatch 44/44, validation error 1.500000 %\n",
        "epoch 591, minibatch 44/44, validation error 1.500000 %\n",
        "epoch 592, minibatch 44/44, validation error 1.500000 %"
       ]
      },
      {
       "output_type": "stream",
       "stream": "stdout",
       "text": [
        "\n",
        "epoch 593, minibatch 44/44, validation error 1.500000 %\n",
        "epoch 594, minibatch 44/44, validation error 1.500000 %\n",
        "epoch 595, minibatch 44/44, validation error 1.500000 %\n",
        "epoch 596, minibatch 44/44, validation error 1.500000 %\n",
        "epoch 597, minibatch 44/44, validation error 1.500000 %\n",
        "epoch 598, minibatch 44/44, validation error 1.500000 %"
       ]
      },
      {
       "output_type": "stream",
       "stream": "stdout",
       "text": [
        "\n",
        "epoch 599, minibatch 44/44, validation error 1.500000 %\n",
        "epoch 600, minibatch 44/44, validation error 1.500000 %\n",
        "epoch 601, minibatch 44/44, validation error 1.500000 %\n",
        "epoch 602, minibatch 44/44, validation error 1.500000 %\n",
        "epoch 603, minibatch 44/44, validation error 1.500000 %\n",
        "epoch 604, minibatch 44/44, validation error 1.500000 %"
       ]
      },
      {
       "output_type": "stream",
       "stream": "stdout",
       "text": [
        "\n",
        "epoch 605, minibatch 44/44, validation error 1.500000 %\n",
        "epoch 606, minibatch 44/44, validation error 1.500000 %\n",
        "epoch 607, minibatch 44/44, validation error 1.500000 %\n",
        "epoch 608, minibatch 44/44, validation error 1.500000 %\n",
        "epoch 609, minibatch 44/44, validation error 1.500000 %\n",
        "epoch 610, minibatch 44/44, validation error 1.500000 %"
       ]
      },
      {
       "output_type": "stream",
       "stream": "stdout",
       "text": [
        "\n",
        "epoch 611, minibatch 44/44, validation error 1.500000 %\n",
        "epoch 612, minibatch 44/44, validation error 1.500000 %\n",
        "epoch 613, minibatch 44/44, validation error 1.500000 %\n",
        "epoch 614, minibatch 44/44, validation error 1.500000 %\n",
        "epoch 615, minibatch 44/44, validation error 1.500000 %\n",
        "epoch 616, minibatch 44/44, validation error 1.500000 %"
       ]
      },
      {
       "output_type": "stream",
       "stream": "stdout",
       "text": [
        "\n",
        "epoch 617, minibatch 44/44, validation error 1.500000 %\n",
        "epoch 618, minibatch 44/44, validation error 1.500000 %\n",
        "epoch 619, minibatch 44/44, validation error 1.500000 %\n",
        "epoch 620, minibatch 44/44, validation error 1.500000 %\n",
        "epoch 621, minibatch 44/44, validation error 1.500000 %\n",
        "epoch 622, minibatch 44/44, validation error 1.500000 %"
       ]
      },
      {
       "output_type": "stream",
       "stream": "stdout",
       "text": [
        "\n",
        "epoch 623, minibatch 44/44, validation error 1.500000 %\n",
        "epoch 624, minibatch 44/44, validation error 1.500000 %\n",
        "epoch 625, minibatch 44/44, validation error 1.500000 %\n",
        "epoch 626, minibatch 44/44, validation error 1.500000 %\n",
        "epoch 627, minibatch 44/44, validation error 1.500000 %\n",
        "epoch 628, minibatch 44/44, validation error 1.500000 %"
       ]
      },
      {
       "output_type": "stream",
       "stream": "stdout",
       "text": [
        "\n",
        "epoch 629, minibatch 44/44, validation error 1.500000 %\n",
        "epoch 630, minibatch 44/44, validation error 1.500000 %\n",
        "epoch 631, minibatch 44/44, validation error 1.500000 %\n",
        "epoch 632, minibatch 44/44, validation error 1.500000 %\n",
        "epoch 633, minibatch 44/44, validation error 1.500000 %\n",
        "epoch 634, minibatch 44/44, validation error 1.500000 %\n",
        "epoch 635, minibatch 44/44, validation error 1.500000 %"
       ]
      },
      {
       "output_type": "stream",
       "stream": "stdout",
       "text": [
        "\n",
        "epoch 636, minibatch 44/44, validation error 1.500000 %\n",
        "epoch 637, minibatch 44/44, validation error 1.500000 %\n",
        "epoch 638, minibatch 44/44, validation error 1.500000 %\n",
        "epoch 639, minibatch 44/44, validation error 1.500000 %\n",
        "epoch 640, minibatch 44/44, validation error 1.500000 %\n",
        "epoch 641, minibatch 44/44, validation error 1.500000 %"
       ]
      },
      {
       "output_type": "stream",
       "stream": "stdout",
       "text": [
        "\n",
        "epoch 642, minibatch 44/44, validation error 1.500000 %\n",
        "epoch 643, minibatch 44/44, validation error 1.500000 %\n",
        "epoch 644, minibatch 44/44, validation error 1.500000 %\n",
        "epoch 645, minibatch 44/44, validation error 1.500000 %\n",
        "epoch 646, minibatch 44/44, validation error 1.500000 %\n",
        "epoch 647, minibatch 44/44, validation error 1.500000 %"
       ]
      },
      {
       "output_type": "stream",
       "stream": "stdout",
       "text": [
        "\n",
        "epoch 648, minibatch 44/44, validation error 1.500000 %\n",
        "epoch 649, minibatch 44/44, validation error 1.500000 %\n",
        "epoch 650, minibatch 44/44, validation error 1.500000 %\n",
        "epoch 651, minibatch 44/44, validation error 1.500000 %\n",
        "epoch 652, minibatch 44/44, validation error 1.500000 %\n",
        "epoch 653, minibatch 44/44, validation error 1.500000 %\n",
        "epoch 654, minibatch 44/44, validation error 1.500000 %"
       ]
      },
      {
       "output_type": "stream",
       "stream": "stdout",
       "text": [
        "\n",
        "epoch 655, minibatch 44/44, validation error 1.500000 %\n",
        "epoch 656, minibatch 44/44, validation error 1.500000 %\n",
        "epoch 657, minibatch 44/44, validation error 1.500000 %\n",
        "epoch 658, minibatch 44/44, validation error 1.500000 %\n",
        "epoch 659, minibatch 44/44, validation error 1.500000 %\n",
        "epoch 660, minibatch 44/44, validation error 1.500000 %"
       ]
      },
      {
       "output_type": "stream",
       "stream": "stdout",
       "text": [
        "\n",
        "epoch 661, minibatch 44/44, validation error 1.500000 %\n",
        "epoch 662, minibatch 44/44, validation error 1.500000 %\n",
        "epoch 663, minibatch 44/44, validation error 1.500000 %\n",
        "epoch 664, minibatch 44/44, validation error 1.500000 %\n",
        "epoch 665, minibatch 44/44, validation error 1.500000 %\n",
        "epoch 666, minibatch 44/44, validation error 1.500000 %\n",
        "epoch 667, minibatch 44/44, validation error 1.500000 %"
       ]
      },
      {
       "output_type": "stream",
       "stream": "stdout",
       "text": [
        "\n",
        "epoch 668, minibatch 44/44, validation error 1.500000 %\n",
        "epoch 669, minibatch 44/44, validation error 1.500000 %\n",
        "epoch 670, minibatch 44/44, validation error 1.500000 %\n",
        "epoch 671, minibatch 44/44, validation error 1.500000 %\n",
        "epoch 672, minibatch 44/44, validation error 1.500000 %\n",
        "epoch 673, minibatch 44/44, validation error 1.500000 %\n",
        "epoch 674, minibatch 44/44, validation error 1.500000 %"
       ]
      },
      {
       "output_type": "stream",
       "stream": "stdout",
       "text": [
        "\n",
        "epoch 675, minibatch 44/44, validation error 1.500000 %\n",
        "epoch 676, minibatch 44/44, validation error 1.500000 %\n",
        "epoch 677, minibatch 44/44, validation error 1.500000 %\n",
        "epoch 678, minibatch 44/44, validation error 1.500000 %\n",
        "epoch 679, minibatch 44/44, validation error 1.500000 %\n",
        "epoch 680, minibatch 44/44, validation error 1.500000 %"
       ]
      },
      {
       "output_type": "stream",
       "stream": "stdout",
       "text": [
        "\n",
        "epoch 681, minibatch 44/44, validation error 1.500000 %\n",
        "epoch 682, minibatch 44/44, validation error 1.500000 %\n",
        "epoch 683, minibatch 44/44, validation error 1.500000 %\n",
        "epoch 684, minibatch 44/44, validation error 1.500000 %\n",
        "epoch 685, minibatch 44/44, validation error 1.500000 %\n",
        "epoch 686, minibatch 44/44, validation error 1.500000 %"
       ]
      },
      {
       "output_type": "stream",
       "stream": "stdout",
       "text": [
        "\n",
        "epoch 687, minibatch 44/44, validation error 1.500000 %\n",
        "epoch 688, minibatch 44/44, validation error 1.500000 %\n",
        "epoch 689, minibatch 44/44, validation error 1.500000 %\n",
        "epoch 690, minibatch 44/44, validation error 1.500000 %\n",
        "epoch 691, minibatch 44/44, validation error 1.500000 %\n",
        "epoch 692, minibatch 44/44, validation error 1.500000 %"
       ]
      },
      {
       "output_type": "stream",
       "stream": "stdout",
       "text": [
        "\n",
        "epoch 693, minibatch 44/44, validation error 1.500000 %\n",
        "epoch 694, minibatch 44/44, validation error 1.500000 %\n",
        "epoch 695, minibatch 44/44, validation error 1.500000 %\n",
        "epoch 696, minibatch 44/44, validation error 1.500000 %\n",
        "epoch 697, minibatch 44/44, validation error 1.500000 %"
       ]
      },
      {
       "output_type": "stream",
       "stream": "stdout",
       "text": [
        "\n",
        "epoch 698, minibatch 44/44, validation error 1.500000 %\n",
        "epoch 699, minibatch 44/44, validation error 1.500000 %\n",
        "epoch 700, minibatch 44/44, validation error 1.500000 %\n",
        "epoch 701, minibatch 44/44, validation error 1.500000 %\n",
        "epoch 702, minibatch 44/44, validation error 1.500000 %\n",
        "epoch 703, minibatch 44/44, validation error 1.500000 %\n",
        "epoch 704, minibatch 44/44, validation error 1.500000 %\n",
        "epoch 705, minibatch 44/44, validation error 1.500000 %"
       ]
      },
      {
       "output_type": "stream",
       "stream": "stdout",
       "text": [
        "\n",
        "epoch 706, minibatch 44/44, validation error 1.500000 %\n",
        "epoch 707, minibatch 44/44, validation error 1.500000 %\n",
        "epoch 708, minibatch 44/44, validation error 1.500000 %\n",
        "epoch 709, minibatch 44/44, validation error 1.500000 %\n",
        "epoch 710, minibatch 44/44, validation error 1.500000 %\n",
        "epoch 711, minibatch 44/44, validation error 1.500000 %"
       ]
      },
      {
       "output_type": "stream",
       "stream": "stdout",
       "text": [
        "\n",
        "epoch 712, minibatch 44/44, validation error 1.500000 %\n",
        "epoch 713, minibatch 44/44, validation error 1.500000 %\n",
        "epoch 714, minibatch 44/44, validation error 1.500000 %\n",
        "epoch 715, minibatch 44/44, validation error 1.500000 %\n",
        "epoch 716, minibatch 44/44, validation error 1.500000 %\n",
        "epoch 717, minibatch 44/44, validation error 1.500000 %"
       ]
      },
      {
       "output_type": "stream",
       "stream": "stdout",
       "text": [
        "\n",
        "epoch 718, minibatch 44/44, validation error 1.500000 %\n",
        "epoch 719, minibatch 44/44, validation error 1.500000 %\n",
        "epoch 720, minibatch 44/44, validation error 1.500000 %\n",
        "epoch 721, minibatch 44/44, validation error 1.500000 %\n",
        "epoch 722, minibatch 44/44, validation error 1.500000 %\n",
        "epoch 723, minibatch 44/44, validation error 1.500000 %\n",
        "epoch 724, minibatch 44/44, validation error 1.500000 %"
       ]
      },
      {
       "output_type": "stream",
       "stream": "stdout",
       "text": [
        "\n",
        "epoch 725, minibatch 44/44, validation error 1.500000 %\n",
        "epoch 726, minibatch 44/44, validation error 1.500000 %\n",
        "epoch 727, minibatch 44/44, validation error 1.500000 %\n",
        "epoch 728, minibatch 44/44, validation error 1.500000 %\n",
        "epoch 729, minibatch 44/44, validation error 1.500000 %\n",
        "epoch 730, minibatch 44/44, validation error 1.500000 %\n",
        "epoch 731, minibatch 44/44, validation error 1.500000 %"
       ]
      },
      {
       "output_type": "stream",
       "stream": "stdout",
       "text": [
        "\n",
        "epoch 732, minibatch 44/44, validation error 1.500000 %\n",
        "epoch 733, minibatch 44/44, validation error 1.500000 %\n",
        "epoch 734, minibatch 44/44, validation error 1.500000 %\n",
        "epoch 735, minibatch 44/44, validation error 1.500000 %\n",
        "epoch 736, minibatch 44/44, validation error 1.500000 %\n",
        "epoch 737, minibatch 44/44, validation error 1.500000 %"
       ]
      },
      {
       "output_type": "stream",
       "stream": "stdout",
       "text": [
        "\n",
        "epoch 738, minibatch 44/44, validation error 1.500000 %\n",
        "epoch 739, minibatch 44/44, validation error 1.500000 %\n",
        "epoch 740, minibatch 44/44, validation error 1.500000 %\n",
        "epoch 741, minibatch 44/44, validation error 1.500000 %\n",
        "epoch 742, minibatch 44/44, validation error 1.500000 %\n",
        "epoch 743, minibatch 44/44, validation error 1.500000 %\n",
        "epoch 744, minibatch 44/44, validation error 1.500000 %"
       ]
      },
      {
       "output_type": "stream",
       "stream": "stdout",
       "text": [
        "\n",
        "epoch 745, minibatch 44/44, validation error 1.500000 %\n",
        "epoch 746, minibatch 44/44, validation error 1.500000 %\n",
        "epoch 747, minibatch 44/44, validation error 1.500000 %\n",
        "epoch 748, minibatch 44/44, validation error 1.500000 %\n",
        "epoch 749, minibatch 44/44, validation error 1.500000 %"
       ]
      },
      {
       "output_type": "stream",
       "stream": "stdout",
       "text": [
        "\n",
        "epoch 750, minibatch 44/44, validation error 1.500000 %\n",
        "epoch 751, minibatch 44/44, validation error 1.500000 %\n",
        "epoch 752, minibatch 44/44, validation error 1.500000 %\n",
        "epoch 753, minibatch 44/44, validation error 1.500000 %\n",
        "epoch 754, minibatch 44/44, validation error 1.500000 %\n",
        "epoch 755, minibatch 44/44, validation error 1.500000 %"
       ]
      },
      {
       "output_type": "stream",
       "stream": "stdout",
       "text": [
        "\n",
        "epoch 756, minibatch 44/44, validation error 1.500000 %\n",
        "epoch 757, minibatch 44/44, validation error 1.500000 %\n",
        "epoch 758, minibatch 44/44, validation error 1.500000 %\n",
        "epoch 759, minibatch 44/44, validation error 1.500000 %\n",
        "epoch 760, minibatch 44/44, validation error 1.500000 %\n",
        "epoch 761, minibatch 44/44, validation error 1.500000 %"
       ]
      },
      {
       "output_type": "stream",
       "stream": "stdout",
       "text": [
        "\n",
        "epoch 762, minibatch 44/44, validation error 1.500000 %\n",
        "epoch 763, minibatch 44/44, validation error 1.500000 %\n",
        "epoch 764, minibatch 44/44, validation error 1.500000 %\n",
        "epoch 765, minibatch 44/44, validation error 1.500000 %\n",
        "epoch 766, minibatch 44/44, validation error 1.500000 %"
       ]
      },
      {
       "output_type": "stream",
       "stream": "stdout",
       "text": [
        "\n",
        "epoch 767, minibatch 44/44, validation error 1.500000 %\n",
        "epoch 768, minibatch 44/44, validation error 1.500000 %\n",
        "epoch 769, minibatch 44/44, validation error 1.500000 %\n",
        "epoch 770, minibatch 44/44, validation error 1.500000 %\n",
        "epoch 771, minibatch 44/44, validation error 1.500000 %\n",
        "epoch 772, minibatch 44/44, validation error 1.500000 %"
       ]
      },
      {
       "output_type": "stream",
       "stream": "stdout",
       "text": [
        "\n",
        "epoch 773, minibatch 44/44, validation error 1.500000 %\n",
        "epoch 774, minibatch 44/44, validation error 1.500000 %\n",
        "epoch 775, minibatch 44/44, validation error 1.500000 %\n",
        "epoch 776, minibatch 44/44, validation error 1.500000 %\n",
        "epoch 777, minibatch 44/44, validation error 1.500000 %\n",
        "epoch 778, minibatch 44/44, validation error 1.500000 %\n",
        "epoch 779, minibatch 44/44, validation error 1.500000 %"
       ]
      },
      {
       "output_type": "stream",
       "stream": "stdout",
       "text": [
        "\n",
        "epoch 780, minibatch 44/44, validation error 1.500000 %\n",
        "epoch 781, minibatch 44/44, validation error 1.500000 %\n",
        "epoch 782, minibatch 44/44, validation error 1.500000 %\n",
        "epoch 783, minibatch 44/44, validation error 1.500000 %\n",
        "epoch 784, minibatch 44/44, validation error 1.500000 %\n",
        "epoch 785, minibatch 44/44, validation error 1.500000 %\n",
        "epoch 786, minibatch 44/44, validation error 1.500000 %"
       ]
      },
      {
       "output_type": "stream",
       "stream": "stdout",
       "text": [
        "\n",
        "epoch 787, minibatch 44/44, validation error 1.500000 %\n",
        "epoch 788, minibatch 44/44, validation error 1.500000 %\n",
        "epoch 789, minibatch 44/44, validation error 1.500000 %\n",
        "epoch 790, minibatch 44/44, validation error 1.500000 %\n",
        "epoch 791, minibatch 44/44, validation error 1.500000 %\n",
        "epoch 792, minibatch 44/44, validation error 1.500000 %"
       ]
      },
      {
       "output_type": "stream",
       "stream": "stdout",
       "text": [
        "\n",
        "epoch 793, minibatch 44/44, validation error 1.500000 %\n",
        "epoch 794, minibatch 44/44, validation error 1.500000 %\n",
        "epoch 795, minibatch 44/44, validation error 1.500000 %\n",
        "epoch 796, minibatch 44/44, validation error 1.500000 %\n",
        "epoch 797, minibatch 44/44, validation error 1.500000 %\n",
        "epoch 798, minibatch 44/44, validation error 1.500000 %\n",
        "epoch 799, minibatch 44/44, validation error 1.500000 %"
       ]
      },
      {
       "output_type": "stream",
       "stream": "stdout",
       "text": [
        "\n",
        "epoch 800, minibatch 44/44, validation error 1.500000 %\n",
        "epoch 801, minibatch 44/44, validation error 1.500000 %\n",
        "epoch 802, minibatch 44/44, validation error 1.500000 %\n",
        "epoch 803, minibatch 44/44, validation error 1.500000 %\n",
        "epoch 804, minibatch 44/44, validation error 1.500000 %\n",
        "epoch 805, minibatch 44/44, validation error 1.500000 %"
       ]
      },
      {
       "output_type": "stream",
       "stream": "stdout",
       "text": [
        "\n",
        "epoch 806, minibatch 44/44, validation error 1.500000 %\n",
        "epoch 807, minibatch 44/44, validation error 1.500000 %\n",
        "epoch 808, minibatch 44/44, validation error 1.500000 %\n",
        "epoch 809, minibatch 44/44, validation error 1.500000 %\n",
        "epoch 810, minibatch 44/44, validation error 1.500000 %\n",
        "epoch 811, minibatch 44/44, validation error 1.500000 %\n",
        "epoch 812, minibatch 44/44, validation error 1.500000 %"
       ]
      },
      {
       "output_type": "stream",
       "stream": "stdout",
       "text": [
        "\n",
        "epoch 813, minibatch 44/44, validation error 1.500000 %\n",
        "epoch 814, minibatch 44/44, validation error 1.500000 %\n",
        "epoch 815, minibatch 44/44, validation error 1.500000 %\n",
        "epoch 816, minibatch 44/44, validation error 1.500000 %\n",
        "epoch 817, minibatch 44/44, validation error 1.500000 %\n",
        "epoch 818, minibatch 44/44, validation error 1.500000 %\n",
        "epoch 819, minibatch 44/44, validation error 1.500000 %"
       ]
      },
      {
       "output_type": "stream",
       "stream": "stdout",
       "text": [
        "\n",
        "epoch 820, minibatch 44/44, validation error 1.500000 %\n",
        "epoch 821, minibatch 44/44, validation error 1.500000 %\n",
        "epoch 822, minibatch 44/44, validation error 1.500000 %\n",
        "epoch 823, minibatch 44/44, validation error 1.500000 %\n",
        "epoch 824, minibatch 44/44, validation error 1.500000 %\n",
        "epoch 825, minibatch 44/44, validation error 1.500000 %"
       ]
      },
      {
       "output_type": "stream",
       "stream": "stdout",
       "text": [
        "\n",
        "epoch 826, minibatch 44/44, validation error 1.500000 %\n",
        "epoch 827, minibatch 44/44, validation error 1.500000 %\n",
        "epoch 828, minibatch 44/44, validation error 1.500000 %\n",
        "epoch 829, minibatch 44/44, validation error 1.500000 %\n",
        "epoch 830, minibatch 44/44, validation error 1.500000 %\n",
        "epoch 831, minibatch 44/44, validation error 1.500000 %\n",
        "epoch 832, minibatch 44/44, validation error 1.500000 %"
       ]
      },
      {
       "output_type": "stream",
       "stream": "stdout",
       "text": [
        "\n",
        "epoch 833, minibatch 44/44, validation error 1.500000 %\n",
        "epoch 834, minibatch 44/44, validation error 1.500000 %\n",
        "epoch 835, minibatch 44/44, validation error 1.500000 %\n",
        "epoch 836, minibatch 44/44, validation error 1.500000 %\n",
        "epoch 837, minibatch 44/44, validation error 1.500000 %\n",
        "epoch 838, minibatch 44/44, validation error 1.500000 %\n",
        "epoch 839, minibatch 44/44, validation error 1.500000 %"
       ]
      },
      {
       "output_type": "stream",
       "stream": "stdout",
       "text": [
        "\n",
        "epoch 840, minibatch 44/44, validation error 1.500000 %\n",
        "epoch 841, minibatch 44/44, validation error 1.500000 %\n",
        "epoch 842, minibatch 44/44, validation error 1.500000 %\n",
        "epoch 843, minibatch 44/44, validation error 1.500000 %\n",
        "epoch 844, minibatch 44/44, validation error 1.500000 %\n",
        "epoch 845, minibatch 44/44, validation error 1.500000 %"
       ]
      },
      {
       "output_type": "stream",
       "stream": "stdout",
       "text": [
        "\n",
        "epoch 846, minibatch 44/44, validation error 1.500000 %\n",
        "epoch 847, minibatch 44/44, validation error 1.500000 %\n",
        "epoch 848, minibatch 44/44, validation error 1.500000 %\n",
        "epoch 849, minibatch 44/44, validation error 1.500000 %\n",
        "epoch 850, minibatch 44/44, validation error 1.500000 %\n",
        "epoch 851, minibatch 44/44, validation error 1.500000 %\n",
        "epoch 852, minibatch 44/44, validation error 1.500000 %"
       ]
      },
      {
       "output_type": "stream",
       "stream": "stdout",
       "text": [
        "\n",
        "epoch 853, minibatch 44/44, validation error 1.500000 %\n",
        "epoch 854, minibatch 44/44, validation error 1.500000 %\n",
        "epoch 855, minibatch 44/44, validation error 1.500000 %\n",
        "epoch 856, minibatch 44/44, validation error 1.500000 %\n",
        "epoch 857, minibatch 44/44, validation error 1.500000 %\n",
        "epoch 858, minibatch 44/44, validation error 1.500000 %"
       ]
      },
      {
       "output_type": "stream",
       "stream": "stdout",
       "text": [
        "\n",
        "epoch 859, minibatch 44/44, validation error 1.500000 %\n",
        "epoch 860, minibatch 44/44, validation error 1.500000 %\n",
        "epoch 861, minibatch 44/44, validation error 1.500000 %\n",
        "epoch 862, minibatch 44/44, validation error 1.500000 %\n",
        "epoch 863, minibatch 44/44, validation error 1.500000 %\n",
        "epoch 864, minibatch 44/44, validation error 1.500000 %"
       ]
      },
      {
       "output_type": "stream",
       "stream": "stdout",
       "text": [
        "\n",
        "epoch 865, minibatch 44/44, validation error 1.500000 %\n",
        "epoch 866, minibatch 44/44, validation error 1.500000 %\n",
        "epoch 867, minibatch 44/44, validation error 1.500000 %\n",
        "epoch 868, minibatch 44/44, validation error 1.500000 %\n",
        "epoch 869, minibatch 44/44, validation error 1.500000 %\n",
        "epoch 870, minibatch 44/44, validation error 1.500000 %\n",
        "epoch 871, minibatch 44/44, validation error 1.500000 %"
       ]
      },
      {
       "output_type": "stream",
       "stream": "stdout",
       "text": [
        "\n",
        "epoch 872, minibatch 44/44, validation error 1.500000 %\n",
        "epoch 873, minibatch 44/44, validation error 1.500000 %\n",
        "epoch 874, minibatch 44/44, validation error 1.500000 %\n",
        "epoch 875, minibatch 44/44, validation error 1.500000 %\n",
        "epoch 876, minibatch 44/44, validation error 1.500000 %\n",
        "epoch 877, minibatch 44/44, validation error 1.500000 %"
       ]
      },
      {
       "output_type": "stream",
       "stream": "stdout",
       "text": [
        "\n",
        "epoch 878, minibatch 44/44, validation error 1.500000 %\n",
        "epoch 879, minibatch 44/44, validation error 1.500000 %\n",
        "epoch 880, minibatch 44/44, validation error 1.500000 %\n",
        "epoch 881, minibatch 44/44, validation error 1.500000 %\n",
        "epoch 882, minibatch 44/44, validation error 1.500000 %\n",
        "epoch 883, minibatch 44/44, validation error 1.500000 %"
       ]
      },
      {
       "output_type": "stream",
       "stream": "stdout",
       "text": [
        "\n",
        "epoch 884, minibatch 44/44, validation error 1.500000 %\n",
        "epoch 885, minibatch 44/44, validation error 1.500000 %\n",
        "epoch 886, minibatch 44/44, validation error 1.500000 %\n",
        "epoch 887, minibatch 44/44, validation error 1.500000 %\n",
        "epoch 888, minibatch 44/44, validation error 1.500000 %\n",
        "epoch 889, minibatch 44/44, validation error 1.500000 %\n",
        "epoch 890, minibatch 44/44, validation error 1.500000 %"
       ]
      },
      {
       "output_type": "stream",
       "stream": "stdout",
       "text": [
        "\n",
        "epoch 891, minibatch 44/44, validation error 1.500000 %\n",
        "epoch 892, minibatch 44/44, validation error 1.500000 %\n",
        "epoch 893, minibatch 44/44, validation error 1.500000 %\n",
        "epoch 894, minibatch 44/44, validation error 1.500000 %\n",
        "epoch 895, minibatch 44/44, validation error 1.500000 %\n",
        "epoch 896, minibatch 44/44, validation error 1.500000 %\n",
        "epoch 897, minibatch 44/44, validation error 1.500000 %"
       ]
      },
      {
       "output_type": "stream",
       "stream": "stdout",
       "text": [
        "\n",
        "epoch 898, minibatch 44/44, validation error 1.500000 %\n",
        "epoch 899, minibatch 44/44, validation error 1.500000 %\n",
        "epoch 900, minibatch 44/44, validation error 1.500000 %\n",
        "epoch 901, minibatch 44/44, validation error 1.500000 %\n",
        "epoch 902, minibatch 44/44, validation error 1.500000 %\n",
        "epoch 903, minibatch 44/44, validation error 1.500000 %"
       ]
      },
      {
       "output_type": "stream",
       "stream": "stdout",
       "text": [
        "\n",
        "epoch 904, minibatch 44/44, validation error 1.500000 %\n",
        "epoch 905, minibatch 44/44, validation error 1.500000 %\n",
        "epoch 906, minibatch 44/44, validation error 1.500000 %\n",
        "epoch 907, minibatch 44/44, validation error 1.500000 %\n",
        "epoch 908, minibatch 44/44, validation error 1.500000 %\n",
        "epoch 909, minibatch 44/44, validation error 1.500000 %\n",
        "epoch 910, minibatch 44/44, validation error 1.500000 %"
       ]
      },
      {
       "output_type": "stream",
       "stream": "stdout",
       "text": [
        "\n",
        "epoch 911, minibatch 44/44, validation error 1.500000 %\n",
        "epoch 912, minibatch 44/44, validation error 1.500000 %\n",
        "epoch 913, minibatch 44/44, validation error 1.500000 %\n",
        "epoch 914, minibatch 44/44, validation error 1.500000 %\n",
        "epoch 915, minibatch 44/44, validation error 1.500000 %\n",
        "epoch 916, minibatch 44/44, validation error 1.500000 %"
       ]
      },
      {
       "output_type": "stream",
       "stream": "stdout",
       "text": [
        "\n",
        "epoch 917, minibatch 44/44, validation error 1.500000 %\n",
        "epoch 918, minibatch 44/44, validation error 1.500000 %\n",
        "epoch 919, minibatch 44/44, validation error 1.500000 %\n",
        "epoch 920, minibatch 44/44, validation error 1.500000 %\n",
        "epoch 921, minibatch 44/44, validation error 1.500000 %\n",
        "epoch 922, minibatch 44/44, validation error 1.500000 %\n",
        "epoch 923, minibatch 44/44, validation error 1.500000 %"
       ]
      },
      {
       "output_type": "stream",
       "stream": "stdout",
       "text": [
        "\n",
        "epoch 924, minibatch 44/44, validation error 1.500000 %\n",
        "epoch 925, minibatch 44/44, validation error 1.500000 %\n",
        "epoch 926, minibatch 44/44, validation error 1.500000 %\n",
        "epoch 927, minibatch 44/44, validation error 1.500000 %\n",
        "epoch 928, minibatch 44/44, validation error 1.500000 %\n",
        "epoch 929, minibatch 44/44, validation error 1.500000 %"
       ]
      },
      {
       "output_type": "stream",
       "stream": "stdout",
       "text": [
        "\n",
        "epoch 930, minibatch 44/44, validation error 1.500000 %\n",
        "epoch 931, minibatch 44/44, validation error 1.500000 %\n",
        "epoch 932, minibatch 44/44, validation error 1.500000 %\n",
        "epoch 933, minibatch 44/44, validation error 1.500000 %\n",
        "epoch 934, minibatch 44/44, validation error 1.500000 %\n",
        "epoch 935, minibatch 44/44, validation error 1.500000 %\n",
        "epoch 936, minibatch 44/44, validation error 1.500000 %"
       ]
      },
      {
       "output_type": "stream",
       "stream": "stdout",
       "text": [
        "\n",
        "epoch 937, minibatch 44/44, validation error 1.500000 %\n",
        "epoch 938, minibatch 44/44, validation error 1.500000 %\n",
        "epoch 939, minibatch 44/44, validation error 1.500000 %\n",
        "epoch 940, minibatch 44/44, validation error 1.500000 %\n",
        "epoch 941, minibatch 44/44, validation error 1.500000 %\n",
        "epoch 942, minibatch 44/44, validation error 1.500000 %\n",
        "epoch 943, minibatch 44/44, validation error 1.500000 %"
       ]
      },
      {
       "output_type": "stream",
       "stream": "stdout",
       "text": [
        "\n",
        "epoch 944, minibatch 44/44, validation error 1.500000 %\n",
        "epoch 945, minibatch 44/44, validation error 1.500000 %\n",
        "epoch 946, minibatch 44/44, validation error 1.500000 %\n",
        "epoch 947, minibatch 44/44, validation error 1.500000 %\n",
        "epoch 948, minibatch 44/44, validation error 1.500000 %\n",
        "epoch 949, minibatch 44/44, validation error 1.500000 %\n",
        "epoch 950, minibatch 44/44, validation error 1.500000 %"
       ]
      },
      {
       "output_type": "stream",
       "stream": "stdout",
       "text": [
        "\n",
        "epoch 951, minibatch 44/44, validation error 1.500000 %\n",
        "epoch 952, minibatch 44/44, validation error 1.500000 %\n",
        "epoch 953, minibatch 44/44, validation error 1.500000 %\n",
        "epoch 954, minibatch 44/44, validation error 1.500000 %\n",
        "epoch 955, minibatch 44/44, validation error 1.500000 %"
       ]
      },
      {
       "output_type": "stream",
       "stream": "stdout",
       "text": [
        "\n",
        "epoch 956, minibatch 44/44, validation error 1.500000 %\n",
        "epoch 957, minibatch 44/44, validation error 1.500000 %\n",
        "epoch 958, minibatch 44/44, validation error 1.500000 %\n",
        "epoch 959, minibatch 44/44, validation error 1.500000 %\n",
        "epoch 960, minibatch 44/44, validation error 1.500000 %\n",
        "epoch 961, minibatch 44/44, validation error 1.500000 %"
       ]
      },
      {
       "output_type": "stream",
       "stream": "stdout",
       "text": [
        "\n",
        "epoch 962, minibatch 44/44, validation error 1.500000 %\n",
        "epoch 963, minibatch 44/44, validation error 1.500000 %\n",
        "epoch 964, minibatch 44/44, validation error 1.500000 %\n",
        "epoch 965, minibatch 44/44, validation error 1.500000 %\n",
        "epoch 966, minibatch 44/44, validation error 1.500000 %\n",
        "epoch 967, minibatch 44/44, validation error 1.500000 %\n",
        "epoch 968, minibatch 44/44, validation error 1.500000 %"
       ]
      },
      {
       "output_type": "stream",
       "stream": "stdout",
       "text": [
        "\n",
        "epoch 969, minibatch 44/44, validation error 1.500000 %\n",
        "epoch 970, minibatch 44/44, validation error 1.500000 %\n",
        "epoch 971, minibatch 44/44, validation error 1.500000 %\n",
        "epoch 972, minibatch 44/44, validation error 1.500000 %\n",
        "epoch 973, minibatch 44/44, validation error 1.500000 %\n",
        "epoch 974, minibatch 44/44, validation error 1.500000 %"
       ]
      },
      {
       "output_type": "stream",
       "stream": "stdout",
       "text": [
        "\n",
        "epoch 975, minibatch 44/44, validation error 1.500000 %\n",
        "epoch 976, minibatch 44/44, validation error 1.500000 %\n",
        "epoch 977, minibatch 44/44, validation error 1.500000 %\n",
        "epoch 978, minibatch 44/44, validation error 1.500000 %\n",
        "epoch 979, minibatch 44/44, validation error 1.500000 %"
       ]
      },
      {
       "output_type": "stream",
       "stream": "stdout",
       "text": [
        "\n",
        "epoch 980, minibatch 44/44, validation error 1.500000 %\n",
        "epoch 981, minibatch 44/44, validation error 1.500000 %\n",
        "epoch 982, minibatch 44/44, validation error 1.500000 %\n",
        "epoch 983, minibatch 44/44, validation error 1.500000 %\n",
        "epoch 984, minibatch 44/44, validation error 1.500000 %\n",
        "epoch 985, minibatch 44/44, validation error 1.500000 %"
       ]
      },
      {
       "output_type": "stream",
       "stream": "stdout",
       "text": [
        "\n",
        "epoch 986, minibatch 44/44, validation error 1.500000 %\n",
        "epoch 987, minibatch 44/44, validation error 1.500000 %\n",
        "epoch 988, minibatch 44/44, validation error 1.500000 %\n",
        "epoch 989, minibatch 44/44, validation error 1.500000 %\n",
        "epoch 990, minibatch 44/44, validation error 1.500000 %\n",
        "epoch 991, minibatch 44/44, validation error 1.500000 %"
       ]
      },
      {
       "output_type": "stream",
       "stream": "stdout",
       "text": [
        "\n",
        "epoch 992, minibatch 44/44, validation error 1.500000 %\n",
        "epoch 993, minibatch 44/44, validation error 1.500000 %\n",
        "epoch 994, minibatch 44/44, validation error 1.500000 %\n",
        "epoch 995, minibatch 44/44, validation error 1.500000 %\n",
        "epoch 996, minibatch 44/44, validation error 1.500000 %\n",
        "epoch 997, minibatch 44/44, validation error 1.500000 %\n",
        "epoch 998, minibatch 44/44, validation error 1.500000 %"
       ]
      },
      {
       "output_type": "stream",
       "stream": "stdout",
       "text": [
        "\n",
        "epoch 999, minibatch 44/44, validation error 1.500000 %\n",
        "epoch 1000, minibatch 44/44, validation error 1.500000 %\n",
        "Optimization complete. Best validation score of 1.500000 % obtained at iteration 25476, with test performance 2.000000 %\n"
       ]
      },
      {
       "output_type": "stream",
       "stream": "stderr",
       "text": [
        "The code for file mlp.py ran for 0.15m\n"
       ]
      }
     ],
     "prompt_number": 2
    },
    {
     "cell_type": "code",
     "collapsed": false,
     "input": [
      "saved_weights_withpose = []\n",
      "mlp_withpose = test_mlp(learning_rate=0.01, L1_reg=0.00, L2_reg=0.001, n_epochs=1000,\n",
      "         dataset='eyes_withpose_PCs.save', batch_size=20, n_hidden=200, n_in=25, n_out=2, saved_weights=saved_weights_withpose)"
     ],
     "language": "python",
     "metadata": {},
     "outputs": [
      {
       "output_type": "stream",
       "stream": "stdout",
       "text": [
        "... loading data\n",
        "... building the model\n",
        "... training"
       ]
      },
      {
       "output_type": "stream",
       "stream": "stdout",
       "text": [
        "\n",
        "epoch 1, minibatch 44/44, validation error 10.500000 %\n",
        "     epoch 1, minibatch 44/44, test error of best model 11.000000 %\n",
        "epoch 2, minibatch 44/44, validation error 9.000000 %\n",
        "     epoch 2, minibatch 44/44, test error of best model 8.000000 %\n",
        "epoch 3, minibatch 44/44, validation error 8.000000 %\n",
        "     epoch 3, minibatch 44/44, test error of best model 8.000000 %\n",
        "epoch 4, minibatch 44/44, validation error 8.000000 %"
       ]
      },
      {
       "output_type": "stream",
       "stream": "stdout",
       "text": [
        "\n",
        "epoch 5, minibatch 44/44, validation error 8.000000 %\n",
        "epoch 6, minibatch 44/44, validation error 7.000000 %\n",
        "     epoch 6, minibatch 44/44, test error of best model 8.000000 %\n",
        "epoch 7, minibatch 44/44, validation error 7.000000 %\n",
        "epoch 8, minibatch 44/44, validation error 7.000000 %"
       ]
      },
      {
       "output_type": "stream",
       "stream": "stdout",
       "text": [
        "\n",
        "epoch 9, minibatch 44/44, validation error 6.000000 %\n",
        "     epoch 9, minibatch 44/44, test error of best model 7.500000 %\n",
        "epoch 10, minibatch 44/44, validation error 6.000000 %\n",
        "epoch 11, minibatch 44/44, validation error 5.500000 %\n",
        "     epoch 11, minibatch 44/44, test error of best model 7.500000 %\n",
        "epoch 12, minibatch 44/44, validation error 5.500000 %"
       ]
      },
      {
       "output_type": "stream",
       "stream": "stdout",
       "text": [
        "\n",
        "epoch 13, minibatch 44/44, validation error 5.000000 %\n",
        "     epoch 13, minibatch 44/44, test error of best model 7.500000 %\n",
        "epoch 14, minibatch 44/44, validation error 4.500000 %\n",
        "     epoch 14, minibatch 44/44, test error of best model 7.500000 %\n",
        "epoch 15, minibatch 44/44, validation error 4.500000 %\n",
        "epoch 16, minibatch 44/44, validation error 4.500000 %"
       ]
      },
      {
       "output_type": "stream",
       "stream": "stdout",
       "text": [
        "\n",
        "epoch 17, minibatch 44/44, validation error 4.500000 %\n",
        "epoch 18, minibatch 44/44, validation error 4.500000 %\n",
        "epoch 19, minibatch 44/44, validation error 4.500000 %\n",
        "epoch 20, minibatch 44/44, validation error 4.500000 %\n",
        "epoch 21, minibatch 44/44, validation error 4.500000 %"
       ]
      },
      {
       "output_type": "stream",
       "stream": "stdout",
       "text": [
        "\n",
        "epoch 22, minibatch 44/44, validation error 4.500000 %\n",
        "epoch 23, minibatch 44/44, validation error 4.500000 %\n",
        "epoch 24, minibatch 44/44, validation error 4.500000 %\n",
        "epoch 25, minibatch 44/44, validation error 4.500000 %"
       ]
      },
      {
       "output_type": "stream",
       "stream": "stdout",
       "text": [
        "\n",
        "epoch 26, minibatch 44/44, validation error 4.500000 %\n",
        "epoch 27, minibatch 44/44, validation error 4.500000 %\n",
        "epoch 28, minibatch 44/44, validation error 4.500000 %\n",
        "epoch 29, minibatch 44/44, validation error 4.500000 %"
       ]
      },
      {
       "output_type": "stream",
       "stream": "stdout",
       "text": [
        "\n",
        "epoch 30, minibatch 44/44, validation error 4.500000 %\n",
        "epoch 31, minibatch 44/44, validation error 4.500000 %\n",
        "epoch 32, minibatch 44/44, validation error 4.500000 %\n",
        "epoch 33, minibatch 44/44, validation error 4.500000 %"
       ]
      },
      {
       "output_type": "stream",
       "stream": "stdout",
       "text": [
        "\n",
        "epoch 34, minibatch 44/44, validation error 4.500000 %\n",
        "epoch 35, minibatch 44/44, validation error 4.500000 %\n",
        "epoch 36, minibatch 44/44, validation error 4.500000 %\n",
        "epoch 37, minibatch 44/44, validation error 4.500000 %"
       ]
      },
      {
       "output_type": "stream",
       "stream": "stdout",
       "text": [
        "\n",
        "epoch 38, minibatch 44/44, validation error 4.500000 %\n",
        "epoch 39, minibatch 44/44, validation error 4.500000 %\n",
        "epoch 40, minibatch 44/44, validation error 4.500000 %\n",
        "epoch 41, minibatch 44/44, validation error 4.500000 %"
       ]
      },
      {
       "output_type": "stream",
       "stream": "stdout",
       "text": [
        "\n",
        "epoch 42, minibatch 44/44, validation error 4.500000 %\n",
        "epoch 43, minibatch 44/44, validation error 4.500000 %\n",
        "epoch 44, minibatch 44/44, validation error 4.500000 %\n",
        "epoch 45, minibatch 44/44, validation error 4.500000 %"
       ]
      },
      {
       "output_type": "stream",
       "stream": "stdout",
       "text": [
        "\n",
        "epoch 46, minibatch 44/44, validation error 4.500000 %\n",
        "epoch 47, minibatch 44/44, validation error 4.500000 %\n",
        "epoch 48, minibatch 44/44, validation error 4.500000 %\n",
        "epoch 49, minibatch 44/44, validation error 4.500000 %"
       ]
      },
      {
       "output_type": "stream",
       "stream": "stdout",
       "text": [
        "\n",
        "epoch 50, minibatch 44/44, validation error 4.500000 %\n",
        "epoch 51, minibatch 44/44, validation error 4.500000 %\n",
        "epoch 52, minibatch 44/44, validation error 4.500000 %\n",
        "epoch 53, minibatch 44/44, validation error 4.500000 %"
       ]
      },
      {
       "output_type": "stream",
       "stream": "stdout",
       "text": [
        "\n",
        "epoch 54, minibatch 44/44, validation error 4.500000 %\n",
        "epoch 55, minibatch 44/44, validation error 4.500000 %\n",
        "epoch 56, minibatch 44/44, validation error 4.500000 %\n",
        "epoch 57, minibatch 44/44, validation error 4.500000 %"
       ]
      },
      {
       "output_type": "stream",
       "stream": "stdout",
       "text": [
        "\n",
        "epoch 58, minibatch 44/44, validation error 4.500000 %\n",
        "epoch 59, minibatch 44/44, validation error 4.500000 %\n",
        "epoch 60, minibatch 44/44, validation error 4.500000 %\n",
        "epoch 61, minibatch 44/44, validation error 4.500000 %"
       ]
      },
      {
       "output_type": "stream",
       "stream": "stdout",
       "text": [
        "\n",
        "epoch 62, minibatch 44/44, validation error 4.500000 %\n",
        "epoch 63, minibatch 44/44, validation error 4.500000 %\n",
        "epoch 64, minibatch 44/44, validation error 4.500000 %\n",
        "epoch 65, minibatch 44/44, validation error 4.500000 %"
       ]
      },
      {
       "output_type": "stream",
       "stream": "stdout",
       "text": [
        "\n",
        "epoch 66, minibatch 44/44, validation error 4.500000 %\n",
        "epoch 67, minibatch 44/44, validation error 4.500000 %\n",
        "epoch 68, minibatch 44/44, validation error 4.500000 %\n",
        "epoch 69, minibatch 44/44, validation error 4.500000 %"
       ]
      },
      {
       "output_type": "stream",
       "stream": "stdout",
       "text": [
        "\n",
        "epoch 70, minibatch 44/44, validation error 4.500000 %\n",
        "epoch 71, minibatch 44/44, validation error 4.500000 %\n",
        "epoch 72, minibatch 44/44, validation error 4.500000 %\n",
        "epoch 73, minibatch 44/44, validation error 4.500000 %\n",
        "epoch 74, minibatch 44/44, validation error 4.500000 %"
       ]
      },
      {
       "output_type": "stream",
       "stream": "stdout",
       "text": [
        "\n",
        "epoch 75, minibatch 44/44, validation error 4.500000 %\n",
        "epoch 76, minibatch 44/44, validation error 4.500000 %\n",
        "epoch 77, minibatch 44/44, validation error 4.500000 %\n",
        "epoch 78, minibatch 44/44, validation error 4.500000 %\n",
        "epoch 79, minibatch 44/44, validation error 4.500000 %"
       ]
      },
      {
       "output_type": "stream",
       "stream": "stdout",
       "text": [
        "\n",
        "epoch 80, minibatch 44/44, validation error 4.500000 %\n",
        "epoch 81, minibatch 44/44, validation error 4.500000 %\n",
        "epoch 82, minibatch 44/44, validation error 4.500000 %\n",
        "epoch 83, minibatch 44/44, validation error 4.500000 %\n",
        "epoch 84, minibatch 44/44, validation error 4.500000 %"
       ]
      },
      {
       "output_type": "stream",
       "stream": "stdout",
       "text": [
        "\n",
        "epoch 85, minibatch 44/44, validation error 4.500000 %\n",
        "epoch 86, minibatch 44/44, validation error 4.500000 %\n",
        "epoch 87, minibatch 44/44, validation error 4.500000 %\n",
        "epoch 88, minibatch 44/44, validation error 4.500000 %\n",
        "epoch 89, minibatch 44/44, validation error 4.500000 %"
       ]
      },
      {
       "output_type": "stream",
       "stream": "stdout",
       "text": [
        "\n",
        "epoch 90, minibatch 44/44, validation error 4.500000 %\n",
        "epoch 91, minibatch 44/44, validation error 4.500000 %\n",
        "epoch 92, minibatch 44/44, validation error 4.500000 %\n",
        "epoch 93, minibatch 44/44, validation error 4.500000 %\n",
        "epoch 94, minibatch 44/44, validation error 4.500000 %"
       ]
      },
      {
       "output_type": "stream",
       "stream": "stdout",
       "text": [
        "\n",
        "epoch 95, minibatch 44/44, validation error 4.500000 %\n",
        "epoch 96, minibatch 44/44, validation error 4.500000 %\n",
        "epoch 97, minibatch 44/44, validation error 4.500000 %\n",
        "epoch 98, minibatch 44/44, validation error 4.500000 %\n",
        "epoch 99, minibatch 44/44, validation error 4.500000 %"
       ]
      },
      {
       "output_type": "stream",
       "stream": "stdout",
       "text": [
        "\n",
        "epoch 100, minibatch 44/44, validation error 4.500000 %\n",
        "epoch 101, minibatch 44/44, validation error 4.500000 %\n",
        "epoch 102, minibatch 44/44, validation error 4.500000 %\n",
        "epoch 103, minibatch 44/44, validation error 4.500000 %"
       ]
      },
      {
       "output_type": "stream",
       "stream": "stdout",
       "text": [
        "\n",
        "epoch 104, minibatch 44/44, validation error 4.500000 %\n",
        "epoch 105, minibatch 44/44, validation error 4.500000 %\n",
        "epoch 106, minibatch 44/44, validation error 4.500000 %\n",
        "epoch 107, minibatch 44/44, validation error 4.500000 %\n",
        "epoch 108, minibatch 44/44, validation error 4.500000 %"
       ]
      },
      {
       "output_type": "stream",
       "stream": "stdout",
       "text": [
        "\n",
        "epoch 109, minibatch 44/44, validation error 4.500000 %\n",
        "epoch 110, minibatch 44/44, validation error 4.500000 %\n",
        "epoch 111, minibatch 44/44, validation error 4.500000 %\n",
        "epoch 112, minibatch 44/44, validation error 4.500000 %"
       ]
      },
      {
       "output_type": "stream",
       "stream": "stdout",
       "text": [
        "\n",
        "epoch 113, minibatch 44/44, validation error 4.500000 %\n",
        "epoch 114, minibatch 44/44, validation error 4.500000 %\n",
        "epoch 115, minibatch 44/44, validation error 4.500000 %\n",
        "epoch 116, minibatch 44/44, validation error 4.500000 %\n",
        "epoch 117, minibatch 44/44, validation error 4.500000 %"
       ]
      },
      {
       "output_type": "stream",
       "stream": "stdout",
       "text": [
        "\n",
        "epoch 118, minibatch 44/44, validation error 4.500000 %\n",
        "epoch 119, minibatch 44/44, validation error 4.500000 %\n",
        "epoch 120, minibatch 44/44, validation error 4.500000 %\n",
        "epoch 121, minibatch 44/44, validation error 4.500000 %"
       ]
      },
      {
       "output_type": "stream",
       "stream": "stdout",
       "text": [
        "\n",
        "epoch 122, minibatch 44/44, validation error 4.500000 %\n",
        "epoch 123, minibatch 44/44, validation error 4.500000 %\n",
        "epoch 124, minibatch 44/44, validation error 4.500000 %\n",
        "epoch 125, minibatch 44/44, validation error 4.500000 %\n",
        "epoch 126, minibatch 44/44, validation error 4.500000 %"
       ]
      },
      {
       "output_type": "stream",
       "stream": "stdout",
       "text": [
        "\n",
        "epoch 127, minibatch 44/44, validation error 4.500000 %\n",
        "epoch 128, minibatch 44/44, validation error 4.500000 %\n",
        "epoch 129, minibatch 44/44, validation error 4.500000 %\n",
        "epoch 130, minibatch 44/44, validation error 4.500000 %\n",
        "epoch 131, minibatch 44/44, validation error 4.500000 %"
       ]
      },
      {
       "output_type": "stream",
       "stream": "stdout",
       "text": [
        "\n",
        "epoch 132, minibatch 44/44, validation error 4.500000 %\n",
        "epoch 133, minibatch 44/44, validation error 4.500000 %\n",
        "epoch 134, minibatch 44/44, validation error 4.500000 %\n",
        "epoch 135, minibatch 44/44, validation error 4.500000 %"
       ]
      },
      {
       "output_type": "stream",
       "stream": "stdout",
       "text": [
        "\n",
        "epoch 136, minibatch 44/44, validation error 4.500000 %\n",
        "epoch 137, minibatch 44/44, validation error 4.500000 %\n",
        "epoch 138, minibatch 44/44, validation error 4.500000 %\n",
        "epoch 139, minibatch 44/44, validation error 4.500000 %\n",
        "epoch 140, minibatch 44/44, validation error 4.500000 %"
       ]
      },
      {
       "output_type": "stream",
       "stream": "stdout",
       "text": [
        "\n",
        "epoch 141, minibatch 44/44, validation error 4.500000 %\n",
        "epoch 142, minibatch 44/44, validation error 4.500000 %\n",
        "epoch 143, minibatch 44/44, validation error 4.500000 %\n",
        "epoch 144, minibatch 44/44, validation error 4.500000 %"
       ]
      },
      {
       "output_type": "stream",
       "stream": "stdout",
       "text": [
        "\n",
        "epoch 145, minibatch 44/44, validation error 4.500000 %\n",
        "epoch 146, minibatch 44/44, validation error 4.500000 %\n",
        "epoch 147, minibatch 44/44, validation error 4.500000 %\n",
        "epoch 148, minibatch 44/44, validation error 4.500000 %\n",
        "epoch 149, minibatch 44/44, validation error 4.500000 %"
       ]
      },
      {
       "output_type": "stream",
       "stream": "stdout",
       "text": [
        "\n",
        "epoch 150, minibatch 44/44, validation error 4.500000 %\n",
        "epoch 151, minibatch 44/44, validation error 4.500000 %\n",
        "epoch 152, minibatch 44/44, validation error 4.500000 %\n",
        "epoch 153, minibatch 44/44, validation error 4.500000 %\n",
        "epoch 154, minibatch 44/44, validation error 4.500000 %"
       ]
      },
      {
       "output_type": "stream",
       "stream": "stdout",
       "text": [
        "\n",
        "epoch 155, minibatch 44/44, validation error 4.500000 %\n",
        "epoch 156, minibatch 44/44, validation error 4.500000 %\n",
        "epoch 157, minibatch 44/44, validation error 4.500000 %\n",
        "epoch 158, minibatch 44/44, validation error 4.500000 %"
       ]
      },
      {
       "output_type": "stream",
       "stream": "stdout",
       "text": [
        "\n",
        "epoch 159, minibatch 44/44, validation error 4.500000 %\n",
        "epoch 160, minibatch 44/44, validation error 4.500000 %\n",
        "epoch 161, minibatch 44/44, validation error 4.500000 %\n",
        "epoch 162, minibatch 44/44, validation error 4.500000 %\n",
        "epoch 163, minibatch 44/44, validation error 4.500000 %"
       ]
      },
      {
       "output_type": "stream",
       "stream": "stdout",
       "text": [
        "\n",
        "epoch 164, minibatch 44/44, validation error 4.500000 %\n",
        "epoch 165, minibatch 44/44, validation error 4.500000 %\n",
        "epoch 166, minibatch 44/44, validation error 4.500000 %\n",
        "epoch 167, minibatch 44/44, validation error 4.500000 %\n",
        "epoch 168, minibatch 44/44, validation error 4.500000 %"
       ]
      },
      {
       "output_type": "stream",
       "stream": "stdout",
       "text": [
        "\n",
        "epoch 169, minibatch 44/44, validation error 4.500000 %\n",
        "epoch 170, minibatch 44/44, validation error 4.500000 %\n",
        "epoch 171, minibatch 44/44, validation error 4.500000 %\n",
        "epoch 172, minibatch 44/44, validation error 4.500000 %"
       ]
      },
      {
       "output_type": "stream",
       "stream": "stdout",
       "text": [
        "\n",
        "epoch 173, minibatch 44/44, validation error 4.500000 %\n",
        "epoch 174, minibatch 44/44, validation error 4.500000 %\n",
        "epoch 175, minibatch 44/44, validation error 4.000000 %\n",
        "     epoch 175, minibatch 44/44, test error of best model 3.000000 %\n",
        "epoch 176, minibatch 44/44, validation error 4.000000 %\n",
        "epoch 177, minibatch 44/44, validation error 4.000000 %"
       ]
      },
      {
       "output_type": "stream",
       "stream": "stdout",
       "text": [
        "\n",
        "epoch 178, minibatch 44/44, validation error 4.000000 %\n",
        "epoch 179, minibatch 44/44, validation error 4.000000 %\n",
        "epoch 180, minibatch 44/44, validation error 4.000000 %\n",
        "epoch 181, minibatch 44/44, validation error 4.000000 %"
       ]
      },
      {
       "output_type": "stream",
       "stream": "stdout",
       "text": [
        "\n",
        "epoch 182, minibatch 44/44, validation error 4.000000 %\n",
        "epoch 183, minibatch 44/44, validation error 4.000000 %\n",
        "epoch 184, minibatch 44/44, validation error 4.000000 %\n",
        "epoch 185, minibatch 44/44, validation error 4.000000 %"
       ]
      },
      {
       "output_type": "stream",
       "stream": "stdout",
       "text": [
        "\n",
        "epoch 186, minibatch 44/44, validation error 4.000000 %\n",
        "epoch 187, minibatch 44/44, validation error 4.000000 %\n",
        "epoch 188, minibatch 44/44, validation error 4.000000 %\n",
        "epoch 189, minibatch 44/44, validation error 4.000000 %\n",
        "epoch 190, minibatch 44/44, validation error 3.500000 %"
       ]
      },
      {
       "output_type": "stream",
       "stream": "stdout",
       "text": [
        "\n",
        "     epoch 190, minibatch 44/44, test error of best model 3.000000 %\n",
        "epoch 191, minibatch 44/44, validation error 3.500000 %\n",
        "epoch 192, minibatch 44/44, validation error 3.500000 %\n",
        "epoch 193, minibatch 44/44, validation error 3.500000 %\n",
        "epoch 194, minibatch 44/44, validation error 3.500000 %"
       ]
      },
      {
       "output_type": "stream",
       "stream": "stdout",
       "text": [
        "\n",
        "epoch 195, minibatch 44/44, validation error 3.500000 %\n",
        "epoch 196, minibatch 44/44, validation error 3.500000 %\n",
        "epoch 197, minibatch 44/44, validation error 3.500000 %\n",
        "epoch 198, minibatch 44/44, validation error 3.500000 %\n",
        "epoch 199, minibatch 44/44, validation error 3.500000 %"
       ]
      },
      {
       "output_type": "stream",
       "stream": "stdout",
       "text": [
        "\n",
        "epoch 200, minibatch 44/44, validation error 3.500000 %\n",
        "epoch 201, minibatch 44/44, validation error 3.500000 %\n",
        "epoch 202, minibatch 44/44, validation error 3.500000 %\n",
        "epoch 203, minibatch 44/44, validation error 3.500000 %"
       ]
      },
      {
       "output_type": "stream",
       "stream": "stdout",
       "text": [
        "\n",
        "epoch 204, minibatch 44/44, validation error 3.500000 %\n",
        "epoch 205, minibatch 44/44, validation error 3.500000 %\n",
        "epoch 206, minibatch 44/44, validation error 3.500000 %\n",
        "epoch 207, minibatch 44/44, validation error 3.500000 %\n",
        "epoch 208, minibatch 44/44, validation error 3.500000 %"
       ]
      },
      {
       "output_type": "stream",
       "stream": "stdout",
       "text": [
        "\n",
        "epoch 209, minibatch 44/44, validation error 3.500000 %\n",
        "epoch 210, minibatch 44/44, validation error 3.500000 %\n",
        "epoch 211, minibatch 44/44, validation error 3.500000 %\n",
        "epoch 212, minibatch 44/44, validation error 3.500000 %\n",
        "epoch 213, minibatch 44/44, validation error 3.500000 %"
       ]
      },
      {
       "output_type": "stream",
       "stream": "stdout",
       "text": [
        "\n",
        "epoch 214, minibatch 44/44, validation error 3.500000 %\n",
        "epoch 215, minibatch 44/44, validation error 3.500000 %\n",
        "epoch 216, minibatch 44/44, validation error 3.500000 %\n",
        "epoch 217, minibatch 44/44, validation error 3.500000 %\n",
        "epoch 218, minibatch 44/44, validation error 3.500000 %"
       ]
      },
      {
       "output_type": "stream",
       "stream": "stdout",
       "text": [
        "\n",
        "epoch 219, minibatch 44/44, validation error 3.500000 %\n",
        "epoch 220, minibatch 44/44, validation error 3.500000 %\n",
        "epoch 221, minibatch 44/44, validation error 3.500000 %\n",
        "epoch 222, minibatch 44/44, validation error 3.500000 %"
       ]
      },
      {
       "output_type": "stream",
       "stream": "stdout",
       "text": [
        "\n",
        "epoch 223, minibatch 44/44, validation error 3.500000 %\n",
        "epoch 224, minibatch 44/44, validation error 3.500000 %\n",
        "epoch 225, minibatch 44/44, validation error 3.500000 %\n",
        "epoch 226, minibatch 44/44, validation error 3.500000 %"
       ]
      },
      {
       "output_type": "stream",
       "stream": "stdout",
       "text": [
        "\n",
        "epoch 227, minibatch 44/44, validation error 3.500000 %\n",
        "epoch 228, minibatch 44/44, validation error 3.500000 %\n",
        "epoch 229, minibatch 44/44, validation error 3.500000 %\n",
        "epoch 230, minibatch 44/44, validation error 3.500000 %"
       ]
      },
      {
       "output_type": "stream",
       "stream": "stdout",
       "text": [
        "\n",
        "epoch 231, minibatch 44/44, validation error 3.500000 %\n",
        "epoch 232, minibatch 44/44, validation error 3.500000 %\n",
        "epoch 233, minibatch 44/44, validation error 3.500000 %\n",
        "epoch 234, minibatch 44/44, validation error 3.500000 %"
       ]
      },
      {
       "output_type": "stream",
       "stream": "stdout",
       "text": [
        "\n",
        "epoch 235, minibatch 44/44, validation error 3.500000 %\n",
        "epoch 236, minibatch 44/44, validation error 3.500000 %\n",
        "epoch 237, minibatch 44/44, validation error 3.500000 %\n",
        "epoch 238, minibatch 44/44, validation error 3.500000 %\n",
        "epoch 239, minibatch 44/44, validation error 3.500000 %"
       ]
      },
      {
       "output_type": "stream",
       "stream": "stdout",
       "text": [
        "\n",
        "epoch 240, minibatch 44/44, validation error 3.500000 %\n",
        "epoch 241, minibatch 44/44, validation error 3.500000 %\n",
        "epoch 242, minibatch 44/44, validation error 3.500000 %\n",
        "epoch 243, minibatch 44/44, validation error 3.500000 %\n",
        "epoch 244, minibatch 44/44, validation error 3.500000 %"
       ]
      },
      {
       "output_type": "stream",
       "stream": "stdout",
       "text": [
        "\n",
        "epoch 245, minibatch 44/44, validation error 3.500000 %\n",
        "epoch 246, minibatch 44/44, validation error 3.500000 %\n",
        "epoch 247, minibatch 44/44, validation error 3.500000 %\n",
        "epoch 248, minibatch 44/44, validation error 3.000000 %\n",
        "     epoch 248, minibatch 44/44, test error of best model 3.000000 %"
       ]
      },
      {
       "output_type": "stream",
       "stream": "stdout",
       "text": [
        "\n",
        "epoch 249, minibatch 44/44, validation error 3.000000 %\n",
        "epoch 250, minibatch 44/44, validation error 3.000000 %\n",
        "epoch 251, minibatch 44/44, validation error 3.000000 %\n",
        "epoch 252, minibatch 44/44, validation error 3.000000 %\n",
        "epoch 253, minibatch 44/44, validation error 3.000000 %"
       ]
      },
      {
       "output_type": "stream",
       "stream": "stdout",
       "text": [
        "\n",
        "epoch 254, minibatch 44/44, validation error 3.000000 %\n",
        "epoch 255, minibatch 44/44, validation error 3.000000 %\n",
        "epoch 256, minibatch 44/44, validation error 3.000000 %\n",
        "epoch 257, minibatch 44/44, validation error 3.000000 %\n",
        "epoch 258, minibatch 44/44, validation error 3.000000 %"
       ]
      },
      {
       "output_type": "stream",
       "stream": "stdout",
       "text": [
        "\n",
        "epoch 259, minibatch 44/44, validation error 3.000000 %\n",
        "epoch 260, minibatch 44/44, validation error 3.000000 %\n",
        "epoch 261, minibatch 44/44, validation error 3.000000 %\n",
        "epoch 262, minibatch 44/44, validation error 3.000000 %"
       ]
      },
      {
       "output_type": "stream",
       "stream": "stdout",
       "text": [
        "\n",
        "epoch 263, minibatch 44/44, validation error 3.000000 %\n",
        "epoch 264, minibatch 44/44, validation error 3.000000 %\n",
        "epoch 265, minibatch 44/44, validation error 3.000000 %\n",
        "epoch 266, minibatch 44/44, validation error 3.000000 %"
       ]
      },
      {
       "output_type": "stream",
       "stream": "stdout",
       "text": [
        "\n",
        "epoch 267, minibatch 44/44, validation error 3.000000 %\n",
        "epoch 268, minibatch 44/44, validation error 3.000000 %\n",
        "epoch 269, minibatch 44/44, validation error 3.000000 %\n",
        "epoch 270, minibatch 44/44, validation error 3.000000 %"
       ]
      },
      {
       "output_type": "stream",
       "stream": "stdout",
       "text": [
        "\n",
        "epoch 271, minibatch 44/44, validation error 3.000000 %\n",
        "epoch 272, minibatch 44/44, validation error 3.000000 %\n",
        "epoch 273, minibatch 44/44, validation error 3.000000 %\n",
        "epoch 274, minibatch 44/44, validation error 3.000000 %"
       ]
      },
      {
       "output_type": "stream",
       "stream": "stdout",
       "text": [
        "\n",
        "epoch 275, minibatch 44/44, validation error 3.000000 %\n",
        "epoch 276, minibatch 44/44, validation error 3.000000 %\n",
        "epoch 277, minibatch 44/44, validation error 3.000000 %\n",
        "epoch 278, minibatch 44/44, validation error 3.000000 %"
       ]
      },
      {
       "output_type": "stream",
       "stream": "stdout",
       "text": [
        "\n",
        "epoch 279, minibatch 44/44, validation error 3.000000 %\n",
        "epoch 280, minibatch 44/44, validation error 3.000000 %\n",
        "epoch 281, minibatch 44/44, validation error 3.000000 %\n",
        "epoch 282, minibatch 44/44, validation error 3.000000 %"
       ]
      },
      {
       "output_type": "stream",
       "stream": "stdout",
       "text": [
        "\n",
        "epoch 283, minibatch 44/44, validation error 3.000000 %\n",
        "epoch 284, minibatch 44/44, validation error 3.000000 %\n",
        "epoch 285, minibatch 44/44, validation error 3.000000 %\n",
        "epoch 286, minibatch 44/44, validation error 3.000000 %\n",
        "epoch 287, minibatch 44/44, validation error 3.000000 %"
       ]
      },
      {
       "output_type": "stream",
       "stream": "stdout",
       "text": [
        "\n",
        "epoch 288, minibatch 44/44, validation error 3.000000 %\n",
        "epoch 289, minibatch 44/44, validation error 3.000000 %\n",
        "epoch 290, minibatch 44/44, validation error 3.000000 %\n",
        "epoch 291, minibatch 44/44, validation error 3.000000 %"
       ]
      },
      {
       "output_type": "stream",
       "stream": "stdout",
       "text": [
        "\n",
        "epoch 292, minibatch 44/44, validation error 3.000000 %\n",
        "epoch 293, minibatch 44/44, validation error 3.000000 %\n",
        "epoch 294, minibatch 44/44, validation error 3.000000 %\n",
        "epoch 295, minibatch 44/44, validation error 3.000000 %"
       ]
      },
      {
       "output_type": "stream",
       "stream": "stdout",
       "text": [
        "\n",
        "epoch 296, minibatch 44/44, validation error 3.000000 %\n",
        "epoch 297, minibatch 44/44, validation error 3.000000 %\n",
        "epoch 298, minibatch 44/44, validation error 3.000000 %\n",
        "epoch 299, minibatch 44/44, validation error 3.000000 %"
       ]
      },
      {
       "output_type": "stream",
       "stream": "stdout",
       "text": [
        "\n",
        "epoch 300, minibatch 44/44, validation error 3.000000 %\n",
        "epoch 301, minibatch 44/44, validation error 3.000000 %\n",
        "epoch 302, minibatch 44/44, validation error 3.000000 %\n",
        "epoch 303, minibatch 44/44, validation error 3.000000 %\n",
        "epoch 304, minibatch 44/44, validation error 3.000000 %"
       ]
      },
      {
       "output_type": "stream",
       "stream": "stdout",
       "text": [
        "\n",
        "epoch 305, minibatch 44/44, validation error 3.000000 %\n",
        "epoch 306, minibatch 44/44, validation error 3.000000 %\n",
        "epoch 307, minibatch 44/44, validation error 2.500000 %\n",
        "     epoch 307, minibatch 44/44, test error of best model 2.000000 %\n",
        "epoch 308, minibatch 44/44, validation error 2.500000 %"
       ]
      },
      {
       "output_type": "stream",
       "stream": "stdout",
       "text": [
        "\n",
        "epoch 309, minibatch 44/44, validation error 2.500000 %\n",
        "epoch 310, minibatch 44/44, validation error 2.500000 %\n",
        "epoch 311, minibatch 44/44, validation error 2.500000 %\n",
        "epoch 312, minibatch 44/44, validation error 2.500000 %"
       ]
      },
      {
       "output_type": "stream",
       "stream": "stdout",
       "text": [
        "\n",
        "epoch 313, minibatch 44/44, validation error 2.500000 %\n",
        "epoch 314, minibatch 44/44, validation error 2.500000 %\n",
        "epoch 315, minibatch 44/44, validation error 2.500000 %\n",
        "epoch 316, minibatch 44/44, validation error 2.500000 %\n",
        "epoch 317, minibatch 44/44, validation error 2.500000 %"
       ]
      },
      {
       "output_type": "stream",
       "stream": "stdout",
       "text": [
        "\n",
        "epoch 318, minibatch 44/44, validation error 2.500000 %\n",
        "epoch 319, minibatch 44/44, validation error 2.500000 %\n",
        "epoch 320, minibatch 44/44, validation error 2.500000 %\n",
        "epoch 321, minibatch 44/44, validation error 2.500000 %\n",
        "epoch 322, minibatch 44/44, validation error 2.500000 %"
       ]
      },
      {
       "output_type": "stream",
       "stream": "stdout",
       "text": [
        "\n",
        "epoch 323, minibatch 44/44, validation error 2.500000 %\n",
        "epoch 324, minibatch 44/44, validation error 2.500000 %\n",
        "epoch 325, minibatch 44/44, validation error 2.500000 %\n",
        "epoch 326, minibatch 44/44, validation error 2.500000 %\n",
        "epoch 327, minibatch 44/44, validation error 2.500000 %"
       ]
      },
      {
       "output_type": "stream",
       "stream": "stdout",
       "text": [
        "\n",
        "epoch 328, minibatch 44/44, validation error 2.500000 %\n",
        "epoch 329, minibatch 44/44, validation error 2.500000 %\n",
        "epoch 330, minibatch 44/44, validation error 2.500000 %\n",
        "epoch 331, minibatch 44/44, validation error 2.500000 %\n",
        "epoch 332, minibatch 44/44, validation error 2.500000 %"
       ]
      },
      {
       "output_type": "stream",
       "stream": "stdout",
       "text": [
        "\n",
        "epoch 333, minibatch 44/44, validation error 2.500000 %\n",
        "epoch 334, minibatch 44/44, validation error 2.500000 %\n",
        "epoch 335, minibatch 44/44, validation error 2.500000 %\n",
        "epoch 336, minibatch 44/44, validation error 2.500000 %"
       ]
      },
      {
       "output_type": "stream",
       "stream": "stdout",
       "text": [
        "\n",
        "epoch 337, minibatch 44/44, validation error 2.500000 %\n",
        "epoch 338, minibatch 44/44, validation error 2.500000 %\n",
        "epoch 339, minibatch 44/44, validation error 2.500000 %\n",
        "epoch 340, minibatch 44/44, validation error 2.500000 %"
       ]
      },
      {
       "output_type": "stream",
       "stream": "stdout",
       "text": [
        "\n",
        "epoch 341, minibatch 44/44, validation error 2.500000 %\n",
        "epoch 342, minibatch 44/44, validation error 2.500000 %\n",
        "epoch 343, minibatch 44/44, validation error 2.500000 %\n",
        "epoch 344, minibatch 44/44, validation error 2.500000 %\n",
        "epoch 345, minibatch 44/44, validation error 2.500000 %"
       ]
      },
      {
       "output_type": "stream",
       "stream": "stdout",
       "text": [
        "\n",
        "epoch 346, minibatch 44/44, validation error 2.500000 %\n",
        "epoch 347, minibatch 44/44, validation error 2.500000 %\n",
        "epoch 348, minibatch 44/44, validation error 2.500000 %\n",
        "epoch 349, minibatch 44/44, validation error 2.500000 %"
       ]
      },
      {
       "output_type": "stream",
       "stream": "stdout",
       "text": [
        "\n",
        "epoch 350, minibatch 44/44, validation error 2.000000 %\n",
        "     epoch 350, minibatch 44/44, test error of best model 1.500000 %\n",
        "epoch 351, minibatch 44/44, validation error 2.000000 %\n",
        "epoch 352, minibatch 44/44, validation error 2.000000 %\n",
        "epoch 353, minibatch 44/44, validation error 2.000000 %"
       ]
      },
      {
       "output_type": "stream",
       "stream": "stdout",
       "text": [
        "\n",
        "epoch 354, minibatch 44/44, validation error 2.000000 %\n",
        "epoch 355, minibatch 44/44, validation error 2.000000 %\n",
        "epoch 356, minibatch 44/44, validation error 2.000000 %\n",
        "epoch 357, minibatch 44/44, validation error 2.000000 %"
       ]
      },
      {
       "output_type": "stream",
       "stream": "stdout",
       "text": [
        "\n",
        "epoch 358, minibatch 44/44, validation error 2.000000 %\n",
        "epoch 359, minibatch 44/44, validation error 2.000000 %\n",
        "epoch 360, minibatch 44/44, validation error 2.000000 %\n",
        "epoch 361, minibatch 44/44, validation error 2.000000 %"
       ]
      },
      {
       "output_type": "stream",
       "stream": "stdout",
       "text": [
        "\n",
        "epoch 362, minibatch 44/44, validation error 2.000000 %\n",
        "epoch 363, minibatch 44/44, validation error 2.000000 %\n",
        "epoch 364, minibatch 44/44, validation error 2.000000 %\n",
        "epoch 365, minibatch 44/44, validation error 2.000000 %"
       ]
      },
      {
       "output_type": "stream",
       "stream": "stdout",
       "text": [
        "\n",
        "epoch 366, minibatch 44/44, validation error 2.000000 %\n",
        "epoch 367, minibatch 44/44, validation error 2.000000 %\n",
        "epoch 368, minibatch 44/44, validation error 2.000000 %\n",
        "epoch 369, minibatch 44/44, validation error 2.000000 %\n",
        "epoch 370, minibatch 44/44, validation error 2.000000 %"
       ]
      },
      {
       "output_type": "stream",
       "stream": "stdout",
       "text": [
        "\n",
        "epoch 371, minibatch 44/44, validation error 2.000000 %\n",
        "epoch 372, minibatch 44/44, validation error 2.000000 %\n",
        "epoch 373, minibatch 44/44, validation error 2.000000 %\n",
        "epoch 374, minibatch 44/44, validation error 2.000000 %"
       ]
      },
      {
       "output_type": "stream",
       "stream": "stdout",
       "text": [
        "\n",
        "epoch 375, minibatch 44/44, validation error 2.000000 %\n",
        "epoch 376, minibatch 44/44, validation error 2.000000 %\n",
        "epoch 377, minibatch 44/44, validation error 2.000000 %\n",
        "epoch 378, minibatch 44/44, validation error 2.000000 %"
       ]
      },
      {
       "output_type": "stream",
       "stream": "stdout",
       "text": [
        "\n",
        "epoch 379, minibatch 44/44, validation error 2.000000 %\n",
        "epoch 380, minibatch 44/44, validation error 2.000000 %\n",
        "epoch 381, minibatch 44/44, validation error 2.000000 %\n",
        "epoch 382, minibatch 44/44, validation error 2.000000 %\n",
        "epoch 383, minibatch 44/44, validation error 2.000000 %"
       ]
      },
      {
       "output_type": "stream",
       "stream": "stdout",
       "text": [
        "\n",
        "epoch 384, minibatch 44/44, validation error 2.000000 %\n",
        "epoch 385, minibatch 44/44, validation error 2.000000 %\n",
        "epoch 386, minibatch 44/44, validation error 2.000000 %\n",
        "epoch 387, minibatch 44/44, validation error 2.000000 %"
       ]
      },
      {
       "output_type": "stream",
       "stream": "stdout",
       "text": [
        "\n",
        "epoch 388, minibatch 44/44, validation error 2.000000 %\n",
        "epoch 389, minibatch 44/44, validation error 2.000000 %\n",
        "epoch 390, minibatch 44/44, validation error 2.000000 %\n",
        "epoch 391, minibatch 44/44, validation error 2.000000 %"
       ]
      },
      {
       "output_type": "stream",
       "stream": "stdout",
       "text": [
        "\n",
        "epoch 392, minibatch 44/44, validation error 2.000000 %\n",
        "epoch 393, minibatch 44/44, validation error 2.000000 %\n",
        "epoch 394, minibatch 44/44, validation error 2.000000 %\n",
        "epoch 395, minibatch 44/44, validation error 2.000000 %\n",
        "epoch 396, minibatch 44/44, validation error 2.000000 %"
       ]
      },
      {
       "output_type": "stream",
       "stream": "stdout",
       "text": [
        "\n",
        "epoch 397, minibatch 44/44, validation error 2.000000 %\n",
        "epoch 398, minibatch 44/44, validation error 2.000000 %\n",
        "epoch 399, minibatch 44/44, validation error 2.000000 %\n",
        "epoch 400, minibatch 44/44, validation error 1.500000 %\n",
        "     epoch 400, minibatch 44/44, test error of best model 1.500000 %"
       ]
      },
      {
       "output_type": "stream",
       "stream": "stdout",
       "text": [
        "\n",
        "epoch 401, minibatch 44/44, validation error 1.500000 %\n",
        "epoch 402, minibatch 44/44, validation error 1.500000 %\n",
        "epoch 403, minibatch 44/44, validation error 1.500000 %\n",
        "epoch 404, minibatch 44/44, validation error 1.500000 %\n",
        "epoch 405, minibatch 44/44, validation error 1.500000 %"
       ]
      },
      {
       "output_type": "stream",
       "stream": "stdout",
       "text": [
        "\n",
        "epoch 406, minibatch 44/44, validation error 1.500000 %\n",
        "epoch 407, minibatch 44/44, validation error 1.500000 %\n",
        "epoch 408, minibatch 44/44, validation error 1.500000 %\n",
        "epoch 409, minibatch 44/44, validation error 1.500000 %"
       ]
      },
      {
       "output_type": "stream",
       "stream": "stdout",
       "text": [
        "\n",
        "epoch 410, minibatch 44/44, validation error 1.500000 %\n",
        "epoch 411, minibatch 44/44, validation error 1.500000 %\n",
        "epoch 412, minibatch 44/44, validation error 1.500000 %\n",
        "epoch 413, minibatch 44/44, validation error 1.500000 %"
       ]
      },
      {
       "output_type": "stream",
       "stream": "stdout",
       "text": [
        "\n",
        "epoch 414, minibatch 44/44, validation error 1.500000 %\n",
        "epoch 415, minibatch 44/44, validation error 1.500000 %\n",
        "epoch 416, minibatch 44/44, validation error 1.500000 %\n",
        "epoch 417, minibatch 44/44, validation error 1.500000 %"
       ]
      },
      {
       "output_type": "stream",
       "stream": "stdout",
       "text": [
        "\n",
        "epoch 418, minibatch 44/44, validation error 1.500000 %\n",
        "epoch 419, minibatch 44/44, validation error 1.500000 %\n",
        "epoch 420, minibatch 44/44, validation error 1.500000 %\n",
        "epoch 421, minibatch 44/44, validation error 1.500000 %"
       ]
      },
      {
       "output_type": "stream",
       "stream": "stdout",
       "text": [
        "\n",
        "epoch 422, minibatch 44/44, validation error 1.500000 %\n",
        "epoch 423, minibatch 44/44, validation error 1.500000 %\n",
        "epoch 424, minibatch 44/44, validation error 1.500000 %\n",
        "epoch 425, minibatch 44/44, validation error 1.500000 %"
       ]
      },
      {
       "output_type": "stream",
       "stream": "stdout",
       "text": [
        "\n",
        "epoch 426, minibatch 44/44, validation error 1.500000 %\n",
        "epoch 427, minibatch 44/44, validation error 1.500000 %\n",
        "epoch 428, minibatch 44/44, validation error 1.500000 %\n",
        "epoch 429, minibatch 44/44, validation error 1.500000 %"
       ]
      },
      {
       "output_type": "stream",
       "stream": "stdout",
       "text": [
        "\n",
        "epoch 430, minibatch 44/44, validation error 1.500000 %\n",
        "epoch 431, minibatch 44/44, validation error 1.500000 %\n",
        "epoch 432, minibatch 44/44, validation error 1.500000 %\n",
        "epoch 433, minibatch 44/44, validation error 1.500000 %"
       ]
      },
      {
       "output_type": "stream",
       "stream": "stdout",
       "text": [
        "\n",
        "epoch 434, minibatch 44/44, validation error 1.500000 %\n",
        "epoch 435, minibatch 44/44, validation error 1.500000 %\n",
        "epoch 436, minibatch 44/44, validation error 1.500000 %\n",
        "epoch 437, minibatch 44/44, validation error 1.500000 %\n",
        "epoch 438, minibatch 44/44, validation error 1.500000 %"
       ]
      },
      {
       "output_type": "stream",
       "stream": "stdout",
       "text": [
        "\n",
        "epoch 439, minibatch 44/44, validation error 1.500000 %\n",
        "epoch 440, minibatch 44/44, validation error 1.500000 %\n",
        "epoch 441, minibatch 44/44, validation error 1.500000 %\n",
        "epoch 442, minibatch 44/44, validation error 1.500000 %"
       ]
      },
      {
       "output_type": "stream",
       "stream": "stdout",
       "text": [
        "\n",
        "epoch 443, minibatch 44/44, validation error 1.500000 %\n",
        "epoch 444, minibatch 44/44, validation error 1.500000 %\n",
        "epoch 445, minibatch 44/44, validation error 1.500000 %\n",
        "epoch 446, minibatch 44/44, validation error 1.500000 %\n",
        "epoch 447, minibatch 44/44, validation error 1.500000 %"
       ]
      },
      {
       "output_type": "stream",
       "stream": "stdout",
       "text": [
        "\n",
        "epoch 448, minibatch 44/44, validation error 1.500000 %\n",
        "epoch 449, minibatch 44/44, validation error 1.500000 %\n",
        "epoch 450, minibatch 44/44, validation error 1.500000 %\n",
        "epoch 451, minibatch 44/44, validation error 1.500000 %"
       ]
      },
      {
       "output_type": "stream",
       "stream": "stdout",
       "text": [
        "\n",
        "epoch 452, minibatch 44/44, validation error 1.500000 %\n",
        "epoch 453, minibatch 44/44, validation error 1.500000 %\n",
        "epoch 454, minibatch 44/44, validation error 1.500000 %\n",
        "epoch 455, minibatch 44/44, validation error 1.500000 %"
       ]
      },
      {
       "output_type": "stream",
       "stream": "stdout",
       "text": [
        "\n",
        "epoch 456, minibatch 44/44, validation error 1.500000 %\n",
        "epoch 457, minibatch 44/44, validation error 1.500000 %\n",
        "epoch 458, minibatch 44/44, validation error 1.500000 %\n",
        "epoch 459, minibatch 44/44, validation error 1.500000 %"
       ]
      },
      {
       "output_type": "stream",
       "stream": "stdout",
       "text": [
        "\n",
        "epoch 460, minibatch 44/44, validation error 1.500000 %\n",
        "epoch 461, minibatch 44/44, validation error 1.500000 %\n",
        "epoch 462, minibatch 44/44, validation error 1.500000 %\n",
        "epoch 463, minibatch 44/44, validation error 1.500000 %"
       ]
      },
      {
       "output_type": "stream",
       "stream": "stdout",
       "text": [
        "\n",
        "epoch 464, minibatch 44/44, validation error 1.500000 %\n",
        "epoch 465, minibatch 44/44, validation error 1.500000 %\n",
        "epoch 466, minibatch 44/44, validation error 1.500000 %\n",
        "epoch 467, minibatch 44/44, validation error 1.500000 %\n",
        "epoch 468, minibatch 44/44, validation error 1.500000 %"
       ]
      },
      {
       "output_type": "stream",
       "stream": "stdout",
       "text": [
        "\n",
        "epoch 469, minibatch 44/44, validation error 1.500000 %\n",
        "epoch 470, minibatch 44/44, validation error 1.500000 %\n",
        "epoch 471, minibatch 44/44, validation error 1.500000 %\n",
        "epoch 472, minibatch 44/44, validation error 1.500000 %\n",
        "epoch 473, minibatch 44/44, validation error 1.500000 %"
       ]
      },
      {
       "output_type": "stream",
       "stream": "stdout",
       "text": [
        "\n",
        "epoch 474, minibatch 44/44, validation error 1.500000 %\n",
        "epoch 475, minibatch 44/44, validation error 1.500000 %\n",
        "epoch 476, minibatch 44/44, validation error 1.500000 %\n",
        "epoch 477, minibatch 44/44, validation error 1.500000 %"
       ]
      },
      {
       "output_type": "stream",
       "stream": "stdout",
       "text": [
        "\n",
        "epoch 478, minibatch 44/44, validation error 1.500000 %\n",
        "epoch 479, minibatch 44/44, validation error 1.500000 %\n",
        "epoch 480, minibatch 44/44, validation error 1.500000 %\n",
        "epoch 481, minibatch 44/44, validation error 1.500000 %\n",
        "epoch 482, minibatch 44/44, validation error 1.500000 %"
       ]
      },
      {
       "output_type": "stream",
       "stream": "stdout",
       "text": [
        "\n",
        "epoch 483, minibatch 44/44, validation error 1.500000 %\n",
        "epoch 484, minibatch 44/44, validation error 1.500000 %\n",
        "epoch 485, minibatch 44/44, validation error 1.500000 %\n",
        "epoch 486, minibatch 44/44, validation error 1.500000 %"
       ]
      },
      {
       "output_type": "stream",
       "stream": "stdout",
       "text": [
        "\n",
        "epoch 487, minibatch 44/44, validation error 1.500000 %\n",
        "epoch 488, minibatch 44/44, validation error 1.500000 %\n",
        "epoch 489, minibatch 44/44, validation error 1.500000 %\n",
        "epoch 490, minibatch 44/44, validation error 1.500000 %"
       ]
      },
      {
       "output_type": "stream",
       "stream": "stdout",
       "text": [
        "\n",
        "epoch 491, minibatch 44/44, validation error 1.500000 %\n",
        "epoch 492, minibatch 44/44, validation error 1.500000 %\n",
        "epoch 493, minibatch 44/44, validation error 1.500000 %\n",
        "epoch 494, minibatch 44/44, validation error 1.500000 %\n",
        "epoch 495, minibatch 44/44, validation error 1.500000 %"
       ]
      },
      {
       "output_type": "stream",
       "stream": "stdout",
       "text": [
        "\n",
        "epoch 496, minibatch 44/44, validation error 1.500000 %\n",
        "epoch 497, minibatch 44/44, validation error 1.500000 %\n",
        "epoch 498, minibatch 44/44, validation error 1.500000 %\n",
        "epoch 499, minibatch 44/44, validation error 1.500000 %\n",
        "epoch 500, minibatch 44/44, validation error 1.500000 %"
       ]
      },
      {
       "output_type": "stream",
       "stream": "stdout",
       "text": [
        "\n",
        "epoch 501, minibatch 44/44, validation error 1.500000 %\n",
        "epoch 502, minibatch 44/44, validation error 1.500000 %\n",
        "epoch 503, minibatch 44/44, validation error 1.500000 %\n",
        "epoch 504, minibatch 44/44, validation error 1.500000 %"
       ]
      },
      {
       "output_type": "stream",
       "stream": "stdout",
       "text": [
        "\n",
        "epoch 505, minibatch 44/44, validation error 1.500000 %\n",
        "epoch 506, minibatch 44/44, validation error 1.500000 %\n",
        "epoch 507, minibatch 44/44, validation error 1.500000 %\n",
        "epoch 508, minibatch 44/44, validation error 1.500000 %\n",
        "epoch 509, minibatch 44/44, validation error 1.500000 %"
       ]
      },
      {
       "output_type": "stream",
       "stream": "stdout",
       "text": [
        "\n",
        "epoch 510, minibatch 44/44, validation error 1.500000 %\n",
        "epoch 511, minibatch 44/44, validation error 1.500000 %\n",
        "epoch 512, minibatch 44/44, validation error 1.500000 %\n",
        "epoch 513, minibatch 44/44, validation error 1.500000 %"
       ]
      },
      {
       "output_type": "stream",
       "stream": "stdout",
       "text": [
        "\n",
        "epoch 514, minibatch 44/44, validation error 1.500000 %\n",
        "epoch 515, minibatch 44/44, validation error 1.500000 %\n",
        "epoch 516, minibatch 44/44, validation error 1.500000 %\n",
        "epoch 517, minibatch 44/44, validation error 1.500000 %\n",
        "epoch 518, minibatch 44/44, validation error 1.500000 %"
       ]
      },
      {
       "output_type": "stream",
       "stream": "stdout",
       "text": [
        "\n",
        "epoch 519, minibatch 44/44, validation error 1.500000 %\n",
        "epoch 520, minibatch 44/44, validation error 1.500000 %\n",
        "epoch 521, minibatch 44/44, validation error 1.500000 %\n",
        "epoch 522, minibatch 44/44, validation error 1.500000 %"
       ]
      },
      {
       "output_type": "stream",
       "stream": "stdout",
       "text": [
        "\n",
        "epoch 523, minibatch 44/44, validation error 1.500000 %\n",
        "epoch 524, minibatch 44/44, validation error 1.500000 %\n",
        "epoch 525, minibatch 44/44, validation error 1.500000 %\n",
        "epoch 526, minibatch 44/44, validation error 1.500000 %"
       ]
      },
      {
       "output_type": "stream",
       "stream": "stdout",
       "text": [
        "\n",
        "epoch 527, minibatch 44/44, validation error 1.500000 %\n",
        "epoch 528, minibatch 44/44, validation error 1.500000 %\n",
        "epoch 529, minibatch 44/44, validation error 1.500000 %\n",
        "epoch 530, minibatch 44/44, validation error 1.500000 %\n",
        "epoch 531, minibatch 44/44, validation error 1.500000 %"
       ]
      },
      {
       "output_type": "stream",
       "stream": "stdout",
       "text": [
        "\n",
        "epoch 532, minibatch 44/44, validation error 1.500000 %\n",
        "epoch 533, minibatch 44/44, validation error 1.500000 %\n",
        "epoch 534, minibatch 44/44, validation error 1.500000 %\n",
        "epoch 535, minibatch 44/44, validation error 1.500000 %"
       ]
      },
      {
       "output_type": "stream",
       "stream": "stdout",
       "text": [
        "\n",
        "epoch 536, minibatch 44/44, validation error 1.500000 %\n",
        "epoch 537, minibatch 44/44, validation error 1.500000 %\n",
        "epoch 538, minibatch 44/44, validation error 1.500000 %\n",
        "epoch 539, minibatch 44/44, validation error 1.500000 %"
       ]
      },
      {
       "output_type": "stream",
       "stream": "stdout",
       "text": [
        "\n",
        "epoch 540, minibatch 44/44, validation error 1.500000 %\n",
        "epoch 541, minibatch 44/44, validation error 1.500000 %\n",
        "epoch 542, minibatch 44/44, validation error 1.500000 %\n",
        "epoch 543, minibatch 44/44, validation error 1.500000 %"
       ]
      },
      {
       "output_type": "stream",
       "stream": "stdout",
       "text": [
        "\n",
        "epoch 544, minibatch 44/44, validation error 1.500000 %\n",
        "epoch 545, minibatch 44/44, validation error 1.500000 %\n",
        "epoch 546, minibatch 44/44, validation error 1.000000 %\n",
        "     epoch 546, minibatch 44/44, test error of best model 2.000000 %\n",
        "epoch 547, minibatch 44/44, validation error 1.000000 %"
       ]
      },
      {
       "output_type": "stream",
       "stream": "stdout",
       "text": [
        "\n",
        "epoch 548, minibatch 44/44, validation error 1.000000 %\n",
        "epoch 549, minibatch 44/44, validation error 1.000000 %\n",
        "epoch 550, minibatch 44/44, validation error 1.000000 %\n",
        "epoch 551, minibatch 44/44, validation error 1.000000 %"
       ]
      },
      {
       "output_type": "stream",
       "stream": "stdout",
       "text": [
        "\n",
        "epoch 552, minibatch 44/44, validation error 1.000000 %\n",
        "epoch 553, minibatch 44/44, validation error 1.000000 %\n",
        "epoch 554, minibatch 44/44, validation error 1.000000 %\n",
        "epoch 555, minibatch 44/44, validation error 1.000000 %\n",
        "epoch 556, minibatch 44/44, validation error 1.000000 %"
       ]
      },
      {
       "output_type": "stream",
       "stream": "stdout",
       "text": [
        "\n",
        "epoch 557, minibatch 44/44, validation error 1.000000 %\n",
        "epoch 558, minibatch 44/44, validation error 1.000000 %\n",
        "epoch 559, minibatch 44/44, validation error 1.000000 %\n",
        "epoch 560, minibatch 44/44, validation error 1.000000 %\n",
        "epoch 561, minibatch 44/44, validation error 1.000000 %"
       ]
      },
      {
       "output_type": "stream",
       "stream": "stdout",
       "text": [
        "\n",
        "epoch 562, minibatch 44/44, validation error 1.000000 %\n",
        "epoch 563, minibatch 44/44, validation error 1.000000 %\n",
        "epoch 564, minibatch 44/44, validation error 1.000000 %\n",
        "epoch 565, minibatch 44/44, validation error 1.000000 %"
       ]
      },
      {
       "output_type": "stream",
       "stream": "stdout",
       "text": [
        "\n",
        "epoch 566, minibatch 44/44, validation error 1.000000 %\n",
        "epoch 567, minibatch 44/44, validation error 1.000000 %\n",
        "epoch 568, minibatch 44/44, validation error 1.000000 %\n",
        "epoch 569, minibatch 44/44, validation error 1.000000 %"
       ]
      },
      {
       "output_type": "stream",
       "stream": "stdout",
       "text": [
        "\n",
        "epoch 570, minibatch 44/44, validation error 1.000000 %\n",
        "epoch 571, minibatch 44/44, validation error 1.000000 %\n",
        "epoch 572, minibatch 44/44, validation error 1.000000 %\n",
        "epoch 573, minibatch 44/44, validation error 1.000000 %"
       ]
      },
      {
       "output_type": "stream",
       "stream": "stdout",
       "text": [
        "\n",
        "epoch 574, minibatch 44/44, validation error 1.000000 %\n",
        "epoch 575, minibatch 44/44, validation error 1.000000 %\n",
        "epoch 576, minibatch 44/44, validation error 1.000000 %\n",
        "epoch 577, minibatch 44/44, validation error 1.000000 %"
       ]
      },
      {
       "output_type": "stream",
       "stream": "stdout",
       "text": [
        "\n",
        "epoch 578, minibatch 44/44, validation error 1.000000 %\n",
        "epoch 579, minibatch 44/44, validation error 1.000000 %\n",
        "epoch 580, minibatch 44/44, validation error 1.000000 %\n",
        "epoch 581, minibatch 44/44, validation error 1.000000 %"
       ]
      },
      {
       "output_type": "stream",
       "stream": "stdout",
       "text": [
        "\n",
        "epoch 582, minibatch 44/44, validation error 1.000000 %\n",
        "epoch 583, minibatch 44/44, validation error 1.000000 %\n",
        "epoch 584, minibatch 44/44, validation error 1.000000 %\n",
        "epoch 585, minibatch 44/44, validation error 1.000000 %"
       ]
      },
      {
       "output_type": "stream",
       "stream": "stdout",
       "text": [
        "\n",
        "epoch 586, minibatch 44/44, validation error 1.000000 %\n",
        "epoch 587, minibatch 44/44, validation error 1.000000 %\n",
        "epoch 588, minibatch 44/44, validation error 1.000000 %\n",
        "epoch 589, minibatch 44/44, validation error 1.000000 %"
       ]
      },
      {
       "output_type": "stream",
       "stream": "stdout",
       "text": [
        "\n",
        "epoch 590, minibatch 44/44, validation error 1.000000 %\n",
        "epoch 591, minibatch 44/44, validation error 1.000000 %\n",
        "epoch 592, minibatch 44/44, validation error 1.000000 %\n",
        "epoch 593, minibatch 44/44, validation error 1.000000 %"
       ]
      },
      {
       "output_type": "stream",
       "stream": "stdout",
       "text": [
        "\n",
        "epoch 594, minibatch 44/44, validation error 1.000000 %\n",
        "epoch 595, minibatch 44/44, validation error 1.000000 %\n",
        "epoch 596, minibatch 44/44, validation error 1.000000 %\n",
        "epoch 597, minibatch 44/44, validation error 1.000000 %"
       ]
      },
      {
       "output_type": "stream",
       "stream": "stdout",
       "text": [
        "\n",
        "epoch 598, minibatch 44/44, validation error 1.000000 %\n",
        "epoch 599, minibatch 44/44, validation error 1.000000 %\n",
        "epoch 600, minibatch 44/44, validation error 1.000000 %\n",
        "epoch 601, minibatch 44/44, validation error 1.000000 %\n",
        "epoch 602, minibatch 44/44, validation error 1.000000 %"
       ]
      },
      {
       "output_type": "stream",
       "stream": "stdout",
       "text": [
        "\n",
        "epoch 603, minibatch 44/44, validation error 1.000000 %\n",
        "epoch 604, minibatch 44/44, validation error 1.000000 %\n",
        "epoch 605, minibatch 44/44, validation error 1.000000 %\n",
        "epoch 606, minibatch 44/44, validation error 1.000000 %\n",
        "epoch 607, minibatch 44/44, validation error 1.000000 %"
       ]
      },
      {
       "output_type": "stream",
       "stream": "stdout",
       "text": [
        "\n",
        "epoch 608, minibatch 44/44, validation error 1.000000 %\n",
        "epoch 609, minibatch 44/44, validation error 1.000000 %\n",
        "epoch 610, minibatch 44/44, validation error 1.000000 %\n",
        "epoch 611, minibatch 44/44, validation error 1.000000 %"
       ]
      },
      {
       "output_type": "stream",
       "stream": "stdout",
       "text": [
        "\n",
        "epoch 612, minibatch 44/44, validation error 1.000000 %\n",
        "epoch 613, minibatch 44/44, validation error 1.000000 %\n",
        "epoch 614, minibatch 44/44, validation error 1.000000 %\n",
        "epoch 615, minibatch 44/44, validation error 1.000000 %"
       ]
      },
      {
       "output_type": "stream",
       "stream": "stdout",
       "text": [
        "\n",
        "epoch 616, minibatch 44/44, validation error 1.000000 %\n",
        "epoch 617, minibatch 44/44, validation error 1.000000 %\n",
        "epoch 618, minibatch 44/44, validation error 1.000000 %\n",
        "epoch 619, minibatch 44/44, validation error 1.000000 %\n",
        "epoch 620, minibatch 44/44, validation error 1.000000 %"
       ]
      },
      {
       "output_type": "stream",
       "stream": "stdout",
       "text": [
        "\n",
        "epoch 621, minibatch 44/44, validation error 1.000000 %\n",
        "epoch 622, minibatch 44/44, validation error 1.000000 %\n",
        "epoch 623, minibatch 44/44, validation error 1.000000 %\n",
        "epoch 624, minibatch 44/44, validation error 1.000000 %\n",
        "epoch 625, minibatch 44/44, validation error 1.000000 %"
       ]
      },
      {
       "output_type": "stream",
       "stream": "stdout",
       "text": [
        "\n",
        "epoch 626, minibatch 44/44, validation error 1.000000 %\n",
        "epoch 627, minibatch 44/44, validation error 1.000000 %\n",
        "epoch 628, minibatch 44/44, validation error 1.000000 %\n",
        "epoch 629, minibatch 44/44, validation error 1.000000 %"
       ]
      },
      {
       "output_type": "stream",
       "stream": "stdout",
       "text": [
        "\n",
        "epoch 630, minibatch 44/44, validation error 1.000000 %\n",
        "epoch 631, minibatch 44/44, validation error 1.000000 %\n",
        "epoch 632, minibatch 44/44, validation error 1.000000 %\n",
        "epoch 633, minibatch 44/44, validation error 1.000000 %\n",
        "epoch 634, minibatch 44/44, validation error 1.000000 %"
       ]
      },
      {
       "output_type": "stream",
       "stream": "stdout",
       "text": [
        "\n",
        "epoch 635, minibatch 44/44, validation error 1.000000 %\n",
        "epoch 636, minibatch 44/44, validation error 1.000000 %\n",
        "epoch 637, minibatch 44/44, validation error 1.000000 %\n",
        "epoch 638, minibatch 44/44, validation error 1.000000 %"
       ]
      },
      {
       "output_type": "stream",
       "stream": "stdout",
       "text": [
        "\n",
        "epoch 639, minibatch 44/44, validation error 1.000000 %\n",
        "epoch 640, minibatch 44/44, validation error 1.000000 %\n",
        "epoch 641, minibatch 44/44, validation error 1.000000 %\n",
        "epoch 642, minibatch 44/44, validation error 1.000000 %"
       ]
      },
      {
       "output_type": "stream",
       "stream": "stdout",
       "text": [
        "\n",
        "epoch 643, minibatch 44/44, validation error 1.000000 %\n",
        "epoch 644, minibatch 44/44, validation error 1.000000 %\n",
        "epoch 645, minibatch 44/44, validation error 1.000000 %\n",
        "epoch 646, minibatch 44/44, validation error 1.000000 %"
       ]
      },
      {
       "output_type": "stream",
       "stream": "stdout",
       "text": [
        "\n",
        "epoch 647, minibatch 44/44, validation error 1.000000 %\n",
        "epoch 648, minibatch 44/44, validation error 1.000000 %\n",
        "epoch 649, minibatch 44/44, validation error 1.000000 %\n",
        "epoch 650, minibatch 44/44, validation error 1.000000 %"
       ]
      },
      {
       "output_type": "stream",
       "stream": "stdout",
       "text": [
        "\n",
        "epoch 651, minibatch 44/44, validation error 1.000000 %\n",
        "epoch 652, minibatch 44/44, validation error 1.000000 %\n",
        "epoch 653, minibatch 44/44, validation error 1.000000 %\n",
        "epoch 654, minibatch 44/44, validation error 1.000000 %"
       ]
      },
      {
       "output_type": "stream",
       "stream": "stdout",
       "text": [
        "\n",
        "epoch 655, minibatch 44/44, validation error 1.000000 %\n",
        "epoch 656, minibatch 44/44, validation error 1.000000 %\n",
        "epoch 657, minibatch 44/44, validation error 1.000000 %\n",
        "epoch 658, minibatch 44/44, validation error 1.000000 %"
       ]
      },
      {
       "output_type": "stream",
       "stream": "stdout",
       "text": [
        "\n",
        "epoch 659, minibatch 44/44, validation error 1.000000 %\n",
        "epoch 660, minibatch 44/44, validation error 1.000000 %\n",
        "epoch 661, minibatch 44/44, validation error 1.000000 %\n",
        "epoch 662, minibatch 44/44, validation error 1.000000 %"
       ]
      },
      {
       "output_type": "stream",
       "stream": "stdout",
       "text": [
        "\n",
        "epoch 663, minibatch 44/44, validation error 1.000000 %\n",
        "epoch 664, minibatch 44/44, validation error 1.000000 %\n",
        "epoch 665, minibatch 44/44, validation error 1.000000 %\n",
        "epoch 666, minibatch 44/44, validation error 1.000000 %"
       ]
      },
      {
       "output_type": "stream",
       "stream": "stdout",
       "text": [
        "\n",
        "epoch 667, minibatch 44/44, validation error 1.000000 %\n",
        "epoch 668, minibatch 44/44, validation error 1.000000 %\n",
        "epoch 669, minibatch 44/44, validation error 1.000000 %\n",
        "epoch 670, minibatch 44/44, validation error 1.000000 %"
       ]
      },
      {
       "output_type": "stream",
       "stream": "stdout",
       "text": [
        "\n",
        "epoch 671, minibatch 44/44, validation error 1.000000 %\n",
        "epoch 672, minibatch 44/44, validation error 1.000000 %\n",
        "epoch 673, minibatch 44/44, validation error 1.000000 %\n",
        "epoch 674, minibatch 44/44, validation error 1.000000 %"
       ]
      },
      {
       "output_type": "stream",
       "stream": "stdout",
       "text": [
        "\n",
        "epoch 675, minibatch 44/44, validation error 1.000000 %\n",
        "epoch 676, minibatch 44/44, validation error 1.000000 %\n",
        "epoch 677, minibatch 44/44, validation error 1.000000 %\n",
        "epoch 678, minibatch 44/44, validation error 1.000000 %"
       ]
      },
      {
       "output_type": "stream",
       "stream": "stdout",
       "text": [
        "\n",
        "epoch 679, minibatch 44/44, validation error 1.000000 %\n",
        "epoch 680, minibatch 44/44, validation error 1.000000 %\n",
        "epoch 681, minibatch 44/44, validation error 1.000000 %\n",
        "epoch 682, minibatch 44/44, validation error 1.000000 %"
       ]
      },
      {
       "output_type": "stream",
       "stream": "stdout",
       "text": [
        "\n",
        "epoch 683, minibatch 44/44, validation error 1.000000 %\n",
        "epoch 684, minibatch 44/44, validation error 1.000000 %\n",
        "epoch 685, minibatch 44/44, validation error 1.000000 %\n",
        "epoch 686, minibatch 44/44, validation error 1.000000 %"
       ]
      },
      {
       "output_type": "stream",
       "stream": "stdout",
       "text": [
        "\n",
        "epoch 687, minibatch 44/44, validation error 1.000000 %\n",
        "epoch 688, minibatch 44/44, validation error 1.000000 %\n",
        "epoch 689, minibatch 44/44, validation error 1.000000 %\n",
        "epoch 690, minibatch 44/44, validation error 1.000000 %\n",
        "epoch 691, minibatch 44/44, validation error 1.000000 %"
       ]
      },
      {
       "output_type": "stream",
       "stream": "stdout",
       "text": [
        "\n",
        "epoch 692, minibatch 44/44, validation error 1.000000 %\n",
        "epoch 693, minibatch 44/44, validation error 1.000000 %\n",
        "epoch 694, minibatch 44/44, validation error 1.000000 %\n",
        "epoch 695, minibatch 44/44, validation error 1.000000 %"
       ]
      },
      {
       "output_type": "stream",
       "stream": "stdout",
       "text": [
        "\n",
        "epoch 696, minibatch 44/44, validation error 1.000000 %\n",
        "epoch 697, minibatch 44/44, validation error 1.000000 %\n",
        "epoch 698, minibatch 44/44, validation error 1.000000 %\n",
        "epoch 699, minibatch 44/44, validation error 1.000000 %\n",
        "epoch 700, minibatch 44/44, validation error 1.000000 %"
       ]
      },
      {
       "output_type": "stream",
       "stream": "stdout",
       "text": [
        "\n",
        "epoch 701, minibatch 44/44, validation error 1.000000 %\n",
        "epoch 702, minibatch 44/44, validation error 1.000000 %\n",
        "epoch 703, minibatch 44/44, validation error 1.000000 %\n",
        "epoch 704, minibatch 44/44, validation error 1.000000 %"
       ]
      },
      {
       "output_type": "stream",
       "stream": "stdout",
       "text": [
        "\n",
        "epoch 705, minibatch 44/44, validation error 1.000000 %\n",
        "epoch 706, minibatch 44/44, validation error 1.000000 %\n",
        "epoch 707, minibatch 44/44, validation error 1.000000 %\n",
        "epoch 708, minibatch 44/44, validation error 1.000000 %"
       ]
      },
      {
       "output_type": "stream",
       "stream": "stdout",
       "text": [
        "\n",
        "epoch 709, minibatch 44/44, validation error 1.000000 %\n",
        "epoch 710, minibatch 44/44, validation error 1.000000 %\n",
        "epoch 711, minibatch 44/44, validation error 1.000000 %\n",
        "epoch 712, minibatch 44/44, validation error 1.000000 %\n",
        "epoch 713, minibatch 44/44, validation error 1.000000 %"
       ]
      },
      {
       "output_type": "stream",
       "stream": "stdout",
       "text": [
        "\n",
        "epoch 714, minibatch 44/44, validation error 1.000000 %\n",
        "epoch 715, minibatch 44/44, validation error 1.000000 %\n",
        "epoch 716, minibatch 44/44, validation error 1.000000 %\n",
        "epoch 717, minibatch 44/44, validation error 1.000000 %"
       ]
      },
      {
       "output_type": "stream",
       "stream": "stdout",
       "text": [
        "\n",
        "epoch 718, minibatch 44/44, validation error 1.000000 %\n",
        "epoch 719, minibatch 44/44, validation error 1.000000 %\n",
        "epoch 720, minibatch 44/44, validation error 1.000000 %\n",
        "epoch 721, minibatch 44/44, validation error 1.000000 %\n",
        "epoch 722, minibatch 44/44, validation error 1.000000 %"
       ]
      },
      {
       "output_type": "stream",
       "stream": "stdout",
       "text": [
        "\n",
        "epoch 723, minibatch 44/44, validation error 1.000000 %\n",
        "epoch 724, minibatch 44/44, validation error 1.000000 %\n",
        "epoch 725, minibatch 44/44, validation error 1.000000 %\n",
        "epoch 726, minibatch 44/44, validation error 1.000000 %"
       ]
      },
      {
       "output_type": "stream",
       "stream": "stdout",
       "text": [
        "\n",
        "epoch 727, minibatch 44/44, validation error 1.000000 %\n",
        "epoch 728, minibatch 44/44, validation error 1.000000 %\n",
        "epoch 729, minibatch 44/44, validation error 1.000000 %\n",
        "epoch 730, minibatch 44/44, validation error 1.000000 %"
       ]
      },
      {
       "output_type": "stream",
       "stream": "stdout",
       "text": [
        "\n",
        "epoch 731, minibatch 44/44, validation error 1.000000 %\n",
        "epoch 732, minibatch 44/44, validation error 1.000000 %\n",
        "epoch 733, minibatch 44/44, validation error 1.000000 %\n",
        "epoch 734, minibatch 44/44, validation error 1.000000 %\n",
        "epoch 735, minibatch 44/44, validation error 1.000000 %"
       ]
      },
      {
       "output_type": "stream",
       "stream": "stdout",
       "text": [
        "\n",
        "epoch 736, minibatch 44/44, validation error 1.000000 %\n",
        "epoch 737, minibatch 44/44, validation error 1.000000 %\n",
        "epoch 738, minibatch 44/44, validation error 1.000000 %\n",
        "epoch 739, minibatch 44/44, validation error 1.000000 %"
       ]
      },
      {
       "output_type": "stream",
       "stream": "stdout",
       "text": [
        "\n",
        "epoch 740, minibatch 44/44, validation error 1.000000 %\n",
        "epoch 741, minibatch 44/44, validation error 1.000000 %\n",
        "epoch 742, minibatch 44/44, validation error 1.000000 %\n",
        "epoch 743, minibatch 44/44, validation error 1.000000 %"
       ]
      },
      {
       "output_type": "stream",
       "stream": "stdout",
       "text": [
        "\n",
        "epoch 744, minibatch 44/44, validation error 1.000000 %\n",
        "epoch 745, minibatch 44/44, validation error 1.000000 %\n",
        "epoch 746, minibatch 44/44, validation error 1.000000 %\n",
        "epoch 747, minibatch 44/44, validation error 1.000000 %"
       ]
      },
      {
       "output_type": "stream",
       "stream": "stdout",
       "text": [
        "\n",
        "epoch 748, minibatch 44/44, validation error 1.000000 %\n",
        "epoch 749, minibatch 44/44, validation error 1.000000 %\n",
        "epoch 750, minibatch 44/44, validation error 1.000000 %\n",
        "epoch 751, minibatch 44/44, validation error 1.000000 %"
       ]
      },
      {
       "output_type": "stream",
       "stream": "stdout",
       "text": [
        "\n",
        "epoch 752, minibatch 44/44, validation error 1.000000 %\n",
        "epoch 753, minibatch 44/44, validation error 1.000000 %\n",
        "epoch 754, minibatch 44/44, validation error 1.000000 %\n",
        "epoch 755, minibatch 44/44, validation error 1.000000 %"
       ]
      },
      {
       "output_type": "stream",
       "stream": "stdout",
       "text": [
        "\n",
        "epoch 756, minibatch 44/44, validation error 1.000000 %\n",
        "epoch 757, minibatch 44/44, validation error 1.000000 %\n",
        "epoch 758, minibatch 44/44, validation error 1.000000 %\n",
        "epoch 759, minibatch 44/44, validation error 1.000000 %"
       ]
      },
      {
       "output_type": "stream",
       "stream": "stdout",
       "text": [
        "\n",
        "epoch 760, minibatch 44/44, validation error 1.000000 %\n",
        "epoch 761, minibatch 44/44, validation error 1.000000 %\n",
        "epoch 762, minibatch 44/44, validation error 1.000000 %\n",
        "epoch 763, minibatch 44/44, validation error 1.000000 %"
       ]
      },
      {
       "output_type": "stream",
       "stream": "stdout",
       "text": [
        "\n",
        "epoch 764, minibatch 44/44, validation error 1.000000 %\n",
        "epoch 765, minibatch 44/44, validation error 1.000000 %\n",
        "epoch 766, minibatch 44/44, validation error 1.000000 %\n",
        "epoch 767, minibatch 44/44, validation error 1.000000 %"
       ]
      },
      {
       "output_type": "stream",
       "stream": "stdout",
       "text": [
        "\n",
        "epoch 768, minibatch 44/44, validation error 1.000000 %\n",
        "epoch 769, minibatch 44/44, validation error 1.000000 %\n",
        "epoch 770, minibatch 44/44, validation error 1.000000 %\n",
        "epoch 771, minibatch 44/44, validation error 1.000000 %"
       ]
      },
      {
       "output_type": "stream",
       "stream": "stdout",
       "text": [
        "\n",
        "epoch 772, minibatch 44/44, validation error 1.000000 %\n",
        "epoch 773, minibatch 44/44, validation error 1.000000 %\n",
        "epoch 774, minibatch 44/44, validation error 1.000000 %\n",
        "epoch 775, minibatch 44/44, validation error 1.000000 %"
       ]
      },
      {
       "output_type": "stream",
       "stream": "stdout",
       "text": [
        "\n",
        "epoch 776, minibatch 44/44, validation error 1.000000 %\n",
        "epoch 777, minibatch 44/44, validation error 1.000000 %\n",
        "epoch 778, minibatch 44/44, validation error 1.000000 %\n",
        "epoch 779, minibatch 44/44, validation error 1.000000 %\n",
        "epoch 780, minibatch 44/44, validation error 1.000000 %"
       ]
      },
      {
       "output_type": "stream",
       "stream": "stdout",
       "text": [
        "\n",
        "epoch 781, minibatch 44/44, validation error 1.000000 %\n",
        "epoch 782, minibatch 44/44, validation error 1.000000 %\n",
        "epoch 783, minibatch 44/44, validation error 1.000000 %\n",
        "epoch 784, minibatch 44/44, validation error 1.000000 %"
       ]
      },
      {
       "output_type": "stream",
       "stream": "stdout",
       "text": [
        "\n",
        "epoch 785, minibatch 44/44, validation error 1.000000 %\n",
        "epoch 786, minibatch 44/44, validation error 1.000000 %\n",
        "epoch 787, minibatch 44/44, validation error 1.000000 %\n",
        "epoch 788, minibatch 44/44, validation error 1.000000 %"
       ]
      },
      {
       "output_type": "stream",
       "stream": "stdout",
       "text": [
        "\n",
        "epoch 789, minibatch 44/44, validation error 1.000000 %\n",
        "epoch 790, minibatch 44/44, validation error 1.000000 %\n",
        "epoch 791, minibatch 44/44, validation error 1.000000 %\n",
        "epoch 792, minibatch 44/44, validation error 1.000000 %"
       ]
      },
      {
       "output_type": "stream",
       "stream": "stdout",
       "text": [
        "\n",
        "epoch 793, minibatch 44/44, validation error 1.000000 %\n",
        "epoch 794, minibatch 44/44, validation error 1.000000 %\n",
        "epoch 795, minibatch 44/44, validation error 1.000000 %\n",
        "epoch 796, minibatch 44/44, validation error 1.000000 %"
       ]
      },
      {
       "output_type": "stream",
       "stream": "stdout",
       "text": [
        "\n",
        "epoch 797, minibatch 44/44, validation error 1.000000 %\n",
        "epoch 798, minibatch 44/44, validation error 1.000000 %\n",
        "epoch 799, minibatch 44/44, validation error 1.000000 %\n",
        "epoch 800, minibatch 44/44, validation error 1.000000 %"
       ]
      },
      {
       "output_type": "stream",
       "stream": "stdout",
       "text": [
        "\n",
        "epoch 801, minibatch 44/44, validation error 1.000000 %\n",
        "epoch 802, minibatch 44/44, validation error 1.000000 %\n",
        "epoch 803, minibatch 44/44, validation error 1.000000 %\n",
        "epoch 804, minibatch 44/44, validation error 1.000000 %"
       ]
      },
      {
       "output_type": "stream",
       "stream": "stdout",
       "text": [
        "\n",
        "epoch 805, minibatch 44/44, validation error 1.000000 %\n",
        "epoch 806, minibatch 44/44, validation error 1.000000 %\n",
        "epoch 807, minibatch 44/44, validation error 1.000000 %\n",
        "epoch 808, minibatch 44/44, validation error 1.000000 %"
       ]
      },
      {
       "output_type": "stream",
       "stream": "stdout",
       "text": [
        "\n",
        "epoch 809, minibatch 44/44, validation error 1.000000 %\n",
        "epoch 810, minibatch 44/44, validation error 1.000000 %\n",
        "epoch 811, minibatch 44/44, validation error 1.000000 %\n",
        "epoch 812, minibatch 44/44, validation error 1.000000 %"
       ]
      },
      {
       "output_type": "stream",
       "stream": "stdout",
       "text": [
        "\n",
        "epoch 813, minibatch 44/44, validation error 1.000000 %\n",
        "epoch 814, minibatch 44/44, validation error 1.000000 %\n",
        "epoch 815, minibatch 44/44, validation error 1.000000 %\n",
        "epoch 816, minibatch 44/44, validation error 1.000000 %"
       ]
      },
      {
       "output_type": "stream",
       "stream": "stdout",
       "text": [
        "\n",
        "epoch 817, minibatch 44/44, validation error 1.000000 %\n",
        "epoch 818, minibatch 44/44, validation error 1.000000 %\n",
        "epoch 819, minibatch 44/44, validation error 1.000000 %\n",
        "epoch 820, minibatch 44/44, validation error 1.000000 %\n",
        "epoch 821, minibatch 44/44, validation error 1.000000 %"
       ]
      },
      {
       "output_type": "stream",
       "stream": "stdout",
       "text": [
        "\n",
        "epoch 822, minibatch 44/44, validation error 1.000000 %\n",
        "epoch 823, minibatch 44/44, validation error 1.000000 %\n",
        "epoch 824, minibatch 44/44, validation error 1.000000 %\n",
        "epoch 825, minibatch 44/44, validation error 1.000000 %"
       ]
      },
      {
       "output_type": "stream",
       "stream": "stdout",
       "text": [
        "\n",
        "epoch 826, minibatch 44/44, validation error 1.000000 %\n",
        "epoch 827, minibatch 44/44, validation error 1.000000 %\n",
        "epoch 828, minibatch 44/44, validation error 1.000000 %\n",
        "epoch 829, minibatch 44/44, validation error 1.000000 %"
       ]
      },
      {
       "output_type": "stream",
       "stream": "stdout",
       "text": [
        "\n",
        "epoch 830, minibatch 44/44, validation error 1.000000 %\n",
        "epoch 831, minibatch 44/44, validation error 1.000000 %\n",
        "epoch 832, minibatch 44/44, validation error 1.000000 %\n",
        "epoch 833, minibatch 44/44, validation error 1.000000 %"
       ]
      },
      {
       "output_type": "stream",
       "stream": "stdout",
       "text": [
        "\n",
        "epoch 834, minibatch 44/44, validation error 1.000000 %\n",
        "epoch 835, minibatch 44/44, validation error 1.000000 %\n",
        "epoch 836, minibatch 44/44, validation error 1.000000 %\n",
        "epoch 837, minibatch 44/44, validation error 1.000000 %"
       ]
      },
      {
       "output_type": "stream",
       "stream": "stdout",
       "text": [
        "\n",
        "epoch 838, minibatch 44/44, validation error 1.000000 %\n",
        "epoch 839, minibatch 44/44, validation error 1.000000 %\n",
        "epoch 840, minibatch 44/44, validation error 1.000000 %\n",
        "epoch 841, minibatch 44/44, validation error 1.000000 %"
       ]
      },
      {
       "output_type": "stream",
       "stream": "stdout",
       "text": [
        "\n",
        "epoch 842, minibatch 44/44, validation error 1.000000 %\n",
        "epoch 843, minibatch 44/44, validation error 1.000000 %\n",
        "epoch 844, minibatch 44/44, validation error 1.000000 %\n",
        "epoch 845, minibatch 44/44, validation error 1.000000 %"
       ]
      },
      {
       "output_type": "stream",
       "stream": "stdout",
       "text": [
        "\n",
        "epoch 846, minibatch 44/44, validation error 1.000000 %\n",
        "epoch 847, minibatch 44/44, validation error 1.000000 %\n",
        "epoch 848, minibatch 44/44, validation error 1.000000 %\n",
        "epoch 849, minibatch 44/44, validation error 1.000000 %"
       ]
      },
      {
       "output_type": "stream",
       "stream": "stdout",
       "text": [
        "\n",
        "epoch 850, minibatch 44/44, validation error 1.000000 %\n",
        "epoch 851, minibatch 44/44, validation error 1.000000 %\n",
        "epoch 852, minibatch 44/44, validation error 1.000000 %\n",
        "epoch 853, minibatch 44/44, validation error 1.000000 %"
       ]
      },
      {
       "output_type": "stream",
       "stream": "stdout",
       "text": [
        "\n",
        "epoch 854, minibatch 44/44, validation error 1.000000 %\n",
        "epoch 855, minibatch 44/44, validation error 1.000000 %\n",
        "epoch 856, minibatch 44/44, validation error 1.000000 %\n",
        "epoch 857, minibatch 44/44, validation error 1.000000 %"
       ]
      },
      {
       "output_type": "stream",
       "stream": "stdout",
       "text": [
        "\n",
        "epoch 858, minibatch 44/44, validation error 1.000000 %\n",
        "epoch 859, minibatch 44/44, validation error 1.000000 %\n",
        "epoch 860, minibatch 44/44, validation error 1.000000 %\n",
        "epoch 861, minibatch 44/44, validation error 1.000000 %"
       ]
      },
      {
       "output_type": "stream",
       "stream": "stdout",
       "text": [
        "\n",
        "epoch 862, minibatch 44/44, validation error 1.000000 %\n",
        "epoch 863, minibatch 44/44, validation error 1.000000 %\n",
        "epoch 864, minibatch 44/44, validation error 1.000000 %\n",
        "epoch 865, minibatch 44/44, validation error 1.000000 %"
       ]
      },
      {
       "output_type": "stream",
       "stream": "stdout",
       "text": [
        "\n",
        "epoch 866, minibatch 44/44, validation error 1.000000 %\n",
        "epoch 867, minibatch 44/44, validation error 1.000000 %\n",
        "epoch 868, minibatch 44/44, validation error 1.000000 %\n",
        "epoch 869, minibatch 44/44, validation error 1.000000 %"
       ]
      },
      {
       "output_type": "stream",
       "stream": "stdout",
       "text": [
        "\n",
        "epoch 870, minibatch 44/44, validation error 1.000000 %\n",
        "epoch 871, minibatch 44/44, validation error 1.000000 %\n",
        "epoch 872, minibatch 44/44, validation error 1.000000 %\n",
        "epoch 873, minibatch 44/44, validation error 1.000000 %"
       ]
      },
      {
       "output_type": "stream",
       "stream": "stdout",
       "text": [
        "\n",
        "epoch 874, minibatch 44/44, validation error 1.000000 %\n",
        "epoch 875, minibatch 44/44, validation error 1.000000 %\n",
        "epoch 876, minibatch 44/44, validation error 1.000000 %\n",
        "epoch 877, minibatch 44/44, validation error 1.000000 %\n",
        "epoch 878, minibatch 44/44, validation error 1.000000 %"
       ]
      },
      {
       "output_type": "stream",
       "stream": "stdout",
       "text": [
        "\n",
        "epoch 879, minibatch 44/44, validation error 1.000000 %\n",
        "epoch 880, minibatch 44/44, validation error 1.000000 %\n",
        "epoch 881, minibatch 44/44, validation error 1.000000 %\n",
        "epoch 882, minibatch 44/44, validation error 1.000000 %"
       ]
      },
      {
       "output_type": "stream",
       "stream": "stdout",
       "text": [
        "\n",
        "epoch 883, minibatch 44/44, validation error 1.000000 %\n",
        "epoch 884, minibatch 44/44, validation error 1.000000 %\n",
        "epoch 885, minibatch 44/44, validation error 1.000000 %\n",
        "epoch 886, minibatch 44/44, validation error 1.000000 %\n",
        "epoch 887, minibatch 44/44, validation error 1.000000 %"
       ]
      },
      {
       "output_type": "stream",
       "stream": "stdout",
       "text": [
        "\n",
        "epoch 888, minibatch 44/44, validation error 1.000000 %\n",
        "epoch 889, minibatch 44/44, validation error 1.000000 %\n",
        "epoch 890, minibatch 44/44, validation error 1.000000 %\n",
        "epoch 891, minibatch 44/44, validation error 1.000000 %\n",
        "epoch 892, minibatch 44/44, validation error 1.000000 %"
       ]
      },
      {
       "output_type": "stream",
       "stream": "stdout",
       "text": [
        "\n",
        "epoch 893, minibatch 44/44, validation error 1.000000 %\n",
        "epoch 894, minibatch 44/44, validation error 1.000000 %\n",
        "epoch 895, minibatch 44/44, validation error 1.000000 %\n",
        "epoch 896, minibatch 44/44, validation error 1.000000 %"
       ]
      },
      {
       "output_type": "stream",
       "stream": "stdout",
       "text": [
        "\n",
        "epoch 897, minibatch 44/44, validation error 1.000000 %\n",
        "epoch 898, minibatch 44/44, validation error 1.000000 %\n",
        "epoch 899, minibatch 44/44, validation error 1.000000 %\n",
        "epoch 900, minibatch 44/44, validation error 1.000000 %\n",
        "epoch 901, minibatch 44/44, validation error 1.000000 %"
       ]
      },
      {
       "output_type": "stream",
       "stream": "stdout",
       "text": [
        "\n",
        "epoch 902, minibatch 44/44, validation error 1.000000 %\n",
        "epoch 903, minibatch 44/44, validation error 1.000000 %\n",
        "epoch 904, minibatch 44/44, validation error 1.000000 %\n",
        "epoch 905, minibatch 44/44, validation error 1.000000 %\n",
        "epoch 906, minibatch 44/44, validation error 1.000000 %"
       ]
      },
      {
       "output_type": "stream",
       "stream": "stdout",
       "text": [
        "\n",
        "epoch 907, minibatch 44/44, validation error 1.000000 %\n",
        "epoch 908, minibatch 44/44, validation error 1.000000 %\n",
        "epoch 909, minibatch 44/44, validation error 1.000000 %\n",
        "epoch 910, minibatch 44/44, validation error 1.000000 %"
       ]
      },
      {
       "output_type": "stream",
       "stream": "stdout",
       "text": [
        "\n",
        "epoch 911, minibatch 44/44, validation error 1.000000 %\n",
        "epoch 912, minibatch 44/44, validation error 1.000000 %\n",
        "epoch 913, minibatch 44/44, validation error 1.000000 %\n",
        "epoch 914, minibatch 44/44, validation error 1.000000 %"
       ]
      },
      {
       "output_type": "stream",
       "stream": "stdout",
       "text": [
        "\n",
        "epoch 915, minibatch 44/44, validation error 1.000000 %\n",
        "epoch 916, minibatch 44/44, validation error 1.000000 %\n",
        "epoch 917, minibatch 44/44, validation error 1.000000 %\n",
        "epoch 918, minibatch 44/44, validation error 1.000000 %"
       ]
      },
      {
       "output_type": "stream",
       "stream": "stdout",
       "text": [
        "\n",
        "epoch 919, minibatch 44/44, validation error 1.000000 %\n",
        "epoch 920, minibatch 44/44, validation error 1.000000 %\n",
        "epoch 921, minibatch 44/44, validation error 1.000000 %\n",
        "epoch 922, minibatch 44/44, validation error 1.000000 %"
       ]
      },
      {
       "output_type": "stream",
       "stream": "stdout",
       "text": [
        "\n",
        "epoch 923, minibatch 44/44, validation error 1.000000 %\n",
        "epoch 924, minibatch 44/44, validation error 1.000000 %\n",
        "epoch 925, minibatch 44/44, validation error 1.000000 %\n",
        "epoch 926, minibatch 44/44, validation error 1.000000 %"
       ]
      },
      {
       "output_type": "stream",
       "stream": "stdout",
       "text": [
        "\n",
        "epoch 927, minibatch 44/44, validation error 1.000000 %\n",
        "epoch 928, minibatch 44/44, validation error 1.000000 %\n",
        "epoch 929, minibatch 44/44, validation error 1.000000 %\n",
        "epoch 930, minibatch 44/44, validation error 1.000000 %\n",
        "epoch 931, minibatch 44/44, validation error 1.000000 %"
       ]
      },
      {
       "output_type": "stream",
       "stream": "stdout",
       "text": [
        "\n",
        "epoch 932, minibatch 44/44, validation error 1.000000 %\n",
        "epoch 933, minibatch 44/44, validation error 1.000000 %\n",
        "epoch 934, minibatch 44/44, validation error 1.000000 %\n",
        "epoch 935, minibatch 44/44, validation error 1.000000 %"
       ]
      },
      {
       "output_type": "stream",
       "stream": "stdout",
       "text": [
        "\n",
        "epoch 936, minibatch 44/44, validation error 1.000000 %\n",
        "epoch 937, minibatch 44/44, validation error 1.000000 %\n",
        "epoch 938, minibatch 44/44, validation error 1.000000 %\n",
        "epoch 939, minibatch 44/44, validation error 1.000000 %"
       ]
      },
      {
       "output_type": "stream",
       "stream": "stdout",
       "text": [
        "\n",
        "epoch 940, minibatch 44/44, validation error 1.000000 %\n",
        "epoch 941, minibatch 44/44, validation error 1.000000 %\n",
        "epoch 942, minibatch 44/44, validation error 1.000000 %\n",
        "epoch 943, minibatch 44/44, validation error 1.000000 %"
       ]
      },
      {
       "output_type": "stream",
       "stream": "stdout",
       "text": [
        "\n",
        "epoch 944, minibatch 44/44, validation error 1.000000 %\n",
        "epoch 945, minibatch 44/44, validation error 1.000000 %\n",
        "epoch 946, minibatch 44/44, validation error 1.000000 %\n",
        "epoch 947, minibatch 44/44, validation error 1.000000 %"
       ]
      },
      {
       "output_type": "stream",
       "stream": "stdout",
       "text": [
        "\n",
        "epoch 948, minibatch 44/44, validation error 1.000000 %\n",
        "epoch 949, minibatch 44/44, validation error 1.000000 %\n",
        "epoch 950, minibatch 44/44, validation error 1.000000 %\n",
        "epoch 951, minibatch 44/44, validation error 1.000000 %"
       ]
      },
      {
       "output_type": "stream",
       "stream": "stdout",
       "text": [
        "\n",
        "epoch 952, minibatch 44/44, validation error 1.000000 %\n",
        "epoch 953, minibatch 44/44, validation error 1.000000 %\n",
        "epoch 954, minibatch 44/44, validation error 1.000000 %\n",
        "epoch 955, minibatch 44/44, validation error 1.000000 %"
       ]
      },
      {
       "output_type": "stream",
       "stream": "stdout",
       "text": [
        "\n",
        "epoch 956, minibatch 44/44, validation error 1.000000 %\n",
        "epoch 957, minibatch 44/44, validation error 1.000000 %\n",
        "epoch 958, minibatch 44/44, validation error 1.000000 %\n",
        "epoch 959, minibatch 44/44, validation error 1.000000 %"
       ]
      },
      {
       "output_type": "stream",
       "stream": "stdout",
       "text": [
        "\n",
        "epoch 960, minibatch 44/44, validation error 1.000000 %\n",
        "epoch 961, minibatch 44/44, validation error 1.000000 %\n",
        "epoch 962, minibatch 44/44, validation error 1.000000 %\n",
        "epoch 963, minibatch 44/44, validation error 1.000000 %"
       ]
      },
      {
       "output_type": "stream",
       "stream": "stdout",
       "text": [
        "\n",
        "epoch 964, minibatch 44/44, validation error 1.000000 %\n",
        "epoch 965, minibatch 44/44, validation error 1.000000 %\n",
        "epoch 966, minibatch 44/44, validation error 1.000000 %\n",
        "epoch 967, minibatch 44/44, validation error 1.000000 %"
       ]
      },
      {
       "output_type": "stream",
       "stream": "stdout",
       "text": [
        "\n",
        "epoch 968, minibatch 44/44, validation error 1.000000 %\n",
        "epoch 969, minibatch 44/44, validation error 1.000000 %\n",
        "epoch 970, minibatch 44/44, validation error 1.000000 %\n",
        "epoch 971, minibatch 44/44, validation error 1.000000 %"
       ]
      },
      {
       "output_type": "stream",
       "stream": "stdout",
       "text": [
        "\n",
        "epoch 972, minibatch 44/44, validation error 1.000000 %\n",
        "epoch 973, minibatch 44/44, validation error 1.000000 %\n",
        "epoch 974, minibatch 44/44, validation error 1.000000 %\n",
        "epoch 975, minibatch 44/44, validation error 1.000000 %"
       ]
      },
      {
       "output_type": "stream",
       "stream": "stdout",
       "text": [
        "\n",
        "epoch 976, minibatch 44/44, validation error 1.000000 %\n",
        "epoch 977, minibatch 44/44, validation error 1.000000 %\n",
        "epoch 978, minibatch 44/44, validation error 1.000000 %\n",
        "epoch 979, minibatch 44/44, validation error 1.000000 %"
       ]
      },
      {
       "output_type": "stream",
       "stream": "stdout",
       "text": [
        "\n",
        "epoch 980, minibatch 44/44, validation error 1.000000 %\n",
        "epoch 981, minibatch 44/44, validation error 1.000000 %\n",
        "epoch 982, minibatch 44/44, validation error 1.000000 %\n",
        "epoch 983, minibatch 44/44, validation error 1.000000 %\n",
        "epoch 984, minibatch 44/44, validation error 1.000000 %"
       ]
      },
      {
       "output_type": "stream",
       "stream": "stdout",
       "text": [
        "\n",
        "epoch 985, minibatch 44/44, validation error 1.000000 %\n",
        "epoch 986, minibatch 44/44, validation error 1.000000 %\n",
        "epoch 987, minibatch 44/44, validation error 1.000000 %\n",
        "epoch 988, minibatch 44/44, validation error 1.000000 %"
       ]
      },
      {
       "output_type": "stream",
       "stream": "stdout",
       "text": [
        "\n",
        "epoch 989, minibatch 44/44, validation error 1.000000 %\n",
        "epoch 990, minibatch 44/44, validation error 1.000000 %\n",
        "epoch 991, minibatch 44/44, validation error 1.000000 %\n",
        "epoch 992, minibatch 44/44, validation error 1.000000 %\n",
        "epoch 993, minibatch 44/44, validation error 1.000000 %"
       ]
      },
      {
       "output_type": "stream",
       "stream": "stdout",
       "text": [
        "\n",
        "epoch 994, minibatch 44/44, validation error 1.000000 %\n",
        "epoch 995, minibatch 44/44, validation error 1.000000 %\n",
        "epoch 996, minibatch 44/44, validation error 1.000000 %\n",
        "epoch 997, minibatch 44/44, validation error 1.000000 %"
       ]
      },
      {
       "output_type": "stream",
       "stream": "stdout",
       "text": [
        "\n",
        "epoch 998, minibatch 44/44, validation error 1.000000 %\n",
        "epoch 999, minibatch 44/44, validation error 1.000000 %\n",
        "epoch 1000, minibatch 44/44, validation error 1.000000 %\n",
        "Optimization complete. Best validation score of 1.000000 % obtained at iteration 24024, with test performance 2.000000 %\n"
       ]
      },
      {
       "output_type": "stream",
       "stream": "stderr",
       "text": [
        "The code for file mlp.py ran for 0.22m\n"
       ]
      }
     ],
     "prompt_number": 8
    },
    {
     "cell_type": "code",
     "collapsed": false,
     "input": [
      "for i in range(len(saved_weights_withpose)):\n",
      "\n",
      "    b1, w1, b2, w2 = saved_weights_withpose[i]\n",
      "    pylab.figure(figsize=(10,10))\n",
      "    hinton(w1)\n",
      "    pylab.savefig('weights%d.png'%i, bbox_inches='tight')"
     ],
     "language": "python",
     "metadata": {},
     "outputs": [
      {
       "output_type": "stream",
       "stream": "stderr",
       "text": [
        "C:\\Users\\Erroll\\AppData\\Local\\Enthought\\Canopy\\User\\lib\\site-packages\\matplotlib\\pyplot.py:423: RuntimeWarning: More than 20 figures have been opened. Figures created through the pyplot interface (`matplotlib.pyplot.figure`) are retained until explicitly closed and may consume too much memory. (To control this warning, see the rcParam `figure.max_num_figures`).\n",
        "  max_open_warning, RuntimeWarning)\n"
       ]
      }
     ],
     "prompt_number": 10
    },
    {
     "cell_type": "code",
     "collapsed": false,
     "input": [
      "b1_nopose = mlp_nopose.hiddenLayer.b.get_value()\n",
      "w1_nopose = mlp_nopose.hiddenLayer.W.get_value()\n",
      "b2_nopose = mlp_nopose.logRegressionLayer.b.get_value()\n",
      "w2_nopose = mlp_nopose.logRegressionLayer.W.get_value()\n",
      "\n",
      "from hinton import hinton\n",
      "\n",
      "pylab.figure(figsize=(10,10))\n",
      "hinton(w1_nopose)\n",
      "pylab.show()"
     ],
     "language": "python",
     "metadata": {},
     "outputs": [
      {
       "metadata": {},
       "output_type": "display_data",
       "png": "[encoded data removed]",
       "text": [
        "<matplotlib.figure.Figure at 0x140fa4e0>"
       ]
      }
     ],
     "prompt_number": 40
    },
    {
     "cell_type": "code",
     "collapsed": false,
     "input": [
      "b1_withpose = mlp_withpose.hiddenLayer.b.get_value()\n",
      "w1_withpose = mlp_withpose.hiddenLayer.W.get_value()\n",
      "b2_withpose = mlp_withpose.logRegressionLayer.b.get_value()\n",
      "w2_withpose = mlp_withpose.logRegressionLayer.W.get_value()\n",
      "\n",
      "from hinton import hinton\n",
      "\n",
      "pylab.figure(figsize=(10,10))\n",
      "hinton(w1_withpose)\n",
      "pylab.show()"
     ],
     "language": "python",
     "metadata": {},
     "outputs": [
      {
       "metadata": {},
       "output_type": "display_data",
       "png": "[encoded data removed]",
       "text": [
        "<matplotlib.figure.Figure at 0x126bdfd0>"
       ]
      }
     ],
     "prompt_number": 41
    },
    {
     "cell_type": "code",
     "collapsed": false,
     "input": [],
     "language": "python",
     "metadata": {},
     "outputs": []
    },
    {
     "cell_type": "code",
     "collapsed": false,
     "input": [
      "import cv2\n",
      "import os\n",
      "import random\n",
      "\n",
      "num_coeffs = 150\n",
      "\n",
      "# displaying images inline\n",
      "from IPython.display import Image, display, clear_output\n",
      "\n",
      "# read in eigenvectors and mean image\n",
      "f = file('princoms.save', 'rb')\n",
      "V, immean = cPickle.load(f)\n",
      "f.close()\n",
      "\n",
      "# imgs_dir = r\"C:\\Users\\Erroll\\Documents\\columbia_gaze_data_set\\Columbia Gaze Data Set\\output\"\n",
      "# imgs_dir = r\"C:\\Users\\Erroll\\Documents\\CLM-framework-master\\Release\\eyes\"\n",
      "imgs_dir = \"C:\\Users\\Erroll\\Documents\\eyespose\\eyespose\"\n",
      "all_imnames = os.listdir(imgs_dir)\n",
      "\n",
      "# make balanced set for training\n",
      "nolock_fns = [fn for fn in all_imnames if \"nolock\" in fn]\n",
      "lock_fns = random.sample(set(all_imnames) - set(nolock_fns), 16)\n",
      "nolock_fns_balanced = random.sample(nolock_fns, len(lock_fns))\n",
      "\n",
      "# returns 0 if \"nolock\" or 1 if \"lock\"\n",
      "# uses MLP learnt weights\n",
      "def pred_lock(img):\n",
      "    x = [numpy.dot(img.flatten() - immean, v) for v in V[:num_coeffs]]\n",
      "    h = numpy.tanh(numpy.dot(x,w1) + b1)\n",
      "    return numpy.argmax(b2 + numpy.dot(h,w2))\n",
      "\n",
      "nolock_test_imgs_result = []\n",
      "for fn in nolock_fns_balanced:\n",
      "    img = cv2.imread(os.path.join(imgs_dir,fn), cv2.CV_LOAD_IMAGE_GRAYSCALE)\n",
      "    img_col = cv2.cvtColor(img, cv2.COLOR_GRAY2BGR)\n",
      "    pred = pred_lock(img);\n",
      "    img_col[-3:,:] = [0,255,0] if pred == 0 else [0,0,255]\n",
      "    nolock_test_imgs_result.append(img_col)\n",
      "\n",
      "lock_test_imgs_result = []\n",
      "for fn in lock_fns:\n",
      "    img = cv2.imread(os.path.join(imgs_dir,fn), cv2.CV_LOAD_IMAGE_GRAYSCALE)\n",
      "    img_col = cv2.cvtColor(img, cv2.COLOR_GRAY2BGR)\n",
      "    pred = pred_lock(img);\n",
      "    img_col[-3:,:] = [0,255,0] if pred == 1 else [0,0,255]\n",
      "    lock_test_imgs_result.append(img_col)\n",
      "\n",
      "display(Image(data=cv2.imencode(\".png\", numpy.hstack(nolock_test_imgs_result))[1].tostring()))\n",
      "display(Image(data=cv2.imencode(\".png\", numpy.hstack(lock_test_imgs_result))[1].tostring()))"
     ],
     "language": "python",
     "metadata": {},
     "outputs": [
      {
       "metadata": {},
       "output_type": "display_data",
       "png": "[encoded data removed]",
       "text": [
        "<IPython.core.display.Image at 0xa0433c8>"
       ]
      },
      {
       "metadata": {},
       "output_type": "display_data",
       "png": "[encoded data removed]",
       "text": [
        "<IPython.core.display.Image at 0xa93bdd8>"
       ]
      }
     ],
     "prompt_number": 14
    },
    {
     "cell_type": "code",
     "collapsed": false,
     "input": [
      "numpy.savetxt(\"b1.txt\", b1)\n",
      "numpy.savetxt(\"w1.txt\", w1)\n",
      "numpy.savetxt(\"b2.txt\", b2)\n",
      "numpy.savetxt(\"w2.txt\", w2)"
     ],
     "language": "python",
     "metadata": {},
     "outputs": [],
     "prompt_number": 10
    },
    {
     "cell_type": "code",
     "collapsed": false,
     "input": [
      "numpy.savetxt('princoms.txt', V[:32])\n",
      "numpy.savetxt('immean.txt', immean)"
     ],
     "language": "python",
     "metadata": {},
     "outputs": [],
     "prompt_number": 15
    },
    {
     "cell_type": "code",
     "collapsed": false,
     "input": [
      "img = cv2.imread(r\"C:\\Users\\Erroll\\Documents\\CLM-framework-master\\Release\\eyes\\lock0.png\",cv2.IMREAD_GRAYSCALE)\n",
      "\n",
      "x = numpy.array([numpy.dot(img.flatten() - immean, v) for v in V[:32]])\n",
      "\n",
      "h = numpy.tanh(numpy.dot(x,w1) + b1)\n",
      "\n",
      "print numpy.dot(x,w1) + b1\n",
      "\n",
      "print b2 + numpy.dot(h,w2)\n",
      "\n",
      "# print w1.shape"
     ],
     "language": "python",
     "metadata": {},
     "outputs": [
      {
       "output_type": "stream",
       "stream": "stdout",
       "text": [
        "[  26.65732098  149.94098784  -59.42760614  220.19195765  182.46707686\n",
        "   24.0049819  -288.3782106    55.2215122    90.87786487  139.02545693\n",
        " -143.01009345  111.21453146  -15.56842416  181.78786347  -37.74280522\n",
        "   -4.88897305   64.11170451 -221.86639835   62.80689968  156.42279887\n",
        "  -52.18008119 -151.37875629    2.67523778   72.55225666   81.36044316\n",
        "   95.84267147  -52.14070087  166.9182298   -27.28236846    9.63016045\n",
        " -137.25934829   39.01830896  204.21855558   84.473452    -47.76712508\n",
        "   24.04818304 -142.51235952  341.83757077  120.22631355  101.65489233\n",
        " -281.78576209 -148.52253535 -305.38887267   86.77530408 -110.70647334\n",
        "  -35.40642027 -290.84284893  -40.03185024 -135.22791035  204.51132622\n",
        " -223.60751827  156.01464671   44.61121318 -269.67881226   74.2992134\n",
        "  185.6225379   -15.33061204  164.58107205   75.84415519  129.35595704\n",
        "   34.01345706  -36.70956025  -72.5004829    19.28812269  138.33227057\n",
        "  104.15572701  -40.98591681   71.5503905   -37.77990301  -56.89329515\n",
        "   39.56167404   32.06842599  -19.76881546 -188.6778369    74.02708041\n",
        "  205.76226747   37.06857904   34.1564697  -234.13682872  -60.38847027\n",
        " -142.03809565    8.67342154   42.09682353   45.84027375   50.11321341\n",
        "  -48.49987951   99.62251848  122.22054175  146.77705101  -82.18395409\n",
        " -250.02805953   78.75942536  145.33797559  288.31536235   41.90505398\n",
        "  -48.28465659  -13.83149864  174.9359439   -17.26830793 -158.94004035\n",
        "   21.96259964  224.68929756  123.73632181  -18.31092834  -16.75829706\n",
        "  -91.74473118 -299.19131201 -105.6335394    59.32115345   21.49580535\n",
        "   48.37246044 -227.56971205 -143.62762717  -70.35993815  -59.9326646\n",
        " -121.2950415   -79.64304556  -69.64357456  253.28542582  179.71845739\n",
        "  112.96912748  139.70150801   86.7658125    51.68072667  -58.36073319\n",
        " -325.35566459    7.93534124   59.92123399 -194.58814468 -187.00585059\n",
        " -236.25078956    7.68705931  103.58827855   72.45060626 -213.04512113\n",
        " -241.5738561   232.84335101 -157.39332925  130.29174352   58.62411445\n",
        "   41.71368523  371.97013751  230.98405653 -205.13132458   38.57917364\n",
        "  -76.58282675  -86.82695567    6.28063223  -55.67018349 -171.23223638\n",
        "   91.32763061  176.90447729  -84.74389597  -79.24991875 -151.95565765\n",
        "  230.14749717   53.78499659  250.89413198  167.12070104 -131.87588265\n",
        "  -47.35546045    4.8136946   161.57125458  -63.3700144   204.6962466\n",
        "   93.63267957   -7.44718293   56.18680578  199.64953651   47.74304894\n",
        "  142.31285054   81.02924947 -135.98704153   66.27404593 -130.86658254\n",
        " -175.46803403   87.66766837  109.59438895  101.77253955    2.90578559\n",
        "   54.22424259  -58.35898228  206.9882191   112.16032186 -166.93177945\n",
        "  -66.18211134 -153.81830179   96.13192219    1.81350666  -62.65462382\n",
        "  196.40374851 -227.94102575 -192.93942699  -63.94968463   81.33608571\n",
        "  -23.98613653   39.62033824   52.17509388  -46.66026978   20.80155843]\n",
        "[-2.27174854  2.27174854]\n"
       ]
      }
     ],
     "prompt_number": 61
    }
   ],
   "metadata": {}
  }
 ]
}