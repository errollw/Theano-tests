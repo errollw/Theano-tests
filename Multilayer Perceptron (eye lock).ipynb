{
 "metadata": {
  "name": "",
  "signature": "sha256:3e51d80065ce717c0ebeca1c3f7444d2858b3c912eb1250b841dea5a7e987739"
 },
 "nbformat": 3,
 "nbformat_minor": 0,
 "worksheets": [
  {
   "cells": [
    {
     "cell_type": "code",
     "collapsed": false,
     "input": [
      "import cPickle\n",
      "import gzip\n",
      "import os\n",
      "import sys\n",
      "import time\n",
      "\n",
      "import numpy\n",
      "\n",
      "import theano\n",
      "import theano.tensor as T"
     ],
     "language": "python",
     "metadata": {},
     "outputs": [],
     "prompt_number": 3
    },
    {
     "cell_type": "code",
     "collapsed": false,
     "input": [
      "class LogisticRegression(object):\n",
      "    \"\"\"Multi-class Logistic Regression Class\n",
      "\n",
      "    The logistic regression is fully described by a weight matrix :math:`W`\n",
      "    and bias vector :math:`b`. Classification is done by projecting data\n",
      "    points onto a set of hyperplanes, the distance to which is used to\n",
      "    determine a class membership probability.\n",
      "    \"\"\"\n",
      "\n",
      "    def __init__(self, input, n_in, n_out):\n",
      "        \"\"\" Initialize the parameters of the logistic regression\n",
      "\n",
      "        :type input: theano.tensor.TensorType\n",
      "        :param input: symbolic variable that describes the input of the\n",
      "                      architecture (one minibatch)\n",
      "\n",
      "        :type n_in: int\n",
      "        :param n_in: number of input units, the dimension of the space in\n",
      "                     which the datapoints lie\n",
      "\n",
      "        :type n_out: int\n",
      "        :param n_out: number of output units, the dimension of the space in\n",
      "                      which the labels lie\n",
      "\n",
      "        \"\"\"\n",
      "\n",
      "        # initialize with 0 the weights W as a matrix of shape (n_in, n_out)\n",
      "        self.W = theano.shared(value=numpy.zeros((n_in, n_out),\n",
      "                                                 dtype=theano.config.floatX),\n",
      "                                name='W', borrow=True)\n",
      "        # initialize the baises b as a vector of n_out 0s\n",
      "        self.b = theano.shared(value=numpy.zeros((n_out,),\n",
      "                                                 dtype=theano.config.floatX),\n",
      "                               name='b', borrow=True)\n",
      "\n",
      "        # compute vector of class-membership probabilities in symbolic form\n",
      "        self.p_y_given_x = T.nnet.softmax(T.dot(input, self.W) + self.b)\n",
      "\n",
      "        # compute prediction as class whose probability is maximal in\n",
      "        # symbolic form\n",
      "        self.y_pred = T.argmax(self.p_y_given_x, axis=1)\n",
      "\n",
      "        # parameters of the model\n",
      "        self.params = [self.W, self.b]\n",
      "\n",
      "    def negative_log_likelihood(self, y):\n",
      "        \"\"\"Return the mean of the negative log-likelihood of the prediction\n",
      "        of this model under a given target distribution.\n",
      "\n",
      "        .. math::\n",
      "\n",
      "            \\frac{1}{|\\mathcal{D}|} \\mathcal{L} (\\theta=\\{W,b\\}, \\mathcal{D}) =\n",
      "            \\frac{1}{|\\mathcal{D}|} \\sum_{i=0}^{|\\mathcal{D}|} \\log(P(Y=y^{(i)}|x^{(i)}, W,b)) \\\\\n",
      "                \\ell (\\theta=\\{W,b\\}, \\mathcal{D})\n",
      "\n",
      "        :type y: theano.tensor.TensorType\n",
      "        :param y: corresponds to a vector that gives for each example the\n",
      "                  correct label\n",
      "\n",
      "        Note: we use the mean instead of the sum so that\n",
      "              the learning rate is less dependent on the batch size\n",
      "        \"\"\"\n",
      "        # y.shape[0] is (symbolically) the number of rows in y, i.e.,\n",
      "        # number of examples (call it n) in the minibatch\n",
      "        # T.arange(y.shape[0]) is a symbolic vector which will contain\n",
      "        # [0,1,2,... n-1] T.log(self.p_y_given_x) is a matrix of\n",
      "        # Log-Probabilities (call it LP) with one row per example and\n",
      "        # one column per class LP[T.arange(y.shape[0]),y] is a vector\n",
      "        # v containing [LP[0,y[0]], LP[1,y[1]], LP[2,y[2]], ...,\n",
      "        # LP[n-1,y[n-1]]] and T.mean(LP[T.arange(y.shape[0]),y]) is\n",
      "        # the mean (across minibatch examples) of the elements in v,\n",
      "        # i.e., the mean log-likelihood across the minibatch.\n",
      "        return -T.mean(T.log(self.p_y_given_x)[T.arange(y.shape[0]), y])\n",
      "\n",
      "    def errors(self, y):\n",
      "        \"\"\"Return a float representing the number of errors in the minibatch\n",
      "        over the total number of examples of the minibatch ; zero one\n",
      "        loss over the size of the minibatch\n",
      "\n",
      "        :type y: theano.tensor.TensorType\n",
      "        :param y: corresponds to a vector that gives for each example the\n",
      "                  correct label\n",
      "        \"\"\"\n",
      "\n",
      "        # check if y has same dimension of y_pred\n",
      "        if y.ndim != self.y_pred.ndim:\n",
      "            raise TypeError('y should have the same shape as self.y_pred',\n",
      "                ('y', target.type, 'y_pred', self.y_pred.type))\n",
      "        # check if y is of the correct datatype\n",
      "        if y.dtype.startswith('int'):\n",
      "            # the T.neq operator returns a vector of 0s and 1s, where 1\n",
      "            # represents a mistake in prediction\n",
      "            return T.mean(T.neq(self.y_pred, y))\n",
      "        else:\n",
      "            raise NotImplementedError()\n",
      "\n",
      "\n",
      "def load_data(dataset):\n",
      "    ''' Loads the dataset\n",
      "\n",
      "    :type dataset: string\n",
      "    :param dataset: the path to the dataset (here MNIST)\n",
      "    '''\n",
      "\n",
      "    #############\n",
      "    # LOAD DATA #\n",
      "    #############\n",
      "\n",
      "    f = file('eyes_nopose_PCs.save', 'rb')\n",
      "    train_set, valid_set, test_set = cPickle.load(f)\n",
      "    f.close()\n",
      "    #train_set, valid_set, test_set format: tuple(input, target)\n",
      "    #input is an numpy.ndarray of 2 dimensions (a matrix)\n",
      "    #witch row's correspond to an example. target is a\n",
      "    #numpy.ndarray of 1 dimensions (vector)) that have the same length as\n",
      "    #the number of rows in the input. It should give the target\n",
      "    #target to the example with the same index in the input.\n",
      "\n",
      "    def shared_dataset(data_xy, borrow=True):\n",
      "        \"\"\" Function that loads the dataset into shared variables\n",
      "\n",
      "        The reason we store our dataset in shared variables is to allow\n",
      "        Theano to copy it into the GPU memory (when code is run on GPU).\n",
      "        Since copying data into the GPU is slow, copying a minibatch everytime\n",
      "        is needed (the default behaviour if the data is not in a shared\n",
      "        variable) would lead to a large decrease in performance.\n",
      "        \"\"\"\n",
      "        data_x, data_y = data_xy\n",
      "        shared_x = theano.shared(numpy.asarray(data_x,\n",
      "                                               dtype=theano.config.floatX),\n",
      "                                 borrow=borrow)\n",
      "        shared_y = theano.shared(numpy.asarray(data_y,\n",
      "                                               dtype=theano.config.floatX),\n",
      "                                 borrow=borrow)\n",
      "        # When storing data on the GPU it has to be stored as floats\n",
      "        # therefore we will store the labels as ``floatX`` as well\n",
      "        # (``shared_y`` does exactly that). But during our computations\n",
      "        # we need them as ints (we use labels as index, and if they are\n",
      "        # floats it doesn't make sense) therefore instead of returning\n",
      "        # ``shared_y`` we will have to cast it to int. This little hack\n",
      "        # lets ous get around this issue\n",
      "        return shared_x, T.cast(shared_y, 'int32')\n",
      "\n",
      "    test_set_x, test_set_y = shared_dataset(test_set)\n",
      "    valid_set_x, valid_set_y = shared_dataset(valid_set)\n",
      "    train_set_x, train_set_y = shared_dataset(train_set)\n",
      "\n",
      "    rval = [(train_set_x, train_set_y), (valid_set_x, valid_set_y),\n",
      "            (test_set_x, test_set_y)]\n",
      "    return rval"
     ],
     "language": "python",
     "metadata": {},
     "outputs": [],
     "prompt_number": 4
    },
    {
     "cell_type": "code",
     "collapsed": false,
     "input": [
      "class HiddenLayer(object):\n",
      "    def __init__(self, rng, input, n_in, n_out, W=None, b=None,\n",
      "                 activation=T.tanh):\n",
      "        \"\"\"\n",
      "        Typical hidden layer of a MLP: units are fully-connected and have\n",
      "        sigmoidal activation function. Weight matrix W is of shape (n_in,n_out)\n",
      "        and the bias vector b is of shape (n_out,).\n",
      "\n",
      "        NOTE : The nonlinearity used here is tanh\n",
      "\n",
      "        Hidden unit activation is given by: tanh(dot(input,W) + b)\n",
      "\n",
      "        :type rng: numpy.random.RandomState\n",
      "        :param rng: a random number generator used to initialize weights\n",
      "\n",
      "        :type input: theano.tensor.dmatrix\n",
      "        :param input: a symbolic tensor of shape (n_examples, n_in)\n",
      "\n",
      "        :type n_in: int\n",
      "        :param n_in: dimensionality of input\n",
      "\n",
      "        :type n_out: int\n",
      "        :param n_out: number of hidden units\n",
      "\n",
      "        :type activation: theano.Op or function\n",
      "        :param activation: Non linearity to be applied in the hidden\n",
      "                           layer\n",
      "        \"\"\"\n",
      "        self.input = input\n",
      "\n",
      "        # `W` is initialized with `W_values` which is uniformely sampled\n",
      "        # from sqrt(-6./(n_in+n_hidden)) and sqrt(6./(n_in+n_hidden))\n",
      "        # for tanh activation function\n",
      "        # the output of uniform if converted using asarray to dtype\n",
      "        # theano.config.floatX so that the code is runable on GPU\n",
      "        # Note : optimal initialization of weights is dependent on the\n",
      "        #        activation function used (among other things).\n",
      "        #        For example, results presented in [Xavier10] suggest that you\n",
      "        #        should use 4 times larger initial weights for sigmoid\n",
      "        #        compared to tanh\n",
      "        #        We have no info for other function, so we use the same as\n",
      "        #        tanh.\n",
      "        if W is None:\n",
      "            W_values = numpy.asarray(rng.uniform(\n",
      "                    low=-numpy.sqrt(6. / (n_in + n_out)),\n",
      "                    high=numpy.sqrt(6. / (n_in + n_out)),\n",
      "                    size=(n_in, n_out)), dtype=theano.config.floatX)\n",
      "            if activation == theano.tensor.nnet.sigmoid:\n",
      "                W_values *= 4\n",
      "\n",
      "            W = theano.shared(value=W_values, name='W', borrow=True)\n",
      "\n",
      "        if b is None:\n",
      "            b_values = numpy.zeros((n_out,), dtype=theano.config.floatX)\n",
      "            b = theano.shared(value=b_values, name='b', borrow=True)\n",
      "\n",
      "        self.W = W\n",
      "        self.b = b\n",
      "\n",
      "        lin_output = T.dot(input, self.W) + self.b\n",
      "        self.output = (lin_output if activation is None\n",
      "                       else activation(lin_output))\n",
      "        # parameters of the model\n",
      "        self.params = [self.W, self.b]\n",
      "\n",
      "\n",
      "class MLP(object):\n",
      "    \"\"\"Multi-Layer Perceptron Class\n",
      "\n",
      "    A multilayer perceptron is a feedforward artificial neural network model\n",
      "    that has one layer or more of hidden units and nonlinear activations.\n",
      "    Intermediate layers usually have as activation function tanh or the\n",
      "    sigmoid function (defined here by a ``HiddenLayer`` class)  while the\n",
      "    top layer is a softamx layer (defined here by a ``LogisticRegression``\n",
      "    class).\n",
      "    \"\"\"\n",
      "\n",
      "    def __init__(self, rng, input, n_in, n_hidden, n_out):\n",
      "        \"\"\"Initialize the parameters for the multilayer perceptron\n",
      "\n",
      "        :type rng: numpy.random.RandomState\n",
      "        :param rng: a random number generator used to initialize weights\n",
      "\n",
      "        :type input: theano.tensor.TensorType\n",
      "        :param input: symbolic variable that describes the input of the\n",
      "        architecture (one minibatch)\n",
      "\n",
      "        :type n_in: int\n",
      "        :param n_in: number of input units, the dimension of the space in\n",
      "        which the datapoints lie\n",
      "\n",
      "        :type n_hidden: int\n",
      "        :param n_hidden: number of hidden units\n",
      "\n",
      "        :type n_out: int\n",
      "        :param n_out: number of output units, the dimension of the space in\n",
      "        which the labels lie\n",
      "\n",
      "        \"\"\"\n",
      "\n",
      "        # Since we are dealing with a one hidden layer MLP, this will translate\n",
      "        # into a HiddenLayer with a tanh activation function connected to the\n",
      "        # LogisticRegression layer; the activation function can be replaced by\n",
      "        # sigmoid or any other nonlinear function\n",
      "        self.hiddenLayer = HiddenLayer(rng=rng, input=input,\n",
      "                                       n_in=n_in, n_out=n_hidden,\n",
      "                                       activation=T.tanh)\n",
      "\n",
      "        # The logistic regression layer gets as input the hidden units\n",
      "        # of the hidden layer\n",
      "        self.logRegressionLayer = LogisticRegression(\n",
      "            input=self.hiddenLayer.output,\n",
      "            n_in=n_hidden,\n",
      "            n_out=n_out)\n",
      "\n",
      "        # L1 norm ; one regularization option is to enforce L1 norm to\n",
      "        # be small\n",
      "        self.L1 = abs(self.hiddenLayer.W).sum() \\\n",
      "                + abs(self.logRegressionLayer.W).sum()\n",
      "\n",
      "        # square of L2 norm ; one regularization option is to enforce\n",
      "        # square of L2 norm to be small\n",
      "        self.L2_sqr = (self.hiddenLayer.W ** 2).sum() \\\n",
      "                    + (self.logRegressionLayer.W ** 2).sum()\n",
      "\n",
      "        # negative log likelihood of the MLP is given by the negative\n",
      "        # log likelihood of the output of the model, computed in the\n",
      "        # logistic regression layer\n",
      "        self.negative_log_likelihood = self.logRegressionLayer.negative_log_likelihood\n",
      "        # same holds for the function computing the number of errors\n",
      "        self.errors = self.logRegressionLayer.errors\n",
      "\n",
      "        # the parameters of the model are the parameters of the two layer it is\n",
      "        # made out of\n",
      "        self.params = self.hiddenLayer.params + self.logRegressionLayer.params"
     ],
     "language": "python",
     "metadata": {},
     "outputs": [],
     "prompt_number": 5
    },
    {
     "cell_type": "code",
     "collapsed": false,
     "input": [
      "def test_mlp(learning_rate=0.001, L1_reg=0.00, L2_reg=0.001, n_epochs=1000,\n",
      "             dataset='mnist.pkl.gz', batch_size=10, n_hidden=200):\n",
      "    \"\"\"\n",
      "    Demonstrate stochastic gradient descent optimization for a multilayer\n",
      "    perceptron\n",
      "\n",
      "    This is demonstrated on MNIST.\n",
      "\n",
      "    :type learning_rate: float\n",
      "    :param learning_rate: learning rate used (factor for the stochastic\n",
      "    gradient\n",
      "\n",
      "    :type L1_reg: float\n",
      "    :param L1_reg: L1-norm's weight when added to the cost (see\n",
      "    regularization)\n",
      "\n",
      "    :type L2_reg: float\n",
      "    :param L2_reg: L2-norm's weight when added to the cost (see\n",
      "    regularization)\n",
      "\n",
      "    :type n_epochs: int\n",
      "    :param n_epochs: maximal number of epochs to run the optimizer\n",
      "\n",
      "    :type dataset: string\n",
      "    :param dataset: the path of the MNIST dataset file from\n",
      "                 http://www.iro.umontreal.ca/~lisa/deep/data/mnist/mnist.pkl.gz\n",
      "\n",
      "\n",
      "   \"\"\"\n",
      "    datasets = load_data(dataset)\n",
      "\n",
      "    train_set_x, train_set_y = datasets[0]\n",
      "    valid_set_x, valid_set_y = datasets[1]\n",
      "    test_set_x, test_set_y = datasets[2]\n",
      "\n",
      "    # compute number of minibatches for training, validation and testing\n",
      "    n_train_batches = train_set_x.get_value(borrow=True).shape[0] / batch_size\n",
      "    n_valid_batches = valid_set_x.get_value(borrow=True).shape[0] / batch_size\n",
      "    n_test_batches = test_set_x.get_value(borrow=True).shape[0] / batch_size\n",
      "\n",
      "    ######################\n",
      "    # BUILD ACTUAL MODEL #\n",
      "    ######################\n",
      "    print '... building the model'\n",
      "\n",
      "    # allocate symbolic variables for the data\n",
      "    index = T.lscalar()  # index to a [mini]batch\n",
      "    x = T.matrix('x')  # the data is presented as rasterized images\n",
      "    y = T.ivector('y')  # the labels are presented as 1D vector of\n",
      "                        # [int] labels\n",
      "\n",
      "    rng = numpy.random.RandomState(1234)\n",
      "\n",
      "    # construct the MLP class\n",
      "    classifier = MLP(rng=rng, input=x, n_in=28,\n",
      "                     n_hidden=n_hidden, n_out=2)\n",
      "\n",
      "    # the cost we minimize during training is the negative log likelihood of\n",
      "    # the model plus the regularization terms (L1 and L2); cost is expressed\n",
      "    # here symbolically\n",
      "    cost = classifier.negative_log_likelihood(y) \\\n",
      "         + L1_reg * classifier.L1 \\\n",
      "         + L2_reg * classifier.L2_sqr\n",
      "\n",
      "    # compiling a Theano function that computes the mistakes that are made\n",
      "    # by the model on a minibatch\n",
      "    test_model = theano.function(inputs=[index],\n",
      "            outputs=classifier.errors(y),\n",
      "            givens={\n",
      "                x: test_set_x[index * batch_size:(index + 1) * batch_size],\n",
      "                y: test_set_y[index * batch_size:(index + 1) * batch_size]})\n",
      "\n",
      "    validate_model = theano.function(inputs=[index],\n",
      "            outputs=classifier.errors(y),\n",
      "            givens={\n",
      "                x: valid_set_x[index * batch_size:(index + 1) * batch_size],\n",
      "                y: valid_set_y[index * batch_size:(index + 1) * batch_size]})\n",
      "\n",
      "    # compute the gradient of cost with respect to theta (sotred in params)\n",
      "    # the resulting gradients will be stored in a list gparams\n",
      "    gparams = []\n",
      "    for param in classifier.params:\n",
      "        gparam = T.grad(cost, param)\n",
      "        gparams.append(gparam)\n",
      "\n",
      "    # specify how to update the parameters of the model as a list of\n",
      "    # (variable, update expression) pairs\n",
      "    updates = []\n",
      "    # given two list the zip A = [a1, a2, a3, a4] and B = [b1, b2, b3, b4] of\n",
      "    # same length, zip generates a list C of same size, where each element\n",
      "    # is a pair formed from the two lists :\n",
      "    #    C = [(a1, b1), (a2, b2), (a3, b3), (a4, b4)]\n",
      "    for param, gparam in zip(classifier.params, gparams):\n",
      "        updates.append((param, param - learning_rate * gparam))\n",
      "\n",
      "    # compiling a Theano function `train_model` that returns the cost, but\n",
      "    # in the same time updates the parameter of the model based on the rules\n",
      "    # defined in `updates`\n",
      "    train_model = theano.function(inputs=[index], outputs=cost,\n",
      "            updates=updates,\n",
      "            givens={\n",
      "                x: train_set_x[index * batch_size:(index + 1) * batch_size],\n",
      "                y: train_set_y[index * batch_size:(index + 1) * batch_size]})\n",
      "\n",
      "    ###############\n",
      "    # TRAIN MODEL #\n",
      "    ###############\n",
      "    print '... training'\n",
      "\n",
      "    # early-stopping parameters\n",
      "    patience = 10000  # look as this many examples regardless\n",
      "    patience_increase = 2  # wait this much longer when a new best is\n",
      "                           # found\n",
      "    improvement_threshold = 0.995  # a relative improvement of this much is\n",
      "                                   # considered significant\n",
      "    validation_frequency = min(n_train_batches, patience / 2)\n",
      "                                  # go through this many\n",
      "                                  # minibatche before checking the network\n",
      "                                  # on the validation set; in this case we\n",
      "                                  # check every epoch\n",
      "\n",
      "    best_params = None\n",
      "    best_validation_loss = numpy.inf\n",
      "    best_iter = 0\n",
      "    test_score = 0.\n",
      "    start_time = time.clock()\n",
      "\n",
      "    epoch = 0\n",
      "    done_looping = False\n",
      "\n",
      "    while (epoch < n_epochs) and (not done_looping):\n",
      "        epoch = epoch + 1\n",
      "        for minibatch_index in xrange(n_train_batches):\n",
      "\n",
      "            minibatch_avg_cost = train_model(minibatch_index)\n",
      "            # iteration number\n",
      "            iter = (epoch - 1) * n_train_batches + minibatch_index\n",
      "\n",
      "            if (iter + 1) % validation_frequency == 0:\n",
      "                # compute zero-one loss on validation set\n",
      "                validation_losses = [validate_model(i) for i\n",
      "                                     in xrange(n_valid_batches)]\n",
      "                this_validation_loss = numpy.mean(validation_losses)\n",
      "\n",
      "                print('epoch %i, minibatch %i/%i, validation error %f %%' %\n",
      "                     (epoch, minibatch_index + 1, n_train_batches,\n",
      "                      this_validation_loss * 100.))\n",
      "\n",
      "                # if we got the best validation score until now\n",
      "                if this_validation_loss < best_validation_loss:\n",
      "                    #improve patience if loss improvement is good enough\n",
      "                    if this_validation_loss < best_validation_loss *  \\\n",
      "                           improvement_threshold:\n",
      "                        patience = max(patience, iter * patience_increase)\n",
      "\n",
      "                    best_validation_loss = this_validation_loss\n",
      "                    best_iter = iter\n",
      "\n",
      "                    # test it on the test set\n",
      "                    test_losses = [test_model(i) for i\n",
      "                                   in xrange(n_test_batches)]\n",
      "                    test_score = numpy.mean(test_losses)\n",
      "\n",
      "                    print(('     epoch %i, minibatch %i/%i, test error of '\n",
      "                           'best model %f %%') %\n",
      "                          (epoch, minibatch_index + 1, n_train_batches,\n",
      "                           test_score * 100.))\n",
      "\n",
      "            if patience <= iter:\n",
      "                    done_looping = True\n",
      "                    break\n",
      "\n",
      "    end_time = time.clock()\n",
      "    print(('Optimization complete. Best validation score of %f %% '\n",
      "           'obtained at iteration %i, with test performance %f %%') %\n",
      "          (best_validation_loss * 100., best_iter + 1, test_score * 100.))\n",
      "#     print >> sys.stderr, ('The code for file ' +\n",
      "#                           os.path.split(__file__)[1] +\n",
      "#                           ' ran for %.2fm' % ((end_time - start_time) / 60.))\n",
      "\n",
      "    return classifier"
     ],
     "language": "python",
     "metadata": {},
     "outputs": [],
     "prompt_number": 6
    },
    {
     "cell_type": "code",
     "collapsed": false,
     "input": [
      "classifier = test_mlp(n_epochs=500)"
     ],
     "language": "python",
     "metadata": {},
     "outputs": [
      {
       "output_type": "stream",
       "stream": "stdout",
       "text": [
        "... building the model\n",
        "... training"
       ]
      },
      {
       "output_type": "stream",
       "stream": "stdout",
       "text": [
        "\n",
        "epoch 1, minibatch 93/93, validation error 6.000000 %\n",
        "     epoch 1, minibatch 93/93, test error of best model 4.000000 %\n",
        "epoch 2, minibatch 93/93, validation error 6.000000 %"
       ]
      },
      {
       "output_type": "stream",
       "stream": "stdout",
       "text": [
        "\n",
        "epoch 3, minibatch 93/93, validation error 6.500000 %\n",
        "epoch 4, minibatch 93/93, validation error 6.000000 %"
       ]
      },
      {
       "output_type": "stream",
       "stream": "stdout",
       "text": [
        "\n",
        "     epoch 4, minibatch 93/93, test error of best model 3.500000 %\n",
        "epoch 5, minibatch 93/93, validation error 6.000000 %\n",
        "epoch 6, minibatch 93/93, validation error 5.500000 %"
       ]
      },
      {
       "output_type": "stream",
       "stream": "stdout",
       "text": [
        "\n",
        "     epoch 6, minibatch 93/93, test error of best model 3.500000 %\n",
        "epoch 7, minibatch 93/93, validation error 5.500000 %\n",
        "epoch 8, minibatch 93/93, validation error 5.500000 %"
       ]
      },
      {
       "output_type": "stream",
       "stream": "stdout",
       "text": [
        "\n",
        "epoch 9, minibatch 93/93, validation error 5.500000 %\n",
        "epoch 10, minibatch 93/93, validation error 5.500000 %\n",
        "epoch 11, minibatch 93/93, validation error 5.500000 %"
       ]
      },
      {
       "output_type": "stream",
       "stream": "stdout",
       "text": [
        "\n",
        "epoch 12, minibatch 93/93, validation error 5.500000 %\n",
        "epoch 13, minibatch 93/93, validation error 5.500000 %"
       ]
      },
      {
       "output_type": "stream",
       "stream": "stdout",
       "text": [
        "\n",
        "epoch 14, minibatch 93/93, validation error 5.500000 %\n",
        "epoch 15, minibatch 93/93, validation error 5.500000 %"
       ]
      },
      {
       "output_type": "stream",
       "stream": "stdout",
       "text": [
        "\n",
        "epoch 16, minibatch 93/93, validation error 5.000000 %\n",
        "     epoch 16, minibatch 93/93, test error of best model 3.500000 %\n",
        "epoch 17, minibatch 93/93, validation error 5.000000 %"
       ]
      },
      {
       "output_type": "stream",
       "stream": "stdout",
       "text": [
        "\n",
        "epoch 18, minibatch 93/93, validation error 5.000000 %\n",
        "epoch 19, minibatch 93/93, validation error 5.000000 %"
       ]
      },
      {
       "output_type": "stream",
       "stream": "stdout",
       "text": [
        "\n",
        "epoch 20, minibatch 93/93, validation error 5.000000 %\n",
        "epoch 21, minibatch 93/93, validation error 5.000000 %\n",
        "epoch 22, minibatch 93/93, validation error 4.500000 %"
       ]
      },
      {
       "output_type": "stream",
       "stream": "stdout",
       "text": [
        "\n",
        "     epoch 22, minibatch 93/93, test error of best model 3.000000 %\n",
        "epoch 23, minibatch 93/93, validation error 4.500000 %\n",
        "epoch 24, minibatch 93/93, validation error 4.500000 %"
       ]
      },
      {
       "output_type": "stream",
       "stream": "stdout",
       "text": [
        "\n",
        "epoch 25, minibatch 93/93, validation error 4.500000 %\n",
        "epoch 26, minibatch 93/93, validation error 4.500000 %"
       ]
      },
      {
       "output_type": "stream",
       "stream": "stdout",
       "text": [
        "\n",
        "epoch 27, minibatch 93/93, validation error 4.500000 %\n",
        "epoch 28, minibatch 93/93, validation error 4.500000 %"
       ]
      },
      {
       "output_type": "stream",
       "stream": "stdout",
       "text": [
        "\n",
        "epoch 29, minibatch 93/93, validation error 4.500000 %\n",
        "epoch 30, minibatch 93/93, validation error 4.500000 %\n",
        "epoch 31, minibatch 93/93, validation error 4.500000 %"
       ]
      },
      {
       "output_type": "stream",
       "stream": "stdout",
       "text": [
        "\n",
        "epoch 32, minibatch 93/93, validation error 4.000000 %\n",
        "     epoch 32, minibatch 93/93, test error of best model 2.000000 %\n",
        "epoch 33, minibatch 93/93, validation error 4.000000 %"
       ]
      },
      {
       "output_type": "stream",
       "stream": "stdout",
       "text": [
        "\n",
        "epoch 34, minibatch 93/93, validation error 4.000000 %\n",
        "epoch 35, minibatch 93/93, validation error 4.000000 %"
       ]
      },
      {
       "output_type": "stream",
       "stream": "stdout",
       "text": [
        "\n",
        "epoch 36, minibatch 93/93, validation error 4.000000 %\n",
        "epoch 37, minibatch 93/93, validation error 4.000000 %"
       ]
      },
      {
       "output_type": "stream",
       "stream": "stdout",
       "text": [
        "\n",
        "epoch 38, minibatch 93/93, validation error 4.000000 %\n",
        "epoch 39, minibatch 93/93, validation error 4.000000 %"
       ]
      },
      {
       "output_type": "stream",
       "stream": "stdout",
       "text": [
        "\n",
        "epoch 40, minibatch 93/93, validation error 4.000000 %\n",
        "epoch 41, minibatch 93/93, validation error 4.000000 %"
       ]
      },
      {
       "output_type": "stream",
       "stream": "stdout",
       "text": [
        "\n",
        "epoch 42, minibatch 93/93, validation error 4.000000 %\n",
        "epoch 43, minibatch 93/93, validation error 4.000000 %"
       ]
      },
      {
       "output_type": "stream",
       "stream": "stdout",
       "text": [
        "\n",
        "epoch 44, minibatch 93/93, validation error 4.000000 %\n",
        "epoch 45, minibatch 93/93, validation error 4.000000 %"
       ]
      },
      {
       "output_type": "stream",
       "stream": "stdout",
       "text": [
        "\n",
        "epoch 46, minibatch 93/93, validation error 4.000000 %\n",
        "epoch 47, minibatch 93/93, validation error 4.000000 %\n",
        "epoch 48, minibatch 93/93, validation error 4.000000 %"
       ]
      },
      {
       "output_type": "stream",
       "stream": "stdout",
       "text": [
        "\n",
        "epoch 49, minibatch 93/93, validation error 4.000000 %\n",
        "epoch 50, minibatch 93/93, validation error 4.000000 %\n",
        "epoch 51, minibatch 93/93, validation error 4.000000 %"
       ]
      },
      {
       "output_type": "stream",
       "stream": "stdout",
       "text": [
        "\n",
        "epoch 52, minibatch 93/93, validation error 4.000000 %\n",
        "epoch 53, minibatch 93/93, validation error 4.000000 %\n",
        "epoch 54, minibatch 93/93, validation error 4.000000 %"
       ]
      },
      {
       "output_type": "stream",
       "stream": "stdout",
       "text": [
        "\n",
        "epoch 55, minibatch 93/93, validation error 4.000000 %\n",
        "epoch 56, minibatch 93/93, validation error 4.000000 %"
       ]
      },
      {
       "output_type": "stream",
       "stream": "stdout",
       "text": [
        "\n",
        "epoch 57, minibatch 93/93, validation error 4.000000 %\n",
        "epoch 58, minibatch 93/93, validation error 4.000000 %"
       ]
      },
      {
       "output_type": "stream",
       "stream": "stdout",
       "text": [
        "\n",
        "epoch 59, minibatch 93/93, validation error 4.000000 %\n",
        "epoch 60, minibatch 93/93, validation error 4.000000 %"
       ]
      },
      {
       "output_type": "stream",
       "stream": "stdout",
       "text": [
        "\n",
        "epoch 61, minibatch 93/93, validation error 4.000000 %\n",
        "epoch 62, minibatch 93/93, validation error 4.000000 %"
       ]
      },
      {
       "output_type": "stream",
       "stream": "stdout",
       "text": [
        "\n",
        "epoch 63, minibatch 93/93, validation error 4.000000 %\n",
        "epoch 64, minibatch 93/93, validation error 4.000000 %"
       ]
      },
      {
       "output_type": "stream",
       "stream": "stdout",
       "text": [
        "\n",
        "epoch 65, minibatch 93/93, validation error 4.000000 %\n",
        "epoch 66, minibatch 93/93, validation error 4.000000 %"
       ]
      },
      {
       "output_type": "stream",
       "stream": "stdout",
       "text": [
        "\n",
        "epoch 67, minibatch 93/93, validation error 4.000000 %\n",
        "epoch 68, minibatch 93/93, validation error 4.000000 %"
       ]
      },
      {
       "output_type": "stream",
       "stream": "stdout",
       "text": [
        "\n",
        "epoch 69, minibatch 93/93, validation error 4.000000 %\n",
        "epoch 70, minibatch 93/93, validation error 3.500000 %"
       ]
      },
      {
       "output_type": "stream",
       "stream": "stdout",
       "text": [
        "\n",
        "     epoch 70, minibatch 93/93, test error of best model 2.000000 %\n",
        "epoch 71, minibatch 93/93, validation error 3.500000 %\n",
        "epoch 72, minibatch 93/93, validation error 3.500000 %"
       ]
      },
      {
       "output_type": "stream",
       "stream": "stdout",
       "text": [
        "\n",
        "epoch 73, minibatch 93/93, validation error 3.500000 %\n",
        "epoch 74, minibatch 93/93, validation error 3.500000 %"
       ]
      },
      {
       "output_type": "stream",
       "stream": "stdout",
       "text": [
        "\n",
        "epoch 75, minibatch 93/93, validation error 3.500000 %\n",
        "epoch 76, minibatch 93/93, validation error 3.500000 %"
       ]
      },
      {
       "output_type": "stream",
       "stream": "stdout",
       "text": [
        "\n",
        "epoch 77, minibatch 93/93, validation error 3.500000 %\n",
        "epoch 78, minibatch 93/93, validation error 3.500000 %"
       ]
      },
      {
       "output_type": "stream",
       "stream": "stdout",
       "text": [
        "\n",
        "epoch 79, minibatch 93/93, validation error 3.500000 %\n",
        "epoch 80, minibatch 93/93, validation error 3.500000 %"
       ]
      },
      {
       "output_type": "stream",
       "stream": "stdout",
       "text": [
        "\n",
        "epoch 81, minibatch 93/93, validation error 3.500000 %\n",
        "epoch 82, minibatch 93/93, validation error 3.500000 %"
       ]
      },
      {
       "output_type": "stream",
       "stream": "stdout",
       "text": [
        "\n",
        "epoch 83, minibatch 93/93, validation error 3.500000 %\n",
        "epoch 84, minibatch 93/93, validation error 3.500000 %"
       ]
      },
      {
       "output_type": "stream",
       "stream": "stdout",
       "text": [
        "\n",
        "epoch 85, minibatch 93/93, validation error 3.500000 %\n",
        "epoch 86, minibatch 93/93, validation error 3.500000 %"
       ]
      },
      {
       "output_type": "stream",
       "stream": "stdout",
       "text": [
        "\n",
        "epoch 87, minibatch 93/93, validation error 3.500000 %\n",
        "epoch 88, minibatch 93/93, validation error 3.000000 %"
       ]
      },
      {
       "output_type": "stream",
       "stream": "stdout",
       "text": [
        "\n",
        "     epoch 88, minibatch 93/93, test error of best model 2.000000 %\n",
        "epoch 89, minibatch 93/93, validation error 3.000000 %\n",
        "epoch 90, minibatch 93/93, validation error 3.000000 %"
       ]
      },
      {
       "output_type": "stream",
       "stream": "stdout",
       "text": [
        "\n",
        "epoch 91, minibatch 93/93, validation error 3.000000 %\n",
        "epoch 92, minibatch 93/93, validation error 3.000000 %"
       ]
      },
      {
       "output_type": "stream",
       "stream": "stdout",
       "text": [
        "\n",
        "epoch 93, minibatch 93/93, validation error 3.000000 %\n",
        "epoch 94, minibatch 93/93, validation error 3.000000 %"
       ]
      },
      {
       "output_type": "stream",
       "stream": "stdout",
       "text": [
        "\n",
        "epoch 95, minibatch 93/93, validation error 3.000000 %\n",
        "epoch 96, minibatch 93/93, validation error 3.000000 %"
       ]
      },
      {
       "output_type": "stream",
       "stream": "stdout",
       "text": [
        "\n",
        "epoch 97, minibatch 93/93, validation error 3.000000 %\n",
        "epoch 98, minibatch 93/93, validation error 3.000000 %"
       ]
      },
      {
       "output_type": "stream",
       "stream": "stdout",
       "text": [
        "\n",
        "epoch 99, minibatch 93/93, validation error 3.000000 %\n",
        "epoch 100, minibatch 93/93, validation error 3.000000 %"
       ]
      },
      {
       "output_type": "stream",
       "stream": "stdout",
       "text": [
        "\n",
        "epoch 101, minibatch 93/93, validation error 3.000000 %\n",
        "epoch 102, minibatch 93/93, validation error 3.000000 %\n",
        "epoch 103, minibatch 93/93, validation error 3.000000 %"
       ]
      },
      {
       "output_type": "stream",
       "stream": "stdout",
       "text": [
        "\n",
        "epoch 104, minibatch 93/93, validation error 3.000000 %\n",
        "epoch 105, minibatch 93/93, validation error 3.000000 %"
       ]
      },
      {
       "output_type": "stream",
       "stream": "stdout",
       "text": [
        "\n",
        "epoch 106, minibatch 93/93, validation error 3.000000 %\n",
        "epoch 107, minibatch 93/93, validation error 3.000000 %"
       ]
      },
      {
       "output_type": "stream",
       "stream": "stdout",
       "text": [
        "\n",
        "epoch 108, minibatch 93/93, validation error 3.000000 %\n",
        "epoch 109, minibatch 93/93, validation error 3.000000 %"
       ]
      },
      {
       "output_type": "stream",
       "stream": "stdout",
       "text": [
        "\n",
        "epoch 110, minibatch 93/93, validation error 3.000000 %\n",
        "epoch 111, minibatch 93/93, validation error 3.000000 %"
       ]
      },
      {
       "output_type": "stream",
       "stream": "stdout",
       "text": [
        "\n",
        "epoch 112, minibatch 93/93, validation error 3.000000 %\n",
        "epoch 113, minibatch 93/93, validation error 3.000000 %"
       ]
      },
      {
       "output_type": "stream",
       "stream": "stdout",
       "text": [
        "\n",
        "epoch 114, minibatch 93/93, validation error 3.000000 %\n",
        "epoch 115, minibatch 93/93, validation error 3.000000 %"
       ]
      },
      {
       "output_type": "stream",
       "stream": "stdout",
       "text": [
        "\n",
        "epoch 116, minibatch 93/93, validation error 3.000000 %\n",
        "epoch 117, minibatch 93/93, validation error 3.000000 %"
       ]
      },
      {
       "output_type": "stream",
       "stream": "stdout",
       "text": [
        "\n",
        "epoch 118, minibatch 93/93, validation error 3.000000 %\n",
        "epoch 119, minibatch 93/93, validation error 3.000000 %\n",
        "epoch 120, minibatch 93/93, validation error 3.000000 %"
       ]
      },
      {
       "output_type": "stream",
       "stream": "stdout",
       "text": [
        "\n",
        "epoch 121, minibatch 93/93, validation error 3.000000 %\n",
        "epoch 122, minibatch 93/93, validation error 3.000000 %\n",
        "epoch 123, minibatch 93/93, validation error 3.000000 %"
       ]
      },
      {
       "output_type": "stream",
       "stream": "stdout",
       "text": [
        "\n",
        "epoch 124, minibatch 93/93, validation error 3.000000 %\n",
        "epoch 125, minibatch 93/93, validation error 3.000000 %\n",
        "epoch 126, minibatch 93/93, validation error 3.000000 %"
       ]
      },
      {
       "output_type": "stream",
       "stream": "stdout",
       "text": [
        "\n",
        "epoch 127, minibatch 93/93, validation error 3.000000 %\n",
        "epoch 128, minibatch 93/93, validation error 3.000000 %\n",
        "epoch 129, minibatch 93/93, validation error 3.000000 %"
       ]
      },
      {
       "output_type": "stream",
       "stream": "stdout",
       "text": [
        "\n",
        "epoch 130, minibatch 93/93, validation error 3.000000 %\n",
        "epoch 131, minibatch 93/93, validation error 3.000000 %\n",
        "epoch 132, minibatch 93/93, validation error 3.000000 %"
       ]
      },
      {
       "output_type": "stream",
       "stream": "stdout",
       "text": [
        "\n",
        "epoch 133, minibatch 93/93, validation error 3.000000 %\n",
        "epoch 134, minibatch 93/93, validation error 3.000000 %\n",
        "epoch 135, minibatch 93/93, validation error 3.000000 %"
       ]
      },
      {
       "output_type": "stream",
       "stream": "stdout",
       "text": [
        "\n",
        "epoch 136, minibatch 93/93, validation error 3.000000 %\n",
        "epoch 137, minibatch 93/93, validation error 3.000000 %\n",
        "epoch 138, minibatch 93/93, validation error 3.000000 %"
       ]
      },
      {
       "output_type": "stream",
       "stream": "stdout",
       "text": [
        "\n",
        "epoch 139, minibatch 93/93, validation error 3.000000 %\n",
        "epoch 140, minibatch 93/93, validation error 3.000000 %\n",
        "epoch 141, minibatch 93/93, validation error 3.000000 %"
       ]
      },
      {
       "output_type": "stream",
       "stream": "stdout",
       "text": [
        "\n",
        "epoch 142, minibatch 93/93, validation error 3.000000 %\n",
        "epoch 143, minibatch 93/93, validation error 3.000000 %\n",
        "epoch 144, minibatch 93/93, validation error 3.000000 %"
       ]
      },
      {
       "output_type": "stream",
       "stream": "stdout",
       "text": [
        "\n",
        "epoch 145, minibatch 93/93, validation error 3.000000 %\n",
        "epoch 146, minibatch 93/93, validation error 3.000000 %\n",
        "epoch 147, minibatch 93/93, validation error 3.000000 %"
       ]
      },
      {
       "output_type": "stream",
       "stream": "stdout",
       "text": [
        "\n",
        "epoch 148, minibatch 93/93, validation error 3.000000 %\n",
        "epoch 149, minibatch 93/93, validation error 3.000000 %\n",
        "epoch 150, minibatch 93/93, validation error 3.000000 %"
       ]
      },
      {
       "output_type": "stream",
       "stream": "stdout",
       "text": [
        "\n",
        "epoch 151, minibatch 93/93, validation error 3.000000 %\n",
        "epoch 152, minibatch 93/93, validation error 3.000000 %\n",
        "epoch 153, minibatch 93/93, validation error 3.000000 %"
       ]
      },
      {
       "output_type": "stream",
       "stream": "stdout",
       "text": [
        "\n",
        "epoch 154, minibatch 93/93, validation error 3.000000 %\n",
        "epoch 155, minibatch 93/93, validation error 3.000000 %\n",
        "epoch 156, minibatch 93/93, validation error 3.000000 %"
       ]
      },
      {
       "output_type": "stream",
       "stream": "stdout",
       "text": [
        "\n",
        "epoch 157, minibatch 93/93, validation error 3.000000 %\n",
        "epoch 158, minibatch 93/93, validation error 3.000000 %\n",
        "epoch 159, minibatch 93/93, validation error 3.000000 %"
       ]
      },
      {
       "output_type": "stream",
       "stream": "stdout",
       "text": [
        "\n",
        "epoch 160, minibatch 93/93, validation error 3.000000 %\n",
        "epoch 161, minibatch 93/93, validation error 3.000000 %\n",
        "epoch 162, minibatch 93/93, validation error 3.000000 %"
       ]
      },
      {
       "output_type": "stream",
       "stream": "stdout",
       "text": [
        "\n",
        "epoch 163, minibatch 93/93, validation error 3.000000 %\n",
        "epoch 164, minibatch 93/93, validation error 3.000000 %"
       ]
      },
      {
       "output_type": "stream",
       "stream": "stdout",
       "text": [
        "\n",
        "epoch 165, minibatch 93/93, validation error 3.000000 %\n",
        "epoch 166, minibatch 93/93, validation error 3.000000 %"
       ]
      },
      {
       "output_type": "stream",
       "stream": "stdout",
       "text": [
        "\n",
        "epoch 167, minibatch 93/93, validation error 3.000000 %\n",
        "epoch 168, minibatch 93/93, validation error 3.000000 %"
       ]
      },
      {
       "output_type": "stream",
       "stream": "stdout",
       "text": [
        "\n",
        "epoch 169, minibatch 93/93, validation error 3.000000 %\n",
        "epoch 170, minibatch 93/93, validation error 3.000000 %"
       ]
      },
      {
       "output_type": "stream",
       "stream": "stdout",
       "text": [
        "\n",
        "epoch 171, minibatch 93/93, validation error 3.000000 %\n",
        "epoch 172, minibatch 93/93, validation error 3.000000 %\n",
        "epoch 173, minibatch 93/93, validation error 3.000000 %"
       ]
      },
      {
       "output_type": "stream",
       "stream": "stdout",
       "text": [
        "\n",
        "epoch 174, minibatch 93/93, validation error 3.000000 %\n",
        "epoch 175, minibatch 93/93, validation error 3.000000 %\n",
        "Optimization complete. Best validation score of 3.000000 % obtained at iteration 8184, with test performance 2.000000 %"
       ]
      },
      {
       "output_type": "stream",
       "stream": "stdout",
       "text": [
        "\n"
       ]
      }
     ],
     "prompt_number": 8
    },
    {
     "cell_type": "code",
     "collapsed": false,
     "input": [
      "b1 = classifier.hiddenLayer.b.get_value()\n",
      "w1 = classifier.hiddenLayer.W.get_value()\n",
      "b2 = classifier.logRegressionLayer.b.get_value()\n",
      "w2 = classifier.logRegressionLayer.W.get_value()"
     ],
     "language": "python",
     "metadata": {},
     "outputs": [],
     "prompt_number": 7
    },
    {
     "cell_type": "code",
     "collapsed": false,
     "input": [
      "import cv2\n",
      "import os\n",
      "import random\n",
      "\n",
      "num_coeffs = 150\n",
      "\n",
      "# displaying images inline\n",
      "from IPython.display import Image, display, clear_output\n",
      "\n",
      "# read in eigenvectors and mean image\n",
      "f = file('princoms.save', 'rb')\n",
      "V, immean = cPickle.load(f)\n",
      "f.close()\n",
      "\n",
      "# imgs_dir = r\"C:\\Users\\Erroll\\Documents\\columbia_gaze_data_set\\Columbia Gaze Data Set\\output\"\n",
      "# imgs_dir = r\"C:\\Users\\Erroll\\Documents\\CLM-framework-master\\Release\\eyes\"\n",
      "imgs_dir = \"C:\\Users\\Erroll\\Documents\\eyespose\\eyespose\"\n",
      "all_imnames = os.listdir(imgs_dir)\n",
      "\n",
      "# make balanced set for training\n",
      "nolock_fns = [fn for fn in all_imnames if \"nolock\" in fn]\n",
      "lock_fns = random.sample(set(all_imnames) - set(nolock_fns), 16)\n",
      "nolock_fns_balanced = random.sample(nolock_fns, len(lock_fns))\n",
      "\n",
      "# returns 0 if \"nolock\" or 1 if \"lock\"\n",
      "# uses MLP learnt weights\n",
      "def pred_lock(img):\n",
      "    x = [numpy.dot(img.flatten() - immean, v) for v in V[:num_coeffs]]\n",
      "    h = numpy.tanh(numpy.dot(x,w1) + b1)\n",
      "    return numpy.argmax(b2 + numpy.dot(h,w2))\n",
      "\n",
      "nolock_test_imgs_result = []\n",
      "for fn in nolock_fns_balanced:\n",
      "    img = cv2.imread(os.path.join(imgs_dir,fn), cv2.CV_LOAD_IMAGE_GRAYSCALE)\n",
      "    img_col = cv2.cvtColor(img, cv2.COLOR_GRAY2BGR)\n",
      "    pred = pred_lock(img);\n",
      "    img_col[-3:,:] = [0,255,0] if pred == 0 else [0,0,255]\n",
      "    nolock_test_imgs_result.append(img_col)\n",
      "\n",
      "lock_test_imgs_result = []\n",
      "for fn in lock_fns:\n",
      "    img = cv2.imread(os.path.join(imgs_dir,fn), cv2.CV_LOAD_IMAGE_GRAYSCALE)\n",
      "    img_col = cv2.cvtColor(img, cv2.COLOR_GRAY2BGR)\n",
      "    pred = pred_lock(img);\n",
      "    img_col[-3:,:] = [0,255,0] if pred == 1 else [0,0,255]\n",
      "    lock_test_imgs_result.append(img_col)\n",
      "\n",
      "display(Image(data=cv2.imencode(\".png\", numpy.hstack(nolock_test_imgs_result))[1].tostring()))\n",
      "display(Image(data=cv2.imencode(\".png\", numpy.hstack(lock_test_imgs_result))[1].tostring()))"
     ],
     "language": "python",
     "metadata": {},
     "outputs": [
      {
       "metadata": {},
       "output_type": "display_data",
       "png": "[encoded data removed]",
       "text": [
        "<IPython.core.display.Image at 0xa0433c8>"
       ]
      },
      {
       "metadata": {},
       "output_type": "display_data",
       "png": "[encoded data removed]",
       "text": [
        "<IPython.core.display.Image at 0xa93bdd8>"
       ]
      }
     ],
     "prompt_number": 14
    },
    {
     "cell_type": "code",
     "collapsed": false,
     "input": [
      "numpy.savetxt(\"b1.txt\", b1)\n",
      "numpy.savetxt(\"w1.txt\", w1)\n",
      "numpy.savetxt(\"b2.txt\", b2)\n",
      "numpy.savetxt(\"w2.txt\", w2)"
     ],
     "language": "python",
     "metadata": {},
     "outputs": [],
     "prompt_number": 10
    },
    {
     "cell_type": "code",
     "collapsed": false,
     "input": [
      "numpy.savetxt('princoms.txt', V[:32])\n",
      "numpy.savetxt('immean.txt', immean)"
     ],
     "language": "python",
     "metadata": {},
     "outputs": [],
     "prompt_number": 15
    },
    {
     "cell_type": "code",
     "collapsed": false,
     "input": [
      "img = cv2.imread(r\"C:\\Users\\Erroll\\Documents\\CLM-framework-master\\Release\\eyes\\lock0.png\",cv2.IMREAD_GRAYSCALE)\n",
      "\n",
      "x = numpy.array([numpy.dot(img.flatten() - immean, v) for v in V[:32]])\n",
      "\n",
      "h = numpy.tanh(numpy.dot(x,w1) + b1)\n",
      "\n",
      "print numpy.dot(x,w1) + b1\n",
      "\n",
      "print b2 + numpy.dot(h,w2)\n",
      "\n",
      "# print w1.shape"
     ],
     "language": "python",
     "metadata": {},
     "outputs": [
      {
       "output_type": "stream",
       "stream": "stdout",
       "text": [
        "[  26.65732098  149.94098784  -59.42760614  220.19195765  182.46707686\n",
        "   24.0049819  -288.3782106    55.2215122    90.87786487  139.02545693\n",
        " -143.01009345  111.21453146  -15.56842416  181.78786347  -37.74280522\n",
        "   -4.88897305   64.11170451 -221.86639835   62.80689968  156.42279887\n",
        "  -52.18008119 -151.37875629    2.67523778   72.55225666   81.36044316\n",
        "   95.84267147  -52.14070087  166.9182298   -27.28236846    9.63016045\n",
        " -137.25934829   39.01830896  204.21855558   84.473452    -47.76712508\n",
        "   24.04818304 -142.51235952  341.83757077  120.22631355  101.65489233\n",
        " -281.78576209 -148.52253535 -305.38887267   86.77530408 -110.70647334\n",
        "  -35.40642027 -290.84284893  -40.03185024 -135.22791035  204.51132622\n",
        " -223.60751827  156.01464671   44.61121318 -269.67881226   74.2992134\n",
        "  185.6225379   -15.33061204  164.58107205   75.84415519  129.35595704\n",
        "   34.01345706  -36.70956025  -72.5004829    19.28812269  138.33227057\n",
        "  104.15572701  -40.98591681   71.5503905   -37.77990301  -56.89329515\n",
        "   39.56167404   32.06842599  -19.76881546 -188.6778369    74.02708041\n",
        "  205.76226747   37.06857904   34.1564697  -234.13682872  -60.38847027\n",
        " -142.03809565    8.67342154   42.09682353   45.84027375   50.11321341\n",
        "  -48.49987951   99.62251848  122.22054175  146.77705101  -82.18395409\n",
        " -250.02805953   78.75942536  145.33797559  288.31536235   41.90505398\n",
        "  -48.28465659  -13.83149864  174.9359439   -17.26830793 -158.94004035\n",
        "   21.96259964  224.68929756  123.73632181  -18.31092834  -16.75829706\n",
        "  -91.74473118 -299.19131201 -105.6335394    59.32115345   21.49580535\n",
        "   48.37246044 -227.56971205 -143.62762717  -70.35993815  -59.9326646\n",
        " -121.2950415   -79.64304556  -69.64357456  253.28542582  179.71845739\n",
        "  112.96912748  139.70150801   86.7658125    51.68072667  -58.36073319\n",
        " -325.35566459    7.93534124   59.92123399 -194.58814468 -187.00585059\n",
        " -236.25078956    7.68705931  103.58827855   72.45060626 -213.04512113\n",
        " -241.5738561   232.84335101 -157.39332925  130.29174352   58.62411445\n",
        "   41.71368523  371.97013751  230.98405653 -205.13132458   38.57917364\n",
        "  -76.58282675  -86.82695567    6.28063223  -55.67018349 -171.23223638\n",
        "   91.32763061  176.90447729  -84.74389597  -79.24991875 -151.95565765\n",
        "  230.14749717   53.78499659  250.89413198  167.12070104 -131.87588265\n",
        "  -47.35546045    4.8136946   161.57125458  -63.3700144   204.6962466\n",
        "   93.63267957   -7.44718293   56.18680578  199.64953651   47.74304894\n",
        "  142.31285054   81.02924947 -135.98704153   66.27404593 -130.86658254\n",
        " -175.46803403   87.66766837  109.59438895  101.77253955    2.90578559\n",
        "   54.22424259  -58.35898228  206.9882191   112.16032186 -166.93177945\n",
        "  -66.18211134 -153.81830179   96.13192219    1.81350666  -62.65462382\n",
        "  196.40374851 -227.94102575 -192.93942699  -63.94968463   81.33608571\n",
        "  -23.98613653   39.62033824   52.17509388  -46.66026978   20.80155843]\n",
        "[-2.27174854  2.27174854]\n"
       ]
      }
     ],
     "prompt_number": 61
    }
   ],
   "metadata": {}
  }
 ]
}