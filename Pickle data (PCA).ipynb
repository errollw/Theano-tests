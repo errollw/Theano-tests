{
 "metadata": {
  "name": "",
  "signature": "sha256:6be16021a6c43a1b3c1c8b3adb017277ed426f5e9b00a08bdaf1eecf49333f7c"
 },
 "nbformat": 3,
 "nbformat_minor": 0,
 "worksheets": [
  {
   "cells": [
    {
     "cell_type": "code",
     "collapsed": false,
     "input": [
      "import cPickle\n",
      "import os\n",
      "import numpy as np\n",
      "import cv2\n",
      "import random \n",
      "from skimage import exposure\n",
      "from sklearn.decomposition import PCA\n",
      "from sklearn import preprocessing\n",
      "from sklearn.cross_validation import train_test_split\n",
      "from IPython.display import Image, display"
     ],
     "language": "python",
     "metadata": {},
     "outputs": [],
     "prompt_number": 2
    },
    {
     "cell_type": "code",
     "collapsed": false,
     "input": [
      "imgs_dir = \"C:\\Users\\Erroll\\Documents\\datasets\\eyespose-20141015\""
     ],
     "language": "python",
     "metadata": {},
     "outputs": [],
     "prompt_number": 3
    },
    {
     "cell_type": "markdown",
     "metadata": {},
     "source": [
      "### Make a balanced dataset"
     ]
    },
    {
     "cell_type": "code",
     "collapsed": false,
     "input": [
      "all_imnames = os.listdir(imgs_dir)\n",
      "\n",
      "# get filnames for lock and no-lock images\n",
      "nolock_fns = [fn for fn in all_imnames if \"nolock\" in fn]\n",
      "lock_fns = set(all_imnames) - set(nolock_fns)\n",
      "\n",
      "# number of images in each class for balanced set\n",
      "num_ims = min(len(lock_fns), len(nolock_fns))\n",
      "\n",
      "# make a balanced dataset\n",
      "all_imnames_balanced = random.sample(nolock_fns, num_ims) + random.sample(lock_fns, num_ims)\n",
      "random.shuffle(all_imnames_balanced);\n",
      "\n",
      "print \"total number of images: %d (%d eye-lock)\"%(len(all_imnames_balanced), num_ims)"
     ],
     "language": "python",
     "metadata": {},
     "outputs": [
      {
       "output_type": "stream",
       "stream": "stdout",
       "text": [
        "total number of images: 1332 (666 eye-lock)\n"
       ]
      }
     ],
     "prompt_number": 4
    },
    {
     "cell_type": "markdown",
     "metadata": {},
     "source": [
      "### Load all images into a matrix"
     ]
    },
    {
     "cell_type": "code",
     "collapsed": false,
     "input": [
      "# read in all images and equalize histograms\n",
      "all_ims = [cv2.imread(os.path.join(imgs_dir, imname), cv2.CV_LOAD_IMAGE_GRAYSCALE) for imname in all_imnames_balanced]\n",
      "all_imgs = [exposure.equalize_hist(img)*255.0 for img in all_ims]\n",
      "\n",
      "all_ims_flat = [im.flatten() for im in all_ims]\n",
      "matrix = np.vstack(all_ims_flat)\n",
      "immean = matrix.mean(axis=0)\n",
      "\n",
      "print \"%d images, each has %d pixels\"%matrix.shape\n",
      "\n",
      "display(Image(data=cv2.imencode(\".png\", immean.reshape(24,40))[1].tostring()))\n",
      "display(Image(data=cv2.imencode(\".png\", np.hstack(random.sample(all_ims,20)))[1].tostring()))"
     ],
     "language": "python",
     "metadata": {},
     "outputs": [
      {
       "output_type": "stream",
       "stream": "stdout",
       "text": [
        "1332 images, each has 960 pixels\n"
       ]
      },
      {
       "metadata": {},
       "output_type": "display_data",
       "png": "[encoded data removed]",
       "text": [
        "<IPython.core.display.Image at 0x7ab3ba8>"
       ]
      },
      {
       "metadata": {},
       "output_type": "display_data",
       "png": "[encoded data removed]",
       "text": [
        "<IPython.core.display.Image at 0xbfc9908>"
       ]
      }
     ],
     "prompt_number": 5
    },
    {
     "cell_type": "markdown",
     "metadata": {},
     "source": [
      "### Perform PCA"
     ]
    },
    {
     "cell_type": "code",
     "collapsed": false,
     "input": [
      "pca = PCA()\n",
      "pca.fit(all_ims_flat)\n",
      "transformed = pca.transform(all_ims_flat)\n",
      "\n",
      "variance_thresh = 0.9\n",
      "\n",
      "for num_components in range(len(pca.explained_variance_ratio_)):\n",
      "    if sum(pca.explained_variance_ratio_[:num_components]) > variance_thresh: break\n",
      "        \n",
      "print \"number of components for %.2f variance: %d\"%(variance_thresh,num_components)"
     ],
     "language": "python",
     "metadata": {},
     "outputs": [
      {
       "output_type": "stream",
       "stream": "stdout",
       "text": [
        "number of components for 0.90 variance: 28\n"
       ]
      }
     ],
     "prompt_number": 6
    },
    {
     "cell_type": "code",
     "collapsed": false,
     "input": [
      "print pca.transform(all_ims_flat[2])[0][:num_components]\n",
      "\n",
      "print transformed[2][:num_components]"
     ],
     "language": "python",
     "metadata": {},
     "outputs": [
      {
       "output_type": "stream",
       "stream": "stdout",
       "text": [
        "[ 141.87842643  339.58521844  178.0873145   644.09381862   61.9925203\n",
        "  354.93021536  245.84035739  428.08066887  479.99753991  450.42996807\n",
        "   49.30384475   34.50507211 -190.63900887 -321.64135293  -83.78557487\n",
        "   45.76230041  -30.05560344 -143.43239029  -68.23112783   90.4827075\n",
        " -115.89740722   91.50391377  108.47326554   77.38804837   56.10522957\n",
        " -153.65492032  119.64912749 -104.50058758]\n",
        "[ 141.87842643  339.58521844  178.0873145   644.09381862   61.9925203\n",
        "  354.93021536  245.84035739  428.08066887  479.99753991  450.42996807\n",
        "   49.30384475   34.50507211 -190.63900887 -321.64135293  -83.78557487\n",
        "   45.76230041  -30.05560344 -143.43239029  -68.23112783   90.4827075\n",
        " -115.89740722   91.50391377  108.47326554   77.38804837   56.10522957\n",
        " -153.65492032  119.64912749 -104.50058758]\n"
       ]
      }
     ],
     "prompt_number": 15
    },
    {
     "cell_type": "markdown",
     "metadata": {},
     "source": [
      "### Create input X and output Y\n",
      "`X_wp` contains headpose data, `X_np` doesn't."
     ]
    },
    {
     "cell_type": "code",
     "collapsed": false,
     "input": [
      "# input and output\n",
      "X_np, X_wp, Y = [], [], []\n",
      "\n",
      "for imname in all_imnames_balanced:\n",
      "    img = cv2.imread(os.path.join(imgs_dir,imname), cv2.CV_LOAD_IMAGE_GRAYSCALE).flatten()\n",
      "    \n",
      "    coeffs = pca.transform(img)[0][:num_components]\n",
      "    angles = [float(s) for s in imname[imname.find(\"(\")+1:imname.find(\")\")].split(\",\")]\n",
      "\n",
      "    X_wp.append(np.array(angles + list(coeffs)).astype(np.float32))\n",
      "    X_np.append(np.array(coeffs).astype(np.float32))\n",
      "    Y.append(0 if \"nolock\" in imname else 1)\n",
      "\n",
      "X_np, X_wp = preprocessing.scale(X_np), preprocessing.scale(X_wp)\n",
      "\n",
      "Xnp_train_valid, Xnp_test, Ynp_train_valid, Ynp_test = train_test_split(X_np, Y, test_size=200)\n",
      "Xwp_train_valid, Xwp_test, Ywp_train_valid, Ywp_test = train_test_split(X_wp, Y, test_size=200)\n",
      "Xnp_train, Xnp_valid, Ynp_train, Ynp_valid = train_test_split(Xnp_train_valid, Ynp_train_valid, test_size=200)\n",
      "Xwp_train, Xwp_valid, Ywp_train, Ywp_valid = train_test_split(Xwp_train_valid, Ywp_train_valid, test_size=200)\n",
      "\n",
      "print \"X (no pose): %d elements, %d t, %d v, %d t\"%(Xnp_train.shape[1], Xnp_train.shape[0],Xnp_valid.shape[0],Xnp_test.shape[0])\n",
      "print \"X (with pose): %d elements, %d t, %d v, %d t\"%(Xwp_train.shape[1], Xwp_train.shape[0],Xwp_valid.shape[0],Xwp_test.shape[0])"
     ],
     "language": "python",
     "metadata": {},
     "outputs": [
      {
       "output_type": "stream",
       "stream": "stdout",
       "text": [
        "X (no pose): 28 elements, 932 t, 200 v, 200 t\n",
        "X (with pose): 31 elements, 932 t, 200 v, 200 t\n"
       ]
      }
     ],
     "prompt_number": 41
    },
    {
     "cell_type": "code",
     "collapsed": false,
     "input": [
      "import cPickle\n",
      "\n",
      "f = file('princoms.save', 'wb')\n",
      "cPickle.dump([V, immean], f, protocol=cPickle.HIGHEST_PROTOCOL)\n",
      "f.close()"
     ],
     "language": "python",
     "metadata": {},
     "outputs": [],
     "prompt_number": 33
    },
    {
     "cell_type": "markdown",
     "metadata": {},
     "source": [
      "### Pickle the training, validation, and test sets"
     ]
    },
    {
     "cell_type": "code",
     "collapsed": false,
     "input": [
      "train_set = [np.array(Xnp_train), np.array(Ynp_train).astype(np.int64)]\n",
      "valid_set = [np.array(Xnp_valid), np.array(Ynp_valid).astype(np.int64)]\n",
      "test_set= [np.array(Xnp_test), np.array(Ynp_test).astype(np.int64)]\n",
      "\n",
      "f = file('eyes_nopose_PCs.save', 'wb')\n",
      "cPickle.dump([train_set, valid_set, test_set], f, protocol=cPickle.HIGHEST_PROTOCOL)\n",
      "f.close()"
     ],
     "language": "python",
     "metadata": {},
     "outputs": [],
     "prompt_number": 42
    },
    {
     "cell_type": "code",
     "collapsed": false,
     "input": [
      "train_set = [np.array(Xwp_train), np.array(Ywp_train).astype(np.int64)]\n",
      "valid_set = [np.array(Xwp_valid), np.array(Ywp_valid).astype(np.int64)]\n",
      "test_set= [np.array(Xwp_test), np.array(Ywp_test).astype(np.int64)]\n",
      "\n",
      "f = file('eyes_withpose_PCs.save', 'wb')\n",
      "cPickle.dump([train_set, valid_set, test_set], f, protocol=cPickle.HIGHEST_PROTOCOL)\n",
      "f.close()"
     ],
     "language": "python",
     "metadata": {},
     "outputs": [],
     "prompt_number": 43
    },
    {
     "cell_type": "code",
     "collapsed": false,
     "input": [
      "print train_set[0][0].shape"
     ],
     "language": "python",
     "metadata": {},
     "outputs": [
      {
       "output_type": "stream",
       "stream": "stdout",
       "text": [
        "(31L,)\n"
       ]
      }
     ],
     "prompt_number": 44
    }
   ],
   "metadata": {}
  }
 ]
}