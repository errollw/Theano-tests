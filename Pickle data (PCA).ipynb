{
 "metadata": {
  "name": "",
  "signature": "sha256:3b49583e8b364005781b1c6e2a3dff6c0b69a594e89fceb91a50260b922a1de6"
 },
 "nbformat": 3,
 "nbformat_minor": 0,
 "worksheets": [
  {
   "cells": [
    {
     "cell_type": "code",
     "collapsed": false,
     "input": [
      "import cPickle\n",
      "import os\n",
      "import numpy as np\n",
      "import cv2\n",
      "import random \n",
      "from skimage import exposure\n",
      "from sklearn.decomposition import PCA\n",
      "from sklearn import preprocessing\n",
      "from sklearn.cross_validation import train_test_split\n",
      "from IPython.display import Image, display"
     ],
     "language": "python",
     "metadata": {},
     "outputs": [],
     "prompt_number": 1
    },
    {
     "cell_type": "code",
     "collapsed": false,
     "input": [
      "imgs_dir = \"C:\\Users\\Erroll\\Documents\\datasets\\eyespose-20141015\""
     ],
     "language": "python",
     "metadata": {},
     "outputs": [],
     "prompt_number": 8
    },
    {
     "cell_type": "markdown",
     "metadata": {},
     "source": [
      "### Make a balanced dataset"
     ]
    },
    {
     "cell_type": "code",
     "collapsed": false,
     "input": [
      "all_imnames = os.listdir(imgs_dir)\n",
      "\n",
      "# get filnames for lock and no-lock images\n",
      "nolock_fns = [fn for fn in all_imnames if \"nolock\" in fn]\n",
      "lock_fns = set(all_imnames) - set(nolock_fns)\n",
      "\n",
      "# number of images in each class for balanced set\n",
      "num_ims = min(len(lock_fns), len(nolock_fns))\n",
      "\n",
      "# make a balanced dataset\n",
      "all_imnames_balanced = random.sample(nolock_fns, num_ims) + random.sample(lock_fns, num_ims)\n",
      "random.shuffle(all_imnames_balanced);\n",
      "\n",
      "print \"total number of images: %d (%d eye-lock)\"%(len(all_imnames_balanced), num_ims)"
     ],
     "language": "python",
     "metadata": {},
     "outputs": [
      {
       "output_type": "stream",
       "stream": "stdout",
       "text": [
        "total number of images: 1332 (666 eye-lock)\n"
       ]
      }
     ],
     "prompt_number": 9
    },
    {
     "cell_type": "markdown",
     "metadata": {},
     "source": [
      "### Load all images into a matrix"
     ]
    },
    {
     "cell_type": "code",
     "collapsed": false,
     "input": [
      "# read in all images and equalize histograms\n",
      "all_ims = [cv2.imread(os.path.join(imgs_dir, imname), cv2.CV_LOAD_IMAGE_GRAYSCALE) for imname in all_imnames_balanced]\n",
      "all_imgs = [exposure.equalize_hist(img)*255.0 for img in all_ims]\n",
      "\n",
      "all_ims_flat = [im.flatten() for im in all_ims]\n",
      "matrix = np.vstack(all_ims_flat)\n",
      "immean = matrix.mean(axis=0)\n",
      "\n",
      "print \"%d images, each has %d pixels\"%matrix.shape\n",
      "\n",
      "display(Image(data=cv2.imencode(\".png\", immean.reshape(24,40))[1].tostring()))\n",
      "display(Image(data=cv2.imencode(\".png\", np.hstack(random.sample(all_ims,20)))[1].tostring()))"
     ],
     "language": "python",
     "metadata": {},
     "outputs": [
      {
       "output_type": "stream",
       "stream": "stdout",
       "text": [
        "1332 images, each has 960 pixels\n"
       ]
      },
      {
       "metadata": {},
       "output_type": "display_data",
       "png": "[encoded data removed]",
       "text": [
        "<IPython.core.display.Image at 0xae21710>"
       ]
      },
      {
       "metadata": {},
       "output_type": "display_data",
       "png": "[encoded data removed]",
       "text": [
        "<IPython.core.display.Image at 0xae21860>"
       ]
      }
     ],
     "prompt_number": 10
    },
    {
     "cell_type": "markdown",
     "metadata": {},
     "source": [
      "### Perform PCA"
     ]
    },
    {
     "cell_type": "code",
     "collapsed": false,
     "input": [
      "pca = PCA()\n",
      "pca.fit(all_ims_flat)\n",
      "transformed = pca.transform(all_ims_flat)\n",
      "\n",
      "variance_thresh = 0.9\n",
      "\n",
      "for num_components in range(len(pca.explained_variance_ratio_)):\n",
      "    if sum(pca.explained_variance_ratio_[:num_components]) > variance_thresh: break\n",
      "        \n",
      "print \"number of components for %.2f variance: %d\"%(variance_thresh,num_components)"
     ],
     "language": "python",
     "metadata": {},
     "outputs": [
      {
       "output_type": "stream",
       "stream": "stdout",
       "text": [
        "number of components for 0.90 variance: 31\n"
       ]
      }
     ],
     "prompt_number": 6
    },
    {
     "cell_type": "code",
     "collapsed": false,
     "input": [
      "# get names of images for test, validation, and training\n",
      "test_imnames = random.sample(set(all_imnames_balanced), 80)\n",
      "valid_imnames = random.sample(set(all_imnames_balanced)-set(test_imnames), 80)\n",
      "train_imnames = list(set(all_imnames_balanced)-set(test_imnames)-set(valid_imnames))\n",
      "random.shuffle(train_imnames)"
     ],
     "language": "python",
     "metadata": {},
     "outputs": [],
     "prompt_number": 31
    },
    {
     "cell_type": "code",
     "collapsed": false,
     "input": [
      "train_imgs, train_lbls = [], []\n",
      "valid_imgs, valid_lbls = [], []\n",
      "test_imgs, test_lbls = [], []\n",
      "\n",
      "num_coeffs = 32\n",
      "\n",
      "for imname in train_imnames:\n",
      "    path = os.path.join(imgs_dir,imname)\n",
      "    img = cv2.imread(path, cv2.CV_LOAD_IMAGE_GRAYSCALE).flatten()\n",
      "    angles = [float(s)*100 for s in imname[imname.find(\"(\")+1:imname.find(\")\")].split(\",\")] # this line does head pose\n",
      "    coeffs = [np.dot(img - immean, v) for v in V[:num_coeffs]]\n",
      "    train_imgs.append(np.array(coeffs+angles).astype(np.float32))\n",
      "    train_lbls.append(0 if \"nolock\" in imname else 1)\n",
      "\n",
      "for imname in valid_imnames:\n",
      "    path = os.path.join(imgs_dir,imname)\n",
      "    img = cv2.imread(path, cv2.CV_LOAD_IMAGE_GRAYSCALE).flatten()\n",
      "    angles = [float(s)*100 for s in imname[imname.find(\"(\")+1:imname.find(\")\")].split(\",\")] # this line does head pose\n",
      "    coeffs = [np.dot(img - immean, v) for v in V[:num_coeffs]]\n",
      "    valid_imgs.append(np.array(coeffs+angles).astype(np.float32))\n",
      "    valid_lbls.append(0 if \"nolock\" in imname else 1)\n",
      "    \n",
      "for imname in test_imnames:\n",
      "    path = os.path.join(imgs_dir,imname)\n",
      "    img = cv2.imread(path, cv2.CV_LOAD_IMAGE_GRAYSCALE).flatten()\n",
      "    angles = [float(s)*100 for s in imname[imname.find(\"(\")+1:imname.find(\")\")].split(\",\")] # this line does head pose\n",
      "    coeffs = [np.dot(img - immean, v) for v in V[:num_coeffs]]\n",
      "    test_imgs.append(np.array(coeffs+angles).astype(np.float32))\n",
      "    test_lbls.append(0 if \"nolock\" in imname else 1)\n",
      "    \n",
      "train_set = [np.array(train_imgs), np.array(train_lbls).astype(np.int64)]\n",
      "valid_set = [np.array(valid_imgs), np.array(valid_lbls).astype(np.int64)]\n",
      "test_set= [np.array(test_imgs), np.array(test_lbls).astype(np.int64)]\n",
      "\n",
      "print train_set[0].shape, train_set[1].shape"
     ],
     "language": "python",
     "metadata": {},
     "outputs": [
      {
       "ename": "NameError",
       "evalue": "name 'train_imnames' is not defined",
       "output_type": "pyerr",
       "traceback": [
        "\u001b[1;31m---------------------------------------------------------------------------\u001b[0m\n\u001b[1;31mNameError\u001b[0m                                 Traceback (most recent call last)",
        "\u001b[1;32m<ipython-input-41-f9ca0cd250e9>\u001b[0m in \u001b[0;36m<module>\u001b[1;34m()\u001b[0m\n\u001b[0;32m      5\u001b[0m \u001b[0mnum_coeffs\u001b[0m \u001b[1;33m=\u001b[0m \u001b[1;36m32\u001b[0m\u001b[1;33m\u001b[0m\u001b[0m\n\u001b[0;32m      6\u001b[0m \u001b[1;33m\u001b[0m\u001b[0m\n\u001b[1;32m----> 7\u001b[1;33m \u001b[1;32mfor\u001b[0m \u001b[0mimname\u001b[0m \u001b[1;32min\u001b[0m \u001b[0mtrain_imnames\u001b[0m\u001b[1;33m:\u001b[0m\u001b[1;33m\u001b[0m\u001b[0m\n\u001b[0m\u001b[0;32m      8\u001b[0m     \u001b[0mpath\u001b[0m \u001b[1;33m=\u001b[0m \u001b[0mos\u001b[0m\u001b[1;33m.\u001b[0m\u001b[0mpath\u001b[0m\u001b[1;33m.\u001b[0m\u001b[0mjoin\u001b[0m\u001b[1;33m(\u001b[0m\u001b[0mimgs_dir\u001b[0m\u001b[1;33m,\u001b[0m\u001b[0mimname\u001b[0m\u001b[1;33m)\u001b[0m\u001b[1;33m\u001b[0m\u001b[0m\n\u001b[0;32m      9\u001b[0m     \u001b[0mimg\u001b[0m \u001b[1;33m=\u001b[0m \u001b[0mcv2\u001b[0m\u001b[1;33m.\u001b[0m\u001b[0mimread\u001b[0m\u001b[1;33m(\u001b[0m\u001b[0mpath\u001b[0m\u001b[1;33m,\u001b[0m \u001b[0mcv2\u001b[0m\u001b[1;33m.\u001b[0m\u001b[0mCV_LOAD_IMAGE_GRAYSCALE\u001b[0m\u001b[1;33m)\u001b[0m\u001b[1;33m.\u001b[0m\u001b[0mflatten\u001b[0m\u001b[1;33m(\u001b[0m\u001b[1;33m)\u001b[0m\u001b[1;33m\u001b[0m\u001b[0m\n",
        "\u001b[1;31mNameError\u001b[0m: name 'train_imnames' is not defined"
       ]
      }
     ],
     "prompt_number": 41
    },
    {
     "cell_type": "code",
     "collapsed": false,
     "input": [
      "# input  and output\n",
      "X, Y = [], []\n",
      "\n",
      "num_coeffs = 32\n",
      "\n",
      "for imname in all_imnames_balanced:\n",
      "    impath = os.path.join(imgs_dir,imname)\n",
      "    img = cv2.imread(impath, cv2.CV_LOAD_IMAGE_GRAYSCALE).flatten()\n",
      "#     angles = [float(s)*100 for s in imname[imname.find(\"(\")+1:imname.find(\")\")].split(\",\")] # this line does head pose\n",
      "    coeffs = [np.dot(img - immean, v) for v in V[:num_coeffs]]\n",
      "    X.append(np.array(coeffs).astype(np.float32))\n",
      "    Y.append(0 if \"nolock\" in imname else 1)\n",
      "\n",
      "X_scaled = preprocessing.scale(X)\n",
      "\n",
      "print X_scaled[0]\n",
      "\n",
      "# print len(all_imnames_balanced)\n",
      "\n",
      "X_train_and_valid, X_test, Y_train_and_valid, Y_test = train_test_split(X_scaled, Y, test_size=200, random_state=42)\n",
      "X_train, X_valid, Y_train, Y_valid = train_test_split(X_train_and_valid, Y_train_and_valid, test_size=200, random_state=42)\n",
      "\n",
      "print len(X_train), len(X_valid), len(X_test)\n",
      "\n",
      "train_set = [np.array(X_train), np.array(Y_train).astype(np.int64)]\n",
      "valid_set = [np.array(X_valid), np.array(Y_valid).astype(np.int64)]\n",
      "test_set= [np.array(X_test), np.array(Y_test).astype(np.int64)]\n",
      "\n",
      "print train_set[0].shape, train_set[1].shape"
     ],
     "language": "python",
     "metadata": {},
     "outputs": [
      {
       "output_type": "stream",
       "stream": "stdout",
       "text": [
        "[ 0.74619722  0.55575156 -1.3428607   0.83344328  0.42986858  0.43818173\n",
        "  0.56512332 -0.5077222   0.35741967  1.89488471 -1.88944995  0.08858173\n",
        " -0.30994114  0.79430926  0.78874856  0.67749059  0.60033071  1.45075357\n",
        " -1.71829641 -0.45386526  0.87224722  0.21170409  0.23425418  1.44389367\n",
        " -1.87330461 -0.64084131  0.88403785  0.298159   -0.5269832  -0.62567371\n",
        " -0.14721075 -1.17068291]\n",
        "932 200 200\n",
        "(932L, 32L) (932L,)\n"
       ]
      }
     ],
     "prompt_number": 47
    },
    {
     "cell_type": "code",
     "collapsed": false,
     "input": [
      "import cPickle\n",
      "\n",
      "f = file('princoms.save', 'wb')\n",
      "cPickle.dump([V, immean], f, protocol=cPickle.HIGHEST_PROTOCOL)\n",
      "f.close()"
     ],
     "language": "python",
     "metadata": {},
     "outputs": [],
     "prompt_number": 33
    },
    {
     "cell_type": "code",
     "collapsed": false,
     "input": [
      "print len([lbl for lbl in train_set[1] if lbl == 1]) / float(len(train_set[1]))\n",
      "print len([lbl for lbl in valid_set[1] if lbl == 1]) / float(len(valid_set[1]))\n",
      "print len([lbl for lbl in test_set[1] if lbl == 1]) / float(len(test_set[1]))\n",
      "\n",
      "print \"sample coeffs: \", train_set[0][0]"
     ],
     "language": "python",
     "metadata": {},
     "outputs": [
      {
       "output_type": "stream",
       "stream": "stdout",
       "text": [
        "0.480099502488\n",
        "0.5875\n",
        "0.5125\n",
        "sample coeffs:  [ 862.03753662 -813.14117432   84.35276031 -428.6015625  -116.04135132\n",
        " -184.98918152 -155.85145569 -190.68751526 -105.41795349   34.92605972\n",
        "  185.39981079  -39.42477798  305.95172119  206.92799377  195.19944763\n",
        "  -25.0262661   -94.0991745   -34.41266632   56.445961   -181.25889587\n",
        "  294.97424316  147.36894226   12.84373283   90.00253296  -68.27207947\n",
        "  161.54675293  259.55706787  167.88697815   -5.73607588    3.08778763\n",
        "  -78.65956879   -2.20022464   -5.70419979    7.2494998    -2.15039992]\n"
       ]
      }
     ],
     "prompt_number": 41
    },
    {
     "cell_type": "markdown",
     "metadata": {},
     "source": [
      "### Save HOG features"
     ]
    },
    {
     "cell_type": "code",
     "collapsed": false,
     "input": [
      "train_imgs, train_lbls = [], []\n",
      "valid_imgs, valid_lbls = [], []\n",
      "test_imgs, test_lbls = [], []\n",
      "\n",
      "for imname in train_imnames:\n",
      "    path = os.path.join(imgs_dir,imname)\n",
      "    img = cv2.imread(path, cv2.CV_LOAD_IMAGE_GRAYSCALE)\n",
      "    img = cv2.resize(img, (80,48))\n",
      "    coeffs = hog(img/255.0, orientations=9, pixels_per_cell=(8, 8), cells_per_block=(1, 1), visualise=False)\n",
      "    train_imgs.append(np.array(coeffs).astype(np.float32))\n",
      "    train_lbls.append(0 if \"nolock\" in imname else 1)\n",
      "\n",
      "for imname in valid_imnames:\n",
      "    path = os.path.join(imgs_dir,imname)\n",
      "    img = cv2.imread(path, cv2.CV_LOAD_IMAGE_GRAYSCALE)\n",
      "    img = cv2.resize(img, (80,48))\n",
      "    coeffs = hog(img/255.0, orientations=9, pixels_per_cell=(8, 8), cells_per_block=(1, 1), visualise=False)\n",
      "    valid_imgs.append(np.array(coeffs).astype(np.float32))\n",
      "    valid_lbls.append(0 if \"nolock\" in imname else 1)\n",
      "    \n",
      "for imname in test_imnames:\n",
      "    path = os.path.join(imgs_dir,imname)\n",
      "    img = cv2.imread(path, cv2.CV_LOAD_IMAGE_GRAYSCALE)\n",
      "    img = cv2.resize(img, (80,48))\n",
      "    coeffs = hog(img/255.0, orientations=9, pixels_per_cell=(8, 8), cells_per_block=(1, 1), visualise=False)\n",
      "    test_imgs.append(np.array(coeffs).astype(np.float32))\n",
      "    test_lbls.append(0 if \"nolock\" in imname else 1)\n",
      "    \n",
      "train_set = [np.array(train_imgs), np.array(train_lbls).astype(np.int64)]\n",
      "valid_set = [np.array(valid_imgs), np.array(valid_lbls).astype(np.int64)]\n",
      "test_set= [np.array(test_imgs), np.array(test_lbls).astype(np.int64)]\n",
      "\n",
      "print train_set[0].shape, train_set[1].shape"
     ],
     "language": "python",
     "metadata": {},
     "outputs": [
      {
       "output_type": "stream",
       "stream": "stdout",
       "text": [
        "(372L, 540L) (372L,)\n"
       ]
      }
     ],
     "prompt_number": 8
    },
    {
     "cell_type": "markdown",
     "metadata": {},
     "source": [
      "### Pickle the training, validation, and test sets"
     ]
    },
    {
     "cell_type": "code",
     "collapsed": false,
     "input": [
      "f = file('eyes_nopose_PCs.save', 'wb')\n",
      "cPickle.dump([train_set, valid_set, test_set], f, protocol=cPickle.HIGHEST_PROTOCOL)\n",
      "f.close()"
     ],
     "language": "python",
     "metadata": {},
     "outputs": [],
     "prompt_number": 48
    }
   ],
   "metadata": {}
  }
 ]
}