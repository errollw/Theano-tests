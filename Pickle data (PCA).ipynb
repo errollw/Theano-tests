{
 "metadata": {
  "name": "",
  "signature": "sha256:345798bdea5584a8120307788c56629617124e58cb4070ff2596af79ff1d7aa6"
 },
 "nbformat": 3,
 "nbformat_minor": 0,
 "worksheets": [
  {
   "cells": [
    {
     "cell_type": "code",
     "collapsed": false,
     "input": [
      "import cPickle\n",
      "import os\n",
      "import numpy as np\n",
      "import cv2\n",
      "import random \n",
      "from skimage import exposure\n",
      "from sklearn.decomposition import PCA\n",
      "from sklearn import preprocessing\n",
      "from sklearn.cross_validation import train_test_split\n",
      "from IPython.display import Image, display"
     ],
     "language": "python",
     "metadata": {},
     "outputs": [],
     "prompt_number": 1
    },
    {
     "cell_type": "code",
     "collapsed": false,
     "input": [
      "imgs_dir = \"C:\\Users\\Erroll\\Documents\\datasets\\eyespose-20141015\""
     ],
     "language": "python",
     "metadata": {},
     "outputs": [],
     "prompt_number": 2
    },
    {
     "cell_type": "markdown",
     "metadata": {},
     "source": [
      "### Make a balanced dataset"
     ]
    },
    {
     "cell_type": "code",
     "collapsed": false,
     "input": [
      "all_imnames = os.listdir(imgs_dir)\n",
      "\n",
      "# get filnames for lock and no-lock images\n",
      "nolock_fns = [fn for fn in all_imnames if \"nolock\" in fn]\n",
      "lock_fns = set(all_imnames) - set(nolock_fns)\n",
      "\n",
      "# number of images in each class for balanced set\n",
      "num_ims = min(len(lock_fns), len(nolock_fns))\n",
      "\n",
      "# make a balanced dataset\n",
      "all_imnames_balanced = random.sample(nolock_fns, num_ims) + random.sample(lock_fns, num_ims)\n",
      "random.shuffle(all_imnames_balanced);\n",
      "\n",
      "print \"total number of images: %d (%d eye-lock)\"%(len(all_imnames_balanced), num_ims)"
     ],
     "language": "python",
     "metadata": {},
     "outputs": [
      {
       "output_type": "stream",
       "stream": "stdout",
       "text": [
        "total number of images: 1332 (666 eye-lock)\n"
       ]
      }
     ],
     "prompt_number": 3
    },
    {
     "cell_type": "markdown",
     "metadata": {},
     "source": [
      "### Load all images into a matrix"
     ]
    },
    {
     "cell_type": "code",
     "collapsed": false,
     "input": [
      "# read in all images and equalize histograms\n",
      "all_ims = [cv2.imread(os.path.join(imgs_dir, imname), cv2.CV_LOAD_IMAGE_GRAYSCALE) for imname in all_imnames_balanced]\n",
      "all_imgs = [exposure.equalize_hist(img)*255.0 for img in all_ims]\n",
      "\n",
      "all_ims_flat = [im.flatten() for im in all_ims]\n",
      "matrix = np.vstack(all_ims_flat)\n",
      "immean = matrix.mean(axis=0)\n",
      "\n",
      "print \"%d images, each has %d pixels\"%matrix.shape\n",
      "\n",
      "display(Image(data=cv2.imencode(\".png\", immean.reshape(24,40))[1].tostring()))\n",
      "display(Image(data=cv2.imencode(\".png\", np.hstack(random.sample(all_ims,20)))[1].tostring()))"
     ],
     "language": "python",
     "metadata": {},
     "outputs": [
      {
       "output_type": "stream",
       "stream": "stdout",
       "text": [
        "1332 images, each has 960 pixels\n"
       ]
      },
      {
       "metadata": {},
       "output_type": "display_data",
       "png": "[encoded data removed]",
       "text": [
        "<IPython.core.display.Image at 0x7b062e8>"
       ]
      },
      {
       "metadata": {},
       "output_type": "display_data",
       "png": "[encoded data removed]",
       "text": [
        "<IPython.core.display.Image at 0xbeb9e80>"
       ]
      }
     ],
     "prompt_number": 4
    },
    {
     "cell_type": "markdown",
     "metadata": {},
     "source": [
      "### Perform PCA"
     ]
    },
    {
     "cell_type": "code",
     "collapsed": false,
     "input": [
      "pca = PCA()\n",
      "pca.fit(all_ims_flat)\n",
      "transformed = pca.transform(all_ims_flat)\n",
      "\n",
      "variance_thresh = 0.9\n",
      "\n",
      "for num_components in range(len(pca.explained_variance_ratio_)):\n",
      "    if sum(pca.explained_variance_ratio_[:num_components]) > variance_thresh: break\n",
      "        \n",
      "print \"number of components for %.2f variance: %d\"%(variance_thresh,num_components)"
     ],
     "language": "python",
     "metadata": {},
     "outputs": [
      {
       "output_type": "stream",
       "stream": "stdout",
       "text": [
        "number of components for 0.90 variance: 28\n"
       ]
      }
     ],
     "prompt_number": 5
    },
    {
     "cell_type": "markdown",
     "metadata": {},
     "source": [
      "### Create input X and output Y\n",
      "`X_wp` contains headpose data, `X_np` doesn't."
     ]
    },
    {
     "cell_type": "code",
     "collapsed": false,
     "input": [
      "# the PCA coeffs for each image\n",
      "coeffs = transformed[:,:num_components]\n",
      "\n",
      "# the euler angles for each image\n",
      "angles = [[float(s) for s in imname[imname.find(\"(\")+1:imname.find(\")\")].split(\",\")] for imname in all_imnames_balanced]\n",
      "\n",
      "# join PCA and euler angles for input vector\n",
      "X = numpy.hstack([coeffs,np.array(angles)])\n",
      "\n",
      "# output vectors\n",
      "Y = [0 if \"nolock\" in imname else 1 for imname in all_imnames_balanced]\n",
      "\n",
      "X = preprocessing.scale(X)\n",
      "\n",
      "rnd_inds = arange(len(X))\n",
      "random.shuffle(rnd_inds)\n",
      "\n",
      "X_test,  Y_test = np.array(X)[rnd_inds[:200]],     np.array(Y)[rnd_inds[:200]]\n",
      "X_valid, Y_valid = np.array(X)[rnd_inds[200:400]], np.array(Y)[rnd_inds[200:400]]\n",
      "X_train, Y_train = np.array(X)[rnd_inds[400:]],    np.array(Y)[rnd_inds[400:]]\n",
      "\n",
      "# print \"X (no pose): %d elements, %d t, %d v, %d t\"%(Xnp_train.shape[1], Xnp_train.shape[0],Xnp_valid.shape[0],Xnp_test.shape[0])\n",
      "print \"X: %d elements, %d t, %d v, %d t\"%(X_train.shape[1], X_train.shape[0],X_valid.shape[0],X_test.shape[0])"
     ],
     "language": "python",
     "metadata": {},
     "outputs": [
      {
       "output_type": "stream",
       "stream": "stdout",
       "text": [
        "X: 31 elements, 932 t, 200 v, 200 t\n"
       ]
      }
     ],
     "prompt_number": 20
    },
    {
     "cell_type": "code",
     "collapsed": false,
     "input": [
      "print X_test[0]\n",
      "print X_test[:,:-3][0]"
     ],
     "language": "python",
     "metadata": {},
     "outputs": [
      {
       "output_type": "stream",
       "stream": "stdout",
       "text": [
        "[ 1.1133002  -0.8056455  -1.37771761  0.53716354  1.13710881 -1.24074829\n",
        " -0.08093902  2.54418769  0.33336421 -2.056124    0.12621134  0.71599786\n",
        "  0.5470116  -0.90981098  0.31593935  2.65161182  0.23613805 -1.25167308\n",
        "  1.90766096 -0.25210312 -0.71510784  1.19148108 -0.7349318  -0.51891622\n",
        " -0.08555507 -0.79962245 -0.14842467 -0.7700855  -2.48913938  1.00142545\n",
        "  1.35837982]\n",
        "[ 1.1133002  -0.8056455  -1.37771761  0.53716354  1.13710881 -1.24074829\n",
        " -0.08093902  2.54418769  0.33336421 -2.056124    0.12621134  0.71599786\n",
        "  0.5470116  -0.90981098  0.31593935  2.65161182  0.23613805 -1.25167308\n",
        "  1.90766096 -0.25210312 -0.71510784  1.19148108 -0.7349318  -0.51891622\n",
        " -0.08555507 -0.79962245 -0.14842467 -0.7700855 ]\n"
       ]
      }
     ],
     "prompt_number": 34
    },
    {
     "cell_type": "code",
     "collapsed": false,
     "input": [
      "print transformed[:,:num_components][0]\n",
      "print X[0]"
     ],
     "language": "python",
     "metadata": {},
     "outputs": [
      {
       "output_type": "stream",
       "stream": "stdout",
       "text": [
        "[ -78.36630184 -545.54797231  775.3968694   288.16524515  224.17668128\n",
        " -306.29340291  182.90403931 -289.14618285  298.13616278   22.97856768\n",
        "   71.62196032  -37.1794861    74.11672277 -156.32903914  127.82169735\n",
        " -169.55261779  -38.14290395 -114.25855458   89.34242069  -33.77787949\n",
        "   33.67334668   97.24382487   40.13394839  -76.78588527  -22.1272348\n",
        "   13.52559531  -76.59861358   -6.01155147]\n",
        "[-0.104218   -0.84263901  1.42735962  0.59576128  0.5907068  -0.9001702\n",
        "  0.61378118 -1.04253912  1.21330448  0.09686564  0.38441225 -0.20276842\n",
        "  0.43386722 -0.98305692  0.88520161 -1.27019364 -0.29246755 -0.90102922\n",
        "  0.73220185 -0.28348271  0.29737427  0.91854088  0.39972437 -0.77894168\n",
        " -0.23134229  0.14480705 -0.84321312 -0.06776971]\n"
       ]
      }
     ],
     "prompt_number": 10
    },
    {
     "cell_type": "code",
     "collapsed": false,
     "input": [
      "import cPickle\n",
      "\n",
      "f = file('princoms.save', 'wb')\n",
      "cPickle.dump([V, immean], f, protocol=cPickle.HIGHEST_PROTOCOL)\n",
      "f.close()"
     ],
     "language": "python",
     "metadata": {},
     "outputs": [],
     "prompt_number": 33
    },
    {
     "cell_type": "markdown",
     "metadata": {},
     "source": [
      "### Pickle the training, validation, and test sets"
     ]
    },
    {
     "cell_type": "code",
     "collapsed": false,
     "input": [
      "train_set = [np.array(Xnp_train), np.array(Ynp_train).astype(np.int64)]\n",
      "valid_set = [np.array(Xnp_valid), np.array(Ynp_valid).astype(np.int64)]\n",
      "test_set= [np.array(Xnp_test), np.array(Ynp_test).astype(np.int64)]\n",
      "\n",
      "f = file('eyes_nopose_PCs.save', 'wb')\n",
      "cPickle.dump([train_set, valid_set, test_set], f, protocol=cPickle.HIGHEST_PROTOCOL)\n",
      "f.close()"
     ],
     "language": "python",
     "metadata": {},
     "outputs": [],
     "prompt_number": 8
    },
    {
     "cell_type": "code",
     "collapsed": false,
     "input": [
      "f = file('eyes_withpose_PCs.save', 'wb')\n",
      "cPickle.dump([[X_train,Y_train],\n",
      "              [X_valid,Y_valid],\n",
      "              [X_test,Y_test]], f, protocol=cPickle.HIGHEST_PROTOCOL)\n",
      "f.close()\n",
      "\n",
      "f = file('eyes_nopose_PCs.save', 'wb')\n",
      "cPickle.dump([[X_train[:,:-3],Y_train],\n",
      "              [X_valid[:,:-3],Y_valid],\n",
      "              [X_test[:,:-3],Y_test]], f, protocol=cPickle.HIGHEST_PROTOCOL)\n",
      "f.close()"
     ],
     "language": "python",
     "metadata": {},
     "outputs": [],
     "prompt_number": 35
    },
    {
     "cell_type": "code",
     "collapsed": false,
     "input": [
      "train_set = [np.array(Xwp_train), np.array(Ywp_train).astype(np.int64)]\n",
      "valid_set = [np.array(Xwp_valid), np.array(Ywp_valid).astype(np.int64)]\n",
      "test_set= [np.array(Xwp_test), np.array(Ywp_test).astype(np.int64)]\n",
      "\n",
      "f = file('eyes_withpose_PCs.save', 'wb')\n",
      "cPickle.dump([train_set, valid_set, test_set], f, protocol=cPickle.HIGHEST_PROTOCOL)\n",
      "f.close()"
     ],
     "language": "python",
     "metadata": {},
     "outputs": []
    },
    {
     "cell_type": "code",
     "collapsed": false,
     "input": [
      "print Xnp_train[0]\n",
      "print Xwp_train[0]"
     ],
     "language": "python",
     "metadata": {},
     "outputs": [
      {
       "output_type": "stream",
       "stream": "stdout",
       "text": [
        "[-0.67085671 -1.47009814 -0.312013    0.04270332  1.37188852 -0.25116894\n",
        " -0.82051885 -0.05792531  0.37904373  0.18436459  0.23473327 -0.29094186\n",
        "  0.76600224 -1.14139938 -0.08065029  0.85109597  0.60755879  0.60352898\n",
        "  0.48127076 -0.39491022  0.18782666  0.23292682 -0.02926086  0.82162571\n",
        " -0.10304845 -0.51703572  0.37207368  0.17203708]\n",
        "[-0.18766387  0.22206733 -0.9119873   2.17377639 -1.32033873 -0.33410123\n",
        " -0.66667968  0.13085911  1.41596961  0.32741946  0.49906805  0.07628539\n",
        "  1.17062807 -1.03652108 -0.10403199 -0.10187938 -1.23913956  0.42558452\n",
        "  0.53773743 -0.95454633 -0.7808786  -1.21234298 -0.62650484  1.17138743\n",
        " -0.08980407 -0.82239836 -0.32734683 -1.02612948  0.38095498  0.27070397\n",
        " -0.06248073]\n"
       ]
      }
     ],
     "prompt_number": 13
    }
   ],
   "metadata": {}
  }
 ]
}