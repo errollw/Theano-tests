{
 "metadata": {
  "name": "",
  "signature": "sha256:4b56b5fce3d9acfa31a37eb347295ff6e0840ff3bfda0898d91c07b2afec85ab"
 },
 "nbformat": 3,
 "nbformat_minor": 0,
 "worksheets": [
  {
   "cells": [
    {
     "cell_type": "code",
     "collapsed": false,
     "input": [
      "import cPickle\n",
      "import os\n",
      "import numpy as np\n",
      "import cv2\n",
      "import random \n",
      "from skimage import exposure\n",
      "from sklearn.decomposition import PCA\n",
      "from sklearn import preprocessing\n",
      "from sklearn.cross_validation import train_test_split\n",
      "from IPython.display import Image, display"
     ],
     "language": "python",
     "metadata": {},
     "outputs": [],
     "prompt_number": 2
    },
    {
     "cell_type": "code",
     "collapsed": false,
     "input": [
      "imgs_dir = \"C:\\Users\\Erroll\\Documents\\datasets\\eyespose-20141027\""
     ],
     "language": "python",
     "metadata": {},
     "outputs": [],
     "prompt_number": 3
    },
    {
     "cell_type": "markdown",
     "metadata": {},
     "source": [
      "### Balance dataset"
     ]
    },
    {
     "cell_type": "code",
     "collapsed": false,
     "input": [
      "all_imnames = os.listdir(imgs_dir)\n",
      "\n",
      "# get filnames for lock and no-lock images\n",
      "nolock_fns = [fn for fn in all_imnames if \"nolock\" in fn]\n",
      "lock_fns = set(all_imnames) - set(nolock_fns)\n",
      "\n",
      "# number of images in each class for balanced set\n",
      "num_ims = min(len(lock_fns), len(nolock_fns))\n",
      "\n",
      "# make a balanced dataset\n",
      "all_imnames_balanced = random.sample(nolock_fns, num_ims) + random.sample(lock_fns, num_ims)\n",
      "random.shuffle(all_imnames_balanced);\n",
      "\n",
      "print \"total number of images: %d (%d eye-lock)\"%(len(all_imnames_balanced), num_ims)"
     ],
     "language": "python",
     "metadata": {},
     "outputs": [
      {
       "output_type": "stream",
       "stream": "stdout",
       "text": [
        "total number of images: 1280 (640 eye-lock)\n"
       ]
      }
     ],
     "prompt_number": 4
    },
    {
     "cell_type": "markdown",
     "metadata": {},
     "source": [
      "### Load all images into a matrix"
     ]
    },
    {
     "cell_type": "code",
     "collapsed": false,
     "input": [
      "# read in all images and equalize histograms\n",
      "all_ims = [cv2.imread(os.path.join(imgs_dir, imname), cv2.CV_LOAD_IMAGE_GRAYSCALE) for imname in all_imnames_balanced]\n",
      "all_imgs = [exposure.equalize_hist(img)*255.0 for img in all_ims]\n",
      "\n",
      "all_ims_flat = [im.flatten() for im in all_ims]\n",
      "matrix = np.vstack(all_ims_flat)\n",
      "immean = matrix.mean(axis=0)\n",
      "\n",
      "print \"%d images, each has %d pixels\"%matrix.shape\n",
      "\n",
      "display(Image(data=cv2.imencode(\".png\", immean.reshape(24,40))[1].tostring()))\n",
      "display(Image(data=cv2.imencode(\".png\", np.hstack(random.sample(all_ims,20)))[1].tostring()))"
     ],
     "language": "python",
     "metadata": {},
     "outputs": [
      {
       "output_type": "stream",
       "stream": "stdout",
       "text": [
        "1280 images, each has 960 pixels\n"
       ]
      },
      {
       "metadata": {},
       "output_type": "display_data",
       "png": "[encoded data removed]",
       "text": [
        "<IPython.core.display.Image at 0x7ceaa90>"
       ]
      },
      {
       "metadata": {},
       "output_type": "display_data",
       "png": "[encoded data removed]",
       "text": [
        "<IPython.core.display.Image at 0xc2a5f60>"
       ]
      }
     ],
     "prompt_number": 5
    },
    {
     "cell_type": "markdown",
     "metadata": {},
     "source": [
      "### Perform PCA"
     ]
    },
    {
     "cell_type": "code",
     "collapsed": false,
     "input": [
      "pca = PCA()\n",
      "pca.fit(all_ims_flat)\n",
      "transformed = pca.transform(all_ims_flat)\n",
      "\n",
      "variance_thresh = 0.9\n",
      "\n",
      "for num_components in range(len(pca.explained_variance_ratio_)):\n",
      "    if sum(pca.explained_variance_ratio_[:num_components]) > variance_thresh: break\n",
      "        \n",
      "print \"number of components for %.2f variance: %d\"%(variance_thresh,num_components)"
     ],
     "language": "python",
     "metadata": {},
     "outputs": [
      {
       "output_type": "stream",
       "stream": "stdout",
       "text": [
        "number of components for 0.90 variance: 22\n"
       ]
      }
     ],
     "prompt_number": 6
    },
    {
     "cell_type": "markdown",
     "metadata": {},
     "source": [
      "### Create input X and output Y\n",
      "`X_wp` contains headpose data, `X_np` doesn't."
     ]
    },
    {
     "cell_type": "code",
     "collapsed": false,
     "input": [
      "# the PCA coeffs for each image\n",
      "coeffs = transformed[:,:num_components]\n",
      "\n",
      "# the euler angles for each image\n",
      "angles = [[float(s) for s in imname[imname.find(\"(\")+1:imname.find(\")\")].split(\",\")] for imname in all_imnames_balanced]\n",
      "\n",
      "# join PCA and euler angles for input vector\n",
      "X = numpy.hstack([coeffs,np.array(angles)])\n",
      "\n",
      "# output vectors\n",
      "Y = [0 if \"nolock\" in imname else 1 for imname in all_imnames_balanced]\n",
      "\n",
      "X = preprocessing.scale(X)\n",
      "\n",
      "rnd_inds = arange(len(X))\n",
      "random.shuffle(rnd_inds)\n",
      "\n",
      "X_test,  Y_test = np.array(X)[rnd_inds[:200]],     np.array(Y)[rnd_inds[:200]]\n",
      "X_valid, Y_valid = np.array(X)[rnd_inds[200:400]], np.array(Y)[rnd_inds[200:400]]\n",
      "X_train, Y_train = np.array(X)[rnd_inds[400:]],    np.array(Y)[rnd_inds[400:]]\n",
      "\n",
      "# print \"X (no pose): %d elements, %d t, %d v, %d t\"%(Xnp_train.shape[1], Xnp_train.shape[0],Xnp_valid.shape[0],Xnp_test.shape[0])\n",
      "print \"X: %d elements, %d t, %d v, %d t\"%(X_train.shape[1], X_train.shape[0],X_valid.shape[0],X_test.shape[0])"
     ],
     "language": "python",
     "metadata": {},
     "outputs": [
      {
       "output_type": "stream",
       "stream": "stdout",
       "text": [
        "X: 25 elements, 880 t, 200 v, 200 t\n"
       ]
      }
     ],
     "prompt_number": 7
    },
    {
     "cell_type": "code",
     "collapsed": false,
     "input": [
      "# TODO: REDO FOR NEW PCA\n",
      "\n",
      "import cPickle\n",
      "\n",
      "f = file('princoms.save', 'wb')\n",
      "cPickle.dump([V, immean], f, protocol=cPickle.HIGHEST_PROTOCOL)\n",
      "f.close()"
     ],
     "language": "python",
     "metadata": {},
     "outputs": [
      {
       "ename": "NameError",
       "evalue": "name 'V' is not defined",
       "output_type": "pyerr",
       "traceback": [
        "\u001b[1;31m---------------------------------------------------------------------------\u001b[0m\n\u001b[1;31mNameError\u001b[0m                                 Traceback (most recent call last)",
        "\u001b[1;32m<ipython-input-8-8b1219db485b>\u001b[0m in \u001b[0;36m<module>\u001b[1;34m()\u001b[0m\n\u001b[0;32m      4\u001b[0m \u001b[1;33m\u001b[0m\u001b[0m\n\u001b[0;32m      5\u001b[0m \u001b[0mf\u001b[0m \u001b[1;33m=\u001b[0m \u001b[0mfile\u001b[0m\u001b[1;33m(\u001b[0m\u001b[1;34m'princoms.save'\u001b[0m\u001b[1;33m,\u001b[0m \u001b[1;34m'wb'\u001b[0m\u001b[1;33m)\u001b[0m\u001b[1;33m\u001b[0m\u001b[0m\n\u001b[1;32m----> 6\u001b[1;33m \u001b[0mcPickle\u001b[0m\u001b[1;33m.\u001b[0m\u001b[0mdump\u001b[0m\u001b[1;33m(\u001b[0m\u001b[1;33m[\u001b[0m\u001b[0mV\u001b[0m\u001b[1;33m,\u001b[0m \u001b[0mimmean\u001b[0m\u001b[1;33m]\u001b[0m\u001b[1;33m,\u001b[0m \u001b[0mf\u001b[0m\u001b[1;33m,\u001b[0m \u001b[0mprotocol\u001b[0m\u001b[1;33m=\u001b[0m\u001b[0mcPickle\u001b[0m\u001b[1;33m.\u001b[0m\u001b[0mHIGHEST_PROTOCOL\u001b[0m\u001b[1;33m)\u001b[0m\u001b[1;33m\u001b[0m\u001b[0m\n\u001b[0m\u001b[0;32m      7\u001b[0m \u001b[0mf\u001b[0m\u001b[1;33m.\u001b[0m\u001b[0mclose\u001b[0m\u001b[1;33m(\u001b[0m\u001b[1;33m)\u001b[0m\u001b[1;33m\u001b[0m\u001b[0m\n",
        "\u001b[1;31mNameError\u001b[0m: name 'V' is not defined"
       ]
      }
     ],
     "prompt_number": 8
    },
    {
     "cell_type": "markdown",
     "metadata": {},
     "source": [
      "### Pickle the training, validation, and test sets"
     ]
    },
    {
     "cell_type": "code",
     "collapsed": false,
     "input": [
      "f = file('eyes_withpose_PCs.save', 'wb')\n",
      "cPickle.dump([[X_train,Y_train],\n",
      "              [X_valid,Y_valid],\n",
      "              [X_test,Y_test]], f, protocol=cPickle.HIGHEST_PROTOCOL)\n",
      "f.close()\n",
      "\n",
      "# Save without last three elements to ignore headpose\n",
      "f = file('eyes_nopose_PCs.save', 'wb')\n",
      "cPickle.dump([[X_train[:,:-3],Y_train],\n",
      "              [X_valid[:,:-3],Y_valid],\n",
      "              [X_test[:,:-3],Y_test]], f, protocol=cPickle.HIGHEST_PROTOCOL)\n",
      "f.close()\n",
      "\n",
      "print \"eyes_withpose_PCs input is %d long, eyes_nopose_PCs input is %d long\"%(len(X_train[0]),len(X_train[:,:-3][0]))"
     ],
     "language": "python",
     "metadata": {},
     "outputs": [
      {
       "output_type": "stream",
       "stream": "stdout",
       "text": [
        "eyes_withpose_PCs input is 25 long, eyes_nopose_PCs input is 22 long\n"
       ]
      }
     ],
     "prompt_number": 10
    },
    {
     "cell_type": "code",
     "collapsed": false,
     "input": [],
     "language": "python",
     "metadata": {},
     "outputs": []
    }
   ],
   "metadata": {}
  }
 ]
}